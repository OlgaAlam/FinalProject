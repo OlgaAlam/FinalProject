{
 "cells": [
  {
   "cell_type": "markdown",
   "id": "4770df7e",
   "metadata": {
    "heading_collapsed": true,
    "jp-MarkdownHeadingCollapsed": true,
    "tags": []
   },
   "source": [
    "# Финальная работа, специализация: **Data Analyst**\n",
    "- Тема: Анализ сайта \"Сберавтоподписка\"\n",
    "- **Исходные данные: ga_hits_clean.csv** (база событий в рамках сессии), **ga_joined.csv** (объединенный датафрейм)"
   ]
  },
  {
   "cell_type": "markdown",
   "id": "29de2e39",
   "metadata": {
    "hidden": true
   },
   "source": [
    "**Задание**\n",
    "\n",
    "3. Проведите проверку следующих гипотез:\n",
    "- Органический трафик не отличается от платного с точки зрения CR (Conversion Rate) в целевые события.\n",
    "- Трафик с мобильных устройств не отличается от трафика с десктопных устройств с точки зрения CR (Conversion Rate) в целевые события.\n",
    "- Трафик из городов присутствия (Москва и область, Санкт-Петербург) не отличается от трафика из иных регионов с точки зрения CR (Conversion Rate) в целевые события.\n",
    "4. Ответьте на вопросы продуктовой команды:\n",
    "- Из каких источников (кампаний, устройств, локаций) к нам идёт самый целевой трафик (и с точки зрения объёма трафика, и с точки зрения CR)?\n",
    "- Какие авто пользуются наибольшим спросом? У каких авто самый лучший показатель CR (Conversion Rate) в целевые события?\n",
    "- Стоит ли нам увеличивать своё присутствие в соцсетях и давать там больше рекламы?"
   ]
  },
  {
   "cell_type": "markdown",
   "id": "ab492db1",
   "metadata": {
    "heading_collapsed": true,
    "jp-MarkdownHeadingCollapsed": true,
    "tags": []
   },
   "source": [
    "# 00. Импорт сторонних библиотек"
   ]
  },
  {
   "cell_type": "code",
   "execution_count": 1,
   "id": "61eba71a",
   "metadata": {
    "hidden": true
   },
   "outputs": [],
   "source": [
    "import pandas as pd\n",
    "import missingno as msno\n",
    "import matplotlib.pyplot as plt\n",
    "\n",
    "from datetime import datetime\n",
    "from scipy import stats"
   ]
  },
  {
   "cell_type": "markdown",
   "id": "fe15432e",
   "metadata": {
    "heading_collapsed": true
   },
   "source": [
    "# 01. Чтение файлов ga_joined.csv и ga_hits_clean.csv"
   ]
  },
  {
   "cell_type": "code",
   "execution_count": 2,
   "id": "845691c2",
   "metadata": {
    "hidden": true
   },
   "outputs": [],
   "source": [
    "df_join = pd.read_csv('data/ga_joined.csv', low_memory=False)"
   ]
  },
  {
   "cell_type": "code",
   "execution_count": 3,
   "id": "3f88a0ad",
   "metadata": {
    "hidden": true
   },
   "outputs": [
    {
     "data": {
      "text/html": [
       "<div>\n",
       "<style scoped>\n",
       "    .dataframe tbody tr th:only-of-type {\n",
       "        vertical-align: middle;\n",
       "    }\n",
       "\n",
       "    .dataframe tbody tr th {\n",
       "        vertical-align: top;\n",
       "    }\n",
       "\n",
       "    .dataframe thead th {\n",
       "        text-align: right;\n",
       "    }\n",
       "</style>\n",
       "<table border=\"1\" class=\"dataframe\">\n",
       "  <thead>\n",
       "    <tr style=\"text-align: right;\">\n",
       "      <th></th>\n",
       "      <th>session_id</th>\n",
       "      <th>client_id</th>\n",
       "      <th>visit_date</th>\n",
       "      <th>visit_number</th>\n",
       "      <th>utm_source</th>\n",
       "      <th>utm_medium</th>\n",
       "      <th>utm_campaign</th>\n",
       "      <th>device_category</th>\n",
       "      <th>geo_country</th>\n",
       "      <th>geo_city</th>\n",
       "      <th>advert_sn</th>\n",
       "      <th>traffic_way</th>\n",
       "      <th>city_of_present</th>\n",
       "      <th>target</th>\n",
       "    </tr>\n",
       "  </thead>\n",
       "  <tbody>\n",
       "    <tr>\n",
       "      <th>0</th>\n",
       "      <td>9055434745589932991.1637753792.1637753792</td>\n",
       "      <td>2108382700.1637753791</td>\n",
       "      <td>2021-11-24 00:00:00+00:00</td>\n",
       "      <td>1</td>\n",
       "      <td>ZpYIoDJMcFzVoPFsHGJL</td>\n",
       "      <td>banner</td>\n",
       "      <td>LEoPHuyFvzoNfnzGgfcd</td>\n",
       "      <td>mobile</td>\n",
       "      <td>Russia</td>\n",
       "      <td>Zlatoust</td>\n",
       "      <td>0</td>\n",
       "      <td>paid</td>\n",
       "      <td>other</td>\n",
       "      <td>0</td>\n",
       "    </tr>\n",
       "    <tr>\n",
       "      <th>1</th>\n",
       "      <td>905544597018549464.1636867290.1636867290</td>\n",
       "      <td>210838531.1636867288</td>\n",
       "      <td>2021-11-14 00:00:00+00:00</td>\n",
       "      <td>1</td>\n",
       "      <td>MvfHsxITijuriZxsqZqt</td>\n",
       "      <td>cpm</td>\n",
       "      <td>FTjNLDyTrXaWYgZymFkV</td>\n",
       "      <td>mobile</td>\n",
       "      <td>Russia</td>\n",
       "      <td>Moscow</td>\n",
       "      <td>1</td>\n",
       "      <td>paid</td>\n",
       "      <td>present</td>\n",
       "      <td>0</td>\n",
       "    </tr>\n",
       "    <tr>\n",
       "      <th>2</th>\n",
       "      <td>9055446045651783499.1640648526.1640648526</td>\n",
       "      <td>2108385331.1640648523</td>\n",
       "      <td>2021-12-28 00:00:00+00:00</td>\n",
       "      <td>1</td>\n",
       "      <td>ZpYIoDJMcFzVoPFsHGJL</td>\n",
       "      <td>banner</td>\n",
       "      <td>LEoPHuyFvzoNfnzGgfcd</td>\n",
       "      <td>mobile</td>\n",
       "      <td>Russia</td>\n",
       "      <td>Krasnoyarsk</td>\n",
       "      <td>0</td>\n",
       "      <td>paid</td>\n",
       "      <td>other</td>\n",
       "      <td>0</td>\n",
       "    </tr>\n",
       "    <tr>\n",
       "      <th>3</th>\n",
       "      <td>9055447046360770272.1622255328.1622255328</td>\n",
       "      <td>2108385564.1622255328</td>\n",
       "      <td>2021-05-29 00:00:00+00:00</td>\n",
       "      <td>1</td>\n",
       "      <td>kjsLglQLzykiRbcDiGcD</td>\n",
       "      <td>cpc</td>\n",
       "      <td>no advertising</td>\n",
       "      <td>mobile</td>\n",
       "      <td>Russia</td>\n",
       "      <td>Moscow</td>\n",
       "      <td>0</td>\n",
       "      <td>paid</td>\n",
       "      <td>present</td>\n",
       "      <td>0</td>\n",
       "    </tr>\n",
       "    <tr>\n",
       "      <th>4</th>\n",
       "      <td>9055447046360770272.1622255345.1622255345</td>\n",
       "      <td>2108385564.1622255328</td>\n",
       "      <td>2021-05-29 00:00:00+00:00</td>\n",
       "      <td>2</td>\n",
       "      <td>kjsLglQLzykiRbcDiGcD</td>\n",
       "      <td>cpc</td>\n",
       "      <td>no advertising</td>\n",
       "      <td>mobile</td>\n",
       "      <td>Russia</td>\n",
       "      <td>Moscow</td>\n",
       "      <td>0</td>\n",
       "      <td>paid</td>\n",
       "      <td>present</td>\n",
       "      <td>0</td>\n",
       "    </tr>\n",
       "  </tbody>\n",
       "</table>\n",
       "</div>"
      ],
      "text/plain": [
       "                                  session_id              client_id  \\\n",
       "0  9055434745589932991.1637753792.1637753792  2108382700.1637753791   \n",
       "1   905544597018549464.1636867290.1636867290   210838531.1636867288   \n",
       "2  9055446045651783499.1640648526.1640648526  2108385331.1640648523   \n",
       "3  9055447046360770272.1622255328.1622255328  2108385564.1622255328   \n",
       "4  9055447046360770272.1622255345.1622255345  2108385564.1622255328   \n",
       "\n",
       "                  visit_date  visit_number            utm_source utm_medium  \\\n",
       "0  2021-11-24 00:00:00+00:00             1  ZpYIoDJMcFzVoPFsHGJL     banner   \n",
       "1  2021-11-14 00:00:00+00:00             1  MvfHsxITijuriZxsqZqt        cpm   \n",
       "2  2021-12-28 00:00:00+00:00             1  ZpYIoDJMcFzVoPFsHGJL     banner   \n",
       "3  2021-05-29 00:00:00+00:00             1  kjsLglQLzykiRbcDiGcD        cpc   \n",
       "4  2021-05-29 00:00:00+00:00             2  kjsLglQLzykiRbcDiGcD        cpc   \n",
       "\n",
       "           utm_campaign device_category geo_country     geo_city  advert_sn  \\\n",
       "0  LEoPHuyFvzoNfnzGgfcd          mobile      Russia     Zlatoust          0   \n",
       "1  FTjNLDyTrXaWYgZymFkV          mobile      Russia       Moscow          1   \n",
       "2  LEoPHuyFvzoNfnzGgfcd          mobile      Russia  Krasnoyarsk          0   \n",
       "3        no advertising          mobile      Russia       Moscow          0   \n",
       "4        no advertising          mobile      Russia       Moscow          0   \n",
       "\n",
       "  traffic_way city_of_present  target  \n",
       "0        paid           other       0  \n",
       "1        paid         present       0  \n",
       "2        paid           other       0  \n",
       "3        paid         present       0  \n",
       "4        paid         present       0  "
      ]
     },
     "execution_count": 3,
     "metadata": {},
     "output_type": "execute_result"
    }
   ],
   "source": [
    "df_join.head()"
   ]
  },
  {
   "cell_type": "markdown",
   "id": "f30043b2",
   "metadata": {
    "hidden": true
   },
   "source": [
    "Описание атрибутов датафрейма из файла **ga_joined.csv:**\n",
    "\n",
    "- session_id - ID визита;\n",
    "- client_id - ID посетителя;\n",
    "- visit_date - дата визита;\n",
    "- visit_number - порядковый номер визита клиента;\n",
    "- utm_source - канал привлечения;\n",
    "- utm_medium - тип привлечения;\n",
    "- utm_campaign - рекламная кампания;\n",
    "- device_category - тип устройства;\n",
    "- geo_country - страна;\n",
    "- geo_city - город;\n",
    "- advert_sn - нормализованный канал привлечения: 1 - реклама в социальных сетях, 0 - другие каналы;\n",
    "- traffic_way - нормализованный тип привлечения: \"free\" - органический трафик, \"paid\" - платный (неорганический) трафик;\n",
    "- city_of_present - город присутствия, где present - Москва и область, Санкт-Петербург, other - города, где нет присутствия;\n",
    "- target - целевое событие: 1 - имеется целевое событие, 0 - целевое событие отсутствует."
   ]
  },
  {
   "cell_type": "code",
   "execution_count": 4,
   "id": "6f71293f",
   "metadata": {
    "hidden": true
   },
   "outputs": [],
   "source": [
    "df_h_clean = pd.read_csv('data/ga_hits_clean.csv')"
   ]
  },
  {
   "cell_type": "code",
   "execution_count": 5,
   "id": "ab29e41f",
   "metadata": {
    "hidden": true
   },
   "outputs": [
    {
     "data": {
      "text/html": [
       "<div>\n",
       "<style scoped>\n",
       "    .dataframe tbody tr th:only-of-type {\n",
       "        vertical-align: middle;\n",
       "    }\n",
       "\n",
       "    .dataframe tbody tr th {\n",
       "        vertical-align: top;\n",
       "    }\n",
       "\n",
       "    .dataframe thead th {\n",
       "        text-align: right;\n",
       "    }\n",
       "</style>\n",
       "<table border=\"1\" class=\"dataframe\">\n",
       "  <thead>\n",
       "    <tr style=\"text-align: right;\">\n",
       "      <th></th>\n",
       "      <th>session_id</th>\n",
       "      <th>client_id</th>\n",
       "      <th>visit_date</th>\n",
       "      <th>visit_number</th>\n",
       "      <th>utm_source</th>\n",
       "      <th>utm_medium</th>\n",
       "      <th>utm_campaign</th>\n",
       "      <th>device_category</th>\n",
       "      <th>geo_country</th>\n",
       "      <th>geo_city</th>\n",
       "      <th>advert_sn</th>\n",
       "      <th>traffic_way</th>\n",
       "      <th>city_of_present</th>\n",
       "      <th>target</th>\n",
       "    </tr>\n",
       "  </thead>\n",
       "  <tbody>\n",
       "    <tr>\n",
       "      <th>0</th>\n",
       "      <td>9055434745589932991.1637753792.1637753792</td>\n",
       "      <td>2108382700.1637753791</td>\n",
       "      <td>2021-11-24 00:00:00+00:00</td>\n",
       "      <td>1</td>\n",
       "      <td>ZpYIoDJMcFzVoPFsHGJL</td>\n",
       "      <td>banner</td>\n",
       "      <td>LEoPHuyFvzoNfnzGgfcd</td>\n",
       "      <td>mobile</td>\n",
       "      <td>Russia</td>\n",
       "      <td>Zlatoust</td>\n",
       "      <td>0</td>\n",
       "      <td>paid</td>\n",
       "      <td>other</td>\n",
       "      <td>0</td>\n",
       "    </tr>\n",
       "    <tr>\n",
       "      <th>1</th>\n",
       "      <td>905544597018549464.1636867290.1636867290</td>\n",
       "      <td>210838531.1636867288</td>\n",
       "      <td>2021-11-14 00:00:00+00:00</td>\n",
       "      <td>1</td>\n",
       "      <td>MvfHsxITijuriZxsqZqt</td>\n",
       "      <td>cpm</td>\n",
       "      <td>FTjNLDyTrXaWYgZymFkV</td>\n",
       "      <td>mobile</td>\n",
       "      <td>Russia</td>\n",
       "      <td>Moscow</td>\n",
       "      <td>1</td>\n",
       "      <td>paid</td>\n",
       "      <td>present</td>\n",
       "      <td>0</td>\n",
       "    </tr>\n",
       "    <tr>\n",
       "      <th>2</th>\n",
       "      <td>9055446045651783499.1640648526.1640648526</td>\n",
       "      <td>2108385331.1640648523</td>\n",
       "      <td>2021-12-28 00:00:00+00:00</td>\n",
       "      <td>1</td>\n",
       "      <td>ZpYIoDJMcFzVoPFsHGJL</td>\n",
       "      <td>banner</td>\n",
       "      <td>LEoPHuyFvzoNfnzGgfcd</td>\n",
       "      <td>mobile</td>\n",
       "      <td>Russia</td>\n",
       "      <td>Krasnoyarsk</td>\n",
       "      <td>0</td>\n",
       "      <td>paid</td>\n",
       "      <td>other</td>\n",
       "      <td>0</td>\n",
       "    </tr>\n",
       "    <tr>\n",
       "      <th>3</th>\n",
       "      <td>9055447046360770272.1622255328.1622255328</td>\n",
       "      <td>2108385564.1622255328</td>\n",
       "      <td>2021-05-29 00:00:00+00:00</td>\n",
       "      <td>1</td>\n",
       "      <td>kjsLglQLzykiRbcDiGcD</td>\n",
       "      <td>cpc</td>\n",
       "      <td>no advertising</td>\n",
       "      <td>mobile</td>\n",
       "      <td>Russia</td>\n",
       "      <td>Moscow</td>\n",
       "      <td>0</td>\n",
       "      <td>paid</td>\n",
       "      <td>present</td>\n",
       "      <td>0</td>\n",
       "    </tr>\n",
       "    <tr>\n",
       "      <th>4</th>\n",
       "      <td>9055447046360770272.1622255345.1622255345</td>\n",
       "      <td>2108385564.1622255328</td>\n",
       "      <td>2021-05-29 00:00:00+00:00</td>\n",
       "      <td>2</td>\n",
       "      <td>kjsLglQLzykiRbcDiGcD</td>\n",
       "      <td>cpc</td>\n",
       "      <td>no advertising</td>\n",
       "      <td>mobile</td>\n",
       "      <td>Russia</td>\n",
       "      <td>Moscow</td>\n",
       "      <td>0</td>\n",
       "      <td>paid</td>\n",
       "      <td>present</td>\n",
       "      <td>0</td>\n",
       "    </tr>\n",
       "  </tbody>\n",
       "</table>\n",
       "</div>"
      ],
      "text/plain": [
       "                                  session_id              client_id  \\\n",
       "0  9055434745589932991.1637753792.1637753792  2108382700.1637753791   \n",
       "1   905544597018549464.1636867290.1636867290   210838531.1636867288   \n",
       "2  9055446045651783499.1640648526.1640648526  2108385331.1640648523   \n",
       "3  9055447046360770272.1622255328.1622255328  2108385564.1622255328   \n",
       "4  9055447046360770272.1622255345.1622255345  2108385564.1622255328   \n",
       "\n",
       "                  visit_date  visit_number            utm_source utm_medium  \\\n",
       "0  2021-11-24 00:00:00+00:00             1  ZpYIoDJMcFzVoPFsHGJL     banner   \n",
       "1  2021-11-14 00:00:00+00:00             1  MvfHsxITijuriZxsqZqt        cpm   \n",
       "2  2021-12-28 00:00:00+00:00             1  ZpYIoDJMcFzVoPFsHGJL     banner   \n",
       "3  2021-05-29 00:00:00+00:00             1  kjsLglQLzykiRbcDiGcD        cpc   \n",
       "4  2021-05-29 00:00:00+00:00             2  kjsLglQLzykiRbcDiGcD        cpc   \n",
       "\n",
       "           utm_campaign device_category geo_country     geo_city  advert_sn  \\\n",
       "0  LEoPHuyFvzoNfnzGgfcd          mobile      Russia     Zlatoust          0   \n",
       "1  FTjNLDyTrXaWYgZymFkV          mobile      Russia       Moscow          1   \n",
       "2  LEoPHuyFvzoNfnzGgfcd          mobile      Russia  Krasnoyarsk          0   \n",
       "3        no advertising          mobile      Russia       Moscow          0   \n",
       "4        no advertising          mobile      Russia       Moscow          0   \n",
       "\n",
       "  traffic_way city_of_present  target  \n",
       "0        paid           other       0  \n",
       "1        paid         present       0  \n",
       "2        paid           other       0  \n",
       "3        paid         present       0  \n",
       "4        paid         present       0  "
      ]
     },
     "execution_count": 5,
     "metadata": {},
     "output_type": "execute_result"
    }
   ],
   "source": [
    "df_join.head()"
   ]
  },
  {
   "cell_type": "markdown",
   "id": "4c9c335f",
   "metadata": {
    "hidden": true
   },
   "source": [
    "Описание атрибутов датафрейма событий из файла ga_hits_clean.csv:\n",
    "\n",
    "- session_id - ID визита;\n",
    "- hit_date - дата события;\n",
    "- hit_number - порядковый номер события в рамках сессии;\n",
    "- event_category - тип действия;\n",
    "- target_action - целевое действие;\n",
    "- auto_name - марка автомобиля;\n",
    "- auto_model - модель автомобиля."
   ]
  },
  {
   "cell_type": "markdown",
   "id": "d51843ad",
   "metadata": {
    "jp-MarkdownHeadingCollapsed": true,
    "tags": []
   },
   "source": [
    "# Часть 3. Проверка гипотез"
   ]
  },
  {
   "cell_type": "markdown",
   "id": "93cd1801",
   "metadata": {
    "heading_collapsed": true,
    "jp-MarkdownHeadingCollapsed": true,
    "tags": []
   },
   "source": [
    "### 1. Проверка гипотезы 1: органический / платный трафик"
   ]
  },
  {
   "cell_type": "markdown",
   "id": "b97ff1b9",
   "metadata": {
    "hidden": true
   },
   "source": [
    "**Нулевая гипотеза:** H0 - Органический трафик не отличается от платного с точки зрения CR в целевые события\n",
    "\n",
    "**Альтернативная гипотеза:** H1 - Органический трафик отличается от платного с точки зрения CR в целевые события"
   ]
  },
  {
   "cell_type": "code",
   "execution_count": 6,
   "id": "e6de3511",
   "metadata": {
    "hidden": true
   },
   "outputs": [
    {
     "name": "stdout",
     "output_type": "stream",
     "text": [
      "Размерность датасетов с органическим и платным трафиком:\n",
      "515659 + 1344383 = 1860042\n"
     ]
    }
   ],
   "source": [
    "# Столбец целевых событий органического трафика\n",
    "organic = df_join[df_join.traffic_way == 'free'].target\n",
    "\n",
    "# Столбец целевых событий неорганического (платного) трафика\n",
    "nonorganic = df_join[df_join.traffic_way == 'paid'].target\n",
    "\n",
    "org = len(organic)\n",
    "nonorg = len(nonorganic)\n",
    "\n",
    "print(f'Размерность датасетов с органическим и платным трафиком:')\n",
    "print(f'{org} + {nonorg} = {org + nonorg}')"
   ]
  },
  {
   "cell_type": "markdown",
   "id": "69762e85",
   "metadata": {
    "hidden": true
   },
   "source": [
    "**1. Проверка выборок на нормальность распределения**"
   ]
  },
  {
   "cell_type": "code",
   "execution_count": 7,
   "id": "7c1c7417",
   "metadata": {
    "hidden": true
   },
   "outputs": [
    {
     "data": {
      "text/plain": [
       "(array([494847.,      0.,      0.,      0.,      0.,      0.,      0.,\n",
       "             0.,      0.,  20812.]),\n",
       " array([0. , 0.1, 0.2, 0.3, 0.4, 0.5, 0.6, 0.7, 0.8, 0.9, 1. ]),\n",
       " <BarContainer object of 10 artists>)"
      ]
     },
     "execution_count": 7,
     "metadata": {},
     "output_type": "execute_result"
    },
    {
     "data": {
      "image/png": "[encoded data removed]",
      "text/plain": [
       "<Figure size 640x480 with 1 Axes>"
      ]
     },
     "metadata": {},
     "output_type": "display_data"
    }
   ],
   "source": [
    "plt.hist(organic)"
   ]
  },
  {
   "cell_type": "code",
   "execution_count": 8,
   "id": "6f550809",
   "metadata": {
    "hidden": true
   },
   "outputs": [
    {
     "data": {
      "text/plain": [
       "(array([1314881.,       0.,       0.,       0.,       0.,       0.,\n",
       "              0.,       0.,       0.,   29502.]),\n",
       " array([0. , 0.1, 0.2, 0.3, 0.4, 0.5, 0.6, 0.7, 0.8, 0.9, 1. ]),\n",
       " <BarContainer object of 10 artists>)"
      ]
     },
     "execution_count": 8,
     "metadata": {},
     "output_type": "execute_result"
    },
    {
     "data": {
      "image/png": "[encoded data removed]",
      "text/plain": [
       "<Figure size 640x480 with 1 Axes>"
      ]
     },
     "metadata": {},
     "output_type": "display_data"
    }
   ],
   "source": [
    "plt.hist(nonorganic)"
   ]
  },
  {
   "cell_type": "markdown",
   "id": "15d21421",
   "metadata": {
    "hidden": true
   },
   "source": [
    "Оба графики не говорят о нормальном рапределении данных выборок. Так как признак target - целевое событие имеет всего 2 значения (1 - целевое событие имеется, 0 - целевое событие отсутствует), то построение гистограмм не имеет смысла."
   ]
  },
  {
   "cell_type": "code",
   "execution_count": 9,
   "id": "c04b8ac9",
   "metadata": {
    "hidden": true
   },
   "outputs": [
    {
     "name": "stdout",
     "output_type": "stream",
     "text": [
      "Тест Шапиро-Уилка на нормальность распределения данных о CR органического трафика:\n"
     ]
    },
    {
     "name": "stderr",
     "output_type": "stream",
     "text": [
      "C:\\Users\\Olga\\anaconda3\\lib\\site-packages\\scipy\\stats\\_morestats.py:1800: UserWarning: p-value may not be accurate for N > 5000.\n",
      "  warnings.warn(\"p-value may not be accurate for N > 5000.\")\n"
     ]
    },
    {
     "data": {
      "text/plain": [
       "ShapiroResult(statistic=0.1945204734802246, pvalue=0.0)"
      ]
     },
     "execution_count": 9,
     "metadata": {},
     "output_type": "execute_result"
    }
   ],
   "source": [
    "from scipy import stats\n",
    "print(\"Тест Шапиро-Уилка на нормальность распределения данных о CR органического трафика:\")\n",
    "stats.shapiro(organic)"
   ]
  },
  {
   "cell_type": "code",
   "execution_count": 10,
   "id": "9855cc70",
   "metadata": {
    "hidden": true
   },
   "outputs": [
    {
     "name": "stdout",
     "output_type": "stream",
     "text": [
      "Тест Шапиро-Уилка на нормальность распределения данных о CR платного трафика:\n"
     ]
    },
    {
     "data": {
      "text/plain": [
       "ShapiroResult(statistic=0.12785238027572632, pvalue=0.0)"
      ]
     },
     "execution_count": 10,
     "metadata": {},
     "output_type": "execute_result"
    }
   ],
   "source": [
    "print(\"Тест Шапиро-Уилка на нормальность распределения данных о CR платного трафика:\")\n",
    "stats.shapiro(nonorganic)"
   ]
  },
  {
   "cell_type": "markdown",
   "id": "4582472e",
   "metadata": {
    "hidden": true
   },
   "source": [
    "В обоих выборках pvalue < 5%: распределение не является нормальным. Однако тест Шапиро-Уилка на нормальность распределения не точен из-за большого размера датасета, поэтому проверим выборки тестом Колмогорова-Смирнова"
   ]
  },
  {
   "cell_type": "code",
   "execution_count": 11,
   "id": "bb11865a",
   "metadata": {
    "hidden": true
   },
   "outputs": [
    {
     "name": "stdout",
     "output_type": "stream",
     "text": [
      "Тест Колмогорова-Смирнова на нормальность распределения: \n",
      "\n",
      "Органический трафик:\n",
      "KstestResult(statistic=0.5, pvalue=0.0)\n",
      "Нулевая гипотеза о нормальном распределении данных отвергается \n",
      "\n",
      "Неорганический трафик:\n",
      "KstestResult(statistic=0.5, pvalue=0.0)\n",
      "Нулевая гипотеза о нормальном распределении данных отвергается \n",
      "\n"
     ]
    }
   ],
   "source": [
    "print('Тест Колмогорова-Смирнова на нормальность распределения:', '\\n')\n",
    "\n",
    "# Функция оценки значения pvalue теста на проверку нормальности распределения данных\n",
    "def follow_normal_disribution(test):\n",
    "    if test.pvalue > 0.05:\n",
    "        print(\"Данные имеют нормальное распределение\")\n",
    "    else:\n",
    "        print(\"Нулевая гипотеза о нормальном распределении данных отвергается\", \"\\n\")\n",
    "\n",
    "print('Органический трафик:')\n",
    "test_ks_1 = stats.kstest(organic, 'norm')\n",
    "print(test_ks_1)\n",
    "follow_normal_disribution(test_ks_1)\n",
    "\n",
    "print('Неорганический трафик:')\n",
    "test_ks_2 = stats.kstest(nonorganic, 'norm')\n",
    "print(test_ks_2) \n",
    "follow_normal_disribution(test_ks_2)"
   ]
  },
  {
   "cell_type": "markdown",
   "id": "4d63e8f1",
   "metadata": {
    "hidden": true
   },
   "source": [
    "**2. Выборки независимы: визиты по органическому и платному трафику сделаны разными людьми**"
   ]
  },
  {
   "cell_type": "markdown",
   "id": "420bf822",
   "metadata": {
    "hidden": true
   },
   "source": [
    "**3. Так как выборки не имеют нормального распределения и независимы, то для проверки гипотезы применим критерий Манна-Уитни**"
   ]
  },
  {
   "cell_type": "code",
   "execution_count": 12,
   "id": "ef5f3d8f",
   "metadata": {
    "hidden": true
   },
   "outputs": [
    {
     "name": "stdout",
     "output_type": "stream",
     "text": [
      "Критерий Манна-Уитни: \n",
      "\n",
      "MannwhitneyuResult(statistic=353004760287.5, pvalue=0.0)\n",
      "Нулевая гипотеза H0 отвергается\n"
     ]
    }
   ],
   "source": [
    "print('Критерий Манна-Уитни: \\n')\n",
    "\n",
    "# Функция оценки значения pvalue теста на проверку гипотезы\n",
    "def test_hypothesys(test):\n",
    "    if test.pvalue > 0.05:\n",
    "        print(\"Нулевая гипотеза H0 принимается\")\n",
    "    else:\n",
    "        print(\"Нулевая гипотеза H0 отвергается\")\n",
    "              \n",
    "MW_1 = stats.mannwhitneyu(organic, nonorganic)\n",
    "print(MW_1)\n",
    "test_hypothesys(MW_1)"
   ]
  },
  {
   "cell_type": "markdown",
   "id": "041de61d",
   "metadata": {
    "hidden": true
   },
   "source": [
    "**Вывод:** Нулевая гипотеза не подтвердилась. **Органический трафик отличается от платного с точки зрения CR в целевые события.**"
   ]
  },
  {
   "cell_type": "markdown",
   "id": "aed933d5",
   "metadata": {
    "heading_collapsed": true,
    "jp-MarkdownHeadingCollapsed": true,
    "tags": []
   },
   "source": [
    "### 2. Проверка гипотезы 2: трафик с мобильных / десктопных устройств"
   ]
  },
  {
   "cell_type": "markdown",
   "id": "32515e01",
   "metadata": {
    "hidden": true
   },
   "source": [
    "**Нулевая гипотеза:** H0 - Трафик с мобильных устройств не отличается от трафика с десктопных устройств с точки зрения CR в целевые события\n",
    "\n",
    "**Альтернативная гипотеза:** H1 - Трафик с мобильных устройств отличается от трафика с десктопных устройств с точки зрения CR в целевые события."
   ]
  },
  {
   "cell_type": "code",
   "execution_count": 13,
   "id": "f7b22c3d",
   "metadata": {
    "hidden": true
   },
   "outputs": [
    {
     "name": "stdout",
     "output_type": "stream",
     "text": [
      "Размерность датасетов с трафиком с мобильных и десктопных устройств:\n",
      "1493179 + 366863 = 1860042\n"
     ]
    }
   ],
   "source": [
    "# Столбец целевых событий с мобильных устройств\n",
    "mob = df_join[(df_join.device_category == 'mobile') | (df_join.device_category == 'tablet')].target\n",
    "\n",
    "# Столбец целевых событий с десктопных устройств\n",
    "desc = df_join[df_join.device_category == 'desktop'].target\n",
    "\n",
    "m = len(mob)\n",
    "d = len(desc)\n",
    "\n",
    "print(f'Размерность датасетов с трафиком с мобильных и десктопных устройств:')\n",
    "print(f'{m} + {d} = {m + d}')"
   ]
  },
  {
   "cell_type": "markdown",
   "id": "336c852d",
   "metadata": {
    "hidden": true
   },
   "source": [
    "**1. Проверка выборок на нормальность распределения**"
   ]
  },
  {
   "cell_type": "code",
   "execution_count": 14,
   "id": "ec210adf",
   "metadata": {
    "hidden": true
   },
   "outputs": [
    {
     "name": "stdout",
     "output_type": "stream",
     "text": [
      "Тест Колмогорова-Смирнова на нормальность распределения: \n",
      "\n",
      "Трафик с мобильных устройств:\n",
      "KstestResult(statistic=0.5, pvalue=0.0)\n",
      "Нулевая гипотеза о нормальном распределении данных отвергается \n",
      "\n",
      "Трафик с десктопных устройств:\n",
      "KstestResult(statistic=0.5, pvalue=0.0)\n",
      "Нулевая гипотеза о нормальном распределении данных отвергается \n",
      "\n"
     ]
    }
   ],
   "source": [
    "print('Тест Колмогорова-Смирнова на нормальность распределения:', '\\n')\n",
    "\n",
    "print('Трафик с мобильных устройств:')\n",
    "test_ks_3 = stats.kstest(mob, 'norm')\n",
    "print(test_ks_3)\n",
    "follow_normal_disribution(test_ks_3)\n",
    "\n",
    "print('Трафик с десктопных устройств:')\n",
    "test_ks_4 = stats.kstest(desc, 'norm')\n",
    "print(test_ks_4) \n",
    "follow_normal_disribution(test_ks_4)"
   ]
  },
  {
   "cell_type": "markdown",
   "id": "916fa761",
   "metadata": {
    "hidden": true
   },
   "source": [
    "**2. Выборки независимы: визиты c мобильных и десктопных устройств сделаны разными людьми.**"
   ]
  },
  {
   "cell_type": "markdown",
   "id": "67730e51",
   "metadata": {
    "hidden": true
   },
   "source": [
    "**3. Так как выборки не имеют нормального распределения и независимы, то для проверки гипотезы применим критерий Манна-Уитни**"
   ]
  },
  {
   "cell_type": "code",
   "execution_count": 15,
   "id": "f05ddbe9",
   "metadata": {
    "hidden": true
   },
   "outputs": [
    {
     "name": "stdout",
     "output_type": "stream",
     "text": [
      "Критерий Манна-Уитни: \n",
      "\n",
      "MannwhitneyuResult(statistic=272417904456.5, pvalue=7.448734524701602e-73)\n",
      "Нулевая гипотеза H0 отвергается\n"
     ]
    }
   ],
   "source": [
    "print('Критерий Манна-Уитни: \\n')\n",
    "\n",
    "MW_2 = stats.mannwhitneyu(mob, desc)\n",
    "print(MW_2)\n",
    "test_hypothesys(MW_2)"
   ]
  },
  {
   "cell_type": "markdown",
   "id": "f55a9f32",
   "metadata": {
    "hidden": true
   },
   "source": [
    "**Вывод:** Нулевая гипотеза не подтвердилась. **Трафик с мобильных устройств отличается от трафика с десктопных устройств с точки зрения CR в целевые события.**"
   ]
  },
  {
   "cell_type": "markdown",
   "id": "5ec9fa09",
   "metadata": {
    "heading_collapsed": true,
    "jp-MarkdownHeadingCollapsed": true,
    "tags": []
   },
   "source": [
    "### 3. Проверка гипотезы 3: трафик из городов присутствия / других регионов"
   ]
  },
  {
   "cell_type": "markdown",
   "id": "9a77162e",
   "metadata": {
    "hidden": true
   },
   "source": [
    "**Нулевая гипотеза:** H0 - Трафик из городов присутствия (Москва и область, Санкт-Петербург) не отличается от трафика из иных регионов с точки зрения CR в целевые события\n",
    "\n",
    "**Альтернативная гипотеза:** H0 - Трафик из городов присутствия (Москва и область, Санкт-Петербург) отличается от трафика из иных регионов с точки зрения CR в целевые события"
   ]
  },
  {
   "cell_type": "code",
   "execution_count": 16,
   "id": "5588f6b5",
   "metadata": {
    "hidden": true
   },
   "outputs": [
    {
     "name": "stdout",
     "output_type": "stream",
     "text": [
      "Размерность датасетов с трафиком из городов присутствия и других регионов:\n",
      "1198013 + 662029 = 1860042\n"
     ]
    }
   ],
   "source": [
    "# Столбец целевых событий с городов присутствия\n",
    "pres = df_join[df_join.city_of_present == 'present'].target\n",
    "\n",
    "# Столбец целевых событий с иных регионов\n",
    "oth = df_join[df_join.city_of_present == 'other'].target\n",
    "\n",
    "pr = len(pres)\n",
    "o = len(oth)\n",
    "\n",
    "print(f'Размерность датасетов с трафиком из городов присутствия и других регионов:')\n",
    "print(f'{pr} + {o} = {pr + o}')"
   ]
  },
  {
   "cell_type": "markdown",
   "id": "33e61136",
   "metadata": {
    "hidden": true
   },
   "source": [
    "**1. Проверка выборок на нормальность распределения**"
   ]
  },
  {
   "cell_type": "code",
   "execution_count": 17,
   "id": "a6683c59",
   "metadata": {
    "hidden": true
   },
   "outputs": [
    {
     "name": "stdout",
     "output_type": "stream",
     "text": [
      "Тест Колмогорова-Смирнова на нормальность распределения: \n",
      "\n",
      "Трафик из городов присутствия:\n",
      "KstestResult(statistic=0.5, pvalue=0.0)\n",
      "Нулевая гипотеза о нормальном распределении данных отвергается \n",
      "\n",
      "Трафик из других регионов:\n",
      "KstestResult(statistic=0.5, pvalue=0.0)\n",
      "Нулевая гипотеза о нормальном распределении данных отвергается \n",
      "\n"
     ]
    }
   ],
   "source": [
    "print('Тест Колмогорова-Смирнова на нормальность распределения:', '\\n')\n",
    "\n",
    "print('Трафик из городов присутствия:')\n",
    "test_ks_5 = stats.kstest(pres, 'norm')\n",
    "print(test_ks_5)\n",
    "follow_normal_disribution(test_ks_5)\n",
    "\n",
    "print('Трафик из других регионов:')\n",
    "test_ks_6 = stats.kstest(oth, 'norm')\n",
    "print(test_ks_6) \n",
    "follow_normal_disribution(test_ks_6)"
   ]
  },
  {
   "cell_type": "markdown",
   "id": "aff52ca5",
   "metadata": {
    "hidden": true
   },
   "source": [
    "**2. Выборки независимы: визиты из гороов присутствия и других регионов сделаны разными людьми.**"
   ]
  },
  {
   "cell_type": "markdown",
   "id": "1f772a7c",
   "metadata": {
    "hidden": true
   },
   "source": [
    "**3. Так как выборки не имеют нормального распределения и независимы, то для проверки гипотезы применим критерий Манна-Уитни**"
   ]
  },
  {
   "cell_type": "code",
   "execution_count": 18,
   "id": "27446250",
   "metadata": {
    "hidden": true
   },
   "outputs": [
    {
     "name": "stdout",
     "output_type": "stream",
     "text": [
      "Критерий Манна-Уитни: \n",
      "\n",
      "MannwhitneyuResult(statistic=397595565067.5, pvalue=7.414326864617565e-26)\n",
      "Нулевая гипотеза H0 отвергается\n"
     ]
    }
   ],
   "source": [
    "print('Критерий Манна-Уитни: \\n')\n",
    "\n",
    "MW_3 = stats.mannwhitneyu(pres, oth)\n",
    "print(MW_3)\n",
    "test_hypothesys(MW_3)"
   ]
  },
  {
   "cell_type": "markdown",
   "id": "593b0282",
   "metadata": {
    "hidden": true
   },
   "source": [
    "**Вывод:** Нулевая гипотеза не подтвердилась. **Трафик из городов присутствия отличается от трафика из других регионов с точки зрения CR в целевые события.**"
   ]
  },
  {
   "cell_type": "markdown",
   "id": "579ade65",
   "metadata": {
    "jp-MarkdownHeadingCollapsed": true,
    "tags": []
   },
   "source": [
    "# Часть 4. Data Visualization и ответы продуктовой команде"
   ]
  },
  {
   "cell_type": "markdown",
   "id": "ea1a3f00",
   "metadata": {
    "heading_collapsed": true,
    "jp-MarkdownHeadingCollapsed": true,
    "tags": []
   },
   "source": [
    "### 1. Динамика визитов и целевых событий"
   ]
  },
  {
   "cell_type": "code",
   "execution_count": 20,
   "id": "10dc185c",
   "metadata": {
    "hidden": true
   },
   "outputs": [
    {
     "data": {
      "text/plain": [
       "session_id         object\n",
       "client_id          object\n",
       "visit_date         object\n",
       "visit_number        int64\n",
       "utm_source         object\n",
       "utm_medium         object\n",
       "utm_campaign       object\n",
       "device_category    object\n",
       "geo_country        object\n",
       "geo_city           object\n",
       "advert_sn           int64\n",
       "traffic_way        object\n",
       "city_of_present    object\n",
       "target              int64\n",
       "dtype: object"
      ]
     },
     "execution_count": 20,
     "metadata": {},
     "output_type": "execute_result"
    }
   ],
   "source": [
    "# Проверяем тип данных датафрейма\n",
    "df_join.dtypes"
   ]
  },
  {
   "cell_type": "code",
   "execution_count": 21,
   "id": "f786ce2a",
   "metadata": {
    "hidden": true
   },
   "outputs": [],
   "source": [
    "# Меняем тип данных столбца visit_date на дату\n",
    "df_join['visit_date'] = pd.to_datetime(df_join.visit_date, utc=True)"
   ]
  },
  {
   "cell_type": "code",
   "execution_count": 22,
   "id": "12357197",
   "metadata": {
    "hidden": true
   },
   "outputs": [
    {
     "data": {
      "text/html": [
       "<div>\n",
       "<style scoped>\n",
       "    .dataframe tbody tr th:only-of-type {\n",
       "        vertical-align: middle;\n",
       "    }\n",
       "\n",
       "    .dataframe tbody tr th {\n",
       "        vertical-align: top;\n",
       "    }\n",
       "\n",
       "    .dataframe thead th {\n",
       "        text-align: right;\n",
       "    }\n",
       "</style>\n",
       "<table border=\"1\" class=\"dataframe\">\n",
       "  <thead>\n",
       "    <tr style=\"text-align: right;\">\n",
       "      <th></th>\n",
       "      <th>visit_date</th>\n",
       "      <th>session_id</th>\n",
       "    </tr>\n",
       "  </thead>\n",
       "  <tbody>\n",
       "    <tr>\n",
       "      <th>0</th>\n",
       "      <td>2021</td>\n",
       "      <td>1860042</td>\n",
       "    </tr>\n",
       "  </tbody>\n",
       "</table>\n",
       "</div>"
      ],
      "text/plain": [
       "   visit_date  session_id\n",
       "0        2021     1860042"
      ]
     },
     "execution_count": 22,
     "metadata": {},
     "output_type": "execute_result"
    }
   ],
   "source": [
    "# Убедимся, что данные представлены только по 2021 году\n",
    "# Количество визитов\n",
    "date = df_join.groupby(df_join.visit_date.dt.year)[['session_id']].count().reset_index()\n",
    "date"
   ]
  },
  {
   "cell_type": "code",
   "execution_count": 23,
   "id": "3b7e88cb",
   "metadata": {
    "hidden": true
   },
   "outputs": [
    {
     "data": {
      "text/html": [
       "<div>\n",
       "<style scoped>\n",
       "    .dataframe tbody tr th:only-of-type {\n",
       "        vertical-align: middle;\n",
       "    }\n",
       "\n",
       "    .dataframe tbody tr th {\n",
       "        vertical-align: top;\n",
       "    }\n",
       "\n",
       "    .dataframe thead th {\n",
       "        text-align: right;\n",
       "    }\n",
       "</style>\n",
       "<table border=\"1\" class=\"dataframe\">\n",
       "  <thead>\n",
       "    <tr style=\"text-align: right;\">\n",
       "      <th></th>\n",
       "      <th>visit_date</th>\n",
       "      <th>target</th>\n",
       "    </tr>\n",
       "  </thead>\n",
       "  <tbody>\n",
       "    <tr>\n",
       "      <th>0</th>\n",
       "      <td>2021</td>\n",
       "      <td>50314</td>\n",
       "    </tr>\n",
       "  </tbody>\n",
       "</table>\n",
       "</div>"
      ],
      "text/plain": [
       "   visit_date  target\n",
       "0        2021   50314"
      ]
     },
     "execution_count": 23,
     "metadata": {},
     "output_type": "execute_result"
    }
   ],
   "source": [
    "# Количество целевых событий\n",
    "date_target = df_join.groupby(df_join.visit_date.dt.year)[['target']].sum().reset_index()\n",
    "date_target"
   ]
  },
  {
   "cell_type": "code",
   "execution_count": 24,
   "id": "84cacc29",
   "metadata": {
    "hidden": true
   },
   "outputs": [
    {
     "data": {
      "text/html": [
       "<div>\n",
       "<style scoped>\n",
       "    .dataframe tbody tr th:only-of-type {\n",
       "        vertical-align: middle;\n",
       "    }\n",
       "\n",
       "    .dataframe tbody tr th {\n",
       "        vertical-align: top;\n",
       "    }\n",
       "\n",
       "    .dataframe thead th {\n",
       "        text-align: right;\n",
       "    }\n",
       "</style>\n",
       "<table border=\"1\" class=\"dataframe\">\n",
       "  <thead>\n",
       "    <tr style=\"text-align: right;\">\n",
       "      <th></th>\n",
       "      <th>month_2021</th>\n",
       "      <th>quantity_sessions</th>\n",
       "    </tr>\n",
       "  </thead>\n",
       "  <tbody>\n",
       "    <tr>\n",
       "      <th>0</th>\n",
       "      <td>5</td>\n",
       "      <td>108202</td>\n",
       "    </tr>\n",
       "    <tr>\n",
       "      <th>1</th>\n",
       "      <td>6</td>\n",
       "      <td>166470</td>\n",
       "    </tr>\n",
       "    <tr>\n",
       "      <th>2</th>\n",
       "      <td>7</td>\n",
       "      <td>185244</td>\n",
       "    </tr>\n",
       "    <tr>\n",
       "      <th>3</th>\n",
       "      <td>8</td>\n",
       "      <td>164155</td>\n",
       "    </tr>\n",
       "    <tr>\n",
       "      <th>4</th>\n",
       "      <td>9</td>\n",
       "      <td>257478</td>\n",
       "    </tr>\n",
       "    <tr>\n",
       "      <th>5</th>\n",
       "      <td>10</td>\n",
       "      <td>281622</td>\n",
       "    </tr>\n",
       "    <tr>\n",
       "      <th>6</th>\n",
       "      <td>11</td>\n",
       "      <td>297769</td>\n",
       "    </tr>\n",
       "    <tr>\n",
       "      <th>7</th>\n",
       "      <td>12</td>\n",
       "      <td>399102</td>\n",
       "    </tr>\n",
       "  </tbody>\n",
       "</table>\n",
       "</div>"
      ],
      "text/plain": [
       "   month_2021  quantity_sessions\n",
       "0           5             108202\n",
       "1           6             166470\n",
       "2           7             185244\n",
       "3           8             164155\n",
       "4           9             257478\n",
       "5          10             281622\n",
       "6          11             297769\n",
       "7          12             399102"
      ]
     },
     "execution_count": 24,
     "metadata": {},
     "output_type": "execute_result"
    }
   ],
   "source": [
    "# Группировка визитов по дате - месяцам 2021 года\n",
    "vis_date_visit = df_join.groupby(df_join.visit_date.dt.month)[['session_id']].count().reset_index()\n",
    "vis_date_visit = vis_date_visit.rename(columns={'visit_date': 'month_2021', 'session_id': 'quantity_sessions'})\n",
    "vis_date_visit"
   ]
  },
  {
   "cell_type": "code",
   "execution_count": 25,
   "id": "97b1643e",
   "metadata": {
    "hidden": true
   },
   "outputs": [
    {
     "data": {
      "text/html": [
       "<div>\n",
       "<style scoped>\n",
       "    .dataframe tbody tr th:only-of-type {\n",
       "        vertical-align: middle;\n",
       "    }\n",
       "\n",
       "    .dataframe tbody tr th {\n",
       "        vertical-align: top;\n",
       "    }\n",
       "\n",
       "    .dataframe thead th {\n",
       "        text-align: right;\n",
       "    }\n",
       "</style>\n",
       "<table border=\"1\" class=\"dataframe\">\n",
       "  <thead>\n",
       "    <tr style=\"text-align: right;\">\n",
       "      <th></th>\n",
       "      <th>month_2021</th>\n",
       "      <th>quantity_targets</th>\n",
       "    </tr>\n",
       "  </thead>\n",
       "  <tbody>\n",
       "    <tr>\n",
       "      <th>0</th>\n",
       "      <td>5</td>\n",
       "      <td>6428</td>\n",
       "    </tr>\n",
       "    <tr>\n",
       "      <th>1</th>\n",
       "      <td>6</td>\n",
       "      <td>6609</td>\n",
       "    </tr>\n",
       "    <tr>\n",
       "      <th>2</th>\n",
       "      <td>7</td>\n",
       "      <td>4887</td>\n",
       "    </tr>\n",
       "    <tr>\n",
       "      <th>3</th>\n",
       "      <td>8</td>\n",
       "      <td>5498</td>\n",
       "    </tr>\n",
       "    <tr>\n",
       "      <th>4</th>\n",
       "      <td>9</td>\n",
       "      <td>6035</td>\n",
       "    </tr>\n",
       "    <tr>\n",
       "      <th>5</th>\n",
       "      <td>10</td>\n",
       "      <td>7114</td>\n",
       "    </tr>\n",
       "    <tr>\n",
       "      <th>6</th>\n",
       "      <td>11</td>\n",
       "      <td>6444</td>\n",
       "    </tr>\n",
       "    <tr>\n",
       "      <th>7</th>\n",
       "      <td>12</td>\n",
       "      <td>7299</td>\n",
       "    </tr>\n",
       "  </tbody>\n",
       "</table>\n",
       "</div>"
      ],
      "text/plain": [
       "   month_2021  quantity_targets\n",
       "0           5              6428\n",
       "1           6              6609\n",
       "2           7              4887\n",
       "3           8              5498\n",
       "4           9              6035\n",
       "5          10              7114\n",
       "6          11              6444\n",
       "7          12              7299"
      ]
     },
     "execution_count": 25,
     "metadata": {},
     "output_type": "execute_result"
    }
   ],
   "source": [
    "# Группировка целевых действий по дате визита\n",
    "ta_date_visit = df_join.groupby(df_join.visit_date.dt.month)[['target']].sum().reset_index()\n",
    "ta_date_visit = ta_date_visit.rename(columns={'visit_date': 'month_2021', 'target': 'quantity_targets'})\n",
    "ta_date_visit"
   ]
  },
  {
   "cell_type": "code",
   "execution_count": 26,
   "id": "7d19e5e1",
   "metadata": {
    "hidden": true
   },
   "outputs": [
    {
     "data": {
      "image/png": "[encoded data removed]",
      "text/plain": [
       "<Figure size 800x600 with 2 Axes>"
      ]
     },
     "metadata": {},
     "output_type": "display_data"
    }
   ],
   "source": [
    "fig, axs = plt.subplots(nrows= 2 , ncols= 1, sharex='row', figsize=(8, 6))\n",
    "\n",
    "axs[0].plot(vis_date_visit['month_2021'], vis_date_visit['quantity_sessions'], color='blue', marker='D', markerfacecolor='yellow')\n",
    "axs[0].set_title('Динамика визитов')\n",
    "\n",
    "axs[1].plot(ta_date_visit['month_2021'], ta_date_visit['quantity_targets'], color='green', marker='D', markerfacecolor='yellow')\n",
    "axs[1].set_title('Динамика целевых событий')\n",
    "axs[1].set_xlabel('Месяц 2021 года')\n",
    "\n",
    "plt.show()"
   ]
  },
  {
   "cell_type": "markdown",
   "id": "78d87806",
   "metadata": {
    "hidden": true
   },
   "source": [
    "**Вывод:** Аномалия в динамике визитов и целевых событий в 7-м месяце 2021 года: при росте общего количества визитов количество целевых событий резко сократилось. По остальным месяцам положительная динамика визитов соответствует положительной динамике целевых событий."
   ]
  },
  {
   "cell_type": "markdown",
   "id": "5213c634",
   "metadata": {
    "heading_collapsed": true,
    "jp-MarkdownHeadingCollapsed": true,
    "tags": []
   },
   "source": [
    "### 2. CR (Conversion Rate) визитов в целевые события"
   ]
  },
  {
   "cell_type": "code",
   "execution_count": 27,
   "id": "f35408f2",
   "metadata": {
    "hidden": true
   },
   "outputs": [
    {
     "name": "stdout",
     "output_type": "stream",
     "text": [
      "CR визитов в целевые события за май-декабрь 2021 года - 2.7%\n"
     ]
    }
   ],
   "source": [
    "print(f'CR визитов в целевые события за май-декабрь 2021 года - {round(date_target.target[0] / date.session_id[0] * 100, 1)}%')"
   ]
  },
  {
   "cell_type": "code",
   "execution_count": 28,
   "id": "574da959",
   "metadata": {
    "hidden": true
   },
   "outputs": [
    {
     "name": "stdout",
     "output_type": "stream",
     "text": [
      "CR (Conversion Rate) визитов в целевые события по месяцам 2021 года:\n"
     ]
    },
    {
     "data": {
      "text/html": [
       "<div>\n",
       "<style scoped>\n",
       "    .dataframe tbody tr th:only-of-type {\n",
       "        vertical-align: middle;\n",
       "    }\n",
       "\n",
       "    .dataframe tbody tr th {\n",
       "        vertical-align: top;\n",
       "    }\n",
       "\n",
       "    .dataframe thead th {\n",
       "        text-align: right;\n",
       "    }\n",
       "</style>\n",
       "<table border=\"1\" class=\"dataframe\">\n",
       "  <thead>\n",
       "    <tr style=\"text-align: right;\">\n",
       "      <th></th>\n",
       "      <th>month_2021</th>\n",
       "      <th>quantity_sessions</th>\n",
       "      <th>quantity_targets</th>\n",
       "      <th>conversion_rate</th>\n",
       "    </tr>\n",
       "  </thead>\n",
       "  <tbody>\n",
       "    <tr>\n",
       "      <th>0</th>\n",
       "      <td>5</td>\n",
       "      <td>108202</td>\n",
       "      <td>6428</td>\n",
       "      <td>5.9</td>\n",
       "    </tr>\n",
       "    <tr>\n",
       "      <th>1</th>\n",
       "      <td>6</td>\n",
       "      <td>166470</td>\n",
       "      <td>6609</td>\n",
       "      <td>4.0</td>\n",
       "    </tr>\n",
       "    <tr>\n",
       "      <th>2</th>\n",
       "      <td>7</td>\n",
       "      <td>185244</td>\n",
       "      <td>4887</td>\n",
       "      <td>2.6</td>\n",
       "    </tr>\n",
       "    <tr>\n",
       "      <th>3</th>\n",
       "      <td>8</td>\n",
       "      <td>164155</td>\n",
       "      <td>5498</td>\n",
       "      <td>3.3</td>\n",
       "    </tr>\n",
       "    <tr>\n",
       "      <th>4</th>\n",
       "      <td>9</td>\n",
       "      <td>257478</td>\n",
       "      <td>6035</td>\n",
       "      <td>2.3</td>\n",
       "    </tr>\n",
       "    <tr>\n",
       "      <th>5</th>\n",
       "      <td>10</td>\n",
       "      <td>281622</td>\n",
       "      <td>7114</td>\n",
       "      <td>2.5</td>\n",
       "    </tr>\n",
       "    <tr>\n",
       "      <th>6</th>\n",
       "      <td>11</td>\n",
       "      <td>297769</td>\n",
       "      <td>6444</td>\n",
       "      <td>2.2</td>\n",
       "    </tr>\n",
       "    <tr>\n",
       "      <th>7</th>\n",
       "      <td>12</td>\n",
       "      <td>399102</td>\n",
       "      <td>7299</td>\n",
       "      <td>1.8</td>\n",
       "    </tr>\n",
       "  </tbody>\n",
       "</table>\n",
       "</div>"
      ],
      "text/plain": [
       "   month_2021  quantity_sessions  quantity_targets  conversion_rate\n",
       "0           5             108202              6428              5.9\n",
       "1           6             166470              6609              4.0\n",
       "2           7             185244              4887              2.6\n",
       "3           8             164155              5498              3.3\n",
       "4           9             257478              6035              2.3\n",
       "5          10             281622              7114              2.5\n",
       "6          11             297769              6444              2.2\n",
       "7          12             399102              7299              1.8"
      ]
     },
     "execution_count": 28,
     "metadata": {},
     "output_type": "execute_result"
    }
   ],
   "source": [
    "# Объединение сгруппированных датафреймов по количеству визитов и целевых событий\n",
    "df_date_visit = pd.merge(left=vis_date_visit, right=ta_date_visit, on=['month_2021'], how='inner')\n",
    "\n",
    "# Добавляем столбец conversion_rate\n",
    "df_date_visit['conversion_rate'] = round(ta_date_visit.quantity_targets/vis_date_visit.quantity_sessions*100, 1)\n",
    "print(f'CR (Conversion Rate) визитов в целевые события по месяцам 2021 года:')\n",
    "df_date_visit"
   ]
  },
  {
   "cell_type": "markdown",
   "id": "c8568b42",
   "metadata": {
    "hidden": true
   },
   "source": [
    "**Вывод:** CR визитов в целевые события падает от мая к декабрю 2021 года, т.е. количество визитов растет более быстрыми темпами, чем количество целевых событий."
   ]
  },
  {
   "cell_type": "markdown",
   "id": "e2986387",
   "metadata": {
    "heading_collapsed": true,
    "jp-MarkdownHeadingCollapsed": true,
    "tags": []
   },
   "source": [
    "### 3. Каналы привлечения"
   ]
  },
  {
   "cell_type": "code",
   "execution_count": 29,
   "id": "cb230d37",
   "metadata": {
    "hidden": true
   },
   "outputs": [
    {
     "name": "stdout",
     "output_type": "stream",
     "text": [
      "Топ-7 из 293 каналов привлекли 86.2 % визитов:\n"
     ]
    },
    {
     "data": {
      "text/html": [
       "<div>\n",
       "<style scoped>\n",
       "    .dataframe tbody tr th:only-of-type {\n",
       "        vertical-align: middle;\n",
       "    }\n",
       "\n",
       "    .dataframe tbody tr th {\n",
       "        vertical-align: top;\n",
       "    }\n",
       "\n",
       "    .dataframe thead th {\n",
       "        text-align: right;\n",
       "    }\n",
       "</style>\n",
       "<table border=\"1\" class=\"dataframe\">\n",
       "  <thead>\n",
       "    <tr style=\"text-align: right;\">\n",
       "      <th></th>\n",
       "      <th>utm_source</th>\n",
       "      <th>quant</th>\n",
       "      <th>q_percent</th>\n",
       "    </tr>\n",
       "  </thead>\n",
       "  <tbody>\n",
       "    <tr>\n",
       "      <th>0</th>\n",
       "      <td>ZpYIoDJMcFzVoPFsHGJL</td>\n",
       "      <td>578387</td>\n",
       "      <td>31.1</td>\n",
       "    </tr>\n",
       "    <tr>\n",
       "      <th>1</th>\n",
       "      <td>fDLlAcSmythWSCVMvqvL</td>\n",
       "      <td>300575</td>\n",
       "      <td>16.2</td>\n",
       "    </tr>\n",
       "    <tr>\n",
       "      <th>2</th>\n",
       "      <td>kjsLglQLzykiRbcDiGcD</td>\n",
       "      <td>266354</td>\n",
       "      <td>14.3</td>\n",
       "    </tr>\n",
       "    <tr>\n",
       "      <th>3</th>\n",
       "      <td>MvfHsxITijuriZxsqZqt</td>\n",
       "      <td>186199</td>\n",
       "      <td>10.0</td>\n",
       "    </tr>\n",
       "    <tr>\n",
       "      <th>4</th>\n",
       "      <td>BHcvLfOaCWvWTykYqHVe</td>\n",
       "      <td>116320</td>\n",
       "      <td>6.3</td>\n",
       "    </tr>\n",
       "    <tr>\n",
       "      <th>5</th>\n",
       "      <td>bByPQxmDaMXgpHeypKSM</td>\n",
       "      <td>102287</td>\n",
       "      <td>5.5</td>\n",
       "    </tr>\n",
       "    <tr>\n",
       "      <th>6</th>\n",
       "      <td>QxAxdyPLuQMEcrdZWdWb</td>\n",
       "      <td>51415</td>\n",
       "      <td>2.8</td>\n",
       "    </tr>\n",
       "  </tbody>\n",
       "</table>\n",
       "</div>"
      ],
      "text/plain": [
       "             utm_source   quant  q_percent\n",
       "0  ZpYIoDJMcFzVoPFsHGJL  578387       31.1\n",
       "1  fDLlAcSmythWSCVMvqvL  300575       16.2\n",
       "2  kjsLglQLzykiRbcDiGcD  266354       14.3\n",
       "3  MvfHsxITijuriZxsqZqt  186199       10.0\n",
       "4  BHcvLfOaCWvWTykYqHVe  116320        6.3\n",
       "5  bByPQxmDaMXgpHeypKSM  102287        5.5\n",
       "6  QxAxdyPLuQMEcrdZWdWb   51415        2.8"
      ]
     },
     "execution_count": 29,
     "metadata": {},
     "output_type": "execute_result"
    }
   ],
   "source": [
    "# Группировка количества визитов по каналам привлечения\n",
    "vis_source = df_join.groupby(['utm_source'], as_index=False)[['session_id']].count()\n",
    "vis_source = vis_source.rename(columns={'session_id': 'quant'})\n",
    "vis_source = vis_source.sort_values(by=['quant'], ascending=False).reset_index(drop=True)\n",
    "vis_source['q_percent'] = round((vis_source['quant'] / df_join['session_id'].count() * 100), 1)\n",
    "\n",
    "print(f'Топ-7 из {df_join.utm_source.describe()[1]} каналов привлекли {round(sum(vis_source.q_percent[:7]), 1)} % визитов:')\n",
    "vis_source[:7]"
   ]
  },
  {
   "cell_type": "code",
   "execution_count": 30,
   "id": "8a5167cd",
   "metadata": {
    "hidden": true
   },
   "outputs": [
    {
     "name": "stdout",
     "output_type": "stream",
     "text": [
      "Топ-7 из 293 каналов привлекли 92.0% целевых событий:\n"
     ]
    },
    {
     "data": {
      "text/html": [
       "<div>\n",
       "<style scoped>\n",
       "    .dataframe tbody tr th:only-of-type {\n",
       "        vertical-align: middle;\n",
       "    }\n",
       "\n",
       "    .dataframe tbody tr th {\n",
       "        vertical-align: top;\n",
       "    }\n",
       "\n",
       "    .dataframe thead th {\n",
       "        text-align: right;\n",
       "    }\n",
       "</style>\n",
       "<table border=\"1\" class=\"dataframe\">\n",
       "  <thead>\n",
       "    <tr style=\"text-align: right;\">\n",
       "      <th></th>\n",
       "      <th>utm_source</th>\n",
       "      <th>target</th>\n",
       "      <th>t_percent</th>\n",
       "    </tr>\n",
       "  </thead>\n",
       "  <tbody>\n",
       "    <tr>\n",
       "      <th>0</th>\n",
       "      <td>ZpYIoDJMcFzVoPFsHGJL</td>\n",
       "      <td>16003</td>\n",
       "      <td>31.8</td>\n",
       "    </tr>\n",
       "    <tr>\n",
       "      <th>1</th>\n",
       "      <td>fDLlAcSmythWSCVMvqvL</td>\n",
       "      <td>10531</td>\n",
       "      <td>20.9</td>\n",
       "    </tr>\n",
       "    <tr>\n",
       "      <th>2</th>\n",
       "      <td>kjsLglQLzykiRbcDiGcD</td>\n",
       "      <td>6293</td>\n",
       "      <td>12.5</td>\n",
       "    </tr>\n",
       "    <tr>\n",
       "      <th>3</th>\n",
       "      <td>bByPQxmDaMXgpHeypKSM</td>\n",
       "      <td>5557</td>\n",
       "      <td>11.0</td>\n",
       "    </tr>\n",
       "    <tr>\n",
       "      <th>4</th>\n",
       "      <td>BHcvLfOaCWvWTykYqHVe</td>\n",
       "      <td>3882</td>\n",
       "      <td>7.7</td>\n",
       "    </tr>\n",
       "    <tr>\n",
       "      <th>5</th>\n",
       "      <td>MvfHsxITijuriZxsqZqt</td>\n",
       "      <td>2249</td>\n",
       "      <td>4.5</td>\n",
       "    </tr>\n",
       "    <tr>\n",
       "      <th>6</th>\n",
       "      <td>aXQzDWsJuGXeBXexNHjc</td>\n",
       "      <td>1827</td>\n",
       "      <td>3.6</td>\n",
       "    </tr>\n",
       "  </tbody>\n",
       "</table>\n",
       "</div>"
      ],
      "text/plain": [
       "             utm_source  target  t_percent\n",
       "0  ZpYIoDJMcFzVoPFsHGJL   16003       31.8\n",
       "1  fDLlAcSmythWSCVMvqvL   10531       20.9\n",
       "2  kjsLglQLzykiRbcDiGcD    6293       12.5\n",
       "3  bByPQxmDaMXgpHeypKSM    5557       11.0\n",
       "4  BHcvLfOaCWvWTykYqHVe    3882        7.7\n",
       "5  MvfHsxITijuriZxsqZqt    2249        4.5\n",
       "6  aXQzDWsJuGXeBXexNHjc    1827        3.6"
      ]
     },
     "execution_count": 30,
     "metadata": {},
     "output_type": "execute_result"
    }
   ],
   "source": [
    "# Группировка целевых событий по каналам привлечения\n",
    "ta_source = df_join.groupby(['utm_source'], as_index=False)[['target']].sum()\n",
    "ta_source = ta_source.sort_values(by=['target'], ascending=False).reset_index(drop=True)\n",
    "ta_source['t_percent'] = round((ta_source['target'] / df_join['target'].sum() * 100), 1)\n",
    "\n",
    "print(f'Топ-7 из {df_join.utm_source.describe()[1]} каналов привлекли {round(sum(ta_source.t_percent[:7]), 1)}% целевых событий:')\n",
    "ta_source[:7]"
   ]
  },
  {
   "cell_type": "code",
   "execution_count": 31,
   "id": "10578384",
   "metadata": {
    "hidden": true
   },
   "outputs": [
    {
     "name": "stdout",
     "output_type": "stream",
     "text": [
      "Топ-7 из 293 каналов по количеству целевых событий - target:\n"
     ]
    },
    {
     "data": {
      "text/html": [
       "<div>\n",
       "<style scoped>\n",
       "    .dataframe tbody tr th:only-of-type {\n",
       "        vertical-align: middle;\n",
       "    }\n",
       "\n",
       "    .dataframe tbody tr th {\n",
       "        vertical-align: top;\n",
       "    }\n",
       "\n",
       "    .dataframe thead th {\n",
       "        text-align: right;\n",
       "    }\n",
       "</style>\n",
       "<table border=\"1\" class=\"dataframe\">\n",
       "  <thead>\n",
       "    <tr style=\"text-align: right;\">\n",
       "      <th></th>\n",
       "      <th>utm_source</th>\n",
       "      <th>quant</th>\n",
       "      <th>q_percent</th>\n",
       "      <th>target</th>\n",
       "      <th>t_percent</th>\n",
       "      <th>conversion_rate</th>\n",
       "    </tr>\n",
       "  </thead>\n",
       "  <tbody>\n",
       "    <tr>\n",
       "      <th>0</th>\n",
       "      <td>ZpYIoDJMcFzVoPFsHGJL</td>\n",
       "      <td>578387</td>\n",
       "      <td>31.1</td>\n",
       "      <td>16003</td>\n",
       "      <td>31.8</td>\n",
       "      <td>2.8</td>\n",
       "    </tr>\n",
       "    <tr>\n",
       "      <th>1</th>\n",
       "      <td>fDLlAcSmythWSCVMvqvL</td>\n",
       "      <td>300575</td>\n",
       "      <td>16.2</td>\n",
       "      <td>10531</td>\n",
       "      <td>20.9</td>\n",
       "      <td>3.5</td>\n",
       "    </tr>\n",
       "    <tr>\n",
       "      <th>2</th>\n",
       "      <td>kjsLglQLzykiRbcDiGcD</td>\n",
       "      <td>266354</td>\n",
       "      <td>14.3</td>\n",
       "      <td>6293</td>\n",
       "      <td>12.5</td>\n",
       "      <td>2.4</td>\n",
       "    </tr>\n",
       "    <tr>\n",
       "      <th>3</th>\n",
       "      <td>bByPQxmDaMXgpHeypKSM</td>\n",
       "      <td>102287</td>\n",
       "      <td>5.5</td>\n",
       "      <td>5557</td>\n",
       "      <td>11.0</td>\n",
       "      <td>5.4</td>\n",
       "    </tr>\n",
       "    <tr>\n",
       "      <th>4</th>\n",
       "      <td>BHcvLfOaCWvWTykYqHVe</td>\n",
       "      <td>116320</td>\n",
       "      <td>6.3</td>\n",
       "      <td>3882</td>\n",
       "      <td>7.7</td>\n",
       "      <td>3.3</td>\n",
       "    </tr>\n",
       "    <tr>\n",
       "      <th>5</th>\n",
       "      <td>MvfHsxITijuriZxsqZqt</td>\n",
       "      <td>186199</td>\n",
       "      <td>10.0</td>\n",
       "      <td>2249</td>\n",
       "      <td>4.5</td>\n",
       "      <td>1.2</td>\n",
       "    </tr>\n",
       "    <tr>\n",
       "      <th>6</th>\n",
       "      <td>aXQzDWsJuGXeBXexNHjc</td>\n",
       "      <td>31152</td>\n",
       "      <td>1.7</td>\n",
       "      <td>1827</td>\n",
       "      <td>3.6</td>\n",
       "      <td>5.9</td>\n",
       "    </tr>\n",
       "  </tbody>\n",
       "</table>\n",
       "</div>"
      ],
      "text/plain": [
       "             utm_source   quant  q_percent  target  t_percent  conversion_rate\n",
       "0  ZpYIoDJMcFzVoPFsHGJL  578387       31.1   16003       31.8              2.8\n",
       "1  fDLlAcSmythWSCVMvqvL  300575       16.2   10531       20.9              3.5\n",
       "2  kjsLglQLzykiRbcDiGcD  266354       14.3    6293       12.5              2.4\n",
       "3  bByPQxmDaMXgpHeypKSM  102287        5.5    5557       11.0              5.4\n",
       "4  BHcvLfOaCWvWTykYqHVe  116320        6.3    3882        7.7              3.3\n",
       "5  MvfHsxITijuriZxsqZqt  186199       10.0    2249        4.5              1.2\n",
       "6  aXQzDWsJuGXeBXexNHjc   31152        1.7    1827        3.6              5.9"
      ]
     },
     "execution_count": 31,
     "metadata": {},
     "output_type": "execute_result"
    }
   ],
   "source": [
    "# Объединение сгруппированных датафреймов по количеству визитов и целевым событиям\n",
    "df_source = pd.merge(left=vis_source, right=ta_source, on=['utm_source'], how='inner')\n",
    "\n",
    "df_source['conversion_rate'] = round((df_source['target'] / df_source['quant'] * 100), 1)\n",
    "\n",
    "# Сортировка по количеству целевых событий\n",
    "df_source = df_source.sort_values(by=['target'], ascending=False).reset_index(drop=True)\n",
    "\n",
    "print(f'Топ-7 из {df_join.utm_source.describe()[1]} каналов по количеству целевых событий - target:')\n",
    "df_source[:7]"
   ]
  },
  {
   "cell_type": "code",
   "execution_count": 32,
   "id": "b4d700dd",
   "metadata": {
    "hidden": true
   },
   "outputs": [
    {
     "name": "stdout",
     "output_type": "stream",
     "text": [
      "Топ-7 из 293 каналов привлечения по уровню CR:\n"
     ]
    },
    {
     "data": {
      "text/html": [
       "<div>\n",
       "<style scoped>\n",
       "    .dataframe tbody tr th:only-of-type {\n",
       "        vertical-align: middle;\n",
       "    }\n",
       "\n",
       "    .dataframe tbody tr th {\n",
       "        vertical-align: top;\n",
       "    }\n",
       "\n",
       "    .dataframe thead th {\n",
       "        text-align: right;\n",
       "    }\n",
       "</style>\n",
       "<table border=\"1\" class=\"dataframe\">\n",
       "  <thead>\n",
       "    <tr style=\"text-align: right;\">\n",
       "      <th></th>\n",
       "      <th>utm_source</th>\n",
       "      <th>quant</th>\n",
       "      <th>q_percent</th>\n",
       "      <th>target</th>\n",
       "      <th>t_percent</th>\n",
       "      <th>conversion_rate</th>\n",
       "    </tr>\n",
       "  </thead>\n",
       "  <tbody>\n",
       "    <tr>\n",
       "      <th>0</th>\n",
       "      <td>YpBKcihLLfFjWuxOLfvW</td>\n",
       "      <td>1</td>\n",
       "      <td>0.0</td>\n",
       "      <td>1</td>\n",
       "      <td>0.0</td>\n",
       "      <td>100.0</td>\n",
       "    </tr>\n",
       "    <tr>\n",
       "      <th>1</th>\n",
       "      <td>fJCYsujgSxIHFbOmgDdN</td>\n",
       "      <td>8</td>\n",
       "      <td>0.0</td>\n",
       "      <td>7</td>\n",
       "      <td>0.0</td>\n",
       "      <td>87.5</td>\n",
       "    </tr>\n",
       "    <tr>\n",
       "      <th>2</th>\n",
       "      <td>XzfzEBYZWgSDtJNXOadn</td>\n",
       "      <td>2</td>\n",
       "      <td>0.0</td>\n",
       "      <td>1</td>\n",
       "      <td>0.0</td>\n",
       "      <td>50.0</td>\n",
       "    </tr>\n",
       "    <tr>\n",
       "      <th>3</th>\n",
       "      <td>CqeIpFwJscTsZoYXdHsP</td>\n",
       "      <td>2</td>\n",
       "      <td>0.0</td>\n",
       "      <td>1</td>\n",
       "      <td>0.0</td>\n",
       "      <td>50.0</td>\n",
       "    </tr>\n",
       "    <tr>\n",
       "      <th>4</th>\n",
       "      <td>yxJKymlSGVuKIPTxbysx</td>\n",
       "      <td>3</td>\n",
       "      <td>0.0</td>\n",
       "      <td>1</td>\n",
       "      <td>0.0</td>\n",
       "      <td>33.3</td>\n",
       "    </tr>\n",
       "    <tr>\n",
       "      <th>5</th>\n",
       "      <td>LIWKeifdTCbuNeniIUqm</td>\n",
       "      <td>57</td>\n",
       "      <td>0.0</td>\n",
       "      <td>17</td>\n",
       "      <td>0.0</td>\n",
       "      <td>29.8</td>\n",
       "    </tr>\n",
       "    <tr>\n",
       "      <th>6</th>\n",
       "      <td>JcVHXwVSrnfIuOMMEkrJ</td>\n",
       "      <td>4</td>\n",
       "      <td>0.0</td>\n",
       "      <td>1</td>\n",
       "      <td>0.0</td>\n",
       "      <td>25.0</td>\n",
       "    </tr>\n",
       "  </tbody>\n",
       "</table>\n",
       "</div>"
      ],
      "text/plain": [
       "             utm_source  quant  q_percent  target  t_percent  conversion_rate\n",
       "0  YpBKcihLLfFjWuxOLfvW      1        0.0       1        0.0            100.0\n",
       "1  fJCYsujgSxIHFbOmgDdN      8        0.0       7        0.0             87.5\n",
       "2  XzfzEBYZWgSDtJNXOadn      2        0.0       1        0.0             50.0\n",
       "3  CqeIpFwJscTsZoYXdHsP      2        0.0       1        0.0             50.0\n",
       "4  yxJKymlSGVuKIPTxbysx      3        0.0       1        0.0             33.3\n",
       "5  LIWKeifdTCbuNeniIUqm     57        0.0      17        0.0             29.8\n",
       "6  JcVHXwVSrnfIuOMMEkrJ      4        0.0       1        0.0             25.0"
      ]
     },
     "execution_count": 32,
     "metadata": {},
     "output_type": "execute_result"
    }
   ],
   "source": [
    "# Сортировка по conversion_rate\n",
    "df_source_cr = df_source.sort_values(by=['conversion_rate'], ascending=False).reset_index(drop=True)\n",
    "\n",
    "print(f'Топ-7 из {df_join.utm_source.describe()[1]} каналов привлечения по уровню CR:')\n",
    "df_source_cr[:7]"
   ]
  },
  {
   "cell_type": "code",
   "execution_count": 33,
   "id": "3fc3fdcb",
   "metadata": {
    "hidden": true
   },
   "outputs": [
    {
     "data": {
      "image/png": "[encoded data removed]",
      "text/plain": [
       "<Figure size 2000x1000 with 2 Axes>"
      ]
     },
     "metadata": {},
     "output_type": "display_data"
    }
   ],
   "source": [
    "fig, axs = plt.subplots(nrows= 2 , ncols= 1, sharex='row', figsize=(20, 10))\n",
    "\n",
    "axs[0].bar(df_source['utm_source'][:7], df_source['target'][:7], color=['aqua'])\n",
    "axs[0].set_title('Топ-7 каналов привлечения по количеству целевых событий')\n",
    "axs[0].set_ylabel('Кол-во целевых событий')\n",
    "\n",
    "axs[1].bar(df_source_cr['utm_source'][:7], df_source_cr['conversion_rate'][:7], color=['blue'])\n",
    "axs[1].set_title('Топ-7 каналов привлечения по уровню CR')\n",
    "axs[1].set_ylabel('Conversion Rate, %')\n",
    "\n",
    "plt.show()"
   ]
  },
  {
   "cell_type": "markdown",
   "id": "78d58385",
   "metadata": {
    "heading_collapsed": true,
    "jp-MarkdownHeadingCollapsed": true,
    "tags": []
   },
   "source": [
    "### 4. Реклама в соцсетях"
   ]
  },
  {
   "cell_type": "code",
   "execution_count": 34,
   "id": "7af41c7e",
   "metadata": {
    "hidden": true
   },
   "outputs": [
    {
     "name": "stdout",
     "output_type": "stream",
     "text": [
      "Количество визитов: 1 - из рекламы в соцсетях; 0 - из прочих источников\n"
     ]
    },
    {
     "data": {
      "text/html": [
       "<div>\n",
       "<style scoped>\n",
       "    .dataframe tbody tr th:only-of-type {\n",
       "        vertical-align: middle;\n",
       "    }\n",
       "\n",
       "    .dataframe tbody tr th {\n",
       "        vertical-align: top;\n",
       "    }\n",
       "\n",
       "    .dataframe thead th {\n",
       "        text-align: right;\n",
       "    }\n",
       "</style>\n",
       "<table border=\"1\" class=\"dataframe\">\n",
       "  <thead>\n",
       "    <tr style=\"text-align: right;\">\n",
       "      <th></th>\n",
       "      <th>advert_sn</th>\n",
       "      <th>quant</th>\n",
       "      <th>percent</th>\n",
       "    </tr>\n",
       "  </thead>\n",
       "  <tbody>\n",
       "    <tr>\n",
       "      <th>0</th>\n",
       "      <td>0</td>\n",
       "      <td>1585815</td>\n",
       "      <td>85.3</td>\n",
       "    </tr>\n",
       "    <tr>\n",
       "      <th>1</th>\n",
       "      <td>1</td>\n",
       "      <td>274227</td>\n",
       "      <td>14.7</td>\n",
       "    </tr>\n",
       "  </tbody>\n",
       "</table>\n",
       "</div>"
      ],
      "text/plain": [
       "   advert_sn    quant  percent\n",
       "0          0  1585815     85.3\n",
       "1          1   274227     14.7"
      ]
     },
     "execution_count": 34,
     "metadata": {},
     "output_type": "execute_result"
    }
   ],
   "source": [
    "# Группировка каналов привлечения по количеству визитов\n",
    "vis_advert = df_join.groupby(['advert_sn'], as_index=False)[['session_id']].count()\n",
    "vis_advert = vis_advert.rename(columns={'session_id': 'quant'})\n",
    "vis_advert['percent'] = round((vis_advert['quant'] / df_join['session_id'].count() * 100), 1)\n",
    "print(f'Количество визитов: 1 - из рекламы в соцсетях; 0 - из прочих источников')\n",
    "vis_advert"
   ]
  },
  {
   "cell_type": "code",
   "execution_count": 35,
   "id": "b0dacf89",
   "metadata": {
    "hidden": true
   },
   "outputs": [
    {
     "name": "stdout",
     "output_type": "stream",
     "text": [
      "Количество целевых событий: 1 - из рекламы в соцсетях; 0 - из прочих источников\n"
     ]
    },
    {
     "data": {
      "text/html": [
       "<div>\n",
       "<style scoped>\n",
       "    .dataframe tbody tr th:only-of-type {\n",
       "        vertical-align: middle;\n",
       "    }\n",
       "\n",
       "    .dataframe tbody tr th {\n",
       "        vertical-align: top;\n",
       "    }\n",
       "\n",
       "    .dataframe thead th {\n",
       "        text-align: right;\n",
       "    }\n",
       "</style>\n",
       "<table border=\"1\" class=\"dataframe\">\n",
       "  <thead>\n",
       "    <tr style=\"text-align: right;\">\n",
       "      <th></th>\n",
       "      <th>advert_sn</th>\n",
       "      <th>target</th>\n",
       "      <th>percent</th>\n",
       "    </tr>\n",
       "  </thead>\n",
       "  <tbody>\n",
       "    <tr>\n",
       "      <th>0</th>\n",
       "      <td>0</td>\n",
       "      <td>46293</td>\n",
       "      <td>92.0</td>\n",
       "    </tr>\n",
       "    <tr>\n",
       "      <th>1</th>\n",
       "      <td>1</td>\n",
       "      <td>4021</td>\n",
       "      <td>8.0</td>\n",
       "    </tr>\n",
       "  </tbody>\n",
       "</table>\n",
       "</div>"
      ],
      "text/plain": [
       "   advert_sn  target  percent\n",
       "0          0   46293     92.0\n",
       "1          1    4021      8.0"
      ]
     },
     "execution_count": 35,
     "metadata": {},
     "output_type": "execute_result"
    }
   ],
   "source": [
    "# Группировка целевых событий по каналам привлечения\n",
    "ta_advert = df_join.groupby(['advert_sn'], as_index=False)[['target']].sum()\n",
    "ta_advert['percent'] = round((ta_advert['target'] / df_join['target'].sum() * 100), 1)\n",
    "print(f'Количество целевых событий: 1 - из рекламы в соцсетях; 0 - из прочих источников')\n",
    "ta_advert"
   ]
  },
  {
   "cell_type": "code",
   "execution_count": 36,
   "id": "8eb629bc",
   "metadata": {
    "hidden": true
   },
   "outputs": [
    {
     "name": "stdout",
     "output_type": "stream",
     "text": [
      "Реклама в социальных сетях привлекла 14.7% визитов и 8.0% целевых событий.\n",
      "CR рекламы в социальных сетях в целевые события - 1.5%\n"
     ]
    }
   ],
   "source": [
    "print(f'Реклама в социальных сетях привлекла {vis_advert.percent[1]}% визитов и {ta_advert.percent[1]}% целевых событий.')\n",
    "print(f'CR рекламы в социальных сетях в целевые события - {round(ta_advert.target[1] / vis_advert.quant[1] *100, 1)}%')"
   ]
  },
  {
   "cell_type": "markdown",
   "id": "8e699b7f",
   "metadata": {
    "hidden": true
   },
   "source": [
    "**Вывод:** Увеличивать присутствие в соцсетях и давать больше рекламы не стоит."
   ]
  },
  {
   "cell_type": "markdown",
   "id": "ba34f45a",
   "metadata": {
    "heading_collapsed": true,
    "jp-MarkdownHeadingCollapsed": true,
    "tags": []
   },
   "source": [
    "### 5. Рекламная кампания"
   ]
  },
  {
   "cell_type": "code",
   "execution_count": 37,
   "id": "ff88ae52",
   "metadata": {
    "hidden": true
   },
   "outputs": [
    {
     "name": "stdout",
     "output_type": "stream",
     "text": [
      "Топ-9 из 413 рекламных кампаний привлекли 80.9% визитов.\n",
      "Без рекламной кампании (значение атрибута \"no advertising\") совершено 11.8% визитов\n"
     ]
    },
    {
     "data": {
      "text/html": [
       "<div>\n",
       "<style scoped>\n",
       "    .dataframe tbody tr th:only-of-type {\n",
       "        vertical-align: middle;\n",
       "    }\n",
       "\n",
       "    .dataframe tbody tr th {\n",
       "        vertical-align: top;\n",
       "    }\n",
       "\n",
       "    .dataframe thead th {\n",
       "        text-align: right;\n",
       "    }\n",
       "</style>\n",
       "<table border=\"1\" class=\"dataframe\">\n",
       "  <thead>\n",
       "    <tr style=\"text-align: right;\">\n",
       "      <th></th>\n",
       "      <th>utm_campaign</th>\n",
       "      <th>quant</th>\n",
       "      <th>q_percent</th>\n",
       "    </tr>\n",
       "  </thead>\n",
       "  <tbody>\n",
       "    <tr>\n",
       "      <th>0</th>\n",
       "      <td>LTuZkdKfxRGVceoWkVyg</td>\n",
       "      <td>463481</td>\n",
       "      <td>24.9</td>\n",
       "    </tr>\n",
       "    <tr>\n",
       "      <th>1</th>\n",
       "      <td>LEoPHuyFvzoNfnzGgfcd</td>\n",
       "      <td>324044</td>\n",
       "      <td>17.4</td>\n",
       "    </tr>\n",
       "    <tr>\n",
       "      <th>2</th>\n",
       "      <td>FTjNLDyTrXaWYgZymFkV</td>\n",
       "      <td>247360</td>\n",
       "      <td>13.3</td>\n",
       "    </tr>\n",
       "    <tr>\n",
       "      <th>3</th>\n",
       "      <td>no advertising</td>\n",
       "      <td>219603</td>\n",
       "      <td>11.8</td>\n",
       "    </tr>\n",
       "    <tr>\n",
       "      <th>4</th>\n",
       "      <td>gecBYcKZCPMcVYdSSzKP</td>\n",
       "      <td>134042</td>\n",
       "      <td>7.2</td>\n",
       "    </tr>\n",
       "    <tr>\n",
       "      <th>5</th>\n",
       "      <td>TmThBvoCcwkCZZUWACYq</td>\n",
       "      <td>26597</td>\n",
       "      <td>1.4</td>\n",
       "    </tr>\n",
       "    <tr>\n",
       "      <th>6</th>\n",
       "      <td>XHNUiSKKGTEpSAlaVMFQ</td>\n",
       "      <td>24524</td>\n",
       "      <td>1.3</td>\n",
       "    </tr>\n",
       "    <tr>\n",
       "      <th>7</th>\n",
       "      <td>okTXSMadDkjvntEHzIjp</td>\n",
       "      <td>24511</td>\n",
       "      <td>1.3</td>\n",
       "    </tr>\n",
       "    <tr>\n",
       "      <th>8</th>\n",
       "      <td>SgIUDYUKnyWHVowUOqid</td>\n",
       "      <td>22841</td>\n",
       "      <td>1.2</td>\n",
       "    </tr>\n",
       "    <tr>\n",
       "      <th>9</th>\n",
       "      <td>sbJRYgVfvcnqKJNDDYIr</td>\n",
       "      <td>20188</td>\n",
       "      <td>1.1</td>\n",
       "    </tr>\n",
       "  </tbody>\n",
       "</table>\n",
       "</div>"
      ],
      "text/plain": [
       "           utm_campaign   quant  q_percent\n",
       "0  LTuZkdKfxRGVceoWkVyg  463481       24.9\n",
       "1  LEoPHuyFvzoNfnzGgfcd  324044       17.4\n",
       "2  FTjNLDyTrXaWYgZymFkV  247360       13.3\n",
       "3        no advertising  219603       11.8\n",
       "4  gecBYcKZCPMcVYdSSzKP  134042        7.2\n",
       "5  TmThBvoCcwkCZZUWACYq   26597        1.4\n",
       "6  XHNUiSKKGTEpSAlaVMFQ   24524        1.3\n",
       "7  okTXSMadDkjvntEHzIjp   24511        1.3\n",
       "8  SgIUDYUKnyWHVowUOqid   22841        1.2\n",
       "9  sbJRYgVfvcnqKJNDDYIr   20188        1.1"
      ]
     },
     "execution_count": 37,
     "metadata": {},
     "output_type": "execute_result"
    }
   ],
   "source": [
    "# Группировка рекламных кампаний по количеству визитов\n",
    "vis_camp = df_join.groupby(['utm_campaign'], as_index=False)[['session_id']].count()\n",
    "vis_camp = vis_camp.rename(columns={'session_id': 'quant'})\n",
    "vis_camp = vis_camp.sort_values(by=['quant'], ascending=False).reset_index(drop=True)\n",
    "\n",
    "vis_camp['q_percent'] = round((vis_camp['quant'] / df_join['session_id'].count() * 100), 1)\n",
    "\n",
    "print(f'Топ-9 из {df_join.utm_campaign.describe()[1]} рекламных кампаний привлекли {round(sum(vis_camp.q_percent[:10]), 1)}% визитов.')\n",
    "print(f'Без рекламной кампании (значение атрибута \"no advertising\") совершено {vis_camp[\"q_percent\"].loc[3]}% визитов')\n",
    "vis_camp[:10]"
   ]
  },
  {
   "cell_type": "code",
   "execution_count": 38,
   "id": "4ee9b122",
   "metadata": {
    "hidden": true
   },
   "outputs": [
    {
     "name": "stdout",
     "output_type": "stream",
     "text": [
      "Топ-9 из 413 рекламных кампаний привлекли 98.5% целевых событий\n",
      "Без рекламной кампании (значение атрибута \"no advertising\") совершено 14.3% визитов\n"
     ]
    },
    {
     "data": {
      "text/html": [
       "<div>\n",
       "<style scoped>\n",
       "    .dataframe tbody tr th:only-of-type {\n",
       "        vertical-align: middle;\n",
       "    }\n",
       "\n",
       "    .dataframe tbody tr th {\n",
       "        vertical-align: top;\n",
       "    }\n",
       "\n",
       "    .dataframe thead th {\n",
       "        text-align: right;\n",
       "    }\n",
       "</style>\n",
       "<table border=\"1\" class=\"dataframe\">\n",
       "  <thead>\n",
       "    <tr style=\"text-align: right;\">\n",
       "      <th></th>\n",
       "      <th>utm_campaign</th>\n",
       "      <th>target</th>\n",
       "      <th>t_percent</th>\n",
       "    </tr>\n",
       "  </thead>\n",
       "  <tbody>\n",
       "    <tr>\n",
       "      <th>0</th>\n",
       "      <td>LTuZkdKfxRGVceoWkVyg</td>\n",
       "      <td>19006</td>\n",
       "      <td>37.8</td>\n",
       "    </tr>\n",
       "    <tr>\n",
       "      <th>1</th>\n",
       "      <td>LEoPHuyFvzoNfnzGgfcd</td>\n",
       "      <td>9348</td>\n",
       "      <td>18.6</td>\n",
       "    </tr>\n",
       "    <tr>\n",
       "      <th>2</th>\n",
       "      <td>no advertising</td>\n",
       "      <td>7174</td>\n",
       "      <td>14.3</td>\n",
       "    </tr>\n",
       "    <tr>\n",
       "      <th>3</th>\n",
       "      <td>gecBYcKZCPMcVYdSSzKP</td>\n",
       "      <td>4545</td>\n",
       "      <td>9.0</td>\n",
       "    </tr>\n",
       "    <tr>\n",
       "      <th>4</th>\n",
       "      <td>FTjNLDyTrXaWYgZymFkV</td>\n",
       "      <td>2447</td>\n",
       "      <td>4.9</td>\n",
       "    </tr>\n",
       "    <tr>\n",
       "      <th>5</th>\n",
       "      <td>sbJRYgVfvcnqKJNDDYIr</td>\n",
       "      <td>575</td>\n",
       "      <td>1.1</td>\n",
       "    </tr>\n",
       "    <tr>\n",
       "      <th>6</th>\n",
       "      <td>XHNUiSKKGTEpSAlaVMFQ</td>\n",
       "      <td>401</td>\n",
       "      <td>0.8</td>\n",
       "    </tr>\n",
       "    <tr>\n",
       "      <th>7</th>\n",
       "      <td>SgIUDYUKnyWHVowUOqid</td>\n",
       "      <td>373</td>\n",
       "      <td>0.7</td>\n",
       "    </tr>\n",
       "    <tr>\n",
       "      <th>8</th>\n",
       "      <td>LwJZxKuWmvOhPsaCeRjG</td>\n",
       "      <td>285</td>\n",
       "      <td>0.6</td>\n",
       "    </tr>\n",
       "    <tr>\n",
       "      <th>9</th>\n",
       "      <td>zxoiLxhuSIFrCeTLQVWZ</td>\n",
       "      <td>270</td>\n",
       "      <td>0.5</td>\n",
       "    </tr>\n",
       "  </tbody>\n",
       "</table>\n",
       "</div>"
      ],
      "text/plain": [
       "           utm_campaign  target  t_percent\n",
       "0  LTuZkdKfxRGVceoWkVyg   19006       37.8\n",
       "1  LEoPHuyFvzoNfnzGgfcd    9348       18.6\n",
       "2        no advertising    7174       14.3\n",
       "3  gecBYcKZCPMcVYdSSzKP    4545        9.0\n",
       "4  FTjNLDyTrXaWYgZymFkV    2447        4.9\n",
       "5  sbJRYgVfvcnqKJNDDYIr     575        1.1\n",
       "6  XHNUiSKKGTEpSAlaVMFQ     401        0.8\n",
       "7  SgIUDYUKnyWHVowUOqid     373        0.7\n",
       "8  LwJZxKuWmvOhPsaCeRjG     285        0.6\n",
       "9  zxoiLxhuSIFrCeTLQVWZ     270        0.5"
      ]
     },
     "execution_count": 38,
     "metadata": {},
     "output_type": "execute_result"
    }
   ],
   "source": [
    "# Группировка рекламных кампаний по целевым событиям \n",
    "ta_camp = df_join.groupby(['utm_campaign'], as_index=False)[['target']].sum()\n",
    "ta_camp = ta_camp.sort_values(by=['target'], ascending=False).reset_index(drop=True)\n",
    "\n",
    "ta_camp['t_percent'] = round((ta_camp['target'] / df_join['target'].sum() * 100), 1)\n",
    "\n",
    "print(f'Топ-9 из {df_join.utm_campaign.describe()[1]} рекламных кампаний привлекли {round(sum(ta_camp.t_percent), 1)}% целевых событий')\n",
    "print(f'Без рекламной кампании (значение атрибута \"no advertising\") совершено {ta_camp[\"t_percent\"].loc[2]}% визитов')\n",
    "ta_camp[:10]"
   ]
  },
  {
   "cell_type": "code",
   "execution_count": 39,
   "id": "cc6b39ac",
   "metadata": {
    "hidden": true
   },
   "outputs": [
    {
     "name": "stdout",
     "output_type": "stream",
     "text": [
      "Топ-9 из 413 рекламных кампаний по количеству целевых событий - target:\n"
     ]
    },
    {
     "data": {
      "text/html": [
       "<div>\n",
       "<style scoped>\n",
       "    .dataframe tbody tr th:only-of-type {\n",
       "        vertical-align: middle;\n",
       "    }\n",
       "\n",
       "    .dataframe tbody tr th {\n",
       "        vertical-align: top;\n",
       "    }\n",
       "\n",
       "    .dataframe thead th {\n",
       "        text-align: right;\n",
       "    }\n",
       "</style>\n",
       "<table border=\"1\" class=\"dataframe\">\n",
       "  <thead>\n",
       "    <tr style=\"text-align: right;\">\n",
       "      <th></th>\n",
       "      <th>utm_campaign</th>\n",
       "      <th>quant</th>\n",
       "      <th>q_percent</th>\n",
       "      <th>target</th>\n",
       "      <th>t_percent</th>\n",
       "      <th>conversion_rate</th>\n",
       "    </tr>\n",
       "  </thead>\n",
       "  <tbody>\n",
       "    <tr>\n",
       "      <th>0</th>\n",
       "      <td>LTuZkdKfxRGVceoWkVyg</td>\n",
       "      <td>463481</td>\n",
       "      <td>24.9</td>\n",
       "      <td>19006</td>\n",
       "      <td>37.8</td>\n",
       "      <td>4.1</td>\n",
       "    </tr>\n",
       "    <tr>\n",
       "      <th>1</th>\n",
       "      <td>LEoPHuyFvzoNfnzGgfcd</td>\n",
       "      <td>324044</td>\n",
       "      <td>17.4</td>\n",
       "      <td>9348</td>\n",
       "      <td>18.6</td>\n",
       "      <td>2.9</td>\n",
       "    </tr>\n",
       "    <tr>\n",
       "      <th>2</th>\n",
       "      <td>no advertising</td>\n",
       "      <td>219603</td>\n",
       "      <td>11.8</td>\n",
       "      <td>7174</td>\n",
       "      <td>14.3</td>\n",
       "      <td>3.3</td>\n",
       "    </tr>\n",
       "    <tr>\n",
       "      <th>3</th>\n",
       "      <td>gecBYcKZCPMcVYdSSzKP</td>\n",
       "      <td>134042</td>\n",
       "      <td>7.2</td>\n",
       "      <td>4545</td>\n",
       "      <td>9.0</td>\n",
       "      <td>3.4</td>\n",
       "    </tr>\n",
       "    <tr>\n",
       "      <th>4</th>\n",
       "      <td>FTjNLDyTrXaWYgZymFkV</td>\n",
       "      <td>247360</td>\n",
       "      <td>13.3</td>\n",
       "      <td>2447</td>\n",
       "      <td>4.9</td>\n",
       "      <td>1.0</td>\n",
       "    </tr>\n",
       "    <tr>\n",
       "      <th>5</th>\n",
       "      <td>sbJRYgVfvcnqKJNDDYIr</td>\n",
       "      <td>20188</td>\n",
       "      <td>1.1</td>\n",
       "      <td>575</td>\n",
       "      <td>1.1</td>\n",
       "      <td>2.8</td>\n",
       "    </tr>\n",
       "    <tr>\n",
       "      <th>6</th>\n",
       "      <td>XHNUiSKKGTEpSAlaVMFQ</td>\n",
       "      <td>24524</td>\n",
       "      <td>1.3</td>\n",
       "      <td>401</td>\n",
       "      <td>0.8</td>\n",
       "      <td>1.6</td>\n",
       "    </tr>\n",
       "    <tr>\n",
       "      <th>7</th>\n",
       "      <td>SgIUDYUKnyWHVowUOqid</td>\n",
       "      <td>22841</td>\n",
       "      <td>1.2</td>\n",
       "      <td>373</td>\n",
       "      <td>0.7</td>\n",
       "      <td>1.6</td>\n",
       "    </tr>\n",
       "    <tr>\n",
       "      <th>8</th>\n",
       "      <td>LwJZxKuWmvOhPsaCeRjG</td>\n",
       "      <td>17615</td>\n",
       "      <td>0.9</td>\n",
       "      <td>285</td>\n",
       "      <td>0.6</td>\n",
       "      <td>1.6</td>\n",
       "    </tr>\n",
       "    <tr>\n",
       "      <th>9</th>\n",
       "      <td>zxoiLxhuSIFrCeTLQVWZ</td>\n",
       "      <td>12370</td>\n",
       "      <td>0.7</td>\n",
       "      <td>270</td>\n",
       "      <td>0.5</td>\n",
       "      <td>2.2</td>\n",
       "    </tr>\n",
       "  </tbody>\n",
       "</table>\n",
       "</div>"
      ],
      "text/plain": [
       "           utm_campaign   quant  q_percent  target  t_percent  conversion_rate\n",
       "0  LTuZkdKfxRGVceoWkVyg  463481       24.9   19006       37.8              4.1\n",
       "1  LEoPHuyFvzoNfnzGgfcd  324044       17.4    9348       18.6              2.9\n",
       "2        no advertising  219603       11.8    7174       14.3              3.3\n",
       "3  gecBYcKZCPMcVYdSSzKP  134042        7.2    4545        9.0              3.4\n",
       "4  FTjNLDyTrXaWYgZymFkV  247360       13.3    2447        4.9              1.0\n",
       "5  sbJRYgVfvcnqKJNDDYIr   20188        1.1     575        1.1              2.8\n",
       "6  XHNUiSKKGTEpSAlaVMFQ   24524        1.3     401        0.8              1.6\n",
       "7  SgIUDYUKnyWHVowUOqid   22841        1.2     373        0.7              1.6\n",
       "8  LwJZxKuWmvOhPsaCeRjG   17615        0.9     285        0.6              1.6\n",
       "9  zxoiLxhuSIFrCeTLQVWZ   12370        0.7     270        0.5              2.2"
      ]
     },
     "execution_count": 39,
     "metadata": {},
     "output_type": "execute_result"
    }
   ],
   "source": [
    "# Объединение сгруппированных датафреймов по количеству визитов и целевым событиям\n",
    "df_camp = pd.merge(left=vis_camp, right=ta_camp, on=['utm_campaign'], how='inner')\n",
    "\n",
    "df_camp['conversion_rate'] = round((df_camp['target'] / df_camp['quant'] * 100), 1)\n",
    "\n",
    "# Сортировка по количеству целевых событий\n",
    "df_camp = df_camp.sort_values(by=['target'], ascending=False).reset_index(drop=True)\n",
    "\n",
    "print(f'Топ-9 из {df_join.utm_campaign.describe()[1]} рекламных кампаний по количеству целевых событий - target:')\n",
    "df_camp[:10]"
   ]
  },
  {
   "cell_type": "code",
   "execution_count": 40,
   "id": "3ab6048e",
   "metadata": {
    "hidden": true
   },
   "outputs": [
    {
     "name": "stdout",
     "output_type": "stream",
     "text": [
      "Топ-9 из 413 рекламных кампаний по уровню CR:\n"
     ]
    },
    {
     "data": {
      "text/html": [
       "<div>\n",
       "<style scoped>\n",
       "    .dataframe tbody tr th:only-of-type {\n",
       "        vertical-align: middle;\n",
       "    }\n",
       "\n",
       "    .dataframe tbody tr th {\n",
       "        vertical-align: top;\n",
       "    }\n",
       "\n",
       "    .dataframe thead th {\n",
       "        text-align: right;\n",
       "    }\n",
       "</style>\n",
       "<table border=\"1\" class=\"dataframe\">\n",
       "  <thead>\n",
       "    <tr style=\"text-align: right;\">\n",
       "      <th></th>\n",
       "      <th>utm_campaign</th>\n",
       "      <th>quant</th>\n",
       "      <th>q_percent</th>\n",
       "      <th>target</th>\n",
       "      <th>t_percent</th>\n",
       "      <th>conversion_rate</th>\n",
       "    </tr>\n",
       "  </thead>\n",
       "  <tbody>\n",
       "    <tr>\n",
       "      <th>0</th>\n",
       "      <td>JkhCpeDGCtTwhwqWLywv</td>\n",
       "      <td>1</td>\n",
       "      <td>0.0</td>\n",
       "      <td>1</td>\n",
       "      <td>0.0</td>\n",
       "      <td>100.0</td>\n",
       "    </tr>\n",
       "    <tr>\n",
       "      <th>1</th>\n",
       "      <td>MHdHrBKQwbDaRalwnlJq</td>\n",
       "      <td>1</td>\n",
       "      <td>0.0</td>\n",
       "      <td>1</td>\n",
       "      <td>0.0</td>\n",
       "      <td>100.0</td>\n",
       "    </tr>\n",
       "    <tr>\n",
       "      <th>2</th>\n",
       "      <td>IRKNegNgOUQLwudzMElF</td>\n",
       "      <td>8</td>\n",
       "      <td>0.0</td>\n",
       "      <td>7</td>\n",
       "      <td>0.0</td>\n",
       "      <td>87.5</td>\n",
       "    </tr>\n",
       "    <tr>\n",
       "      <th>3</th>\n",
       "      <td>SbYAsCvXapXBOIxEKBZs</td>\n",
       "      <td>2</td>\n",
       "      <td>0.0</td>\n",
       "      <td>1</td>\n",
       "      <td>0.0</td>\n",
       "      <td>50.0</td>\n",
       "    </tr>\n",
       "    <tr>\n",
       "      <th>4</th>\n",
       "      <td>lndNIerCYECRQvBTyTye</td>\n",
       "      <td>84</td>\n",
       "      <td>0.0</td>\n",
       "      <td>23</td>\n",
       "      <td>0.0</td>\n",
       "      <td>27.4</td>\n",
       "    </tr>\n",
       "    <tr>\n",
       "      <th>5</th>\n",
       "      <td>KAcUKGokhYlMktQhYKHx</td>\n",
       "      <td>4</td>\n",
       "      <td>0.0</td>\n",
       "      <td>1</td>\n",
       "      <td>0.0</td>\n",
       "      <td>25.0</td>\n",
       "    </tr>\n",
       "    <tr>\n",
       "      <th>6</th>\n",
       "      <td>vZqcBrFwxYPoYzJyhYGI</td>\n",
       "      <td>9</td>\n",
       "      <td>0.0</td>\n",
       "      <td>2</td>\n",
       "      <td>0.0</td>\n",
       "      <td>22.2</td>\n",
       "    </tr>\n",
       "    <tr>\n",
       "      <th>7</th>\n",
       "      <td>TOSjvKcurFlcKJijjpYP</td>\n",
       "      <td>50</td>\n",
       "      <td>0.0</td>\n",
       "      <td>10</td>\n",
       "      <td>0.0</td>\n",
       "      <td>20.0</td>\n",
       "    </tr>\n",
       "    <tr>\n",
       "      <th>8</th>\n",
       "      <td>DlOlXJaBJgWQVhgtCeWo</td>\n",
       "      <td>12</td>\n",
       "      <td>0.0</td>\n",
       "      <td>2</td>\n",
       "      <td>0.0</td>\n",
       "      <td>16.7</td>\n",
       "    </tr>\n",
       "    <tr>\n",
       "      <th>9</th>\n",
       "      <td>emlBaVkgLVRqbEVOSSXt</td>\n",
       "      <td>963</td>\n",
       "      <td>0.1</td>\n",
       "      <td>145</td>\n",
       "      <td>0.3</td>\n",
       "      <td>15.1</td>\n",
       "    </tr>\n",
       "  </tbody>\n",
       "</table>\n",
       "</div>"
      ],
      "text/plain": [
       "           utm_campaign  quant  q_percent  target  t_percent  conversion_rate\n",
       "0  JkhCpeDGCtTwhwqWLywv      1        0.0       1        0.0            100.0\n",
       "1  MHdHrBKQwbDaRalwnlJq      1        0.0       1        0.0            100.0\n",
       "2  IRKNegNgOUQLwudzMElF      8        0.0       7        0.0             87.5\n",
       "3  SbYAsCvXapXBOIxEKBZs      2        0.0       1        0.0             50.0\n",
       "4  lndNIerCYECRQvBTyTye     84        0.0      23        0.0             27.4\n",
       "5  KAcUKGokhYlMktQhYKHx      4        0.0       1        0.0             25.0\n",
       "6  vZqcBrFwxYPoYzJyhYGI      9        0.0       2        0.0             22.2\n",
       "7  TOSjvKcurFlcKJijjpYP     50        0.0      10        0.0             20.0\n",
       "8  DlOlXJaBJgWQVhgtCeWo     12        0.0       2        0.0             16.7\n",
       "9  emlBaVkgLVRqbEVOSSXt    963        0.1     145        0.3             15.1"
      ]
     },
     "execution_count": 40,
     "metadata": {},
     "output_type": "execute_result"
    }
   ],
   "source": [
    "# Сортировка по conversion_rate\n",
    "df_camp_cr = df_camp.sort_values(by=['conversion_rate'], ascending=False).reset_index(drop=True)\n",
    "\n",
    "print(f'Топ-9 из {df_join.utm_campaign.describe()[1]} рекламных кампаний по уровню CR:')\n",
    "df_camp_cr[:10]"
   ]
  },
  {
   "cell_type": "code",
   "execution_count": 41,
   "id": "c25770cd",
   "metadata": {
    "hidden": true
   },
   "outputs": [
    {
     "data": {
      "image/png": "[encoded data removed]",
      "text/plain": [
       "<Figure size 2000x1000 with 2 Axes>"
      ]
     },
     "metadata": {},
     "output_type": "display_data"
    }
   ],
   "source": [
    "fig, axs = plt.subplots(nrows= 2 , ncols= 1, sharex='row', figsize=(20, 10))\n",
    "\n",
    "axs[0].bar(df_camp['utm_campaign'][:6], df_camp['target'][:6], color=['violet'])\n",
    "axs[0].set_title('Топ-5 рекламных кампаний по количеству целевых событий')\n",
    "axs[0].set_ylabel('Кол-во целевых событий')\n",
    "\n",
    "axs[1].bar(df_camp_cr['utm_campaign'][:6], df_camp_cr['conversion_rate'][:6], color=['indigo'])\n",
    "axs[1].set_title('Топ-5 рекламных кампаний по уровню CR')\n",
    "axs[1].set_ylabel('Conversion Rate, %')\n",
    "\n",
    "plt.show()"
   ]
  },
  {
   "cell_type": "markdown",
   "id": "b02383c5",
   "metadata": {
    "heading_collapsed": true,
    "jp-MarkdownHeadingCollapsed": true,
    "tags": []
   },
   "source": [
    "### 6. Тип устройства"
   ]
  },
  {
   "cell_type": "code",
   "execution_count": 42,
   "id": "82308050",
   "metadata": {
    "hidden": true
   },
   "outputs": [
    {
     "data": {
      "text/html": [
       "<div>\n",
       "<style scoped>\n",
       "    .dataframe tbody tr th:only-of-type {\n",
       "        vertical-align: middle;\n",
       "    }\n",
       "\n",
       "    .dataframe tbody tr th {\n",
       "        vertical-align: top;\n",
       "    }\n",
       "\n",
       "    .dataframe thead th {\n",
       "        text-align: right;\n",
       "    }\n",
       "</style>\n",
       "<table border=\"1\" class=\"dataframe\">\n",
       "  <thead>\n",
       "    <tr style=\"text-align: right;\">\n",
       "      <th></th>\n",
       "      <th>device_category</th>\n",
       "      <th>quant</th>\n",
       "      <th>percent</th>\n",
       "    </tr>\n",
       "  </thead>\n",
       "  <tbody>\n",
       "    <tr>\n",
       "      <th>0</th>\n",
       "      <td>mobile</td>\n",
       "      <td>1474871</td>\n",
       "      <td>79.3</td>\n",
       "    </tr>\n",
       "    <tr>\n",
       "      <th>1</th>\n",
       "      <td>desktop</td>\n",
       "      <td>366863</td>\n",
       "      <td>19.7</td>\n",
       "    </tr>\n",
       "    <tr>\n",
       "      <th>2</th>\n",
       "      <td>tablet</td>\n",
       "      <td>18308</td>\n",
       "      <td>1.0</td>\n",
       "    </tr>\n",
       "  </tbody>\n",
       "</table>\n",
       "</div>"
      ],
      "text/plain": [
       "  device_category    quant  percent\n",
       "0          mobile  1474871     79.3\n",
       "1         desktop   366863     19.7\n",
       "2          tablet    18308      1.0"
      ]
     },
     "execution_count": 42,
     "metadata": {},
     "output_type": "execute_result"
    }
   ],
   "source": [
    "# Группировка типов устройств по количеству визитов \n",
    "vis_device = df_join.groupby(['device_category'], as_index=False)[['session_id']].count()\n",
    "vis_device = vis_device.rename(columns={'session_id': 'quant'})\n",
    "\n",
    "vis_device = vis_device.sort_values(by=['quant'], ascending=False).reset_index(drop=True)\n",
    "vis_device['percent'] = round((vis_device['quant'] / df_join['session_id'].count() * 100), 1)\n",
    "vis_device"
   ]
  },
  {
   "cell_type": "code",
   "execution_count": 43,
   "id": "1b229b4e",
   "metadata": {
    "hidden": true
   },
   "outputs": [
    {
     "data": {
      "text/html": [
       "<div>\n",
       "<style scoped>\n",
       "    .dataframe tbody tr th:only-of-type {\n",
       "        vertical-align: middle;\n",
       "    }\n",
       "\n",
       "    .dataframe tbody tr th {\n",
       "        vertical-align: top;\n",
       "    }\n",
       "\n",
       "    .dataframe thead th {\n",
       "        text-align: right;\n",
       "    }\n",
       "</style>\n",
       "<table border=\"1\" class=\"dataframe\">\n",
       "  <thead>\n",
       "    <tr style=\"text-align: right;\">\n",
       "      <th></th>\n",
       "      <th>device_category</th>\n",
       "      <th>target</th>\n",
       "      <th>percent</th>\n",
       "      <th>conversion_rate</th>\n",
       "    </tr>\n",
       "  </thead>\n",
       "  <tbody>\n",
       "    <tr>\n",
       "      <th>0</th>\n",
       "      <td>mobile</td>\n",
       "      <td>38379</td>\n",
       "      <td>76.3</td>\n",
       "      <td>2.6</td>\n",
       "    </tr>\n",
       "    <tr>\n",
       "      <th>1</th>\n",
       "      <td>desktop</td>\n",
       "      <td>11513</td>\n",
       "      <td>22.9</td>\n",
       "      <td>3.1</td>\n",
       "    </tr>\n",
       "    <tr>\n",
       "      <th>2</th>\n",
       "      <td>tablet</td>\n",
       "      <td>422</td>\n",
       "      <td>0.8</td>\n",
       "      <td>2.3</td>\n",
       "    </tr>\n",
       "  </tbody>\n",
       "</table>\n",
       "</div>"
      ],
      "text/plain": [
       "  device_category  target  percent  conversion_rate\n",
       "0          mobile   38379     76.3              2.6\n",
       "1         desktop   11513     22.9              3.1\n",
       "2          tablet     422      0.8              2.3"
      ]
     },
     "execution_count": 43,
     "metadata": {},
     "output_type": "execute_result"
    }
   ],
   "source": [
    "# Группировка типов устройств по количеству целевых действий\n",
    "ta_device = df_join.groupby(['device_category'], as_index=False)[['target']].sum()\n",
    "ta_device = ta_device.sort_values(by=['target'], ascending=False).reset_index(drop=True)\n",
    "\n",
    "ta_device['percent'] = round((ta_device['target'] / df_join['target'].sum() * 100), 1)\n",
    "ta_device['conversion_rate'] = round((ta_device['target'] / vis_device['quant'] * 100), 1)\n",
    "ta_device"
   ]
  },
  {
   "cell_type": "markdown",
   "id": "b54dba25",
   "metadata": {
    "hidden": true
   },
   "source": [
    "**Вывод:** по количеству целевого трафика доминирует mobile, а по уровню CR - desktop."
   ]
  },
  {
   "cell_type": "code",
   "execution_count": 44,
   "id": "c81d6eb9",
   "metadata": {
    "hidden": true
   },
   "outputs": [
    {
     "data": {
      "image/png": "[encoded data removed]",
      "text/plain": [
       "<Figure size 720x360 with 2 Axes>"
      ]
     },
     "metadata": {},
     "output_type": "display_data"
    }
   ],
   "source": [
    "colors = {'mobile': 'c', 'desktop': 'lime', 'tablet': 'deeppink'}\n",
    "fig, axes = plt.subplots(1, 2, figsize=(6,3),dpi=120)\n",
    "plt.suptitle('Тип устройства')\n",
    "explode = (0.1, 0.1, 0.1)\n",
    "\n",
    "for ax, df, title in zip(axes, (vis_device, ta_device), ('Доля визитов', 'Доля целевых событий')):\n",
    "    ax.pie(df.percent, labels=df.device_category, autopct = '%0.1f%%', explode=explode, colors=[colors[c] for c in df.device_category])\n",
    "    ax.set_title(title)"
   ]
  },
  {
   "cell_type": "markdown",
   "id": "04cb79c9",
   "metadata": {
    "heading_collapsed": true,
    "jp-MarkdownHeadingCollapsed": true,
    "tags": []
   },
   "source": [
    "### 7. Тип привлечения"
   ]
  },
  {
   "cell_type": "code",
   "execution_count": 45,
   "id": "82bb957b",
   "metadata": {
    "hidden": true
   },
   "outputs": [
    {
     "name": "stdout",
     "output_type": "stream",
     "text": [
      "Топ-8 из 56 типов привлечения по количеству визитов.\n"
     ]
    },
    {
     "data": {
      "text/html": [
       "<div>\n",
       "<style scoped>\n",
       "    .dataframe tbody tr th:only-of-type {\n",
       "        vertical-align: middle;\n",
       "    }\n",
       "\n",
       "    .dataframe tbody tr th {\n",
       "        vertical-align: top;\n",
       "    }\n",
       "\n",
       "    .dataframe thead th {\n",
       "        text-align: right;\n",
       "    }\n",
       "</style>\n",
       "<table border=\"1\" class=\"dataframe\">\n",
       "  <thead>\n",
       "    <tr style=\"text-align: right;\">\n",
       "      <th></th>\n",
       "      <th>utm_medium</th>\n",
       "      <th>quant</th>\n",
       "      <th>q_percent</th>\n",
       "    </tr>\n",
       "  </thead>\n",
       "  <tbody>\n",
       "    <tr>\n",
       "      <th>0</th>\n",
       "      <td>banner</td>\n",
       "      <td>552272</td>\n",
       "      <td>29.7</td>\n",
       "    </tr>\n",
       "    <tr>\n",
       "      <th>1</th>\n",
       "      <td>cpc</td>\n",
       "      <td>434794</td>\n",
       "      <td>23.4</td>\n",
       "    </tr>\n",
       "    <tr>\n",
       "      <th>2</th>\n",
       "      <td>(none)</td>\n",
       "      <td>300575</td>\n",
       "      <td>16.2</td>\n",
       "    </tr>\n",
       "    <tr>\n",
       "      <th>3</th>\n",
       "      <td>cpm</td>\n",
       "      <td>242083</td>\n",
       "      <td>13.0</td>\n",
       "    </tr>\n",
       "    <tr>\n",
       "      <th>4</th>\n",
       "      <td>referral</td>\n",
       "      <td>152050</td>\n",
       "      <td>8.2</td>\n",
       "    </tr>\n",
       "    <tr>\n",
       "      <th>5</th>\n",
       "      <td>organic</td>\n",
       "      <td>63034</td>\n",
       "      <td>3.4</td>\n",
       "    </tr>\n",
       "    <tr>\n",
       "      <th>6</th>\n",
       "      <td>email</td>\n",
       "      <td>29240</td>\n",
       "      <td>1.6</td>\n",
       "    </tr>\n",
       "    <tr>\n",
       "      <th>7</th>\n",
       "      <td>push</td>\n",
       "      <td>28035</td>\n",
       "      <td>1.5</td>\n",
       "    </tr>\n",
       "  </tbody>\n",
       "</table>\n",
       "</div>"
      ],
      "text/plain": [
       "  utm_medium   quant  q_percent\n",
       "0     banner  552272       29.7\n",
       "1        cpc  434794       23.4\n",
       "2     (none)  300575       16.2\n",
       "3        cpm  242083       13.0\n",
       "4   referral  152050        8.2\n",
       "5    organic   63034        3.4\n",
       "6      email   29240        1.6\n",
       "7       push   28035        1.5"
      ]
     },
     "execution_count": 45,
     "metadata": {},
     "output_type": "execute_result"
    }
   ],
   "source": [
    "# Группировка типов привлечения по количеству визитов\n",
    "vis_medium = df_join.groupby(['utm_medium'], as_index=False)[['session_id']].count()\n",
    "vis_medium = vis_medium.rename(columns={'session_id': 'quant'})\n",
    "vis_medium = vis_medium.sort_values(by=['quant'], ascending=False).reset_index(drop=True)\n",
    "\n",
    "vis_medium['q_percent'] = round((vis_medium['quant'] / df_join['session_id'].count() * 100), 1)\n",
    "print(f'Топ-8 из {df_join.utm_medium.describe()[1]} типов привлечения по количеству визитов.')\n",
    "vis_medium[:8]"
   ]
  },
  {
   "cell_type": "code",
   "execution_count": 46,
   "id": "2c3b9901",
   "metadata": {
    "hidden": true
   },
   "outputs": [
    {
     "name": "stdout",
     "output_type": "stream",
     "text": [
      "Топ-8 из 56 типов привлечения по количеству целевых событий - target:\n"
     ]
    },
    {
     "data": {
      "text/html": [
       "<div>\n",
       "<style scoped>\n",
       "    .dataframe tbody tr th:only-of-type {\n",
       "        vertical-align: middle;\n",
       "    }\n",
       "\n",
       "    .dataframe tbody tr th {\n",
       "        vertical-align: top;\n",
       "    }\n",
       "\n",
       "    .dataframe thead th {\n",
       "        text-align: right;\n",
       "    }\n",
       "</style>\n",
       "<table border=\"1\" class=\"dataframe\">\n",
       "  <thead>\n",
       "    <tr style=\"text-align: right;\">\n",
       "      <th></th>\n",
       "      <th>utm_medium</th>\n",
       "      <th>target</th>\n",
       "      <th>t_percent</th>\n",
       "    </tr>\n",
       "  </thead>\n",
       "  <tbody>\n",
       "    <tr>\n",
       "      <th>0</th>\n",
       "      <td>banner</td>\n",
       "      <td>15107</td>\n",
       "      <td>30.0</td>\n",
       "    </tr>\n",
       "    <tr>\n",
       "      <th>1</th>\n",
       "      <td>(none)</td>\n",
       "      <td>10531</td>\n",
       "      <td>20.9</td>\n",
       "    </tr>\n",
       "    <tr>\n",
       "      <th>2</th>\n",
       "      <td>cpc</td>\n",
       "      <td>9529</td>\n",
       "      <td>18.9</td>\n",
       "    </tr>\n",
       "    <tr>\n",
       "      <th>3</th>\n",
       "      <td>referral</td>\n",
       "      <td>8181</td>\n",
       "      <td>16.3</td>\n",
       "    </tr>\n",
       "    <tr>\n",
       "      <th>4</th>\n",
       "      <td>cpm</td>\n",
       "      <td>2519</td>\n",
       "      <td>5.0</td>\n",
       "    </tr>\n",
       "    <tr>\n",
       "      <th>5</th>\n",
       "      <td>organic</td>\n",
       "      <td>2100</td>\n",
       "      <td>4.2</td>\n",
       "    </tr>\n",
       "    <tr>\n",
       "      <th>6</th>\n",
       "      <td>push</td>\n",
       "      <td>840</td>\n",
       "      <td>1.7</td>\n",
       "    </tr>\n",
       "    <tr>\n",
       "      <th>7</th>\n",
       "      <td>email</td>\n",
       "      <td>401</td>\n",
       "      <td>0.8</td>\n",
       "    </tr>\n",
       "  </tbody>\n",
       "</table>\n",
       "</div>"
      ],
      "text/plain": [
       "  utm_medium  target  t_percent\n",
       "0     banner   15107       30.0\n",
       "1     (none)   10531       20.9\n",
       "2        cpc    9529       18.9\n",
       "3   referral    8181       16.3\n",
       "4        cpm    2519        5.0\n",
       "5    organic    2100        4.2\n",
       "6       push     840        1.7\n",
       "7      email     401        0.8"
      ]
     },
     "execution_count": 46,
     "metadata": {},
     "output_type": "execute_result"
    }
   ],
   "source": [
    "# Группировка типов привлечения по количеству целевых событий\n",
    "ta_medium = df_join.groupby(['utm_medium'], as_index=False)[['target']].sum()\n",
    "ta_medium = ta_medium.sort_values(by=['target'], ascending=False).reset_index(drop=True)\n",
    "\n",
    "ta_medium['t_percent'] = round((ta_medium['target'] / df_join['target'].sum() * 100), 1)\n",
    "print(f'Топ-8 из {df_join.utm_medium.describe()[1]} типов привлечения по количеству целевых событий - target:')\n",
    "ta_medium[:8]"
   ]
  },
  {
   "cell_type": "code",
   "execution_count": 47,
   "id": "69855452",
   "metadata": {
    "hidden": true
   },
   "outputs": [
    {
     "data": {
      "text/html": [
       "<div>\n",
       "<style scoped>\n",
       "    .dataframe tbody tr th:only-of-type {\n",
       "        vertical-align: middle;\n",
       "    }\n",
       "\n",
       "    .dataframe tbody tr th {\n",
       "        vertical-align: top;\n",
       "    }\n",
       "\n",
       "    .dataframe thead th {\n",
       "        text-align: right;\n",
       "    }\n",
       "</style>\n",
       "<table border=\"1\" class=\"dataframe\">\n",
       "  <thead>\n",
       "    <tr style=\"text-align: right;\">\n",
       "      <th></th>\n",
       "      <th>utm_medium</th>\n",
       "      <th>quant</th>\n",
       "      <th>q_percent</th>\n",
       "      <th>target</th>\n",
       "      <th>t_percent</th>\n",
       "      <th>conversion_rate</th>\n",
       "    </tr>\n",
       "  </thead>\n",
       "  <tbody>\n",
       "    <tr>\n",
       "      <th>0</th>\n",
       "      <td>banner</td>\n",
       "      <td>552272</td>\n",
       "      <td>29.7</td>\n",
       "      <td>15107</td>\n",
       "      <td>30.0</td>\n",
       "      <td>2.7</td>\n",
       "    </tr>\n",
       "    <tr>\n",
       "      <th>1</th>\n",
       "      <td>(none)</td>\n",
       "      <td>300575</td>\n",
       "      <td>16.2</td>\n",
       "      <td>10531</td>\n",
       "      <td>20.9</td>\n",
       "      <td>3.5</td>\n",
       "    </tr>\n",
       "    <tr>\n",
       "      <th>2</th>\n",
       "      <td>cpc</td>\n",
       "      <td>434794</td>\n",
       "      <td>23.4</td>\n",
       "      <td>9529</td>\n",
       "      <td>18.9</td>\n",
       "      <td>2.2</td>\n",
       "    </tr>\n",
       "    <tr>\n",
       "      <th>3</th>\n",
       "      <td>referral</td>\n",
       "      <td>152050</td>\n",
       "      <td>8.2</td>\n",
       "      <td>8181</td>\n",
       "      <td>16.3</td>\n",
       "      <td>5.4</td>\n",
       "    </tr>\n",
       "    <tr>\n",
       "      <th>4</th>\n",
       "      <td>cpm</td>\n",
       "      <td>242083</td>\n",
       "      <td>13.0</td>\n",
       "      <td>2519</td>\n",
       "      <td>5.0</td>\n",
       "      <td>1.0</td>\n",
       "    </tr>\n",
       "    <tr>\n",
       "      <th>5</th>\n",
       "      <td>organic</td>\n",
       "      <td>63034</td>\n",
       "      <td>3.4</td>\n",
       "      <td>2100</td>\n",
       "      <td>4.2</td>\n",
       "      <td>3.3</td>\n",
       "    </tr>\n",
       "    <tr>\n",
       "      <th>6</th>\n",
       "      <td>push</td>\n",
       "      <td>28035</td>\n",
       "      <td>1.5</td>\n",
       "      <td>840</td>\n",
       "      <td>1.7</td>\n",
       "      <td>3.0</td>\n",
       "    </tr>\n",
       "    <tr>\n",
       "      <th>7</th>\n",
       "      <td>email</td>\n",
       "      <td>29240</td>\n",
       "      <td>1.6</td>\n",
       "      <td>401</td>\n",
       "      <td>0.8</td>\n",
       "      <td>1.4</td>\n",
       "    </tr>\n",
       "  </tbody>\n",
       "</table>\n",
       "</div>"
      ],
      "text/plain": [
       "  utm_medium   quant  q_percent  target  t_percent  conversion_rate\n",
       "0     banner  552272       29.7   15107       30.0              2.7\n",
       "1     (none)  300575       16.2   10531       20.9              3.5\n",
       "2        cpc  434794       23.4    9529       18.9              2.2\n",
       "3   referral  152050        8.2    8181       16.3              5.4\n",
       "4        cpm  242083       13.0    2519        5.0              1.0\n",
       "5    organic   63034        3.4    2100        4.2              3.3\n",
       "6       push   28035        1.5     840        1.7              3.0\n",
       "7      email   29240        1.6     401        0.8              1.4"
      ]
     },
     "execution_count": 47,
     "metadata": {},
     "output_type": "execute_result"
    }
   ],
   "source": [
    "# Объединение сгруппированных датафреймов по количеству визитов и целевым событиям\n",
    "df_medium = pd.merge(left=vis_medium, right=ta_medium, on=['utm_medium'], how='inner')\n",
    "\n",
    "df_medium['conversion_rate'] = round((df_medium['target'] / df_medium['quant'] * 100), 1)\n",
    "\n",
    "# Сортировка по количеству целевых событий\n",
    "df_medium = df_medium.sort_values(by=['target'], ascending=False).reset_index(drop=True)\n",
    "df_medium[:8]"
   ]
  },
  {
   "cell_type": "code",
   "execution_count": 48,
   "id": "908eec67",
   "metadata": {
    "hidden": true
   },
   "outputs": [
    {
     "name": "stdout",
     "output_type": "stream",
     "text": [
      "Органический трафик привлек 27.8% визитов и 41.4% целевых событий\n",
      "CR органического трафика в целевые события - 4.0%\n"
     ]
    }
   ],
   "source": [
    "print(f'Органический трафик привлек {round(sum(df_medium[\"q_percent\"].loc[[1,3,5]]),1)}% визитов и {round(sum(df_medium[\"t_percent\"].loc[[1,3,5]]),1)}% целевых событий')\n",
    "print(f'CR органического трафика в целевые события - {round(sum(df_medium[\"target\"].loc[[1,3,5]])/sum(df_medium[\"quant\"].loc[[1,3,5]])*100,1)}%')"
   ]
  },
  {
   "cell_type": "code",
   "execution_count": 49,
   "id": "984c9940",
   "metadata": {
    "hidden": true
   },
   "outputs": [
    {
     "name": "stdout",
     "output_type": "stream",
     "text": [
      "Топ-8 из 56 типов привлечений по уровню CR:\n"
     ]
    },
    {
     "data": {
      "text/html": [
       "<div>\n",
       "<style scoped>\n",
       "    .dataframe tbody tr th:only-of-type {\n",
       "        vertical-align: middle;\n",
       "    }\n",
       "\n",
       "    .dataframe tbody tr th {\n",
       "        vertical-align: top;\n",
       "    }\n",
       "\n",
       "    .dataframe thead th {\n",
       "        text-align: right;\n",
       "    }\n",
       "</style>\n",
       "<table border=\"1\" class=\"dataframe\">\n",
       "  <thead>\n",
       "    <tr style=\"text-align: right;\">\n",
       "      <th></th>\n",
       "      <th>utm_medium</th>\n",
       "      <th>quant</th>\n",
       "      <th>q_percent</th>\n",
       "      <th>target</th>\n",
       "      <th>t_percent</th>\n",
       "      <th>conversion_rate</th>\n",
       "    </tr>\n",
       "  </thead>\n",
       "  <tbody>\n",
       "    <tr>\n",
       "      <th>0</th>\n",
       "      <td>dom_click</td>\n",
       "      <td>1</td>\n",
       "      <td>0.0</td>\n",
       "      <td>1</td>\n",
       "      <td>0.0</td>\n",
       "      <td>100.0</td>\n",
       "    </tr>\n",
       "    <tr>\n",
       "      <th>1</th>\n",
       "      <td>link</td>\n",
       "      <td>57</td>\n",
       "      <td>0.0</td>\n",
       "      <td>17</td>\n",
       "      <td>0.0</td>\n",
       "      <td>29.8</td>\n",
       "    </tr>\n",
       "    <tr>\n",
       "      <th>2</th>\n",
       "      <td>landing</td>\n",
       "      <td>134</td>\n",
       "      <td>0.0</td>\n",
       "      <td>19</td>\n",
       "      <td>0.0</td>\n",
       "      <td>14.2</td>\n",
       "    </tr>\n",
       "    <tr>\n",
       "      <th>3</th>\n",
       "      <td>medium</td>\n",
       "      <td>8</td>\n",
       "      <td>0.0</td>\n",
       "      <td>1</td>\n",
       "      <td>0.0</td>\n",
       "      <td>12.5</td>\n",
       "    </tr>\n",
       "    <tr>\n",
       "      <th>4</th>\n",
       "      <td>social</td>\n",
       "      <td>9</td>\n",
       "      <td>0.0</td>\n",
       "      <td>1</td>\n",
       "      <td>0.0</td>\n",
       "      <td>11.1</td>\n",
       "    </tr>\n",
       "    <tr>\n",
       "      <th>5</th>\n",
       "      <td>CPM</td>\n",
       "      <td>40</td>\n",
       "      <td>0.0</td>\n",
       "      <td>3</td>\n",
       "      <td>0.0</td>\n",
       "      <td>7.5</td>\n",
       "    </tr>\n",
       "    <tr>\n",
       "      <th>6</th>\n",
       "      <td>sms</td>\n",
       "      <td>239</td>\n",
       "      <td>0.0</td>\n",
       "      <td>16</td>\n",
       "      <td>0.0</td>\n",
       "      <td>6.7</td>\n",
       "    </tr>\n",
       "    <tr>\n",
       "      <th>7</th>\n",
       "      <td>(not set)</td>\n",
       "      <td>480</td>\n",
       "      <td>0.0</td>\n",
       "      <td>28</td>\n",
       "      <td>0.1</td>\n",
       "      <td>5.8</td>\n",
       "    </tr>\n",
       "  </tbody>\n",
       "</table>\n",
       "</div>"
      ],
      "text/plain": [
       "  utm_medium  quant  q_percent  target  t_percent  conversion_rate\n",
       "0  dom_click      1        0.0       1        0.0            100.0\n",
       "1       link     57        0.0      17        0.0             29.8\n",
       "2    landing    134        0.0      19        0.0             14.2\n",
       "3     medium      8        0.0       1        0.0             12.5\n",
       "4     social      9        0.0       1        0.0             11.1\n",
       "5        CPM     40        0.0       3        0.0              7.5\n",
       "6        sms    239        0.0      16        0.0              6.7\n",
       "7  (not set)    480        0.0      28        0.1              5.8"
      ]
     },
     "execution_count": 49,
     "metadata": {},
     "output_type": "execute_result"
    }
   ],
   "source": [
    "# Сортировка по conversion_rate\n",
    "df_medium_cr = df_medium.sort_values(by=['conversion_rate'], ascending=False).reset_index(drop=True)\n",
    "\n",
    "print(f'Топ-8 из {df_join.utm_medium.describe()[1]} типов привлечений по уровню CR:')\n",
    "df_medium_cr[:8]"
   ]
  },
  {
   "cell_type": "code",
   "execution_count": 50,
   "id": "54a83b1b",
   "metadata": {
    "hidden": true
   },
   "outputs": [
    {
     "data": {
      "image/png": "[encoded data removed]",
      "text/plain": [
       "<Figure size 2000x1000 with 2 Axes>"
      ]
     },
     "metadata": {},
     "output_type": "display_data"
    }
   ],
   "source": [
    "fig, axs = plt.subplots(nrows= 2 , ncols= 1, sharex='row', figsize=(20, 10))\n",
    "\n",
    "axs[0].bar(df_medium['utm_medium'][:8], df_medium['target'][:8], color=['greenyellow'])\n",
    "axs[0].set_title('Топ-8 типов привлечений по количеству целевых событий')\n",
    "axs[0].set_ylabel('Кол-во целевых событий')\n",
    "\n",
    "axs[1].bar(df_medium_cr['utm_medium'][:8], df_medium_cr['conversion_rate'][:8], color=['olive'])\n",
    "axs[1].set_title('Топ-8 типов привлечений по уровню CR')\n",
    "axs[1].set_ylabel('Conversion Rate, %')\n",
    "\n",
    "plt.show()"
   ]
  },
  {
   "cell_type": "code",
   "execution_count": 51,
   "id": "9b2a73fe",
   "metadata": {
    "hidden": true
   },
   "outputs": [
    {
     "data": {
      "text/html": [
       "<div>\n",
       "<style scoped>\n",
       "    .dataframe tbody tr th:only-of-type {\n",
       "        vertical-align: middle;\n",
       "    }\n",
       "\n",
       "    .dataframe tbody tr th {\n",
       "        vertical-align: top;\n",
       "    }\n",
       "\n",
       "    .dataframe thead th {\n",
       "        text-align: right;\n",
       "    }\n",
       "</style>\n",
       "<table border=\"1\" class=\"dataframe\">\n",
       "  <thead>\n",
       "    <tr style=\"text-align: right;\">\n",
       "      <th></th>\n",
       "      <th>traffic_way</th>\n",
       "      <th>quant</th>\n",
       "      <th>percent</th>\n",
       "    </tr>\n",
       "  </thead>\n",
       "  <tbody>\n",
       "    <tr>\n",
       "      <th>0</th>\n",
       "      <td>paid</td>\n",
       "      <td>1344383</td>\n",
       "      <td>72.3</td>\n",
       "    </tr>\n",
       "    <tr>\n",
       "      <th>1</th>\n",
       "      <td>free</td>\n",
       "      <td>515659</td>\n",
       "      <td>27.7</td>\n",
       "    </tr>\n",
       "  </tbody>\n",
       "</table>\n",
       "</div>"
      ],
      "text/plain": [
       "  traffic_way    quant  percent\n",
       "0        paid  1344383     72.3\n",
       "1        free   515659     27.7"
      ]
     },
     "execution_count": 51,
     "metadata": {},
     "output_type": "execute_result"
    }
   ],
   "source": [
    "# Группировка типов привлечения: органический/неорганический трафик по количеству визитов \n",
    "vis_traffic = df_join.groupby(['traffic_way'], as_index=False)[['session_id']].count()\n",
    "vis_traffic = vis_traffic.rename(columns={'session_id': 'quant'})\n",
    "vis_traffic = vis_traffic.sort_values(by=['quant'], ascending=False).reset_index(drop=True)\n",
    "\n",
    "vis_traffic['percent'] = round((vis_traffic['quant'] / df_join['session_id'].count() * 100), 1)\n",
    "vis_traffic"
   ]
  },
  {
   "cell_type": "code",
   "execution_count": 52,
   "id": "a96fb3aa",
   "metadata": {
    "hidden": true
   },
   "outputs": [
    {
     "data": {
      "text/html": [
       "<div>\n",
       "<style scoped>\n",
       "    .dataframe tbody tr th:only-of-type {\n",
       "        vertical-align: middle;\n",
       "    }\n",
       "\n",
       "    .dataframe tbody tr th {\n",
       "        vertical-align: top;\n",
       "    }\n",
       "\n",
       "    .dataframe thead th {\n",
       "        text-align: right;\n",
       "    }\n",
       "</style>\n",
       "<table border=\"1\" class=\"dataframe\">\n",
       "  <thead>\n",
       "    <tr style=\"text-align: right;\">\n",
       "      <th></th>\n",
       "      <th>traffic_way</th>\n",
       "      <th>target</th>\n",
       "      <th>percent</th>\n",
       "    </tr>\n",
       "  </thead>\n",
       "  <tbody>\n",
       "    <tr>\n",
       "      <th>0</th>\n",
       "      <td>paid</td>\n",
       "      <td>29502</td>\n",
       "      <td>58.6</td>\n",
       "    </tr>\n",
       "    <tr>\n",
       "      <th>1</th>\n",
       "      <td>free</td>\n",
       "      <td>20812</td>\n",
       "      <td>41.4</td>\n",
       "    </tr>\n",
       "  </tbody>\n",
       "</table>\n",
       "</div>"
      ],
      "text/plain": [
       "  traffic_way  target  percent\n",
       "0        paid   29502     58.6\n",
       "1        free   20812     41.4"
      ]
     },
     "execution_count": 52,
     "metadata": {},
     "output_type": "execute_result"
    }
   ],
   "source": [
    "# Группировка типов привлечения: органический/неорганический трафик по количеству целевых действий\n",
    "ta_traffic = df_join.groupby(['traffic_way'], as_index=False)[['target']].sum()\n",
    "ta_traffic = ta_traffic.sort_values(by=['target'], ascending=False).reset_index(drop=True)\n",
    "\n",
    "ta_traffic['percent'] = round((ta_traffic['target'] / df_join['target'].sum() * 100), 1)\n",
    "ta_traffic"
   ]
  },
  {
   "cell_type": "code",
   "execution_count": 53,
   "id": "0fee9ffe",
   "metadata": {
    "hidden": true
   },
   "outputs": [
    {
     "name": "stdout",
     "output_type": "stream",
     "text": [
      "CR (Conversion Rate) типов трафика в целевые события:\n",
      "Платный трафик:      paid = 2.2%\n",
      "Органический трафик: free = 4.0%\n"
     ]
    }
   ],
   "source": [
    "print(f'CR (Conversion Rate) типов трафика в целевые события:')\n",
    "print(f'Платный трафик:      {ta_traffic.traffic_way[0]} = {round(ta_traffic.target[0] / vis_traffic.quant[0]*100,1)}%')\n",
    "print(f'Органический трафик: {ta_traffic.traffic_way[1]} = {round(ta_traffic.target[1] / vis_traffic.quant[1]*100, 1)}%')"
   ]
  },
  {
   "cell_type": "markdown",
   "id": "a927976c",
   "metadata": {
    "hidden": true
   },
   "source": [
    "**Вывод:** Платный трафик привлекает больше целевых событий, однако CR (Conversion Rate) в целевые события органического трафика выше."
   ]
  },
  {
   "cell_type": "code",
   "execution_count": 54,
   "id": "e5b0b17a",
   "metadata": {
    "hidden": true
   },
   "outputs": [
    {
     "data": {
      "image/png": "[encoded data removed]",
      "text/plain": [
       "<Figure size 600x300 with 2 Axes>"
      ]
     },
     "metadata": {},
     "output_type": "display_data"
    }
   ],
   "source": [
    "colors = {'paid': 'coral', 'free': 'lime'}\n",
    "fig, axes = plt.subplots(1, 2, figsize=(6,3),dpi=100)\n",
    "plt.suptitle('Тип трафика')\n",
    "explode = (0.03, 0.03)\n",
    "\n",
    "for ax, df, title in zip(axes, (vis_traffic, ta_traffic), ('Доля визитов', 'Доля целевых событий')):\n",
    "    ax.pie(df.percent, labels=df.traffic_way, autopct = '%0.1f%%', explode=explode, colors=[colors[c] for c in df.traffic_way])\n",
    "    ax.set_title(title)"
   ]
  },
  {
   "cell_type": "markdown",
   "id": "71dc6672",
   "metadata": {
    "heading_collapsed": true,
    "jp-MarkdownHeadingCollapsed": true,
    "tags": []
   },
   "source": [
    "### 8. Локация по странам"
   ]
  },
  {
   "cell_type": "code",
   "execution_count": 55,
   "id": "9a5c4005",
   "metadata": {
    "hidden": true
   },
   "outputs": [
    {
     "name": "stdout",
     "output_type": "stream",
     "text": [
      "Топ-5 из 166 стран по количеству визитов\n"
     ]
    },
    {
     "data": {
      "text/html": [
       "<div>\n",
       "<style scoped>\n",
       "    .dataframe tbody tr th:only-of-type {\n",
       "        vertical-align: middle;\n",
       "    }\n",
       "\n",
       "    .dataframe tbody tr th {\n",
       "        vertical-align: top;\n",
       "    }\n",
       "\n",
       "    .dataframe thead th {\n",
       "        text-align: right;\n",
       "    }\n",
       "</style>\n",
       "<table border=\"1\" class=\"dataframe\">\n",
       "  <thead>\n",
       "    <tr style=\"text-align: right;\">\n",
       "      <th></th>\n",
       "      <th>geo_country</th>\n",
       "      <th>quant</th>\n",
       "      <th>q_percent</th>\n",
       "    </tr>\n",
       "  </thead>\n",
       "  <tbody>\n",
       "    <tr>\n",
       "      <th>0</th>\n",
       "      <td>Russia</td>\n",
       "      <td>1800565</td>\n",
       "      <td>96.8</td>\n",
       "    </tr>\n",
       "    <tr>\n",
       "      <th>1</th>\n",
       "      <td>United States</td>\n",
       "      <td>11784</td>\n",
       "      <td>0.6</td>\n",
       "    </tr>\n",
       "    <tr>\n",
       "      <th>2</th>\n",
       "      <td>Ukraine</td>\n",
       "      <td>9012</td>\n",
       "      <td>0.5</td>\n",
       "    </tr>\n",
       "    <tr>\n",
       "      <th>3</th>\n",
       "      <td>Ireland</td>\n",
       "      <td>4034</td>\n",
       "      <td>0.2</td>\n",
       "    </tr>\n",
       "    <tr>\n",
       "      <th>4</th>\n",
       "      <td>Belarus</td>\n",
       "      <td>3636</td>\n",
       "      <td>0.2</td>\n",
       "    </tr>\n",
       "  </tbody>\n",
       "</table>\n",
       "</div>"
      ],
      "text/plain": [
       "     geo_country    quant  q_percent\n",
       "0         Russia  1800565       96.8\n",
       "1  United States    11784        0.6\n",
       "2        Ukraine     9012        0.5\n",
       "3        Ireland     4034        0.2\n",
       "4        Belarus     3636        0.2"
      ]
     },
     "execution_count": 55,
     "metadata": {},
     "output_type": "execute_result"
    }
   ],
   "source": [
    "# Группировка стран по количеству визитов\n",
    "vis_country = df_join.groupby(['geo_country'], as_index=False)[['session_id']].count()\n",
    "vis_country = vis_country.rename(columns={'session_id': 'quant'})\n",
    "vis_country = vis_country.sort_values(by=['quant'], ascending=False).reset_index(drop=True)\n",
    "\n",
    "vis_country['q_percent'] = round((vis_country['quant'] / df_join['session_id'].count() * 100), 1)\n",
    "print(f'Топ-5 из {df_join.geo_country.describe()[1]} стран по количеству визитов')\n",
    "vis_country[:5]"
   ]
  },
  {
   "cell_type": "code",
   "execution_count": 56,
   "id": "def367db",
   "metadata": {
    "hidden": true
   },
   "outputs": [
    {
     "name": "stdout",
     "output_type": "stream",
     "text": [
      "Топ-5 из 166 стран по количеству целевых событий\n"
     ]
    },
    {
     "data": {
      "text/html": [
       "<div>\n",
       "<style scoped>\n",
       "    .dataframe tbody tr th:only-of-type {\n",
       "        vertical-align: middle;\n",
       "    }\n",
       "\n",
       "    .dataframe tbody tr th {\n",
       "        vertical-align: top;\n",
       "    }\n",
       "\n",
       "    .dataframe thead th {\n",
       "        text-align: right;\n",
       "    }\n",
       "</style>\n",
       "<table border=\"1\" class=\"dataframe\">\n",
       "  <thead>\n",
       "    <tr style=\"text-align: right;\">\n",
       "      <th></th>\n",
       "      <th>geo_country</th>\n",
       "      <th>target</th>\n",
       "      <th>t_percent</th>\n",
       "    </tr>\n",
       "  </thead>\n",
       "  <tbody>\n",
       "    <tr>\n",
       "      <th>0</th>\n",
       "      <td>Russia</td>\n",
       "      <td>49156</td>\n",
       "      <td>97.7</td>\n",
       "    </tr>\n",
       "    <tr>\n",
       "      <th>1</th>\n",
       "      <td>Ukraine</td>\n",
       "      <td>199</td>\n",
       "      <td>0.4</td>\n",
       "    </tr>\n",
       "    <tr>\n",
       "      <th>2</th>\n",
       "      <td>Germany</td>\n",
       "      <td>78</td>\n",
       "      <td>0.2</td>\n",
       "    </tr>\n",
       "    <tr>\n",
       "      <th>3</th>\n",
       "      <td>United States</td>\n",
       "      <td>64</td>\n",
       "      <td>0.1</td>\n",
       "    </tr>\n",
       "    <tr>\n",
       "      <th>4</th>\n",
       "      <td>Belarus</td>\n",
       "      <td>59</td>\n",
       "      <td>0.1</td>\n",
       "    </tr>\n",
       "  </tbody>\n",
       "</table>\n",
       "</div>"
      ],
      "text/plain": [
       "     geo_country  target  t_percent\n",
       "0         Russia   49156       97.7\n",
       "1        Ukraine     199        0.4\n",
       "2        Germany      78        0.2\n",
       "3  United States      64        0.1\n",
       "4        Belarus      59        0.1"
      ]
     },
     "execution_count": 56,
     "metadata": {},
     "output_type": "execute_result"
    }
   ],
   "source": [
    "# Группировка стран по количеству целевых действий\n",
    "ta_country = df_join.groupby(['geo_country'], as_index=False)[['target']].sum()\n",
    "ta_country = ta_country.sort_values(by=['target'], ascending=False).reset_index(drop=True)\n",
    "\n",
    "ta_country['t_percent'] = round((ta_country['target'] / df_join['target'].sum() * 100), 1)\n",
    "print(f'Топ-5 из {df_join.geo_country.describe()[1]} стран по количеству целевых событий')\n",
    "ta_country[:5]"
   ]
  },
  {
   "cell_type": "code",
   "execution_count": 57,
   "id": "e68a5dd6",
   "metadata": {
    "hidden": true
   },
   "outputs": [
    {
     "data": {
      "text/html": [
       "<div>\n",
       "<style scoped>\n",
       "    .dataframe tbody tr th:only-of-type {\n",
       "        vertical-align: middle;\n",
       "    }\n",
       "\n",
       "    .dataframe tbody tr th {\n",
       "        vertical-align: top;\n",
       "    }\n",
       "\n",
       "    .dataframe thead th {\n",
       "        text-align: right;\n",
       "    }\n",
       "</style>\n",
       "<table border=\"1\" class=\"dataframe\">\n",
       "  <thead>\n",
       "    <tr style=\"text-align: right;\">\n",
       "      <th></th>\n",
       "      <th>geo_country</th>\n",
       "      <th>quant</th>\n",
       "      <th>q_percent</th>\n",
       "      <th>target</th>\n",
       "      <th>t_percent</th>\n",
       "      <th>conversion_rate</th>\n",
       "    </tr>\n",
       "  </thead>\n",
       "  <tbody>\n",
       "    <tr>\n",
       "      <th>0</th>\n",
       "      <td>Russia</td>\n",
       "      <td>1800565</td>\n",
       "      <td>96.8</td>\n",
       "      <td>49156</td>\n",
       "      <td>97.7</td>\n",
       "      <td>2.7</td>\n",
       "    </tr>\n",
       "    <tr>\n",
       "      <th>1</th>\n",
       "      <td>Ukraine</td>\n",
       "      <td>9012</td>\n",
       "      <td>0.5</td>\n",
       "      <td>199</td>\n",
       "      <td>0.4</td>\n",
       "      <td>2.2</td>\n",
       "    </tr>\n",
       "    <tr>\n",
       "      <th>2</th>\n",
       "      <td>Germany</td>\n",
       "      <td>2232</td>\n",
       "      <td>0.1</td>\n",
       "      <td>78</td>\n",
       "      <td>0.2</td>\n",
       "      <td>3.5</td>\n",
       "    </tr>\n",
       "    <tr>\n",
       "      <th>3</th>\n",
       "      <td>United States</td>\n",
       "      <td>11784</td>\n",
       "      <td>0.6</td>\n",
       "      <td>64</td>\n",
       "      <td>0.1</td>\n",
       "      <td>0.5</td>\n",
       "    </tr>\n",
       "    <tr>\n",
       "      <th>4</th>\n",
       "      <td>Belarus</td>\n",
       "      <td>3636</td>\n",
       "      <td>0.2</td>\n",
       "      <td>59</td>\n",
       "      <td>0.1</td>\n",
       "      <td>1.6</td>\n",
       "    </tr>\n",
       "  </tbody>\n",
       "</table>\n",
       "</div>"
      ],
      "text/plain": [
       "     geo_country    quant  q_percent  target  t_percent  conversion_rate\n",
       "0         Russia  1800565       96.8   49156       97.7              2.7\n",
       "1        Ukraine     9012        0.5     199        0.4              2.2\n",
       "2        Germany     2232        0.1      78        0.2              3.5\n",
       "3  United States    11784        0.6      64        0.1              0.5\n",
       "4        Belarus     3636        0.2      59        0.1              1.6"
      ]
     },
     "execution_count": 57,
     "metadata": {},
     "output_type": "execute_result"
    }
   ],
   "source": [
    "# Объединение сгруппированных датафреймов по количеству визитов и целевым событиям\n",
    "df_country = pd.merge(left=vis_country, right=ta_country, on=['geo_country'], how='inner')\n",
    "\n",
    "df_country['conversion_rate'] = round((df_country['target'] / df_country['quant'] * 100), 1)\n",
    "\n",
    "# Сортировка по количеству целевых событий\n",
    "df_country = df_country.sort_values(by=['target'], ascending=False).reset_index(drop=True)\n",
    "df_country[:5]"
   ]
  },
  {
   "cell_type": "code",
   "execution_count": 58,
   "id": "34ae2a3c",
   "metadata": {
    "hidden": true
   },
   "outputs": [
    {
     "name": "stdout",
     "output_type": "stream",
     "text": [
      "Топ-5 из 166 стран по уровню CR:\n"
     ]
    },
    {
     "data": {
      "text/html": [
       "<div>\n",
       "<style scoped>\n",
       "    .dataframe tbody tr th:only-of-type {\n",
       "        vertical-align: middle;\n",
       "    }\n",
       "\n",
       "    .dataframe tbody tr th {\n",
       "        vertical-align: top;\n",
       "    }\n",
       "\n",
       "    .dataframe thead th {\n",
       "        text-align: right;\n",
       "    }\n",
       "</style>\n",
       "<table border=\"1\" class=\"dataframe\">\n",
       "  <thead>\n",
       "    <tr style=\"text-align: right;\">\n",
       "      <th></th>\n",
       "      <th>geo_country</th>\n",
       "      <th>quant</th>\n",
       "      <th>q_percent</th>\n",
       "      <th>target</th>\n",
       "      <th>t_percent</th>\n",
       "      <th>conversion_rate</th>\n",
       "    </tr>\n",
       "  </thead>\n",
       "  <tbody>\n",
       "    <tr>\n",
       "      <th>0</th>\n",
       "      <td>Morocco</td>\n",
       "      <td>201</td>\n",
       "      <td>0.0</td>\n",
       "      <td>28</td>\n",
       "      <td>0.1</td>\n",
       "      <td>13.9</td>\n",
       "    </tr>\n",
       "    <tr>\n",
       "      <th>1</th>\n",
       "      <td>Albania</td>\n",
       "      <td>33</td>\n",
       "      <td>0.0</td>\n",
       "      <td>4</td>\n",
       "      <td>0.0</td>\n",
       "      <td>12.1</td>\n",
       "    </tr>\n",
       "    <tr>\n",
       "      <th>2</th>\n",
       "      <td>Slovenia</td>\n",
       "      <td>46</td>\n",
       "      <td>0.0</td>\n",
       "      <td>5</td>\n",
       "      <td>0.0</td>\n",
       "      <td>10.9</td>\n",
       "    </tr>\n",
       "    <tr>\n",
       "      <th>3</th>\n",
       "      <td>Philippines</td>\n",
       "      <td>27</td>\n",
       "      <td>0.0</td>\n",
       "      <td>2</td>\n",
       "      <td>0.0</td>\n",
       "      <td>7.4</td>\n",
       "    </tr>\n",
       "    <tr>\n",
       "      <th>4</th>\n",
       "      <td>Serbia</td>\n",
       "      <td>110</td>\n",
       "      <td>0.0</td>\n",
       "      <td>7</td>\n",
       "      <td>0.0</td>\n",
       "      <td>6.4</td>\n",
       "    </tr>\n",
       "  </tbody>\n",
       "</table>\n",
       "</div>"
      ],
      "text/plain": [
       "   geo_country  quant  q_percent  target  t_percent  conversion_rate\n",
       "0      Morocco    201        0.0      28        0.1             13.9\n",
       "1      Albania     33        0.0       4        0.0             12.1\n",
       "2     Slovenia     46        0.0       5        0.0             10.9\n",
       "3  Philippines     27        0.0       2        0.0              7.4\n",
       "4       Serbia    110        0.0       7        0.0              6.4"
      ]
     },
     "execution_count": 58,
     "metadata": {},
     "output_type": "execute_result"
    }
   ],
   "source": [
    "# Сортировка по conversion_rate\n",
    "df_country_cr = df_country.sort_values(by=['conversion_rate'], ascending=False).reset_index(drop=True)\n",
    "\n",
    "print(f'Топ-5 из {df_join.geo_country.describe()[1]} стран по уровню CR:')\n",
    "df_country_cr[:5]"
   ]
  },
  {
   "cell_type": "markdown",
   "id": "ce4b6a9b",
   "metadata": {
    "hidden": true
   },
   "source": [
    "**Вывод:** Россия, как страна присутствия, доминирует по количеству трафика, но CR (Conversion Rate) у нее не самый высокий."
   ]
  },
  {
   "cell_type": "markdown",
   "id": "41c5ab3b",
   "metadata": {
    "heading_collapsed": true,
    "jp-MarkdownHeadingCollapsed": true,
    "tags": []
   },
   "source": [
    "### 9. Локация по городам"
   ]
  },
  {
   "cell_type": "code",
   "execution_count": 59,
   "id": "09dc061a",
   "metadata": {
    "hidden": true
   },
   "outputs": [
    {
     "name": "stdout",
     "output_type": "stream",
     "text": [
      "Топ-10 из 2548 городов по количеству визитов\n"
     ]
    },
    {
     "data": {
      "text/html": [
       "<div>\n",
       "<style scoped>\n",
       "    .dataframe tbody tr th:only-of-type {\n",
       "        vertical-align: middle;\n",
       "    }\n",
       "\n",
       "    .dataframe tbody tr th {\n",
       "        vertical-align: top;\n",
       "    }\n",
       "\n",
       "    .dataframe thead th {\n",
       "        text-align: right;\n",
       "    }\n",
       "</style>\n",
       "<table border=\"1\" class=\"dataframe\">\n",
       "  <thead>\n",
       "    <tr style=\"text-align: right;\">\n",
       "      <th></th>\n",
       "      <th>geo_city</th>\n",
       "      <th>geo_country</th>\n",
       "      <th>quant</th>\n",
       "      <th>q_percent</th>\n",
       "    </tr>\n",
       "  </thead>\n",
       "  <tbody>\n",
       "    <tr>\n",
       "      <th>0</th>\n",
       "      <td>Moscow</td>\n",
       "      <td>Russia</td>\n",
       "      <td>805329</td>\n",
       "      <td>43.3</td>\n",
       "    </tr>\n",
       "    <tr>\n",
       "      <th>1</th>\n",
       "      <td>Saint Petersburg</td>\n",
       "      <td>Russia</td>\n",
       "      <td>296788</td>\n",
       "      <td>16.0</td>\n",
       "    </tr>\n",
       "    <tr>\n",
       "      <th>2</th>\n",
       "      <td>(not set)</td>\n",
       "      <td>Russia</td>\n",
       "      <td>70021</td>\n",
       "      <td>3.8</td>\n",
       "    </tr>\n",
       "    <tr>\n",
       "      <th>3</th>\n",
       "      <td>Yekaterinburg</td>\n",
       "      <td>Russia</td>\n",
       "      <td>35788</td>\n",
       "      <td>1.9</td>\n",
       "    </tr>\n",
       "    <tr>\n",
       "      <th>4</th>\n",
       "      <td>Krasnodar</td>\n",
       "      <td>Russia</td>\n",
       "      <td>32243</td>\n",
       "      <td>1.7</td>\n",
       "    </tr>\n",
       "    <tr>\n",
       "      <th>5</th>\n",
       "      <td>Kazan</td>\n",
       "      <td>Russia</td>\n",
       "      <td>29531</td>\n",
       "      <td>1.6</td>\n",
       "    </tr>\n",
       "    <tr>\n",
       "      <th>6</th>\n",
       "      <td>Samara</td>\n",
       "      <td>Russia</td>\n",
       "      <td>24992</td>\n",
       "      <td>1.3</td>\n",
       "    </tr>\n",
       "    <tr>\n",
       "      <th>7</th>\n",
       "      <td>Nizhny Novgorod</td>\n",
       "      <td>Russia</td>\n",
       "      <td>22227</td>\n",
       "      <td>1.2</td>\n",
       "    </tr>\n",
       "    <tr>\n",
       "      <th>8</th>\n",
       "      <td>Ufa</td>\n",
       "      <td>Russia</td>\n",
       "      <td>21679</td>\n",
       "      <td>1.2</td>\n",
       "    </tr>\n",
       "    <tr>\n",
       "      <th>9</th>\n",
       "      <td>Novosibirsk</td>\n",
       "      <td>Russia</td>\n",
       "      <td>21568</td>\n",
       "      <td>1.2</td>\n",
       "    </tr>\n",
       "  </tbody>\n",
       "</table>\n",
       "</div>"
      ],
      "text/plain": [
       "           geo_city geo_country   quant  q_percent\n",
       "0            Moscow      Russia  805329       43.3\n",
       "1  Saint Petersburg      Russia  296788       16.0\n",
       "2         (not set)      Russia   70021        3.8\n",
       "3     Yekaterinburg      Russia   35788        1.9\n",
       "4         Krasnodar      Russia   32243        1.7\n",
       "5             Kazan      Russia   29531        1.6\n",
       "6            Samara      Russia   24992        1.3\n",
       "7   Nizhny Novgorod      Russia   22227        1.2\n",
       "8               Ufa      Russia   21679        1.2\n",
       "9       Novosibirsk      Russia   21568        1.2"
      ]
     },
     "execution_count": 59,
     "metadata": {},
     "output_type": "execute_result"
    }
   ],
   "source": [
    "# Группировка городов по количеству визитов\n",
    "vis_city = df_join.groupby(['geo_city', 'geo_country'], as_index=False)[['session_id']].count()\n",
    "vis_city = vis_city.rename(columns={'session_id': 'quant'})\n",
    "vis_city = vis_city.sort_values(by=['quant'], ascending=False).reset_index(drop=True)\n",
    "\n",
    "vis_city['q_percent'] = round((vis_city['quant'] / df_join['session_id'].count() * 100), 1)\n",
    "print(f'Топ-10 из {df_join.geo_city.describe()[1]} городов по количеству визитов')\n",
    "vis_city[:10]"
   ]
  },
  {
   "cell_type": "code",
   "execution_count": 60,
   "id": "21809df3",
   "metadata": {
    "hidden": true
   },
   "outputs": [
    {
     "name": "stdout",
     "output_type": "stream",
     "text": [
      "Топ-10 из 2548 городов по количеству целевых событий\n"
     ]
    },
    {
     "data": {
      "text/html": [
       "<div>\n",
       "<style scoped>\n",
       "    .dataframe tbody tr th:only-of-type {\n",
       "        vertical-align: middle;\n",
       "    }\n",
       "\n",
       "    .dataframe tbody tr th {\n",
       "        vertical-align: top;\n",
       "    }\n",
       "\n",
       "    .dataframe thead th {\n",
       "        text-align: right;\n",
       "    }\n",
       "</style>\n",
       "<table border=\"1\" class=\"dataframe\">\n",
       "  <thead>\n",
       "    <tr style=\"text-align: right;\">\n",
       "      <th></th>\n",
       "      <th>geo_city</th>\n",
       "      <th>geo_country</th>\n",
       "      <th>target</th>\n",
       "      <th>t_percent</th>\n",
       "    </tr>\n",
       "  </thead>\n",
       "  <tbody>\n",
       "    <tr>\n",
       "      <th>0</th>\n",
       "      <td>Moscow</td>\n",
       "      <td>Russia</td>\n",
       "      <td>23629</td>\n",
       "      <td>47.0</td>\n",
       "    </tr>\n",
       "    <tr>\n",
       "      <th>1</th>\n",
       "      <td>Saint Petersburg</td>\n",
       "      <td>Russia</td>\n",
       "      <td>7113</td>\n",
       "      <td>14.1</td>\n",
       "    </tr>\n",
       "    <tr>\n",
       "      <th>2</th>\n",
       "      <td>(not set)</td>\n",
       "      <td>Russia</td>\n",
       "      <td>1361</td>\n",
       "      <td>2.7</td>\n",
       "    </tr>\n",
       "    <tr>\n",
       "      <th>3</th>\n",
       "      <td>Kazan</td>\n",
       "      <td>Russia</td>\n",
       "      <td>1139</td>\n",
       "      <td>2.3</td>\n",
       "    </tr>\n",
       "    <tr>\n",
       "      <th>4</th>\n",
       "      <td>Krasnodar</td>\n",
       "      <td>Russia</td>\n",
       "      <td>1081</td>\n",
       "      <td>2.1</td>\n",
       "    </tr>\n",
       "    <tr>\n",
       "      <th>5</th>\n",
       "      <td>Yekaterinburg</td>\n",
       "      <td>Russia</td>\n",
       "      <td>887</td>\n",
       "      <td>1.8</td>\n",
       "    </tr>\n",
       "    <tr>\n",
       "      <th>6</th>\n",
       "      <td>Samara</td>\n",
       "      <td>Russia</td>\n",
       "      <td>727</td>\n",
       "      <td>1.4</td>\n",
       "    </tr>\n",
       "    <tr>\n",
       "      <th>7</th>\n",
       "      <td>Ufa</td>\n",
       "      <td>Russia</td>\n",
       "      <td>639</td>\n",
       "      <td>1.3</td>\n",
       "    </tr>\n",
       "    <tr>\n",
       "      <th>8</th>\n",
       "      <td>Nizhny Novgorod</td>\n",
       "      <td>Russia</td>\n",
       "      <td>559</td>\n",
       "      <td>1.1</td>\n",
       "    </tr>\n",
       "    <tr>\n",
       "      <th>9</th>\n",
       "      <td>Novosibirsk</td>\n",
       "      <td>Russia</td>\n",
       "      <td>509</td>\n",
       "      <td>1.0</td>\n",
       "    </tr>\n",
       "  </tbody>\n",
       "</table>\n",
       "</div>"
      ],
      "text/plain": [
       "           geo_city geo_country  target  t_percent\n",
       "0            Moscow      Russia   23629       47.0\n",
       "1  Saint Petersburg      Russia    7113       14.1\n",
       "2         (not set)      Russia    1361        2.7\n",
       "3             Kazan      Russia    1139        2.3\n",
       "4         Krasnodar      Russia    1081        2.1\n",
       "5     Yekaterinburg      Russia     887        1.8\n",
       "6            Samara      Russia     727        1.4\n",
       "7               Ufa      Russia     639        1.3\n",
       "8   Nizhny Novgorod      Russia     559        1.1\n",
       "9       Novosibirsk      Russia     509        1.0"
      ]
     },
     "execution_count": 60,
     "metadata": {},
     "output_type": "execute_result"
    }
   ],
   "source": [
    "# Группировка городов по количеству целевых событий\n",
    "ta_city = df_join.groupby(['geo_city', 'geo_country'], as_index=False)[['target']].sum()\n",
    "ta_city = ta_city.sort_values(by=['target'], ascending=False).reset_index(drop=True)\n",
    "\n",
    "ta_city['t_percent'] = round((ta_city['target'] / df_join['target'].sum() * 100), 1)\n",
    "print(f'Топ-10 из {df_join.geo_city.describe()[1]} городов по количеству целевых событий')\n",
    "ta_city[:10]"
   ]
  },
  {
   "cell_type": "code",
   "execution_count": 61,
   "id": "c1b718b3",
   "metadata": {
    "hidden": true
   },
   "outputs": [
    {
     "data": {
      "text/html": [
       "<div>\n",
       "<style scoped>\n",
       "    .dataframe tbody tr th:only-of-type {\n",
       "        vertical-align: middle;\n",
       "    }\n",
       "\n",
       "    .dataframe tbody tr th {\n",
       "        vertical-align: top;\n",
       "    }\n",
       "\n",
       "    .dataframe thead th {\n",
       "        text-align: right;\n",
       "    }\n",
       "</style>\n",
       "<table border=\"1\" class=\"dataframe\">\n",
       "  <thead>\n",
       "    <tr style=\"text-align: right;\">\n",
       "      <th></th>\n",
       "      <th>geo_city</th>\n",
       "      <th>geo_country</th>\n",
       "      <th>quant</th>\n",
       "      <th>q_percent</th>\n",
       "      <th>target</th>\n",
       "      <th>t_percent</th>\n",
       "      <th>conversion_rate</th>\n",
       "    </tr>\n",
       "  </thead>\n",
       "  <tbody>\n",
       "    <tr>\n",
       "      <th>0</th>\n",
       "      <td>Moscow</td>\n",
       "      <td>Russia</td>\n",
       "      <td>805329</td>\n",
       "      <td>43.3</td>\n",
       "      <td>23629</td>\n",
       "      <td>47.0</td>\n",
       "      <td>2.9</td>\n",
       "    </tr>\n",
       "    <tr>\n",
       "      <th>1</th>\n",
       "      <td>Saint Petersburg</td>\n",
       "      <td>Russia</td>\n",
       "      <td>296788</td>\n",
       "      <td>16.0</td>\n",
       "      <td>7113</td>\n",
       "      <td>14.1</td>\n",
       "      <td>2.4</td>\n",
       "    </tr>\n",
       "    <tr>\n",
       "      <th>2</th>\n",
       "      <td>(not set)</td>\n",
       "      <td>Russia</td>\n",
       "      <td>70021</td>\n",
       "      <td>3.8</td>\n",
       "      <td>1361</td>\n",
       "      <td>2.7</td>\n",
       "      <td>1.9</td>\n",
       "    </tr>\n",
       "    <tr>\n",
       "      <th>3</th>\n",
       "      <td>Kazan</td>\n",
       "      <td>Russia</td>\n",
       "      <td>29531</td>\n",
       "      <td>1.6</td>\n",
       "      <td>1139</td>\n",
       "      <td>2.3</td>\n",
       "      <td>3.9</td>\n",
       "    </tr>\n",
       "    <tr>\n",
       "      <th>4</th>\n",
       "      <td>Krasnodar</td>\n",
       "      <td>Russia</td>\n",
       "      <td>32243</td>\n",
       "      <td>1.7</td>\n",
       "      <td>1081</td>\n",
       "      <td>2.1</td>\n",
       "      <td>3.4</td>\n",
       "    </tr>\n",
       "    <tr>\n",
       "      <th>5</th>\n",
       "      <td>Yekaterinburg</td>\n",
       "      <td>Russia</td>\n",
       "      <td>35788</td>\n",
       "      <td>1.9</td>\n",
       "      <td>887</td>\n",
       "      <td>1.8</td>\n",
       "      <td>2.5</td>\n",
       "    </tr>\n",
       "    <tr>\n",
       "      <th>6</th>\n",
       "      <td>Samara</td>\n",
       "      <td>Russia</td>\n",
       "      <td>24992</td>\n",
       "      <td>1.3</td>\n",
       "      <td>727</td>\n",
       "      <td>1.4</td>\n",
       "      <td>2.9</td>\n",
       "    </tr>\n",
       "    <tr>\n",
       "      <th>7</th>\n",
       "      <td>Ufa</td>\n",
       "      <td>Russia</td>\n",
       "      <td>21679</td>\n",
       "      <td>1.2</td>\n",
       "      <td>639</td>\n",
       "      <td>1.3</td>\n",
       "      <td>2.9</td>\n",
       "    </tr>\n",
       "    <tr>\n",
       "      <th>8</th>\n",
       "      <td>Nizhny Novgorod</td>\n",
       "      <td>Russia</td>\n",
       "      <td>22227</td>\n",
       "      <td>1.2</td>\n",
       "      <td>559</td>\n",
       "      <td>1.1</td>\n",
       "      <td>2.5</td>\n",
       "    </tr>\n",
       "    <tr>\n",
       "      <th>9</th>\n",
       "      <td>Novosibirsk</td>\n",
       "      <td>Russia</td>\n",
       "      <td>21568</td>\n",
       "      <td>1.2</td>\n",
       "      <td>509</td>\n",
       "      <td>1.0</td>\n",
       "      <td>2.4</td>\n",
       "    </tr>\n",
       "  </tbody>\n",
       "</table>\n",
       "</div>"
      ],
      "text/plain": [
       "           geo_city geo_country   quant  q_percent  target  t_percent  \\\n",
       "0            Moscow      Russia  805329       43.3   23629       47.0   \n",
       "1  Saint Petersburg      Russia  296788       16.0    7113       14.1   \n",
       "2         (not set)      Russia   70021        3.8    1361        2.7   \n",
       "3             Kazan      Russia   29531        1.6    1139        2.3   \n",
       "4         Krasnodar      Russia   32243        1.7    1081        2.1   \n",
       "5     Yekaterinburg      Russia   35788        1.9     887        1.8   \n",
       "6            Samara      Russia   24992        1.3     727        1.4   \n",
       "7               Ufa      Russia   21679        1.2     639        1.3   \n",
       "8   Nizhny Novgorod      Russia   22227        1.2     559        1.1   \n",
       "9       Novosibirsk      Russia   21568        1.2     509        1.0   \n",
       "\n",
       "   conversion_rate  \n",
       "0              2.9  \n",
       "1              2.4  \n",
       "2              1.9  \n",
       "3              3.9  \n",
       "4              3.4  \n",
       "5              2.5  \n",
       "6              2.9  \n",
       "7              2.9  \n",
       "8              2.5  \n",
       "9              2.4  "
      ]
     },
     "execution_count": 61,
     "metadata": {},
     "output_type": "execute_result"
    }
   ],
   "source": [
    "# Объединение сгруппированных датафреймов по количеству визитов и целевым событиям\n",
    "df_city = pd.merge(left=vis_city, right=ta_city, on=['geo_city', 'geo_country'], how='inner')\n",
    "\n",
    "df_city['conversion_rate'] = round((df_city['target'] / df_city['quant'] * 100), 1)\n",
    "\n",
    "# Сортировка по количеству целевых событий\n",
    "df_city = df_city.sort_values(by=['target'], ascending=False).reset_index(drop=True)\n",
    "df_city[:10]"
   ]
  },
  {
   "cell_type": "code",
   "execution_count": 62,
   "id": "13ec422a",
   "metadata": {
    "hidden": true
   },
   "outputs": [
    {
     "name": "stdout",
     "output_type": "stream",
     "text": [
      "Топ-10 из 2548 городов по уровню CR:\n"
     ]
    },
    {
     "data": {
      "text/html": [
       "<div>\n",
       "<style scoped>\n",
       "    .dataframe tbody tr th:only-of-type {\n",
       "        vertical-align: middle;\n",
       "    }\n",
       "\n",
       "    .dataframe tbody tr th {\n",
       "        vertical-align: top;\n",
       "    }\n",
       "\n",
       "    .dataframe thead th {\n",
       "        text-align: right;\n",
       "    }\n",
       "</style>\n",
       "<table border=\"1\" class=\"dataframe\">\n",
       "  <thead>\n",
       "    <tr style=\"text-align: right;\">\n",
       "      <th></th>\n",
       "      <th>geo_city</th>\n",
       "      <th>geo_country</th>\n",
       "      <th>quant</th>\n",
       "      <th>q_percent</th>\n",
       "      <th>target</th>\n",
       "      <th>t_percent</th>\n",
       "      <th>conversion_rate</th>\n",
       "    </tr>\n",
       "  </thead>\n",
       "  <tbody>\n",
       "    <tr>\n",
       "      <th>0</th>\n",
       "      <td>Brescia</td>\n",
       "      <td>Italy</td>\n",
       "      <td>1</td>\n",
       "      <td>0.0</td>\n",
       "      <td>1</td>\n",
       "      <td>0.0</td>\n",
       "      <td>100.0</td>\n",
       "    </tr>\n",
       "    <tr>\n",
       "      <th>1</th>\n",
       "      <td>Laguna Niguel</td>\n",
       "      <td>United States</td>\n",
       "      <td>1</td>\n",
       "      <td>0.0</td>\n",
       "      <td>1</td>\n",
       "      <td>0.0</td>\n",
       "      <td>100.0</td>\n",
       "    </tr>\n",
       "    <tr>\n",
       "      <th>2</th>\n",
       "      <td>Nipomo</td>\n",
       "      <td>United States</td>\n",
       "      <td>1</td>\n",
       "      <td>0.0</td>\n",
       "      <td>1</td>\n",
       "      <td>0.0</td>\n",
       "      <td>100.0</td>\n",
       "    </tr>\n",
       "    <tr>\n",
       "      <th>3</th>\n",
       "      <td>Nybro</td>\n",
       "      <td>Sweden</td>\n",
       "      <td>1</td>\n",
       "      <td>0.0</td>\n",
       "      <td>1</td>\n",
       "      <td>0.0</td>\n",
       "      <td>100.0</td>\n",
       "    </tr>\n",
       "    <tr>\n",
       "      <th>4</th>\n",
       "      <td>Beaver Falls</td>\n",
       "      <td>United States</td>\n",
       "      <td>1</td>\n",
       "      <td>0.0</td>\n",
       "      <td>1</td>\n",
       "      <td>0.0</td>\n",
       "      <td>100.0</td>\n",
       "    </tr>\n",
       "    <tr>\n",
       "      <th>5</th>\n",
       "      <td>Royan</td>\n",
       "      <td>France</td>\n",
       "      <td>1</td>\n",
       "      <td>0.0</td>\n",
       "      <td>1</td>\n",
       "      <td>0.0</td>\n",
       "      <td>100.0</td>\n",
       "    </tr>\n",
       "    <tr>\n",
       "      <th>6</th>\n",
       "      <td>Rostock</td>\n",
       "      <td>Germany</td>\n",
       "      <td>1</td>\n",
       "      <td>0.0</td>\n",
       "      <td>1</td>\n",
       "      <td>0.0</td>\n",
       "      <td>100.0</td>\n",
       "    </tr>\n",
       "    <tr>\n",
       "      <th>7</th>\n",
       "      <td>Qingdao</td>\n",
       "      <td>China</td>\n",
       "      <td>1</td>\n",
       "      <td>0.0</td>\n",
       "      <td>1</td>\n",
       "      <td>0.0</td>\n",
       "      <td>100.0</td>\n",
       "    </tr>\n",
       "    <tr>\n",
       "      <th>8</th>\n",
       "      <td>Guingamp</td>\n",
       "      <td>France</td>\n",
       "      <td>1</td>\n",
       "      <td>0.0</td>\n",
       "      <td>1</td>\n",
       "      <td>0.0</td>\n",
       "      <td>100.0</td>\n",
       "    </tr>\n",
       "    <tr>\n",
       "      <th>9</th>\n",
       "      <td>Middletown</td>\n",
       "      <td>United States</td>\n",
       "      <td>1</td>\n",
       "      <td>0.0</td>\n",
       "      <td>1</td>\n",
       "      <td>0.0</td>\n",
       "      <td>100.0</td>\n",
       "    </tr>\n",
       "  </tbody>\n",
       "</table>\n",
       "</div>"
      ],
      "text/plain": [
       "        geo_city    geo_country  quant  q_percent  target  t_percent  \\\n",
       "0        Brescia          Italy      1        0.0       1        0.0   \n",
       "1  Laguna Niguel  United States      1        0.0       1        0.0   \n",
       "2         Nipomo  United States      1        0.0       1        0.0   \n",
       "3          Nybro         Sweden      1        0.0       1        0.0   \n",
       "4   Beaver Falls  United States      1        0.0       1        0.0   \n",
       "5          Royan         France      1        0.0       1        0.0   \n",
       "6        Rostock        Germany      1        0.0       1        0.0   \n",
       "7        Qingdao          China      1        0.0       1        0.0   \n",
       "8       Guingamp         France      1        0.0       1        0.0   \n",
       "9     Middletown  United States      1        0.0       1        0.0   \n",
       "\n",
       "   conversion_rate  \n",
       "0            100.0  \n",
       "1            100.0  \n",
       "2            100.0  \n",
       "3            100.0  \n",
       "4            100.0  \n",
       "5            100.0  \n",
       "6            100.0  \n",
       "7            100.0  \n",
       "8            100.0  \n",
       "9            100.0  "
      ]
     },
     "execution_count": 62,
     "metadata": {},
     "output_type": "execute_result"
    }
   ],
   "source": [
    "# Сортировка по conversion_rate\n",
    "df_city_cr = df_city.sort_values(by=['conversion_rate'], ascending=False).reset_index(drop=True)\n",
    "\n",
    "print(f'Топ-10 из {df_join.geo_city.describe()[1]} городов по уровню CR:')\n",
    "df_city_cr[:10]"
   ]
  },
  {
   "cell_type": "code",
   "execution_count": 63,
   "id": "c9b107e0",
   "metadata": {
    "hidden": true
   },
   "outputs": [
    {
     "name": "stdout",
     "output_type": "stream",
     "text": [
      "Топ-10 российских городов по уровню CR:\n"
     ]
    },
    {
     "data": {
      "text/html": [
       "<div>\n",
       "<style scoped>\n",
       "    .dataframe tbody tr th:only-of-type {\n",
       "        vertical-align: middle;\n",
       "    }\n",
       "\n",
       "    .dataframe tbody tr th {\n",
       "        vertical-align: top;\n",
       "    }\n",
       "\n",
       "    .dataframe thead th {\n",
       "        text-align: right;\n",
       "    }\n",
       "</style>\n",
       "<table border=\"1\" class=\"dataframe\">\n",
       "  <thead>\n",
       "    <tr style=\"text-align: right;\">\n",
       "      <th></th>\n",
       "      <th>geo_city</th>\n",
       "      <th>geo_country</th>\n",
       "      <th>quant</th>\n",
       "      <th>q_percent</th>\n",
       "      <th>target</th>\n",
       "      <th>t_percent</th>\n",
       "      <th>conversion_rate</th>\n",
       "    </tr>\n",
       "  </thead>\n",
       "  <tbody>\n",
       "    <tr>\n",
       "      <th>56</th>\n",
       "      <td>Enem</td>\n",
       "      <td>Russia</td>\n",
       "      <td>9</td>\n",
       "      <td>0.0</td>\n",
       "      <td>2</td>\n",
       "      <td>0.0</td>\n",
       "      <td>22.2</td>\n",
       "    </tr>\n",
       "    <tr>\n",
       "      <th>72</th>\n",
       "      <td>Marks</td>\n",
       "      <td>Russia</td>\n",
       "      <td>6</td>\n",
       "      <td>0.0</td>\n",
       "      <td>1</td>\n",
       "      <td>0.0</td>\n",
       "      <td>16.7</td>\n",
       "    </tr>\n",
       "    <tr>\n",
       "      <th>74</th>\n",
       "      <td>Birsk</td>\n",
       "      <td>Russia</td>\n",
       "      <td>6</td>\n",
       "      <td>0.0</td>\n",
       "      <td>1</td>\n",
       "      <td>0.0</td>\n",
       "      <td>16.7</td>\n",
       "    </tr>\n",
       "    <tr>\n",
       "      <th>78</th>\n",
       "      <td>Shuya</td>\n",
       "      <td>Russia</td>\n",
       "      <td>13</td>\n",
       "      <td>0.0</td>\n",
       "      <td>2</td>\n",
       "      <td>0.0</td>\n",
       "      <td>15.4</td>\n",
       "    </tr>\n",
       "    <tr>\n",
       "      <th>79</th>\n",
       "      <td>53425</td>\n",
       "      <td>Russia</td>\n",
       "      <td>20</td>\n",
       "      <td>0.0</td>\n",
       "      <td>3</td>\n",
       "      <td>0.0</td>\n",
       "      <td>15.0</td>\n",
       "    </tr>\n",
       "    <tr>\n",
       "      <th>84</th>\n",
       "      <td>Novaya Adygeya</td>\n",
       "      <td>Russia</td>\n",
       "      <td>7</td>\n",
       "      <td>0.0</td>\n",
       "      <td>1</td>\n",
       "      <td>0.0</td>\n",
       "      <td>14.3</td>\n",
       "    </tr>\n",
       "    <tr>\n",
       "      <th>86</th>\n",
       "      <td>Tarko-Sale</td>\n",
       "      <td>Russia</td>\n",
       "      <td>21</td>\n",
       "      <td>0.0</td>\n",
       "      <td>3</td>\n",
       "      <td>0.0</td>\n",
       "      <td>14.3</td>\n",
       "    </tr>\n",
       "    <tr>\n",
       "      <th>100</th>\n",
       "      <td>Pavlovo</td>\n",
       "      <td>Russia</td>\n",
       "      <td>63</td>\n",
       "      <td>0.0</td>\n",
       "      <td>7</td>\n",
       "      <td>0.0</td>\n",
       "      <td>11.1</td>\n",
       "    </tr>\n",
       "    <tr>\n",
       "      <th>121</th>\n",
       "      <td>Troedobelikovskiy</td>\n",
       "      <td>Russia</td>\n",
       "      <td>35</td>\n",
       "      <td>0.0</td>\n",
       "      <td>3</td>\n",
       "      <td>0.0</td>\n",
       "      <td>8.6</td>\n",
       "    </tr>\n",
       "    <tr>\n",
       "      <th>122</th>\n",
       "      <td>Kinel</td>\n",
       "      <td>Russia</td>\n",
       "      <td>12</td>\n",
       "      <td>0.0</td>\n",
       "      <td>1</td>\n",
       "      <td>0.0</td>\n",
       "      <td>8.3</td>\n",
       "    </tr>\n",
       "  </tbody>\n",
       "</table>\n",
       "</div>"
      ],
      "text/plain": [
       "              geo_city geo_country  quant  q_percent  target  t_percent  \\\n",
       "56                Enem      Russia      9        0.0       2        0.0   \n",
       "72               Marks      Russia      6        0.0       1        0.0   \n",
       "74               Birsk      Russia      6        0.0       1        0.0   \n",
       "78               Shuya      Russia     13        0.0       2        0.0   \n",
       "79               53425      Russia     20        0.0       3        0.0   \n",
       "84      Novaya Adygeya      Russia      7        0.0       1        0.0   \n",
       "86          Tarko-Sale      Russia     21        0.0       3        0.0   \n",
       "100            Pavlovo      Russia     63        0.0       7        0.0   \n",
       "121  Troedobelikovskiy      Russia     35        0.0       3        0.0   \n",
       "122              Kinel      Russia     12        0.0       1        0.0   \n",
       "\n",
       "     conversion_rate  \n",
       "56              22.2  \n",
       "72              16.7  \n",
       "74              16.7  \n",
       "78              15.4  \n",
       "79              15.0  \n",
       "84              14.3  \n",
       "86              14.3  \n",
       "100             11.1  \n",
       "121              8.6  \n",
       "122              8.3  "
      ]
     },
     "execution_count": 63,
     "metadata": {},
     "output_type": "execute_result"
    }
   ],
   "source": [
    "print(f'Топ-10 российских городов по уровню CR:')\n",
    "df_rcity_cr = df_city_cr[df_city_cr[\"geo_country\"] == \"Russia\"]\n",
    "df_rcity_cr[:10]"
   ]
  },
  {
   "cell_type": "code",
   "execution_count": 64,
   "id": "fe27ac89",
   "metadata": {
    "hidden": true
   },
   "outputs": [
    {
     "data": {
      "image/png": "[encoded data removed]",
      "text/plain": [
       "<Figure size 2000x1000 with 2 Axes>"
      ]
     },
     "metadata": {},
     "output_type": "display_data"
    }
   ],
   "source": [
    "fig, axs = plt.subplots(nrows= 2 , ncols= 1, sharex='row', figsize=(20, 10))\n",
    "\n",
    "axs[0].bar(df_city['geo_city'][:10], df_city['target'][:10], color=['salmon'])\n",
    "axs[0].set_title('Топ-10 городов по количеству целевых событий')\n",
    "axs[0].set_ylabel('Кол-во целевых событий')\n",
    "\n",
    "axs[1].bar(df_rcity_cr['geo_city'][:10], df_rcity_cr['conversion_rate'][:10], color=['brown'])\n",
    "axs[1].set_title('Топ-10 российских городов по уровню CR')\n",
    "axs[1].set_ylabel('Conversion Rate, %')\n",
    "\n",
    "plt.show()"
   ]
  },
  {
   "cell_type": "code",
   "execution_count": 65,
   "id": "a1e2748a",
   "metadata": {
    "hidden": true
   },
   "outputs": [
    {
     "data": {
      "text/html": [
       "<div>\n",
       "<style scoped>\n",
       "    .dataframe tbody tr th:only-of-type {\n",
       "        vertical-align: middle;\n",
       "    }\n",
       "\n",
       "    .dataframe tbody tr th {\n",
       "        vertical-align: top;\n",
       "    }\n",
       "\n",
       "    .dataframe thead th {\n",
       "        text-align: right;\n",
       "    }\n",
       "</style>\n",
       "<table border=\"1\" class=\"dataframe\">\n",
       "  <thead>\n",
       "    <tr style=\"text-align: right;\">\n",
       "      <th></th>\n",
       "      <th>city_of_present</th>\n",
       "      <th>quant</th>\n",
       "      <th>percent</th>\n",
       "    </tr>\n",
       "  </thead>\n",
       "  <tbody>\n",
       "    <tr>\n",
       "      <th>0</th>\n",
       "      <td>present</td>\n",
       "      <td>1198013</td>\n",
       "      <td>64.4</td>\n",
       "    </tr>\n",
       "    <tr>\n",
       "      <th>1</th>\n",
       "      <td>other</td>\n",
       "      <td>662029</td>\n",
       "      <td>35.6</td>\n",
       "    </tr>\n",
       "  </tbody>\n",
       "</table>\n",
       "</div>"
      ],
      "text/plain": [
       "  city_of_present    quant  percent\n",
       "0         present  1198013     64.4\n",
       "1           other   662029     35.6"
      ]
     },
     "execution_count": 65,
     "metadata": {},
     "output_type": "execute_result"
    }
   ],
   "source": [
    "# Группировка городов присутствия по количеству визитов\n",
    "vis_city_pres = df_join.groupby(['city_of_present'], as_index=False)[['session_id']].count()\n",
    "vis_city_pres = vis_city_pres.rename(columns={'session_id': 'quant'})\n",
    "vis_city_pres = vis_city_pres.sort_values(by=['quant'], ascending=False).reset_index(drop=True)\n",
    "\n",
    "vis_city_pres['percent'] = round((vis_city_pres['quant'] / df_join['session_id'].count() * 100), 1)\n",
    "vis_city_pres"
   ]
  },
  {
   "cell_type": "code",
   "execution_count": 66,
   "id": "3e6142b8",
   "metadata": {
    "hidden": true
   },
   "outputs": [
    {
     "data": {
      "text/html": [
       "<div>\n",
       "<style scoped>\n",
       "    .dataframe tbody tr th:only-of-type {\n",
       "        vertical-align: middle;\n",
       "    }\n",
       "\n",
       "    .dataframe tbody tr th {\n",
       "        vertical-align: top;\n",
       "    }\n",
       "\n",
       "    .dataframe thead th {\n",
       "        text-align: right;\n",
       "    }\n",
       "</style>\n",
       "<table border=\"1\" class=\"dataframe\">\n",
       "  <thead>\n",
       "    <tr style=\"text-align: right;\">\n",
       "      <th></th>\n",
       "      <th>city_of_present</th>\n",
       "      <th>target</th>\n",
       "      <th>percent</th>\n",
       "    </tr>\n",
       "  </thead>\n",
       "  <tbody>\n",
       "    <tr>\n",
       "      <th>0</th>\n",
       "      <td>present</td>\n",
       "      <td>33520</td>\n",
       "      <td>66.6</td>\n",
       "    </tr>\n",
       "    <tr>\n",
       "      <th>1</th>\n",
       "      <td>other</td>\n",
       "      <td>16794</td>\n",
       "      <td>33.4</td>\n",
       "    </tr>\n",
       "  </tbody>\n",
       "</table>\n",
       "</div>"
      ],
      "text/plain": [
       "  city_of_present  target  percent\n",
       "0         present   33520     66.6\n",
       "1           other   16794     33.4"
      ]
     },
     "execution_count": 66,
     "metadata": {},
     "output_type": "execute_result"
    }
   ],
   "source": [
    "# Группировка городов присутствия по целевым событиям\n",
    "ta_city_pres = df_join.groupby(['city_of_present'], as_index=False)[['target']].sum()\n",
    "ta_city_pres = ta_city_pres.sort_values(by=['target'], ascending=False).reset_index(drop=True)\n",
    "\n",
    "ta_city_pres['percent'] = round((ta_city_pres['target'] / df_join['target'].sum() * 100), 1)\n",
    "ta_city_pres"
   ]
  },
  {
   "cell_type": "code",
   "execution_count": 67,
   "id": "3ce7c493",
   "metadata": {
    "hidden": true
   },
   "outputs": [
    {
     "name": "stdout",
     "output_type": "stream",
     "text": [
      "CR (Conversion Rate) трафика из городов присутствия в целевые события:\n",
      "present = 2.8%\n",
      "other = 2.5%\n"
     ]
    }
   ],
   "source": [
    "print(f'CR (Conversion Rate) трафика из городов присутствия в целевые события:')\n",
    "print(f'{ta_city_pres.city_of_present[0]} = {round(ta_city_pres.target[0] / vis_city_pres.quant[0]*100,1)}%')\n",
    "print(f'{ta_city_pres.city_of_present[1]} = {round(ta_city_pres.target[1] / vis_city_pres.quant[1]*100, 1)}%')"
   ]
  },
  {
   "cell_type": "markdown",
   "id": "378b89a2",
   "metadata": {
    "hidden": true
   },
   "source": [
    "**Вывод:** Целевой трафик из городов присутствия на треть выше трафика из других регионов, но CR в целевые события из городов присутствия незначительно превышает CR из других регионов."
   ]
  },
  {
   "cell_type": "code",
   "execution_count": 68,
   "id": "00659e30",
   "metadata": {
    "hidden": true
   },
   "outputs": [
    {
     "data": {
      "image/png": "[encoded data removed]",
      "text/plain": [
       "<Figure size 600x300 with 2 Axes>"
      ]
     },
     "metadata": {},
     "output_type": "display_data"
    }
   ],
   "source": [
    "colors = {'present': 'orangered', 'other': 'tan'}\n",
    "fig, axes = plt.subplots(1, 2, figsize=(6,3),dpi=100)\n",
    "plt.suptitle('Города присутствия')\n",
    "explode = (0.03, 0.03)\n",
    "\n",
    "for ax, df, title in zip(axes, (vis_city_pres, ta_city_pres), ('Доля визитов', 'Доля целевых событий')):\n",
    "    ax.pie(df.percent, labels=df.city_of_present, autopct = '%0.1f%%', explode=explode, colors=[colors[c] for c in df.city_of_present])\n",
    "    ax.set_title(title)"
   ]
  },
  {
   "cell_type": "markdown",
   "id": "e486dc80",
   "metadata": {
    "heading_collapsed": true,
    "jp-MarkdownHeadingCollapsed": true,
    "tags": []
   },
   "source": [
    "### 10. Автомобили"
   ]
  },
  {
   "cell_type": "code",
   "execution_count": 69,
   "id": "8b67b524",
   "metadata": {
    "hidden": true
   },
   "outputs": [
    {
     "data": {
      "text/html": [
       "<div>\n",
       "<style scoped>\n",
       "    .dataframe tbody tr th:only-of-type {\n",
       "        vertical-align: middle;\n",
       "    }\n",
       "\n",
       "    .dataframe tbody tr th {\n",
       "        vertical-align: top;\n",
       "    }\n",
       "\n",
       "    .dataframe thead th {\n",
       "        text-align: right;\n",
       "    }\n",
       "</style>\n",
       "<table border=\"1\" class=\"dataframe\">\n",
       "  <thead>\n",
       "    <tr style=\"text-align: right;\">\n",
       "      <th></th>\n",
       "      <th>session_id</th>\n",
       "      <th>target_action</th>\n",
       "      <th>auto_name</th>\n",
       "      <th>auto_model</th>\n",
       "    </tr>\n",
       "  </thead>\n",
       "  <tbody>\n",
       "    <tr>\n",
       "      <th>0</th>\n",
       "      <td>5639623078712724064.1640254056.1640254056</td>\n",
       "      <td>0</td>\n",
       "      <td>other</td>\n",
       "      <td>other</td>\n",
       "    </tr>\n",
       "    <tr>\n",
       "      <th>1</th>\n",
       "      <td>7750352294969115059.1640271109.1640271109</td>\n",
       "      <td>0</td>\n",
       "      <td>other</td>\n",
       "      <td>other</td>\n",
       "    </tr>\n",
       "    <tr>\n",
       "      <th>2</th>\n",
       "      <td>885342191847998240.1640235807.1640235807</td>\n",
       "      <td>0</td>\n",
       "      <td>volkswagen</td>\n",
       "      <td>polo</td>\n",
       "    </tr>\n",
       "    <tr>\n",
       "      <th>3</th>\n",
       "      <td>142526202120934167.1640211014.1640211014</td>\n",
       "      <td>0</td>\n",
       "      <td>other</td>\n",
       "      <td>other</td>\n",
       "    </tr>\n",
       "    <tr>\n",
       "      <th>4</th>\n",
       "      <td>3450086108837475701.1640265078.1640265078</td>\n",
       "      <td>0</td>\n",
       "      <td>mercedes-benz</td>\n",
       "      <td>cla-klasse</td>\n",
       "    </tr>\n",
       "  </tbody>\n",
       "</table>\n",
       "</div>"
      ],
      "text/plain": [
       "                                  session_id  target_action      auto_name  \\\n",
       "0  5639623078712724064.1640254056.1640254056              0          other   \n",
       "1  7750352294969115059.1640271109.1640271109              0          other   \n",
       "2   885342191847998240.1640235807.1640235807              0     volkswagen   \n",
       "3   142526202120934167.1640211014.1640211014              0          other   \n",
       "4  3450086108837475701.1640265078.1640265078              0  mercedes-benz   \n",
       "\n",
       "   auto_model  \n",
       "0       other  \n",
       "1       other  \n",
       "2        polo  \n",
       "3       other  \n",
       "4  cla-klasse  "
      ]
     },
     "execution_count": 69,
     "metadata": {},
     "output_type": "execute_result"
    }
   ],
   "source": [
    "df_h_auto = df_h_clean[['session_id', 'target_action', 'auto_name', 'auto_model']]\n",
    "df_h_auto.head()"
   ]
  },
  {
   "cell_type": "code",
   "execution_count": 70,
   "id": "dd5a54ad",
   "metadata": {
    "hidden": true
   },
   "outputs": [
    {
     "name": "stdout",
     "output_type": "stream",
     "text": [
      "Топ-10 автомобилей по количеству событий\n"
     ]
    },
    {
     "data": {
      "text/html": [
       "<div>\n",
       "<style scoped>\n",
       "    .dataframe tbody tr th:only-of-type {\n",
       "        vertical-align: middle;\n",
       "    }\n",
       "\n",
       "    .dataframe tbody tr th {\n",
       "        vertical-align: top;\n",
       "    }\n",
       "\n",
       "    .dataframe thead th {\n",
       "        text-align: right;\n",
       "    }\n",
       "</style>\n",
       "<table border=\"1\" class=\"dataframe\">\n",
       "  <thead>\n",
       "    <tr style=\"text-align: right;\">\n",
       "      <th></th>\n",
       "      <th>auto_name</th>\n",
       "      <th>auto_model</th>\n",
       "      <th>quant</th>\n",
       "      <th>q_percent</th>\n",
       "    </tr>\n",
       "  </thead>\n",
       "  <tbody>\n",
       "    <tr>\n",
       "      <th>0</th>\n",
       "      <td>other</td>\n",
       "      <td>other</td>\n",
       "      <td>12198829</td>\n",
       "      <td>77.6</td>\n",
       "    </tr>\n",
       "    <tr>\n",
       "      <th>1</th>\n",
       "      <td>skoda</td>\n",
       "      <td>rapid</td>\n",
       "      <td>442579</td>\n",
       "      <td>2.8</td>\n",
       "    </tr>\n",
       "    <tr>\n",
       "      <th>2</th>\n",
       "      <td>lada-vaz</td>\n",
       "      <td>vesta</td>\n",
       "      <td>403994</td>\n",
       "      <td>2.6</td>\n",
       "    </tr>\n",
       "    <tr>\n",
       "      <th>3</th>\n",
       "      <td>volkswagen</td>\n",
       "      <td>polo</td>\n",
       "      <td>318146</td>\n",
       "      <td>2.0</td>\n",
       "    </tr>\n",
       "    <tr>\n",
       "      <th>4</th>\n",
       "      <td>skoda</td>\n",
       "      <td>karoq</td>\n",
       "      <td>194291</td>\n",
       "      <td>1.2</td>\n",
       "    </tr>\n",
       "    <tr>\n",
       "      <th>5</th>\n",
       "      <td>mercedes-benz</td>\n",
       "      <td>e-klasse</td>\n",
       "      <td>178475</td>\n",
       "      <td>1.1</td>\n",
       "    </tr>\n",
       "    <tr>\n",
       "      <th>6</th>\n",
       "      <td>nissan</td>\n",
       "      <td>qashqai</td>\n",
       "      <td>153169</td>\n",
       "      <td>1.0</td>\n",
       "    </tr>\n",
       "    <tr>\n",
       "      <th>7</th>\n",
       "      <td>kia</td>\n",
       "      <td>rio</td>\n",
       "      <td>90299</td>\n",
       "      <td>0.6</td>\n",
       "    </tr>\n",
       "    <tr>\n",
       "      <th>8</th>\n",
       "      <td>nissan</td>\n",
       "      <td>x-trail</td>\n",
       "      <td>85595</td>\n",
       "      <td>0.5</td>\n",
       "    </tr>\n",
       "    <tr>\n",
       "      <th>9</th>\n",
       "      <td>skoda</td>\n",
       "      <td>octavia</td>\n",
       "      <td>77197</td>\n",
       "      <td>0.5</td>\n",
       "    </tr>\n",
       "    <tr>\n",
       "      <th>10</th>\n",
       "      <td>renault</td>\n",
       "      <td>duster</td>\n",
       "      <td>76687</td>\n",
       "      <td>0.5</td>\n",
       "    </tr>\n",
       "  </tbody>\n",
       "</table>\n",
       "</div>"
      ],
      "text/plain": [
       "        auto_name auto_model     quant  q_percent\n",
       "0           other      other  12198829       77.6\n",
       "1           skoda      rapid    442579        2.8\n",
       "2        lada-vaz      vesta    403994        2.6\n",
       "3      volkswagen       polo    318146        2.0\n",
       "4           skoda      karoq    194291        1.2\n",
       "5   mercedes-benz   e-klasse    178475        1.1\n",
       "6          nissan    qashqai    153169        1.0\n",
       "7             kia        rio     90299        0.6\n",
       "8          nissan    x-trail     85595        0.5\n",
       "9           skoda    octavia     77197        0.5\n",
       "10        renault     duster     76687        0.5"
      ]
     },
     "execution_count": 70,
     "metadata": {},
     "output_type": "execute_result"
    }
   ],
   "source": [
    "# Группировка автомобилей по количеству событий\n",
    "vis_auto = df_h_auto.groupby(['auto_name', 'auto_model'], as_index=False)[['session_id']].count()\n",
    "vis_auto = vis_auto.rename(columns={'session_id': 'quant'})\n",
    "vis_auto = vis_auto.sort_values(by=['quant'], ascending=False).reset_index(drop=True)\n",
    "\n",
    "vis_auto['q_percent'] = round((vis_auto['quant'] / df_h_auto['session_id'].count() * 100), 1)\n",
    "\n",
    "print(f'Топ-10 автомобилей по количеству событий')\n",
    "vis_auto[:11]"
   ]
  },
  {
   "cell_type": "code",
   "execution_count": 71,
   "id": "528a5f1b",
   "metadata": {
    "hidden": true
   },
   "outputs": [
    {
     "name": "stdout",
     "output_type": "stream",
     "text": [
      "Топ-20 автомобилей по количеству целевых событий\n"
     ]
    },
    {
     "data": {
      "text/html": [
       "<div>\n",
       "<style scoped>\n",
       "    .dataframe tbody tr th:only-of-type {\n",
       "        vertical-align: middle;\n",
       "    }\n",
       "\n",
       "    .dataframe tbody tr th {\n",
       "        vertical-align: top;\n",
       "    }\n",
       "\n",
       "    .dataframe thead th {\n",
       "        text-align: right;\n",
       "    }\n",
       "</style>\n",
       "<table border=\"1\" class=\"dataframe\">\n",
       "  <thead>\n",
       "    <tr style=\"text-align: right;\">\n",
       "      <th></th>\n",
       "      <th>auto_name</th>\n",
       "      <th>auto_model</th>\n",
       "      <th>target_action</th>\n",
       "      <th>t_percent</th>\n",
       "    </tr>\n",
       "  </thead>\n",
       "  <tbody>\n",
       "    <tr>\n",
       "      <th>0</th>\n",
       "      <td>other</td>\n",
       "      <td>other</td>\n",
       "      <td>72906</td>\n",
       "      <td>69.5</td>\n",
       "    </tr>\n",
       "    <tr>\n",
       "      <th>1</th>\n",
       "      <td>skoda</td>\n",
       "      <td>rapid</td>\n",
       "      <td>6030</td>\n",
       "      <td>5.7</td>\n",
       "    </tr>\n",
       "    <tr>\n",
       "      <th>2</th>\n",
       "      <td>lada-vaz</td>\n",
       "      <td>vesta</td>\n",
       "      <td>5356</td>\n",
       "      <td>5.1</td>\n",
       "    </tr>\n",
       "    <tr>\n",
       "      <th>3</th>\n",
       "      <td>volkswagen</td>\n",
       "      <td>polo</td>\n",
       "      <td>4634</td>\n",
       "      <td>4.4</td>\n",
       "    </tr>\n",
       "    <tr>\n",
       "      <th>4</th>\n",
       "      <td>kia</td>\n",
       "      <td>rio</td>\n",
       "      <td>1438</td>\n",
       "      <td>1.4</td>\n",
       "    </tr>\n",
       "    <tr>\n",
       "      <th>5</th>\n",
       "      <td>skoda</td>\n",
       "      <td>karoq</td>\n",
       "      <td>1305</td>\n",
       "      <td>1.2</td>\n",
       "    </tr>\n",
       "    <tr>\n",
       "      <th>6</th>\n",
       "      <td>mercedes-benz</td>\n",
       "      <td>e-klasse</td>\n",
       "      <td>1245</td>\n",
       "      <td>1.2</td>\n",
       "    </tr>\n",
       "    <tr>\n",
       "      <th>7</th>\n",
       "      <td>toyota</td>\n",
       "      <td>camry</td>\n",
       "      <td>1145</td>\n",
       "      <td>1.1</td>\n",
       "    </tr>\n",
       "    <tr>\n",
       "      <th>8</th>\n",
       "      <td>renault</td>\n",
       "      <td>logan</td>\n",
       "      <td>893</td>\n",
       "      <td>0.9</td>\n",
       "    </tr>\n",
       "    <tr>\n",
       "      <th>9</th>\n",
       "      <td>nissan</td>\n",
       "      <td>qashqai</td>\n",
       "      <td>891</td>\n",
       "      <td>0.8</td>\n",
       "    </tr>\n",
       "    <tr>\n",
       "      <th>10</th>\n",
       "      <td>skoda</td>\n",
       "      <td>octavia</td>\n",
       "      <td>850</td>\n",
       "      <td>0.8</td>\n",
       "    </tr>\n",
       "    <tr>\n",
       "      <th>11</th>\n",
       "      <td>kia</td>\n",
       "      <td>seltos</td>\n",
       "      <td>651</td>\n",
       "      <td>0.6</td>\n",
       "    </tr>\n",
       "    <tr>\n",
       "      <th>12</th>\n",
       "      <td>bmw</td>\n",
       "      <td>x5</td>\n",
       "      <td>604</td>\n",
       "      <td>0.6</td>\n",
       "    </tr>\n",
       "    <tr>\n",
       "      <th>13</th>\n",
       "      <td>kia</td>\n",
       "      <td>sorento</td>\n",
       "      <td>583</td>\n",
       "      <td>0.6</td>\n",
       "    </tr>\n",
       "    <tr>\n",
       "      <th>14</th>\n",
       "      <td>haval</td>\n",
       "      <td>jolion</td>\n",
       "      <td>582</td>\n",
       "      <td>0.6</td>\n",
       "    </tr>\n",
       "    <tr>\n",
       "      <th>15</th>\n",
       "      <td>nissan</td>\n",
       "      <td>x-trail</td>\n",
       "      <td>495</td>\n",
       "      <td>0.5</td>\n",
       "    </tr>\n",
       "    <tr>\n",
       "      <th>16</th>\n",
       "      <td>hyundai</td>\n",
       "      <td>solaris</td>\n",
       "      <td>466</td>\n",
       "      <td>0.4</td>\n",
       "    </tr>\n",
       "    <tr>\n",
       "      <th>17</th>\n",
       "      <td>renault</td>\n",
       "      <td>duster</td>\n",
       "      <td>418</td>\n",
       "      <td>0.4</td>\n",
       "    </tr>\n",
       "    <tr>\n",
       "      <th>18</th>\n",
       "      <td>volkswagen</td>\n",
       "      <td>tiguan</td>\n",
       "      <td>291</td>\n",
       "      <td>0.3</td>\n",
       "    </tr>\n",
       "    <tr>\n",
       "      <th>19</th>\n",
       "      <td>volvo</td>\n",
       "      <td>s90</td>\n",
       "      <td>248</td>\n",
       "      <td>0.2</td>\n",
       "    </tr>\n",
       "  </tbody>\n",
       "</table>\n",
       "</div>"
      ],
      "text/plain": [
       "        auto_name auto_model  target_action  t_percent\n",
       "0           other      other          72906       69.5\n",
       "1           skoda      rapid           6030        5.7\n",
       "2        lada-vaz      vesta           5356        5.1\n",
       "3      volkswagen       polo           4634        4.4\n",
       "4             kia        rio           1438        1.4\n",
       "5           skoda      karoq           1305        1.2\n",
       "6   mercedes-benz   e-klasse           1245        1.2\n",
       "7          toyota      camry           1145        1.1\n",
       "8         renault      logan            893        0.9\n",
       "9          nissan    qashqai            891        0.8\n",
       "10          skoda    octavia            850        0.8\n",
       "11            kia     seltos            651        0.6\n",
       "12            bmw         x5            604        0.6\n",
       "13            kia    sorento            583        0.6\n",
       "14          haval     jolion            582        0.6\n",
       "15         nissan    x-trail            495        0.5\n",
       "16        hyundai    solaris            466        0.4\n",
       "17        renault     duster            418        0.4\n",
       "18     volkswagen     tiguan            291        0.3\n",
       "19          volvo        s90            248        0.2"
      ]
     },
     "execution_count": 71,
     "metadata": {},
     "output_type": "execute_result"
    }
   ],
   "source": [
    "# Группировка автомобилей по количеству целевых событий\n",
    "ta_auto = df_h_auto.groupby(['auto_name', 'auto_model'], as_index=False)[['target_action']].sum()\n",
    "ta_auto = ta_auto.sort_values(by=['target_action'], ascending=False).reset_index(drop=True)\n",
    "\n",
    "ta_auto['t_percent'] = round((ta_auto['target_action'] / df_h_auto['target_action'].sum() * 100), 1)\n",
    "\n",
    "print(f'Топ-20 автомобилей по количеству целевых событий')\n",
    "ta_auto[:20]"
   ]
  },
  {
   "cell_type": "code",
   "execution_count": 72,
   "id": "2ebd848d",
   "metadata": {
    "hidden": true
   },
   "outputs": [
    {
     "data": {
      "text/html": [
       "<div>\n",
       "<style scoped>\n",
       "    .dataframe tbody tr th:only-of-type {\n",
       "        vertical-align: middle;\n",
       "    }\n",
       "\n",
       "    .dataframe tbody tr th {\n",
       "        vertical-align: top;\n",
       "    }\n",
       "\n",
       "    .dataframe thead th {\n",
       "        text-align: right;\n",
       "    }\n",
       "</style>\n",
       "<table border=\"1\" class=\"dataframe\">\n",
       "  <thead>\n",
       "    <tr style=\"text-align: right;\">\n",
       "      <th></th>\n",
       "      <th>auto_name</th>\n",
       "      <th>auto_model</th>\n",
       "      <th>quant</th>\n",
       "      <th>q_percent</th>\n",
       "      <th>target_action</th>\n",
       "      <th>t_percent</th>\n",
       "      <th>conversion_rate</th>\n",
       "    </tr>\n",
       "  </thead>\n",
       "  <tbody>\n",
       "    <tr>\n",
       "      <th>0</th>\n",
       "      <td>other</td>\n",
       "      <td>other</td>\n",
       "      <td>12198829</td>\n",
       "      <td>77.6</td>\n",
       "      <td>72906</td>\n",
       "      <td>69.5</td>\n",
       "      <td>0.6</td>\n",
       "    </tr>\n",
       "    <tr>\n",
       "      <th>1</th>\n",
       "      <td>skoda</td>\n",
       "      <td>rapid</td>\n",
       "      <td>442579</td>\n",
       "      <td>2.8</td>\n",
       "      <td>6030</td>\n",
       "      <td>5.7</td>\n",
       "      <td>1.4</td>\n",
       "    </tr>\n",
       "    <tr>\n",
       "      <th>2</th>\n",
       "      <td>lada-vaz</td>\n",
       "      <td>vesta</td>\n",
       "      <td>403994</td>\n",
       "      <td>2.6</td>\n",
       "      <td>5356</td>\n",
       "      <td>5.1</td>\n",
       "      <td>1.3</td>\n",
       "    </tr>\n",
       "    <tr>\n",
       "      <th>3</th>\n",
       "      <td>volkswagen</td>\n",
       "      <td>polo</td>\n",
       "      <td>318146</td>\n",
       "      <td>2.0</td>\n",
       "      <td>4634</td>\n",
       "      <td>4.4</td>\n",
       "      <td>1.5</td>\n",
       "    </tr>\n",
       "    <tr>\n",
       "      <th>4</th>\n",
       "      <td>kia</td>\n",
       "      <td>rio</td>\n",
       "      <td>90299</td>\n",
       "      <td>0.6</td>\n",
       "      <td>1438</td>\n",
       "      <td>1.4</td>\n",
       "      <td>1.6</td>\n",
       "    </tr>\n",
       "    <tr>\n",
       "      <th>5</th>\n",
       "      <td>skoda</td>\n",
       "      <td>karoq</td>\n",
       "      <td>194291</td>\n",
       "      <td>1.2</td>\n",
       "      <td>1305</td>\n",
       "      <td>1.2</td>\n",
       "      <td>0.7</td>\n",
       "    </tr>\n",
       "    <tr>\n",
       "      <th>6</th>\n",
       "      <td>mercedes-benz</td>\n",
       "      <td>e-klasse</td>\n",
       "      <td>178475</td>\n",
       "      <td>1.1</td>\n",
       "      <td>1245</td>\n",
       "      <td>1.2</td>\n",
       "      <td>0.7</td>\n",
       "    </tr>\n",
       "    <tr>\n",
       "      <th>7</th>\n",
       "      <td>toyota</td>\n",
       "      <td>camry</td>\n",
       "      <td>73243</td>\n",
       "      <td>0.5</td>\n",
       "      <td>1145</td>\n",
       "      <td>1.1</td>\n",
       "      <td>1.6</td>\n",
       "    </tr>\n",
       "    <tr>\n",
       "      <th>8</th>\n",
       "      <td>renault</td>\n",
       "      <td>logan</td>\n",
       "      <td>72121</td>\n",
       "      <td>0.5</td>\n",
       "      <td>893</td>\n",
       "      <td>0.9</td>\n",
       "      <td>1.2</td>\n",
       "    </tr>\n",
       "    <tr>\n",
       "      <th>9</th>\n",
       "      <td>nissan</td>\n",
       "      <td>qashqai</td>\n",
       "      <td>153169</td>\n",
       "      <td>1.0</td>\n",
       "      <td>891</td>\n",
       "      <td>0.8</td>\n",
       "      <td>0.6</td>\n",
       "    </tr>\n",
       "    <tr>\n",
       "      <th>10</th>\n",
       "      <td>skoda</td>\n",
       "      <td>octavia</td>\n",
       "      <td>77197</td>\n",
       "      <td>0.5</td>\n",
       "      <td>850</td>\n",
       "      <td>0.8</td>\n",
       "      <td>1.1</td>\n",
       "    </tr>\n",
       "  </tbody>\n",
       "</table>\n",
       "</div>"
      ],
      "text/plain": [
       "        auto_name auto_model     quant  q_percent  target_action  t_percent  \\\n",
       "0           other      other  12198829       77.6          72906       69.5   \n",
       "1           skoda      rapid    442579        2.8           6030        5.7   \n",
       "2        lada-vaz      vesta    403994        2.6           5356        5.1   \n",
       "3      volkswagen       polo    318146        2.0           4634        4.4   \n",
       "4             kia        rio     90299        0.6           1438        1.4   \n",
       "5           skoda      karoq    194291        1.2           1305        1.2   \n",
       "6   mercedes-benz   e-klasse    178475        1.1           1245        1.2   \n",
       "7          toyota      camry     73243        0.5           1145        1.1   \n",
       "8         renault      logan     72121        0.5            893        0.9   \n",
       "9          nissan    qashqai    153169        1.0            891        0.8   \n",
       "10          skoda    octavia     77197        0.5            850        0.8   \n",
       "\n",
       "    conversion_rate  \n",
       "0               0.6  \n",
       "1               1.4  \n",
       "2               1.3  \n",
       "3               1.5  \n",
       "4               1.6  \n",
       "5               0.7  \n",
       "6               0.7  \n",
       "7               1.6  \n",
       "8               1.2  \n",
       "9               0.6  \n",
       "10              1.1  "
      ]
     },
     "execution_count": 72,
     "metadata": {},
     "output_type": "execute_result"
    }
   ],
   "source": [
    "# Объединение сгруппированных датафреймов по количеству визитов и целевым событиям\n",
    "df_auto = pd.merge(left=vis_auto, right=ta_auto, on=['auto_name', 'auto_model'], how='inner')\n",
    "\n",
    "# Сортировка по target_action\n",
    "df_auto = df_auto.sort_values(by=['target_action'], ascending=False).reset_index(drop=True)\n",
    "df_auto['conversion_rate'] = round((df_auto['target_action'] / df_auto['quant'] * 100), 1)\n",
    "\n",
    "df_auto[:11]"
   ]
  },
  {
   "cell_type": "code",
   "execution_count": 73,
   "id": "2c5210d4",
   "metadata": {
    "hidden": true
   },
   "outputs": [
    {
     "name": "stdout",
     "output_type": "stream",
     "text": [
      "Топ автомобилей по уровню CR\n"
     ]
    },
    {
     "data": {
      "text/html": [
       "<div>\n",
       "<style scoped>\n",
       "    .dataframe tbody tr th:only-of-type {\n",
       "        vertical-align: middle;\n",
       "    }\n",
       "\n",
       "    .dataframe tbody tr th {\n",
       "        vertical-align: top;\n",
       "    }\n",
       "\n",
       "    .dataframe thead th {\n",
       "        text-align: right;\n",
       "    }\n",
       "</style>\n",
       "<table border=\"1\" class=\"dataframe\">\n",
       "  <thead>\n",
       "    <tr style=\"text-align: right;\">\n",
       "      <th></th>\n",
       "      <th>auto_name</th>\n",
       "      <th>auto_model</th>\n",
       "      <th>quant</th>\n",
       "      <th>q_percent</th>\n",
       "      <th>target_action</th>\n",
       "      <th>t_percent</th>\n",
       "      <th>conversion_rate</th>\n",
       "    </tr>\n",
       "  </thead>\n",
       "  <tbody>\n",
       "    <tr>\n",
       "      <th>0</th>\n",
       "      <td>toyota</td>\n",
       "      <td>auris</td>\n",
       "      <td>2</td>\n",
       "      <td>0.0</td>\n",
       "      <td>2</td>\n",
       "      <td>0.0</td>\n",
       "      <td>100.0</td>\n",
       "    </tr>\n",
       "    <tr>\n",
       "      <th>1</th>\n",
       "      <td>sberauto.com</td>\n",
       "      <td>autosubscribe&amp;referrer=af_tranid=yeecoe-3r622k...</td>\n",
       "      <td>9</td>\n",
       "      <td>0.0</td>\n",
       "      <td>7</td>\n",
       "      <td>0.0</td>\n",
       "      <td>77.8</td>\n",
       "    </tr>\n",
       "    <tr>\n",
       "      <th>2</th>\n",
       "      <td>macan</td>\n",
       "      <td>other</td>\n",
       "      <td>3</td>\n",
       "      <td>0.0</td>\n",
       "      <td>2</td>\n",
       "      <td>0.0</td>\n",
       "      <td>66.7</td>\n",
       "    </tr>\n",
       "    <tr>\n",
       "      <th>3</th>\n",
       "      <td>sberauto.com</td>\n",
       "      <td>autosubscribe&amp;referrer=af_tranid=lywyrxs4as3kf...</td>\n",
       "      <td>5</td>\n",
       "      <td>0.0</td>\n",
       "      <td>3</td>\n",
       "      <td>0.0</td>\n",
       "      <td>60.0</td>\n",
       "    </tr>\n",
       "    <tr>\n",
       "      <th>4</th>\n",
       "      <td>sberauto.com</td>\n",
       "      <td>autosubscribe&amp;referrer=af_tranid=9ouahk6mcib9s...</td>\n",
       "      <td>5</td>\n",
       "      <td>0.0</td>\n",
       "      <td>3</td>\n",
       "      <td>0.0</td>\n",
       "      <td>60.0</td>\n",
       "    </tr>\n",
       "    <tr>\n",
       "      <th>5</th>\n",
       "      <td>ceed</td>\n",
       "      <td>other</td>\n",
       "      <td>5</td>\n",
       "      <td>0.0</td>\n",
       "      <td>2</td>\n",
       "      <td>0.0</td>\n",
       "      <td>40.0</td>\n",
       "    </tr>\n",
       "    <tr>\n",
       "      <th>6</th>\n",
       "      <td>honda</td>\n",
       "      <td>cr-v</td>\n",
       "      <td>7</td>\n",
       "      <td>0.0</td>\n",
       "      <td>2</td>\n",
       "      <td>0.0</td>\n",
       "      <td>28.6</td>\n",
       "    </tr>\n",
       "    <tr>\n",
       "      <th>7</th>\n",
       "      <td>x1</td>\n",
       "      <td>other</td>\n",
       "      <td>7</td>\n",
       "      <td>0.0</td>\n",
       "      <td>2</td>\n",
       "      <td>0.0</td>\n",
       "      <td>28.6</td>\n",
       "    </tr>\n",
       "    <tr>\n",
       "      <th>8</th>\n",
       "      <td>sberauto.com</td>\n",
       "      <td>autosubscribe&amp;referrer=af_tranid=0qqowm3pozeyf...</td>\n",
       "      <td>7</td>\n",
       "      <td>0.0</td>\n",
       "      <td>2</td>\n",
       "      <td>0.0</td>\n",
       "      <td>28.6</td>\n",
       "    </tr>\n",
       "    <tr>\n",
       "      <th>9</th>\n",
       "      <td>alfa-romeo</td>\n",
       "      <td>other</td>\n",
       "      <td>8</td>\n",
       "      <td>0.0</td>\n",
       "      <td>2</td>\n",
       "      <td>0.0</td>\n",
       "      <td>25.0</td>\n",
       "    </tr>\n",
       "    <tr>\n",
       "      <th>10</th>\n",
       "      <td>audi</td>\n",
       "      <td>a6</td>\n",
       "      <td>9</td>\n",
       "      <td>0.0</td>\n",
       "      <td>2</td>\n",
       "      <td>0.0</td>\n",
       "      <td>22.2</td>\n",
       "    </tr>\n",
       "    <tr>\n",
       "      <th>11</th>\n",
       "      <td>sberauto.com</td>\n",
       "      <td>autosubscribe&amp;referrer=af_tranid=urietdcilsp88...</td>\n",
       "      <td>5</td>\n",
       "      <td>0.0</td>\n",
       "      <td>1</td>\n",
       "      <td>0.0</td>\n",
       "      <td>20.0</td>\n",
       "    </tr>\n",
       "    <tr>\n",
       "      <th>12</th>\n",
       "      <td>nexia</td>\n",
       "      <td>other</td>\n",
       "      <td>10</td>\n",
       "      <td>0.0</td>\n",
       "      <td>2</td>\n",
       "      <td>0.0</td>\n",
       "      <td>20.0</td>\n",
       "    </tr>\n",
       "    <tr>\n",
       "      <th>13</th>\n",
       "      <td>g-klasse</td>\n",
       "      <td>sale</td>\n",
       "      <td>16</td>\n",
       "      <td>0.0</td>\n",
       "      <td>3</td>\n",
       "      <td>0.0</td>\n",
       "      <td>18.8</td>\n",
       "    </tr>\n",
       "    <tr>\n",
       "      <th>14</th>\n",
       "      <td>defender</td>\n",
       "      <td>other</td>\n",
       "      <td>13</td>\n",
       "      <td>0.0</td>\n",
       "      <td>2</td>\n",
       "      <td>0.0</td>\n",
       "      <td>15.4</td>\n",
       "    </tr>\n",
       "    <tr>\n",
       "      <th>15</th>\n",
       "      <td>uaz</td>\n",
       "      <td>other</td>\n",
       "      <td>30</td>\n",
       "      <td>0.0</td>\n",
       "      <td>4</td>\n",
       "      <td>0.0</td>\n",
       "      <td>13.3</td>\n",
       "    </tr>\n",
       "    <tr>\n",
       "      <th>16</th>\n",
       "      <td>k5</td>\n",
       "      <td>other</td>\n",
       "      <td>39</td>\n",
       "      <td>0.0</td>\n",
       "      <td>4</td>\n",
       "      <td>0.0</td>\n",
       "      <td>10.3</td>\n",
       "    </tr>\n",
       "    <tr>\n",
       "      <th>17</th>\n",
       "      <td>bmw</td>\n",
       "      <td>x1</td>\n",
       "      <td>174</td>\n",
       "      <td>0.0</td>\n",
       "      <td>16</td>\n",
       "      <td>0.0</td>\n",
       "      <td>9.2</td>\n",
       "    </tr>\n",
       "    <tr>\n",
       "      <th>18</th>\n",
       "      <td>glb</td>\n",
       "      <td>sale</td>\n",
       "      <td>33</td>\n",
       "      <td>0.0</td>\n",
       "      <td>3</td>\n",
       "      <td>0.0</td>\n",
       "      <td>9.1</td>\n",
       "    </tr>\n",
       "    <tr>\n",
       "      <th>19</th>\n",
       "      <td>infiniti</td>\n",
       "      <td>qx60</td>\n",
       "      <td>211</td>\n",
       "      <td>0.0</td>\n",
       "      <td>18</td>\n",
       "      <td>0.0</td>\n",
       "      <td>8.5</td>\n",
       "    </tr>\n",
       "    <tr>\n",
       "      <th>20</th>\n",
       "      <td>bmw</td>\n",
       "      <td>x3-m</td>\n",
       "      <td>680</td>\n",
       "      <td>0.0</td>\n",
       "      <td>56</td>\n",
       "      <td>0.1</td>\n",
       "      <td>8.2</td>\n",
       "    </tr>\n",
       "    <tr>\n",
       "      <th>21</th>\n",
       "      <td>renault</td>\n",
       "      <td>arkana</td>\n",
       "      <td>1904</td>\n",
       "      <td>0.0</td>\n",
       "      <td>145</td>\n",
       "      <td>0.1</td>\n",
       "      <td>7.6</td>\n",
       "    </tr>\n",
       "    <tr>\n",
       "      <th>22</th>\n",
       "      <td>sonata</td>\n",
       "      <td>other</td>\n",
       "      <td>38</td>\n",
       "      <td>0.0</td>\n",
       "      <td>2</td>\n",
       "      <td>0.0</td>\n",
       "      <td>5.3</td>\n",
       "    </tr>\n",
       "    <tr>\n",
       "      <th>23</th>\n",
       "      <td>qashqai</td>\n",
       "      <td>sale</td>\n",
       "      <td>115</td>\n",
       "      <td>0.0</td>\n",
       "      <td>6</td>\n",
       "      <td>0.0</td>\n",
       "      <td>5.2</td>\n",
       "    </tr>\n",
       "    <tr>\n",
       "      <th>24</th>\n",
       "      <td>bmw</td>\n",
       "      <td>x4-m</td>\n",
       "      <td>103</td>\n",
       "      <td>0.0</td>\n",
       "      <td>5</td>\n",
       "      <td>0.0</td>\n",
       "      <td>4.9</td>\n",
       "    </tr>\n",
       "    <tr>\n",
       "      <th>25</th>\n",
       "      <td>zen.yandex.com</td>\n",
       "      <td>other</td>\n",
       "      <td>202</td>\n",
       "      <td>0.0</td>\n",
       "      <td>9</td>\n",
       "      <td>0.0</td>\n",
       "      <td>4.5</td>\n",
       "    </tr>\n",
       "    <tr>\n",
       "      <th>26</th>\n",
       "      <td>solaris</td>\n",
       "      <td>sale</td>\n",
       "      <td>93</td>\n",
       "      <td>0.0</td>\n",
       "      <td>4</td>\n",
       "      <td>0.0</td>\n",
       "      <td>4.3</td>\n",
       "    </tr>\n",
       "    <tr>\n",
       "      <th>27</th>\n",
       "      <td>a6</td>\n",
       "      <td>other</td>\n",
       "      <td>46</td>\n",
       "      <td>0.0</td>\n",
       "      <td>2</td>\n",
       "      <td>0.0</td>\n",
       "      <td>4.3</td>\n",
       "    </tr>\n",
       "    <tr>\n",
       "      <th>28</th>\n",
       "      <td>volkswagen</td>\n",
       "      <td>passat-cc</td>\n",
       "      <td>245</td>\n",
       "      <td>0.0</td>\n",
       "      <td>10</td>\n",
       "      <td>0.0</td>\n",
       "      <td>4.1</td>\n",
       "    </tr>\n",
       "    <tr>\n",
       "      <th>29</th>\n",
       "      <td>cadillac</td>\n",
       "      <td>other</td>\n",
       "      <td>53</td>\n",
       "      <td>0.0</td>\n",
       "      <td>2</td>\n",
       "      <td>0.0</td>\n",
       "      <td>3.8</td>\n",
       "    </tr>\n",
       "  </tbody>\n",
       "</table>\n",
       "</div>"
      ],
      "text/plain": [
       "         auto_name                                         auto_model  quant  \\\n",
       "0           toyota                                              auris      2   \n",
       "1     sberauto.com  autosubscribe&referrer=af_tranid=yeecoe-3r622k...      9   \n",
       "2            macan                                              other      3   \n",
       "3     sberauto.com  autosubscribe&referrer=af_tranid=lywyrxs4as3kf...      5   \n",
       "4     sberauto.com  autosubscribe&referrer=af_tranid=9ouahk6mcib9s...      5   \n",
       "5             ceed                                              other      5   \n",
       "6            honda                                               cr-v      7   \n",
       "7               x1                                              other      7   \n",
       "8     sberauto.com  autosubscribe&referrer=af_tranid=0qqowm3pozeyf...      7   \n",
       "9       alfa-romeo                                              other      8   \n",
       "10            audi                                                 a6      9   \n",
       "11    sberauto.com  autosubscribe&referrer=af_tranid=urietdcilsp88...      5   \n",
       "12           nexia                                              other     10   \n",
       "13        g-klasse                                               sale     16   \n",
       "14        defender                                              other     13   \n",
       "15             uaz                                              other     30   \n",
       "16              k5                                              other     39   \n",
       "17             bmw                                                 x1    174   \n",
       "18             glb                                               sale     33   \n",
       "19        infiniti                                               qx60    211   \n",
       "20             bmw                                               x3-m    680   \n",
       "21         renault                                             arkana   1904   \n",
       "22          sonata                                              other     38   \n",
       "23         qashqai                                               sale    115   \n",
       "24             bmw                                               x4-m    103   \n",
       "25  zen.yandex.com                                              other    202   \n",
       "26         solaris                                               sale     93   \n",
       "27              a6                                              other     46   \n",
       "28      volkswagen                                          passat-cc    245   \n",
       "29        cadillac                                              other     53   \n",
       "\n",
       "    q_percent  target_action  t_percent  conversion_rate  \n",
       "0         0.0              2        0.0            100.0  \n",
       "1         0.0              7        0.0             77.8  \n",
       "2         0.0              2        0.0             66.7  \n",
       "3         0.0              3        0.0             60.0  \n",
       "4         0.0              3        0.0             60.0  \n",
       "5         0.0              2        0.0             40.0  \n",
       "6         0.0              2        0.0             28.6  \n",
       "7         0.0              2        0.0             28.6  \n",
       "8         0.0              2        0.0             28.6  \n",
       "9         0.0              2        0.0             25.0  \n",
       "10        0.0              2        0.0             22.2  \n",
       "11        0.0              1        0.0             20.0  \n",
       "12        0.0              2        0.0             20.0  \n",
       "13        0.0              3        0.0             18.8  \n",
       "14        0.0              2        0.0             15.4  \n",
       "15        0.0              4        0.0             13.3  \n",
       "16        0.0              4        0.0             10.3  \n",
       "17        0.0             16        0.0              9.2  \n",
       "18        0.0              3        0.0              9.1  \n",
       "19        0.0             18        0.0              8.5  \n",
       "20        0.0             56        0.1              8.2  \n",
       "21        0.0            145        0.1              7.6  \n",
       "22        0.0              2        0.0              5.3  \n",
       "23        0.0              6        0.0              5.2  \n",
       "24        0.0              5        0.0              4.9  \n",
       "25        0.0              9        0.0              4.5  \n",
       "26        0.0              4        0.0              4.3  \n",
       "27        0.0              2        0.0              4.3  \n",
       "28        0.0             10        0.0              4.1  \n",
       "29        0.0              2        0.0              3.8  "
      ]
     },
     "execution_count": 73,
     "metadata": {},
     "output_type": "execute_result"
    }
   ],
   "source": [
    "# Сортировка по conversion_rate\n",
    "df_auto_cr = df_auto.sort_values(by=['conversion_rate'], ascending=False).reset_index(drop=True)\n",
    "print(f'Топ автомобилей по уровню CR')\n",
    "df_auto_cr[:30]"
   ]
  },
  {
   "cell_type": "code",
   "execution_count": 74,
   "id": "39561dca",
   "metadata": {
    "hidden": true
   },
   "outputs": [
    {
     "data": {
      "text/plain": [
       "(5669, 7)"
      ]
     },
     "execution_count": 74,
     "metadata": {},
     "output_type": "execute_result"
    }
   ],
   "source": [
    "# Размерность сгруппированного по авто датафрейма\n",
    "df_auto_cr.shape"
   ]
  },
  {
   "cell_type": "code",
   "execution_count": 75,
   "id": "916588bd",
   "metadata": {
    "hidden": true
   },
   "outputs": [
    {
     "data": {
      "text/html": [
       "<div>\n",
       "<style scoped>\n",
       "    .dataframe tbody tr th:only-of-type {\n",
       "        vertical-align: middle;\n",
       "    }\n",
       "\n",
       "    .dataframe tbody tr th {\n",
       "        vertical-align: top;\n",
       "    }\n",
       "\n",
       "    .dataframe thead th {\n",
       "        text-align: right;\n",
       "    }\n",
       "</style>\n",
       "<table border=\"1\" class=\"dataframe\">\n",
       "  <thead>\n",
       "    <tr style=\"text-align: right;\">\n",
       "      <th></th>\n",
       "      <th>auto_name</th>\n",
       "      <th>auto_model</th>\n",
       "      <th>quant</th>\n",
       "      <th>q_percent</th>\n",
       "      <th>target_action</th>\n",
       "      <th>t_percent</th>\n",
       "      <th>conversion_rate</th>\n",
       "    </tr>\n",
       "  </thead>\n",
       "  <tbody>\n",
       "    <tr>\n",
       "      <th>0</th>\n",
       "      <td>toyota</td>\n",
       "      <td>auris</td>\n",
       "      <td>2</td>\n",
       "      <td>0.0</td>\n",
       "      <td>2</td>\n",
       "      <td>0.0</td>\n",
       "      <td>100.0</td>\n",
       "    </tr>\n",
       "    <tr>\n",
       "      <th>2</th>\n",
       "      <td>macan</td>\n",
       "      <td>other</td>\n",
       "      <td>3</td>\n",
       "      <td>0.0</td>\n",
       "      <td>2</td>\n",
       "      <td>0.0</td>\n",
       "      <td>66.7</td>\n",
       "    </tr>\n",
       "    <tr>\n",
       "      <th>5</th>\n",
       "      <td>ceed</td>\n",
       "      <td>other</td>\n",
       "      <td>5</td>\n",
       "      <td>0.0</td>\n",
       "      <td>2</td>\n",
       "      <td>0.0</td>\n",
       "      <td>40.0</td>\n",
       "    </tr>\n",
       "    <tr>\n",
       "      <th>6</th>\n",
       "      <td>honda</td>\n",
       "      <td>cr-v</td>\n",
       "      <td>7</td>\n",
       "      <td>0.0</td>\n",
       "      <td>2</td>\n",
       "      <td>0.0</td>\n",
       "      <td>28.6</td>\n",
       "    </tr>\n",
       "    <tr>\n",
       "      <th>7</th>\n",
       "      <td>x1</td>\n",
       "      <td>other</td>\n",
       "      <td>7</td>\n",
       "      <td>0.0</td>\n",
       "      <td>2</td>\n",
       "      <td>0.0</td>\n",
       "      <td>28.6</td>\n",
       "    </tr>\n",
       "    <tr>\n",
       "      <th>9</th>\n",
       "      <td>alfa-romeo</td>\n",
       "      <td>other</td>\n",
       "      <td>8</td>\n",
       "      <td>0.0</td>\n",
       "      <td>2</td>\n",
       "      <td>0.0</td>\n",
       "      <td>25.0</td>\n",
       "    </tr>\n",
       "    <tr>\n",
       "      <th>10</th>\n",
       "      <td>audi</td>\n",
       "      <td>a6</td>\n",
       "      <td>9</td>\n",
       "      <td>0.0</td>\n",
       "      <td>2</td>\n",
       "      <td>0.0</td>\n",
       "      <td>22.2</td>\n",
       "    </tr>\n",
       "    <tr>\n",
       "      <th>12</th>\n",
       "      <td>nexia</td>\n",
       "      <td>other</td>\n",
       "      <td>10</td>\n",
       "      <td>0.0</td>\n",
       "      <td>2</td>\n",
       "      <td>0.0</td>\n",
       "      <td>20.0</td>\n",
       "    </tr>\n",
       "    <tr>\n",
       "      <th>13</th>\n",
       "      <td>g-klasse</td>\n",
       "      <td>sale</td>\n",
       "      <td>16</td>\n",
       "      <td>0.0</td>\n",
       "      <td>3</td>\n",
       "      <td>0.0</td>\n",
       "      <td>18.8</td>\n",
       "    </tr>\n",
       "    <tr>\n",
       "      <th>14</th>\n",
       "      <td>defender</td>\n",
       "      <td>other</td>\n",
       "      <td>13</td>\n",
       "      <td>0.0</td>\n",
       "      <td>2</td>\n",
       "      <td>0.0</td>\n",
       "      <td>15.4</td>\n",
       "    </tr>\n",
       "  </tbody>\n",
       "</table>\n",
       "</div>"
      ],
      "text/plain": [
       "     auto_name auto_model  quant  q_percent  target_action  t_percent  \\\n",
       "0       toyota      auris      2        0.0              2        0.0   \n",
       "2        macan      other      3        0.0              2        0.0   \n",
       "5         ceed      other      5        0.0              2        0.0   \n",
       "6        honda       cr-v      7        0.0              2        0.0   \n",
       "7           x1      other      7        0.0              2        0.0   \n",
       "9   alfa-romeo      other      8        0.0              2        0.0   \n",
       "10        audi         a6      9        0.0              2        0.0   \n",
       "12       nexia      other     10        0.0              2        0.0   \n",
       "13    g-klasse       sale     16        0.0              3        0.0   \n",
       "14    defender      other     13        0.0              2        0.0   \n",
       "\n",
       "    conversion_rate  \n",
       "0             100.0  \n",
       "2              66.7  \n",
       "5              40.0  \n",
       "6              28.6  \n",
       "7              28.6  \n",
       "9              25.0  \n",
       "10             22.2  \n",
       "12             20.0  \n",
       "13             18.8  \n",
       "14             15.4  "
      ]
     },
     "execution_count": 75,
     "metadata": {},
     "output_type": "execute_result"
    }
   ],
   "source": [
    "# Очистим столбец с моделью авто от лишней информации\n",
    "df_auto_cr_clean = df_auto_cr[(df_auto_cr.auto_name != 'sberauto.com') & (df_auto_cr.auto_name != 'zen.yandex.com')]\n",
    "\n",
    "df_auto_cr_clean[:10]"
   ]
  },
  {
   "cell_type": "code",
   "execution_count": 76,
   "id": "aeb7ee2e",
   "metadata": {
    "hidden": true
   },
   "outputs": [
    {
     "data": {
      "text/plain": [
       "(845, 7)"
      ]
     },
     "execution_count": 76,
     "metadata": {},
     "output_type": "execute_result"
    }
   ],
   "source": [
    "# Размерность очищенного датафрейма с авто\n",
    "df_auto_cr_clean.shape"
   ]
  },
  {
   "cell_type": "code",
   "execution_count": 77,
   "id": "d2ae96ec",
   "metadata": {
    "hidden": true
   },
   "outputs": [
    {
     "name": "stdout",
     "output_type": "stream",
     "text": [
      "Топ автомобилей по уровню CR\n"
     ]
    },
    {
     "data": {
      "text/html": [
       "<div>\n",
       "<style scoped>\n",
       "    .dataframe tbody tr th:only-of-type {\n",
       "        vertical-align: middle;\n",
       "    }\n",
       "\n",
       "    .dataframe tbody tr th {\n",
       "        vertical-align: top;\n",
       "    }\n",
       "\n",
       "    .dataframe thead th {\n",
       "        text-align: right;\n",
       "    }\n",
       "</style>\n",
       "<table border=\"1\" class=\"dataframe\">\n",
       "  <thead>\n",
       "    <tr style=\"text-align: right;\">\n",
       "      <th></th>\n",
       "      <th>auto_name</th>\n",
       "      <th>auto_model</th>\n",
       "      <th>quant</th>\n",
       "      <th>q_percent</th>\n",
       "      <th>target_action</th>\n",
       "      <th>t_percent</th>\n",
       "      <th>conversion_rate</th>\n",
       "    </tr>\n",
       "  </thead>\n",
       "  <tbody>\n",
       "    <tr>\n",
       "      <th>0</th>\n",
       "      <td>toyota</td>\n",
       "      <td>auris</td>\n",
       "      <td>2</td>\n",
       "      <td>0.0</td>\n",
       "      <td>2</td>\n",
       "      <td>0.0</td>\n",
       "      <td>100.0</td>\n",
       "    </tr>\n",
       "    <tr>\n",
       "      <th>2</th>\n",
       "      <td>macan</td>\n",
       "      <td>other</td>\n",
       "      <td>3</td>\n",
       "      <td>0.0</td>\n",
       "      <td>2</td>\n",
       "      <td>0.0</td>\n",
       "      <td>66.7</td>\n",
       "    </tr>\n",
       "    <tr>\n",
       "      <th>5</th>\n",
       "      <td>ceed</td>\n",
       "      <td>other</td>\n",
       "      <td>5</td>\n",
       "      <td>0.0</td>\n",
       "      <td>2</td>\n",
       "      <td>0.0</td>\n",
       "      <td>40.0</td>\n",
       "    </tr>\n",
       "    <tr>\n",
       "      <th>6</th>\n",
       "      <td>honda</td>\n",
       "      <td>cr-v</td>\n",
       "      <td>7</td>\n",
       "      <td>0.0</td>\n",
       "      <td>2</td>\n",
       "      <td>0.0</td>\n",
       "      <td>28.6</td>\n",
       "    </tr>\n",
       "    <tr>\n",
       "      <th>7</th>\n",
       "      <td>x1</td>\n",
       "      <td>other</td>\n",
       "      <td>7</td>\n",
       "      <td>0.0</td>\n",
       "      <td>2</td>\n",
       "      <td>0.0</td>\n",
       "      <td>28.6</td>\n",
       "    </tr>\n",
       "    <tr>\n",
       "      <th>9</th>\n",
       "      <td>alfa-romeo</td>\n",
       "      <td>other</td>\n",
       "      <td>8</td>\n",
       "      <td>0.0</td>\n",
       "      <td>2</td>\n",
       "      <td>0.0</td>\n",
       "      <td>25.0</td>\n",
       "    </tr>\n",
       "    <tr>\n",
       "      <th>10</th>\n",
       "      <td>audi</td>\n",
       "      <td>a6</td>\n",
       "      <td>9</td>\n",
       "      <td>0.0</td>\n",
       "      <td>2</td>\n",
       "      <td>0.0</td>\n",
       "      <td>22.2</td>\n",
       "    </tr>\n",
       "    <tr>\n",
       "      <th>12</th>\n",
       "      <td>nexia</td>\n",
       "      <td>other</td>\n",
       "      <td>10</td>\n",
       "      <td>0.0</td>\n",
       "      <td>2</td>\n",
       "      <td>0.0</td>\n",
       "      <td>20.0</td>\n",
       "    </tr>\n",
       "    <tr>\n",
       "      <th>13</th>\n",
       "      <td>g-klasse</td>\n",
       "      <td>sale</td>\n",
       "      <td>16</td>\n",
       "      <td>0.0</td>\n",
       "      <td>3</td>\n",
       "      <td>0.0</td>\n",
       "      <td>18.8</td>\n",
       "    </tr>\n",
       "    <tr>\n",
       "      <th>14</th>\n",
       "      <td>defender</td>\n",
       "      <td>other</td>\n",
       "      <td>13</td>\n",
       "      <td>0.0</td>\n",
       "      <td>2</td>\n",
       "      <td>0.0</td>\n",
       "      <td>15.4</td>\n",
       "    </tr>\n",
       "    <tr>\n",
       "      <th>15</th>\n",
       "      <td>uaz</td>\n",
       "      <td>other</td>\n",
       "      <td>30</td>\n",
       "      <td>0.0</td>\n",
       "      <td>4</td>\n",
       "      <td>0.0</td>\n",
       "      <td>13.3</td>\n",
       "    </tr>\n",
       "    <tr>\n",
       "      <th>16</th>\n",
       "      <td>k5</td>\n",
       "      <td>other</td>\n",
       "      <td>39</td>\n",
       "      <td>0.0</td>\n",
       "      <td>4</td>\n",
       "      <td>0.0</td>\n",
       "      <td>10.3</td>\n",
       "    </tr>\n",
       "    <tr>\n",
       "      <th>17</th>\n",
       "      <td>bmw</td>\n",
       "      <td>x1</td>\n",
       "      <td>174</td>\n",
       "      <td>0.0</td>\n",
       "      <td>16</td>\n",
       "      <td>0.0</td>\n",
       "      <td>9.2</td>\n",
       "    </tr>\n",
       "    <tr>\n",
       "      <th>18</th>\n",
       "      <td>glb</td>\n",
       "      <td>sale</td>\n",
       "      <td>33</td>\n",
       "      <td>0.0</td>\n",
       "      <td>3</td>\n",
       "      <td>0.0</td>\n",
       "      <td>9.1</td>\n",
       "    </tr>\n",
       "    <tr>\n",
       "      <th>19</th>\n",
       "      <td>infiniti</td>\n",
       "      <td>qx60</td>\n",
       "      <td>211</td>\n",
       "      <td>0.0</td>\n",
       "      <td>18</td>\n",
       "      <td>0.0</td>\n",
       "      <td>8.5</td>\n",
       "    </tr>\n",
       "    <tr>\n",
       "      <th>20</th>\n",
       "      <td>bmw</td>\n",
       "      <td>x3-m</td>\n",
       "      <td>680</td>\n",
       "      <td>0.0</td>\n",
       "      <td>56</td>\n",
       "      <td>0.1</td>\n",
       "      <td>8.2</td>\n",
       "    </tr>\n",
       "    <tr>\n",
       "      <th>21</th>\n",
       "      <td>renault</td>\n",
       "      <td>arkana</td>\n",
       "      <td>1904</td>\n",
       "      <td>0.0</td>\n",
       "      <td>145</td>\n",
       "      <td>0.1</td>\n",
       "      <td>7.6</td>\n",
       "    </tr>\n",
       "    <tr>\n",
       "      <th>22</th>\n",
       "      <td>sonata</td>\n",
       "      <td>other</td>\n",
       "      <td>38</td>\n",
       "      <td>0.0</td>\n",
       "      <td>2</td>\n",
       "      <td>0.0</td>\n",
       "      <td>5.3</td>\n",
       "    </tr>\n",
       "    <tr>\n",
       "      <th>23</th>\n",
       "      <td>qashqai</td>\n",
       "      <td>sale</td>\n",
       "      <td>115</td>\n",
       "      <td>0.0</td>\n",
       "      <td>6</td>\n",
       "      <td>0.0</td>\n",
       "      <td>5.2</td>\n",
       "    </tr>\n",
       "    <tr>\n",
       "      <th>24</th>\n",
       "      <td>bmw</td>\n",
       "      <td>x4-m</td>\n",
       "      <td>103</td>\n",
       "      <td>0.0</td>\n",
       "      <td>5</td>\n",
       "      <td>0.0</td>\n",
       "      <td>4.9</td>\n",
       "    </tr>\n",
       "  </tbody>\n",
       "</table>\n",
       "</div>"
      ],
      "text/plain": [
       "     auto_name auto_model  quant  q_percent  target_action  t_percent  \\\n",
       "0       toyota      auris      2        0.0              2        0.0   \n",
       "2        macan      other      3        0.0              2        0.0   \n",
       "5         ceed      other      5        0.0              2        0.0   \n",
       "6        honda       cr-v      7        0.0              2        0.0   \n",
       "7           x1      other      7        0.0              2        0.0   \n",
       "9   alfa-romeo      other      8        0.0              2        0.0   \n",
       "10        audi         a6      9        0.0              2        0.0   \n",
       "12       nexia      other     10        0.0              2        0.0   \n",
       "13    g-klasse       sale     16        0.0              3        0.0   \n",
       "14    defender      other     13        0.0              2        0.0   \n",
       "15         uaz      other     30        0.0              4        0.0   \n",
       "16          k5      other     39        0.0              4        0.0   \n",
       "17         bmw         x1    174        0.0             16        0.0   \n",
       "18         glb       sale     33        0.0              3        0.0   \n",
       "19    infiniti       qx60    211        0.0             18        0.0   \n",
       "20         bmw       x3-m    680        0.0             56        0.1   \n",
       "21     renault     arkana   1904        0.0            145        0.1   \n",
       "22      sonata      other     38        0.0              2        0.0   \n",
       "23     qashqai       sale    115        0.0              6        0.0   \n",
       "24         bmw       x4-m    103        0.0              5        0.0   \n",
       "\n",
       "    conversion_rate  \n",
       "0             100.0  \n",
       "2              66.7  \n",
       "5              40.0  \n",
       "6              28.6  \n",
       "7              28.6  \n",
       "9              25.0  \n",
       "10             22.2  \n",
       "12             20.0  \n",
       "13             18.8  \n",
       "14             15.4  \n",
       "15             13.3  \n",
       "16             10.3  \n",
       "17              9.2  \n",
       "18              9.1  \n",
       "19              8.5  \n",
       "20              8.2  \n",
       "21              7.6  \n",
       "22              5.3  \n",
       "23              5.2  \n",
       "24              4.9  "
      ]
     },
     "execution_count": 77,
     "metadata": {},
     "output_type": "execute_result"
    }
   ],
   "source": [
    "print(f'Топ автомобилей по уровню CR')\n",
    "df_auto_cr_clean[:20]"
   ]
  },
  {
   "cell_type": "code",
   "execution_count": 79,
   "id": "f6c03a17",
   "metadata": {
    "hidden": true
   },
   "outputs": [
    {
     "data": {
      "image/png": "[encoded data removed]",
      "text/plain": [
       "<Figure size 1900x800 with 2 Axes>"
      ]
     },
     "metadata": {},
     "output_type": "display_data"
    }
   ],
   "source": [
    "fig, axs = plt.subplots(nrows= 2 , ncols= 1, sharex='row', figsize=(19, 8))\n",
    "\n",
    "axs[0].bar((df_auto['auto_name']+'_'+df_auto['auto_model'])[1:11], df_auto['target_action'][1:11], color=['springgreen'])\n",
    "axs[0].set_title('Топ-10 авто по количеству целевых событий')\n",
    "axs[0].set_ylabel('Кол-во целевых событий')\n",
    "\n",
    "axs[1].bar((df_auto_cr_clean['auto_name']+'_'+df_auto_cr_clean['auto_model'])[:10], df_auto_cr_clean['conversion_rate'][:10], color=['forestgreen'])\n",
    "axs[1].set_title('Топ-10 авто по CR в целевые события')\n",
    "axs[1].set_ylabel('Conversion Rate, %')\n",
    "\n",
    "plt.show()"
   ]
  },
  {
   "cell_type": "markdown",
   "id": "0957fb0c",
   "metadata": {
    "heading_collapsed": true,
    "jp-MarkdownHeadingCollapsed": true,
    "tags": []
   },
   "source": [
    "### 11. Корреляция численных признаков"
   ]
  },
  {
   "cell_type": "code",
   "execution_count": 80,
   "id": "cc998f7f",
   "metadata": {
    "hidden": true
   },
   "outputs": [
    {
     "data": {
      "image/png": "[encoded data removed]",
      "text/plain": [
       "<Figure size 600x400 with 2 Axes>"
      ]
     },
     "metadata": {},
     "output_type": "display_data"
    }
   ],
   "source": [
    "plt.figure(figsize=(6, 4))\n",
    "\n",
    "columns = df_join.corr().columns.tolist()\n",
    "plt.imshow(df_join.corr())\n",
    "\n",
    "plt.title(\"Корреляция численных признаков\")\n",
    "plt.xticks(range(0, len(columns)), columns)\n",
    "plt.yticks(range(0, len(columns)), columns)\n",
    "plt.colorbar()\n",
    "plt.show()"
   ]
  },
  {
   "cell_type": "markdown",
   "id": "06cbb524",
   "metadata": {
    "hidden": true
   },
   "source": [
    "Матрица корреляций по имеющимся численным признакам не позволяет сделать существенных выводов о зависимостях в датафрейме."
   ]
  },
  {
   "cell_type": "markdown",
   "id": "ff63fc47",
   "metadata": {
    "heading_collapsed": true
   },
   "source": [
    "### Общие выводы для продуктовой команды"
   ]
  },
  {
   "cell_type": "markdown",
   "id": "de36e3b2",
   "metadata": {
    "heading_collapsed": true,
    "hidden": true,
    "jp-MarkdownHeadingCollapsed": true,
    "tags": []
   },
   "source": [
    "#### 1. Из каких источников / кампаний / устройств / локаций идёт самый целевой трафик (и с точки зрения объёма трафика, и с точки зрения CR)?"
   ]
  },
  {
   "cell_type": "markdown",
   "id": "7df863b0",
   "metadata": {
    "hidden": true
   },
   "source": [
    "**1.1 Топ каналов привлечения**"
   ]
  },
  {
   "cell_type": "code",
   "execution_count": 81,
   "id": "a8bc7eb0",
   "metadata": {
    "hidden": true
   },
   "outputs": [
    {
     "name": "stdout",
     "output_type": "stream",
     "text": [
      "По объему целевого трафика\n"
     ]
    },
    {
     "data": {
      "text/html": [
       "<div>\n",
       "<style scoped>\n",
       "    .dataframe tbody tr th:only-of-type {\n",
       "        vertical-align: middle;\n",
       "    }\n",
       "\n",
       "    .dataframe tbody tr th {\n",
       "        vertical-align: top;\n",
       "    }\n",
       "\n",
       "    .dataframe thead th {\n",
       "        text-align: right;\n",
       "    }\n",
       "</style>\n",
       "<table border=\"1\" class=\"dataframe\">\n",
       "  <thead>\n",
       "    <tr style=\"text-align: right;\">\n",
       "      <th></th>\n",
       "      <th>utm_source</th>\n",
       "      <th>t_percent</th>\n",
       "      <th>conversion_rate</th>\n",
       "    </tr>\n",
       "  </thead>\n",
       "  <tbody>\n",
       "    <tr>\n",
       "      <th>0</th>\n",
       "      <td>ZpYIoDJMcFzVoPFsHGJL</td>\n",
       "      <td>31.8</td>\n",
       "      <td>2.8</td>\n",
       "    </tr>\n",
       "    <tr>\n",
       "      <th>1</th>\n",
       "      <td>fDLlAcSmythWSCVMvqvL</td>\n",
       "      <td>20.9</td>\n",
       "      <td>3.5</td>\n",
       "    </tr>\n",
       "    <tr>\n",
       "      <th>2</th>\n",
       "      <td>kjsLglQLzykiRbcDiGcD</td>\n",
       "      <td>12.5</td>\n",
       "      <td>2.4</td>\n",
       "    </tr>\n",
       "    <tr>\n",
       "      <th>3</th>\n",
       "      <td>bByPQxmDaMXgpHeypKSM</td>\n",
       "      <td>11.0</td>\n",
       "      <td>5.4</td>\n",
       "    </tr>\n",
       "    <tr>\n",
       "      <th>4</th>\n",
       "      <td>BHcvLfOaCWvWTykYqHVe</td>\n",
       "      <td>7.7</td>\n",
       "      <td>3.3</td>\n",
       "    </tr>\n",
       "    <tr>\n",
       "      <th>5</th>\n",
       "      <td>MvfHsxITijuriZxsqZqt</td>\n",
       "      <td>4.5</td>\n",
       "      <td>1.2</td>\n",
       "    </tr>\n",
       "    <tr>\n",
       "      <th>6</th>\n",
       "      <td>aXQzDWsJuGXeBXexNHjc</td>\n",
       "      <td>3.6</td>\n",
       "      <td>5.9</td>\n",
       "    </tr>\n",
       "  </tbody>\n",
       "</table>\n",
       "</div>"
      ],
      "text/plain": [
       "             utm_source  t_percent  conversion_rate\n",
       "0  ZpYIoDJMcFzVoPFsHGJL       31.8              2.8\n",
       "1  fDLlAcSmythWSCVMvqvL       20.9              3.5\n",
       "2  kjsLglQLzykiRbcDiGcD       12.5              2.4\n",
       "3  bByPQxmDaMXgpHeypKSM       11.0              5.4\n",
       "4  BHcvLfOaCWvWTykYqHVe        7.7              3.3\n",
       "5  MvfHsxITijuriZxsqZqt        4.5              1.2\n",
       "6  aXQzDWsJuGXeBXexNHjc        3.6              5.9"
      ]
     },
     "execution_count": 81,
     "metadata": {},
     "output_type": "execute_result"
    }
   ],
   "source": [
    "print('По объему целевого трафика')\n",
    "df_source[['utm_source', 't_percent', 'conversion_rate']][:7]"
   ]
  },
  {
   "cell_type": "code",
   "execution_count": 82,
   "id": "15b4d711",
   "metadata": {
    "hidden": true
   },
   "outputs": [
    {
     "name": "stdout",
     "output_type": "stream",
     "text": [
      "По CR\n"
     ]
    },
    {
     "data": {
      "text/html": [
       "<div>\n",
       "<style scoped>\n",
       "    .dataframe tbody tr th:only-of-type {\n",
       "        vertical-align: middle;\n",
       "    }\n",
       "\n",
       "    .dataframe tbody tr th {\n",
       "        vertical-align: top;\n",
       "    }\n",
       "\n",
       "    .dataframe thead th {\n",
       "        text-align: right;\n",
       "    }\n",
       "</style>\n",
       "<table border=\"1\" class=\"dataframe\">\n",
       "  <thead>\n",
       "    <tr style=\"text-align: right;\">\n",
       "      <th></th>\n",
       "      <th>utm_source</th>\n",
       "      <th>t_percent</th>\n",
       "      <th>conversion_rate</th>\n",
       "    </tr>\n",
       "  </thead>\n",
       "  <tbody>\n",
       "    <tr>\n",
       "      <th>0</th>\n",
       "      <td>YpBKcihLLfFjWuxOLfvW</td>\n",
       "      <td>0.0</td>\n",
       "      <td>100.0</td>\n",
       "    </tr>\n",
       "    <tr>\n",
       "      <th>1</th>\n",
       "      <td>fJCYsujgSxIHFbOmgDdN</td>\n",
       "      <td>0.0</td>\n",
       "      <td>87.5</td>\n",
       "    </tr>\n",
       "    <tr>\n",
       "      <th>2</th>\n",
       "      <td>XzfzEBYZWgSDtJNXOadn</td>\n",
       "      <td>0.0</td>\n",
       "      <td>50.0</td>\n",
       "    </tr>\n",
       "    <tr>\n",
       "      <th>3</th>\n",
       "      <td>CqeIpFwJscTsZoYXdHsP</td>\n",
       "      <td>0.0</td>\n",
       "      <td>50.0</td>\n",
       "    </tr>\n",
       "    <tr>\n",
       "      <th>4</th>\n",
       "      <td>yxJKymlSGVuKIPTxbysx</td>\n",
       "      <td>0.0</td>\n",
       "      <td>33.3</td>\n",
       "    </tr>\n",
       "    <tr>\n",
       "      <th>5</th>\n",
       "      <td>LIWKeifdTCbuNeniIUqm</td>\n",
       "      <td>0.0</td>\n",
       "      <td>29.8</td>\n",
       "    </tr>\n",
       "    <tr>\n",
       "      <th>6</th>\n",
       "      <td>JcVHXwVSrnfIuOMMEkrJ</td>\n",
       "      <td>0.0</td>\n",
       "      <td>25.0</td>\n",
       "    </tr>\n",
       "  </tbody>\n",
       "</table>\n",
       "</div>"
      ],
      "text/plain": [
       "             utm_source  t_percent  conversion_rate\n",
       "0  YpBKcihLLfFjWuxOLfvW        0.0            100.0\n",
       "1  fJCYsujgSxIHFbOmgDdN        0.0             87.5\n",
       "2  XzfzEBYZWgSDtJNXOadn        0.0             50.0\n",
       "3  CqeIpFwJscTsZoYXdHsP        0.0             50.0\n",
       "4  yxJKymlSGVuKIPTxbysx        0.0             33.3\n",
       "5  LIWKeifdTCbuNeniIUqm        0.0             29.8\n",
       "6  JcVHXwVSrnfIuOMMEkrJ        0.0             25.0"
      ]
     },
     "execution_count": 82,
     "metadata": {},
     "output_type": "execute_result"
    }
   ],
   "source": [
    "print('По CR')\n",
    "df_source_cr[['utm_source', 't_percent', 'conversion_rate']][:7]"
   ]
  },
  {
   "cell_type": "markdown",
   "id": "616a8e8a",
   "metadata": {
    "hidden": true
   },
   "source": [
    "**1.2 Топ типов привлечения**"
   ]
  },
  {
   "cell_type": "code",
   "execution_count": 83,
   "id": "b83a175f",
   "metadata": {
    "hidden": true
   },
   "outputs": [
    {
     "name": "stdout",
     "output_type": "stream",
     "text": [
      "По объему целевого трафика\n"
     ]
    },
    {
     "data": {
      "text/html": [
       "<div>\n",
       "<style scoped>\n",
       "    .dataframe tbody tr th:only-of-type {\n",
       "        vertical-align: middle;\n",
       "    }\n",
       "\n",
       "    .dataframe tbody tr th {\n",
       "        vertical-align: top;\n",
       "    }\n",
       "\n",
       "    .dataframe thead th {\n",
       "        text-align: right;\n",
       "    }\n",
       "</style>\n",
       "<table border=\"1\" class=\"dataframe\">\n",
       "  <thead>\n",
       "    <tr style=\"text-align: right;\">\n",
       "      <th></th>\n",
       "      <th>utm_medium</th>\n",
       "      <th>t_percent</th>\n",
       "      <th>conversion_rate</th>\n",
       "    </tr>\n",
       "  </thead>\n",
       "  <tbody>\n",
       "    <tr>\n",
       "      <th>0</th>\n",
       "      <td>banner</td>\n",
       "      <td>30.0</td>\n",
       "      <td>2.7</td>\n",
       "    </tr>\n",
       "    <tr>\n",
       "      <th>1</th>\n",
       "      <td>(none)</td>\n",
       "      <td>20.9</td>\n",
       "      <td>3.5</td>\n",
       "    </tr>\n",
       "    <tr>\n",
       "      <th>2</th>\n",
       "      <td>cpc</td>\n",
       "      <td>18.9</td>\n",
       "      <td>2.2</td>\n",
       "    </tr>\n",
       "    <tr>\n",
       "      <th>3</th>\n",
       "      <td>referral</td>\n",
       "      <td>16.3</td>\n",
       "      <td>5.4</td>\n",
       "    </tr>\n",
       "    <tr>\n",
       "      <th>4</th>\n",
       "      <td>cpm</td>\n",
       "      <td>5.0</td>\n",
       "      <td>1.0</td>\n",
       "    </tr>\n",
       "    <tr>\n",
       "      <th>5</th>\n",
       "      <td>organic</td>\n",
       "      <td>4.2</td>\n",
       "      <td>3.3</td>\n",
       "    </tr>\n",
       "    <tr>\n",
       "      <th>6</th>\n",
       "      <td>push</td>\n",
       "      <td>1.7</td>\n",
       "      <td>3.0</td>\n",
       "    </tr>\n",
       "  </tbody>\n",
       "</table>\n",
       "</div>"
      ],
      "text/plain": [
       "  utm_medium  t_percent  conversion_rate\n",
       "0     banner       30.0              2.7\n",
       "1     (none)       20.9              3.5\n",
       "2        cpc       18.9              2.2\n",
       "3   referral       16.3              5.4\n",
       "4        cpm        5.0              1.0\n",
       "5    organic        4.2              3.3\n",
       "6       push        1.7              3.0"
      ]
     },
     "execution_count": 83,
     "metadata": {},
     "output_type": "execute_result"
    }
   ],
   "source": [
    "print('По объему целевого трафика')\n",
    "df_medium[['utm_medium', 't_percent', 'conversion_rate']][:7]"
   ]
  },
  {
   "cell_type": "code",
   "execution_count": 84,
   "id": "ed0334d2",
   "metadata": {
    "hidden": true
   },
   "outputs": [
    {
     "name": "stdout",
     "output_type": "stream",
     "text": [
      "По CR\n"
     ]
    },
    {
     "data": {
      "text/html": [
       "<div>\n",
       "<style scoped>\n",
       "    .dataframe tbody tr th:only-of-type {\n",
       "        vertical-align: middle;\n",
       "    }\n",
       "\n",
       "    .dataframe tbody tr th {\n",
       "        vertical-align: top;\n",
       "    }\n",
       "\n",
       "    .dataframe thead th {\n",
       "        text-align: right;\n",
       "    }\n",
       "</style>\n",
       "<table border=\"1\" class=\"dataframe\">\n",
       "  <thead>\n",
       "    <tr style=\"text-align: right;\">\n",
       "      <th></th>\n",
       "      <th>utm_medium</th>\n",
       "      <th>t_percent</th>\n",
       "      <th>conversion_rate</th>\n",
       "    </tr>\n",
       "  </thead>\n",
       "  <tbody>\n",
       "    <tr>\n",
       "      <th>0</th>\n",
       "      <td>dom_click</td>\n",
       "      <td>0.0</td>\n",
       "      <td>100.0</td>\n",
       "    </tr>\n",
       "    <tr>\n",
       "      <th>1</th>\n",
       "      <td>link</td>\n",
       "      <td>0.0</td>\n",
       "      <td>29.8</td>\n",
       "    </tr>\n",
       "    <tr>\n",
       "      <th>2</th>\n",
       "      <td>landing</td>\n",
       "      <td>0.0</td>\n",
       "      <td>14.2</td>\n",
       "    </tr>\n",
       "    <tr>\n",
       "      <th>3</th>\n",
       "      <td>medium</td>\n",
       "      <td>0.0</td>\n",
       "      <td>12.5</td>\n",
       "    </tr>\n",
       "    <tr>\n",
       "      <th>4</th>\n",
       "      <td>social</td>\n",
       "      <td>0.0</td>\n",
       "      <td>11.1</td>\n",
       "    </tr>\n",
       "    <tr>\n",
       "      <th>5</th>\n",
       "      <td>CPM</td>\n",
       "      <td>0.0</td>\n",
       "      <td>7.5</td>\n",
       "    </tr>\n",
       "    <tr>\n",
       "      <th>6</th>\n",
       "      <td>sms</td>\n",
       "      <td>0.0</td>\n",
       "      <td>6.7</td>\n",
       "    </tr>\n",
       "  </tbody>\n",
       "</table>\n",
       "</div>"
      ],
      "text/plain": [
       "  utm_medium  t_percent  conversion_rate\n",
       "0  dom_click        0.0            100.0\n",
       "1       link        0.0             29.8\n",
       "2    landing        0.0             14.2\n",
       "3     medium        0.0             12.5\n",
       "4     social        0.0             11.1\n",
       "5        CPM        0.0              7.5\n",
       "6        sms        0.0              6.7"
      ]
     },
     "execution_count": 84,
     "metadata": {},
     "output_type": "execute_result"
    }
   ],
   "source": [
    "print('По CR')\n",
    "df_medium_cr[['utm_medium', 't_percent', 'conversion_rate']][:7]"
   ]
  },
  {
   "cell_type": "code",
   "execution_count": 87,
   "id": "a831bd0d",
   "metadata": {
    "hidden": true
   },
   "outputs": [
    {
     "name": "stdout",
     "output_type": "stream",
     "text": [
      "Объем целевых событий по типам трафика:\n"
     ]
    },
    {
     "data": {
      "text/html": [
       "<div>\n",
       "<style scoped>\n",
       "    .dataframe tbody tr th:only-of-type {\n",
       "        vertical-align: middle;\n",
       "    }\n",
       "\n",
       "    .dataframe tbody tr th {\n",
       "        vertical-align: top;\n",
       "    }\n",
       "\n",
       "    .dataframe thead th {\n",
       "        text-align: right;\n",
       "    }\n",
       "</style>\n",
       "<table border=\"1\" class=\"dataframe\">\n",
       "  <thead>\n",
       "    <tr style=\"text-align: right;\">\n",
       "      <th></th>\n",
       "      <th>traffic_way</th>\n",
       "      <th>percent</th>\n",
       "    </tr>\n",
       "  </thead>\n",
       "  <tbody>\n",
       "    <tr>\n",
       "      <th>0</th>\n",
       "      <td>paid</td>\n",
       "      <td>58.6</td>\n",
       "    </tr>\n",
       "    <tr>\n",
       "      <th>1</th>\n",
       "      <td>free</td>\n",
       "      <td>41.4</td>\n",
       "    </tr>\n",
       "  </tbody>\n",
       "</table>\n",
       "</div>"
      ],
      "text/plain": [
       "  traffic_way  percent\n",
       "0        paid     58.6\n",
       "1        free     41.4"
      ]
     },
     "execution_count": 87,
     "metadata": {},
     "output_type": "execute_result"
    }
   ],
   "source": [
    "print(f'Объем целевых событий по типам трафика:')\n",
    "ta_traffic[['traffic_way', 'percent']]"
   ]
  },
  {
   "cell_type": "code",
   "execution_count": 88,
   "id": "ea34fca7",
   "metadata": {
    "hidden": true
   },
   "outputs": [
    {
     "name": "stdout",
     "output_type": "stream",
     "text": [
      "CR (Conversion Rate) типов трафика в целевые события:\n",
      "Платный трафик:      paid = 2.2%\n",
      "Органический трафик: free = 4.0%\n"
     ]
    }
   ],
   "source": [
    "print(f'CR (Conversion Rate) типов трафика в целевые события:')\n",
    "print(f'Платный трафик:      {ta_traffic.traffic_way[0]} = {round(ta_traffic.target[0] / vis_traffic.quant[0]*100,1)}%')\n",
    "print(f'Органический трафик: {ta_traffic.traffic_way[1]} = {round(ta_traffic.target[1] / vis_traffic.quant[1]*100, 1)}%')"
   ]
  },
  {
   "cell_type": "markdown",
   "id": "c1f45439",
   "metadata": {
    "hidden": true
   },
   "source": [
    "Платный трафик привлекает больше целевых событий, однако CR в целевые события органического трафика выше."
   ]
  },
  {
   "cell_type": "markdown",
   "id": "77bb3ea3",
   "metadata": {
    "hidden": true
   },
   "source": [
    "**1.3 Топ рекламных кампаний**"
   ]
  },
  {
   "cell_type": "code",
   "execution_count": 89,
   "id": "b377a0d6",
   "metadata": {
    "hidden": true
   },
   "outputs": [
    {
     "name": "stdout",
     "output_type": "stream",
     "text": [
      "По объему целевого трафика\n"
     ]
    },
    {
     "data": {
      "text/html": [
       "<div>\n",
       "<style scoped>\n",
       "    .dataframe tbody tr th:only-of-type {\n",
       "        vertical-align: middle;\n",
       "    }\n",
       "\n",
       "    .dataframe tbody tr th {\n",
       "        vertical-align: top;\n",
       "    }\n",
       "\n",
       "    .dataframe thead th {\n",
       "        text-align: right;\n",
       "    }\n",
       "</style>\n",
       "<table border=\"1\" class=\"dataframe\">\n",
       "  <thead>\n",
       "    <tr style=\"text-align: right;\">\n",
       "      <th></th>\n",
       "      <th>utm_campaign</th>\n",
       "      <th>t_percent</th>\n",
       "      <th>conversion_rate</th>\n",
       "    </tr>\n",
       "  </thead>\n",
       "  <tbody>\n",
       "    <tr>\n",
       "      <th>0</th>\n",
       "      <td>LTuZkdKfxRGVceoWkVyg</td>\n",
       "      <td>37.8</td>\n",
       "      <td>4.1</td>\n",
       "    </tr>\n",
       "    <tr>\n",
       "      <th>1</th>\n",
       "      <td>LEoPHuyFvzoNfnzGgfcd</td>\n",
       "      <td>18.6</td>\n",
       "      <td>2.9</td>\n",
       "    </tr>\n",
       "    <tr>\n",
       "      <th>2</th>\n",
       "      <td>no advertising</td>\n",
       "      <td>14.3</td>\n",
       "      <td>3.3</td>\n",
       "    </tr>\n",
       "    <tr>\n",
       "      <th>3</th>\n",
       "      <td>gecBYcKZCPMcVYdSSzKP</td>\n",
       "      <td>9.0</td>\n",
       "      <td>3.4</td>\n",
       "    </tr>\n",
       "    <tr>\n",
       "      <th>4</th>\n",
       "      <td>FTjNLDyTrXaWYgZymFkV</td>\n",
       "      <td>4.9</td>\n",
       "      <td>1.0</td>\n",
       "    </tr>\n",
       "    <tr>\n",
       "      <th>5</th>\n",
       "      <td>sbJRYgVfvcnqKJNDDYIr</td>\n",
       "      <td>1.1</td>\n",
       "      <td>2.8</td>\n",
       "    </tr>\n",
       "    <tr>\n",
       "      <th>6</th>\n",
       "      <td>XHNUiSKKGTEpSAlaVMFQ</td>\n",
       "      <td>0.8</td>\n",
       "      <td>1.6</td>\n",
       "    </tr>\n",
       "  </tbody>\n",
       "</table>\n",
       "</div>"
      ],
      "text/plain": [
       "           utm_campaign  t_percent  conversion_rate\n",
       "0  LTuZkdKfxRGVceoWkVyg       37.8              4.1\n",
       "1  LEoPHuyFvzoNfnzGgfcd       18.6              2.9\n",
       "2        no advertising       14.3              3.3\n",
       "3  gecBYcKZCPMcVYdSSzKP        9.0              3.4\n",
       "4  FTjNLDyTrXaWYgZymFkV        4.9              1.0\n",
       "5  sbJRYgVfvcnqKJNDDYIr        1.1              2.8\n",
       "6  XHNUiSKKGTEpSAlaVMFQ        0.8              1.6"
      ]
     },
     "execution_count": 89,
     "metadata": {},
     "output_type": "execute_result"
    }
   ],
   "source": [
    "print('По объему целевого трафика')\n",
    "df_camp[['utm_campaign', 't_percent', 'conversion_rate']][:7]"
   ]
  },
  {
   "cell_type": "code",
   "execution_count": 90,
   "id": "1cef6946",
   "metadata": {
    "hidden": true
   },
   "outputs": [
    {
     "name": "stdout",
     "output_type": "stream",
     "text": [
      "По CR\n"
     ]
    },
    {
     "data": {
      "text/html": [
       "<div>\n",
       "<style scoped>\n",
       "    .dataframe tbody tr th:only-of-type {\n",
       "        vertical-align: middle;\n",
       "    }\n",
       "\n",
       "    .dataframe tbody tr th {\n",
       "        vertical-align: top;\n",
       "    }\n",
       "\n",
       "    .dataframe thead th {\n",
       "        text-align: right;\n",
       "    }\n",
       "</style>\n",
       "<table border=\"1\" class=\"dataframe\">\n",
       "  <thead>\n",
       "    <tr style=\"text-align: right;\">\n",
       "      <th></th>\n",
       "      <th>utm_campaign</th>\n",
       "      <th>t_percent</th>\n",
       "      <th>conversion_rate</th>\n",
       "    </tr>\n",
       "  </thead>\n",
       "  <tbody>\n",
       "    <tr>\n",
       "      <th>0</th>\n",
       "      <td>JkhCpeDGCtTwhwqWLywv</td>\n",
       "      <td>0.0</td>\n",
       "      <td>100.0</td>\n",
       "    </tr>\n",
       "    <tr>\n",
       "      <th>1</th>\n",
       "      <td>MHdHrBKQwbDaRalwnlJq</td>\n",
       "      <td>0.0</td>\n",
       "      <td>100.0</td>\n",
       "    </tr>\n",
       "    <tr>\n",
       "      <th>2</th>\n",
       "      <td>IRKNegNgOUQLwudzMElF</td>\n",
       "      <td>0.0</td>\n",
       "      <td>87.5</td>\n",
       "    </tr>\n",
       "    <tr>\n",
       "      <th>3</th>\n",
       "      <td>SbYAsCvXapXBOIxEKBZs</td>\n",
       "      <td>0.0</td>\n",
       "      <td>50.0</td>\n",
       "    </tr>\n",
       "    <tr>\n",
       "      <th>4</th>\n",
       "      <td>lndNIerCYECRQvBTyTye</td>\n",
       "      <td>0.0</td>\n",
       "      <td>27.4</td>\n",
       "    </tr>\n",
       "    <tr>\n",
       "      <th>5</th>\n",
       "      <td>KAcUKGokhYlMktQhYKHx</td>\n",
       "      <td>0.0</td>\n",
       "      <td>25.0</td>\n",
       "    </tr>\n",
       "    <tr>\n",
       "      <th>6</th>\n",
       "      <td>vZqcBrFwxYPoYzJyhYGI</td>\n",
       "      <td>0.0</td>\n",
       "      <td>22.2</td>\n",
       "    </tr>\n",
       "  </tbody>\n",
       "</table>\n",
       "</div>"
      ],
      "text/plain": [
       "           utm_campaign  t_percent  conversion_rate\n",
       "0  JkhCpeDGCtTwhwqWLywv        0.0            100.0\n",
       "1  MHdHrBKQwbDaRalwnlJq        0.0            100.0\n",
       "2  IRKNegNgOUQLwudzMElF        0.0             87.5\n",
       "3  SbYAsCvXapXBOIxEKBZs        0.0             50.0\n",
       "4  lndNIerCYECRQvBTyTye        0.0             27.4\n",
       "5  KAcUKGokhYlMktQhYKHx        0.0             25.0\n",
       "6  vZqcBrFwxYPoYzJyhYGI        0.0             22.2"
      ]
     },
     "execution_count": 90,
     "metadata": {},
     "output_type": "execute_result"
    }
   ],
   "source": [
    "print('По CR')\n",
    "df_camp_cr[['utm_campaign', 't_percent', 'conversion_rate']][:7]"
   ]
  },
  {
   "cell_type": "markdown",
   "id": "e408abc8",
   "metadata": {
    "hidden": true
   },
   "source": [
    "**1.4 Типы устройства**"
   ]
  },
  {
   "cell_type": "code",
   "execution_count": 91,
   "id": "ef674704",
   "metadata": {
    "hidden": true
   },
   "outputs": [
    {
     "data": {
      "text/html": [
       "<div>\n",
       "<style scoped>\n",
       "    .dataframe tbody tr th:only-of-type {\n",
       "        vertical-align: middle;\n",
       "    }\n",
       "\n",
       "    .dataframe tbody tr th {\n",
       "        vertical-align: top;\n",
       "    }\n",
       "\n",
       "    .dataframe thead th {\n",
       "        text-align: right;\n",
       "    }\n",
       "</style>\n",
       "<table border=\"1\" class=\"dataframe\">\n",
       "  <thead>\n",
       "    <tr style=\"text-align: right;\">\n",
       "      <th></th>\n",
       "      <th>device_category</th>\n",
       "      <th>percent</th>\n",
       "      <th>conversion_rate</th>\n",
       "    </tr>\n",
       "  </thead>\n",
       "  <tbody>\n",
       "    <tr>\n",
       "      <th>0</th>\n",
       "      <td>mobile</td>\n",
       "      <td>76.3</td>\n",
       "      <td>2.6</td>\n",
       "    </tr>\n",
       "    <tr>\n",
       "      <th>1</th>\n",
       "      <td>desktop</td>\n",
       "      <td>22.9</td>\n",
       "      <td>3.1</td>\n",
       "    </tr>\n",
       "    <tr>\n",
       "      <th>2</th>\n",
       "      <td>tablet</td>\n",
       "      <td>0.8</td>\n",
       "      <td>2.3</td>\n",
       "    </tr>\n",
       "  </tbody>\n",
       "</table>\n",
       "</div>"
      ],
      "text/plain": [
       "  device_category  percent  conversion_rate\n",
       "0          mobile     76.3              2.6\n",
       "1         desktop     22.9              3.1\n",
       "2          tablet      0.8              2.3"
      ]
     },
     "execution_count": 91,
     "metadata": {},
     "output_type": "execute_result"
    }
   ],
   "source": [
    "ta_device[['device_category', 'percent', 'conversion_rate']]"
   ]
  },
  {
   "cell_type": "markdown",
   "id": "c05a44ea",
   "metadata": {
    "hidden": true
   },
   "source": [
    "По количеству целевого трафика доминирует mobile, а по уровню CR - desktop."
   ]
  },
  {
   "cell_type": "markdown",
   "id": "72b1fa73",
   "metadata": {
    "hidden": true
   },
   "source": [
    "**1.5 Топ стран**"
   ]
  },
  {
   "cell_type": "code",
   "execution_count": 92,
   "id": "868d9b3c",
   "metadata": {
    "hidden": true
   },
   "outputs": [
    {
     "name": "stdout",
     "output_type": "stream",
     "text": [
      "По объему целевого трафика\n"
     ]
    },
    {
     "data": {
      "text/html": [
       "<div>\n",
       "<style scoped>\n",
       "    .dataframe tbody tr th:only-of-type {\n",
       "        vertical-align: middle;\n",
       "    }\n",
       "\n",
       "    .dataframe tbody tr th {\n",
       "        vertical-align: top;\n",
       "    }\n",
       "\n",
       "    .dataframe thead th {\n",
       "        text-align: right;\n",
       "    }\n",
       "</style>\n",
       "<table border=\"1\" class=\"dataframe\">\n",
       "  <thead>\n",
       "    <tr style=\"text-align: right;\">\n",
       "      <th></th>\n",
       "      <th>geo_country</th>\n",
       "      <th>t_percent</th>\n",
       "      <th>conversion_rate</th>\n",
       "    </tr>\n",
       "  </thead>\n",
       "  <tbody>\n",
       "    <tr>\n",
       "      <th>0</th>\n",
       "      <td>Russia</td>\n",
       "      <td>97.7</td>\n",
       "      <td>2.7</td>\n",
       "    </tr>\n",
       "    <tr>\n",
       "      <th>1</th>\n",
       "      <td>Ukraine</td>\n",
       "      <td>0.4</td>\n",
       "      <td>2.2</td>\n",
       "    </tr>\n",
       "    <tr>\n",
       "      <th>2</th>\n",
       "      <td>Germany</td>\n",
       "      <td>0.2</td>\n",
       "      <td>3.5</td>\n",
       "    </tr>\n",
       "    <tr>\n",
       "      <th>3</th>\n",
       "      <td>United States</td>\n",
       "      <td>0.1</td>\n",
       "      <td>0.5</td>\n",
       "    </tr>\n",
       "    <tr>\n",
       "      <th>4</th>\n",
       "      <td>Belarus</td>\n",
       "      <td>0.1</td>\n",
       "      <td>1.6</td>\n",
       "    </tr>\n",
       "  </tbody>\n",
       "</table>\n",
       "</div>"
      ],
      "text/plain": [
       "     geo_country  t_percent  conversion_rate\n",
       "0         Russia       97.7              2.7\n",
       "1        Ukraine        0.4              2.2\n",
       "2        Germany        0.2              3.5\n",
       "3  United States        0.1              0.5\n",
       "4        Belarus        0.1              1.6"
      ]
     },
     "execution_count": 92,
     "metadata": {},
     "output_type": "execute_result"
    }
   ],
   "source": [
    "print('По объему целевого трафика')\n",
    "df_country[['geo_country', 't_percent', 'conversion_rate']][:5]"
   ]
  },
  {
   "cell_type": "code",
   "execution_count": 93,
   "id": "14f11422",
   "metadata": {
    "hidden": true
   },
   "outputs": [
    {
     "name": "stdout",
     "output_type": "stream",
     "text": [
      "По CR\n"
     ]
    },
    {
     "data": {
      "text/html": [
       "<div>\n",
       "<style scoped>\n",
       "    .dataframe tbody tr th:only-of-type {\n",
       "        vertical-align: middle;\n",
       "    }\n",
       "\n",
       "    .dataframe tbody tr th {\n",
       "        vertical-align: top;\n",
       "    }\n",
       "\n",
       "    .dataframe thead th {\n",
       "        text-align: right;\n",
       "    }\n",
       "</style>\n",
       "<table border=\"1\" class=\"dataframe\">\n",
       "  <thead>\n",
       "    <tr style=\"text-align: right;\">\n",
       "      <th></th>\n",
       "      <th>geo_country</th>\n",
       "      <th>t_percent</th>\n",
       "      <th>conversion_rate</th>\n",
       "    </tr>\n",
       "  </thead>\n",
       "  <tbody>\n",
       "    <tr>\n",
       "      <th>0</th>\n",
       "      <td>Morocco</td>\n",
       "      <td>0.1</td>\n",
       "      <td>13.9</td>\n",
       "    </tr>\n",
       "    <tr>\n",
       "      <th>1</th>\n",
       "      <td>Albania</td>\n",
       "      <td>0.0</td>\n",
       "      <td>12.1</td>\n",
       "    </tr>\n",
       "    <tr>\n",
       "      <th>2</th>\n",
       "      <td>Slovenia</td>\n",
       "      <td>0.0</td>\n",
       "      <td>10.9</td>\n",
       "    </tr>\n",
       "    <tr>\n",
       "      <th>3</th>\n",
       "      <td>Philippines</td>\n",
       "      <td>0.0</td>\n",
       "      <td>7.4</td>\n",
       "    </tr>\n",
       "    <tr>\n",
       "      <th>4</th>\n",
       "      <td>Serbia</td>\n",
       "      <td>0.0</td>\n",
       "      <td>6.4</td>\n",
       "    </tr>\n",
       "  </tbody>\n",
       "</table>\n",
       "</div>"
      ],
      "text/plain": [
       "   geo_country  t_percent  conversion_rate\n",
       "0      Morocco        0.1             13.9\n",
       "1      Albania        0.0             12.1\n",
       "2     Slovenia        0.0             10.9\n",
       "3  Philippines        0.0              7.4\n",
       "4       Serbia        0.0              6.4"
      ]
     },
     "execution_count": 93,
     "metadata": {},
     "output_type": "execute_result"
    }
   ],
   "source": [
    "print('По CR')\n",
    "df_country_cr[['geo_country', 't_percent', 'conversion_rate']][:5]"
   ]
  },
  {
   "cell_type": "markdown",
   "id": "7da2f7b0",
   "metadata": {
    "hidden": true
   },
   "source": [
    "Россия, как страна присутствия, доминирует по количеству трафика, но CR (Conversion Rate) у нее не самый высокий."
   ]
  },
  {
   "cell_type": "markdown",
   "id": "51238571",
   "metadata": {
    "hidden": true
   },
   "source": [
    "**1.6 Топ городов**"
   ]
  },
  {
   "cell_type": "code",
   "execution_count": 94,
   "id": "3b40db1a",
   "metadata": {
    "hidden": true
   },
   "outputs": [
    {
     "name": "stdout",
     "output_type": "stream",
     "text": [
      "По объему целевого трафика\n"
     ]
    },
    {
     "data": {
      "text/html": [
       "<div>\n",
       "<style scoped>\n",
       "    .dataframe tbody tr th:only-of-type {\n",
       "        vertical-align: middle;\n",
       "    }\n",
       "\n",
       "    .dataframe tbody tr th {\n",
       "        vertical-align: top;\n",
       "    }\n",
       "\n",
       "    .dataframe thead th {\n",
       "        text-align: right;\n",
       "    }\n",
       "</style>\n",
       "<table border=\"1\" class=\"dataframe\">\n",
       "  <thead>\n",
       "    <tr style=\"text-align: right;\">\n",
       "      <th></th>\n",
       "      <th>geo_city</th>\n",
       "      <th>geo_country</th>\n",
       "      <th>t_percent</th>\n",
       "      <th>conversion_rate</th>\n",
       "    </tr>\n",
       "  </thead>\n",
       "  <tbody>\n",
       "    <tr>\n",
       "      <th>0</th>\n",
       "      <td>Moscow</td>\n",
       "      <td>Russia</td>\n",
       "      <td>47.0</td>\n",
       "      <td>2.9</td>\n",
       "    </tr>\n",
       "    <tr>\n",
       "      <th>1</th>\n",
       "      <td>Saint Petersburg</td>\n",
       "      <td>Russia</td>\n",
       "      <td>14.1</td>\n",
       "      <td>2.4</td>\n",
       "    </tr>\n",
       "    <tr>\n",
       "      <th>2</th>\n",
       "      <td>(not set)</td>\n",
       "      <td>Russia</td>\n",
       "      <td>2.7</td>\n",
       "      <td>1.9</td>\n",
       "    </tr>\n",
       "    <tr>\n",
       "      <th>3</th>\n",
       "      <td>Kazan</td>\n",
       "      <td>Russia</td>\n",
       "      <td>2.3</td>\n",
       "      <td>3.9</td>\n",
       "    </tr>\n",
       "    <tr>\n",
       "      <th>4</th>\n",
       "      <td>Krasnodar</td>\n",
       "      <td>Russia</td>\n",
       "      <td>2.1</td>\n",
       "      <td>3.4</td>\n",
       "    </tr>\n",
       "    <tr>\n",
       "      <th>5</th>\n",
       "      <td>Yekaterinburg</td>\n",
       "      <td>Russia</td>\n",
       "      <td>1.8</td>\n",
       "      <td>2.5</td>\n",
       "    </tr>\n",
       "    <tr>\n",
       "      <th>6</th>\n",
       "      <td>Samara</td>\n",
       "      <td>Russia</td>\n",
       "      <td>1.4</td>\n",
       "      <td>2.9</td>\n",
       "    </tr>\n",
       "    <tr>\n",
       "      <th>7</th>\n",
       "      <td>Ufa</td>\n",
       "      <td>Russia</td>\n",
       "      <td>1.3</td>\n",
       "      <td>2.9</td>\n",
       "    </tr>\n",
       "    <tr>\n",
       "      <th>8</th>\n",
       "      <td>Nizhny Novgorod</td>\n",
       "      <td>Russia</td>\n",
       "      <td>1.1</td>\n",
       "      <td>2.5</td>\n",
       "    </tr>\n",
       "    <tr>\n",
       "      <th>9</th>\n",
       "      <td>Novosibirsk</td>\n",
       "      <td>Russia</td>\n",
       "      <td>1.0</td>\n",
       "      <td>2.4</td>\n",
       "    </tr>\n",
       "  </tbody>\n",
       "</table>\n",
       "</div>"
      ],
      "text/plain": [
       "           geo_city geo_country  t_percent  conversion_rate\n",
       "0            Moscow      Russia       47.0              2.9\n",
       "1  Saint Petersburg      Russia       14.1              2.4\n",
       "2         (not set)      Russia        2.7              1.9\n",
       "3             Kazan      Russia        2.3              3.9\n",
       "4         Krasnodar      Russia        2.1              3.4\n",
       "5     Yekaterinburg      Russia        1.8              2.5\n",
       "6            Samara      Russia        1.4              2.9\n",
       "7               Ufa      Russia        1.3              2.9\n",
       "8   Nizhny Novgorod      Russia        1.1              2.5\n",
       "9       Novosibirsk      Russia        1.0              2.4"
      ]
     },
     "execution_count": 94,
     "metadata": {},
     "output_type": "execute_result"
    }
   ],
   "source": [
    "print('По объему целевого трафика')\n",
    "df_city[['geo_city', 'geo_country', 't_percent', 'conversion_rate']][:10]"
   ]
  },
  {
   "cell_type": "code",
   "execution_count": 95,
   "id": "3c1f08ee",
   "metadata": {
    "hidden": true
   },
   "outputs": [
    {
     "name": "stdout",
     "output_type": "stream",
     "text": [
      "По CR\n"
     ]
    },
    {
     "data": {
      "text/html": [
       "<div>\n",
       "<style scoped>\n",
       "    .dataframe tbody tr th:only-of-type {\n",
       "        vertical-align: middle;\n",
       "    }\n",
       "\n",
       "    .dataframe tbody tr th {\n",
       "        vertical-align: top;\n",
       "    }\n",
       "\n",
       "    .dataframe thead th {\n",
       "        text-align: right;\n",
       "    }\n",
       "</style>\n",
       "<table border=\"1\" class=\"dataframe\">\n",
       "  <thead>\n",
       "    <tr style=\"text-align: right;\">\n",
       "      <th></th>\n",
       "      <th>geo_city</th>\n",
       "      <th>geo_country</th>\n",
       "      <th>t_percent</th>\n",
       "      <th>conversion_rate</th>\n",
       "    </tr>\n",
       "  </thead>\n",
       "  <tbody>\n",
       "    <tr>\n",
       "      <th>0</th>\n",
       "      <td>Brescia</td>\n",
       "      <td>Italy</td>\n",
       "      <td>0.0</td>\n",
       "      <td>100.0</td>\n",
       "    </tr>\n",
       "    <tr>\n",
       "      <th>1</th>\n",
       "      <td>Laguna Niguel</td>\n",
       "      <td>United States</td>\n",
       "      <td>0.0</td>\n",
       "      <td>100.0</td>\n",
       "    </tr>\n",
       "    <tr>\n",
       "      <th>2</th>\n",
       "      <td>Nipomo</td>\n",
       "      <td>United States</td>\n",
       "      <td>0.0</td>\n",
       "      <td>100.0</td>\n",
       "    </tr>\n",
       "    <tr>\n",
       "      <th>3</th>\n",
       "      <td>Nybro</td>\n",
       "      <td>Sweden</td>\n",
       "      <td>0.0</td>\n",
       "      <td>100.0</td>\n",
       "    </tr>\n",
       "    <tr>\n",
       "      <th>4</th>\n",
       "      <td>Beaver Falls</td>\n",
       "      <td>United States</td>\n",
       "      <td>0.0</td>\n",
       "      <td>100.0</td>\n",
       "    </tr>\n",
       "    <tr>\n",
       "      <th>5</th>\n",
       "      <td>Royan</td>\n",
       "      <td>France</td>\n",
       "      <td>0.0</td>\n",
       "      <td>100.0</td>\n",
       "    </tr>\n",
       "    <tr>\n",
       "      <th>6</th>\n",
       "      <td>Rostock</td>\n",
       "      <td>Germany</td>\n",
       "      <td>0.0</td>\n",
       "      <td>100.0</td>\n",
       "    </tr>\n",
       "    <tr>\n",
       "      <th>7</th>\n",
       "      <td>Qingdao</td>\n",
       "      <td>China</td>\n",
       "      <td>0.0</td>\n",
       "      <td>100.0</td>\n",
       "    </tr>\n",
       "    <tr>\n",
       "      <th>8</th>\n",
       "      <td>Guingamp</td>\n",
       "      <td>France</td>\n",
       "      <td>0.0</td>\n",
       "      <td>100.0</td>\n",
       "    </tr>\n",
       "    <tr>\n",
       "      <th>9</th>\n",
       "      <td>Middletown</td>\n",
       "      <td>United States</td>\n",
       "      <td>0.0</td>\n",
       "      <td>100.0</td>\n",
       "    </tr>\n",
       "  </tbody>\n",
       "</table>\n",
       "</div>"
      ],
      "text/plain": [
       "        geo_city    geo_country  t_percent  conversion_rate\n",
       "0        Brescia          Italy        0.0            100.0\n",
       "1  Laguna Niguel  United States        0.0            100.0\n",
       "2         Nipomo  United States        0.0            100.0\n",
       "3          Nybro         Sweden        0.0            100.0\n",
       "4   Beaver Falls  United States        0.0            100.0\n",
       "5          Royan         France        0.0            100.0\n",
       "6        Rostock        Germany        0.0            100.0\n",
       "7        Qingdao          China        0.0            100.0\n",
       "8       Guingamp         France        0.0            100.0\n",
       "9     Middletown  United States        0.0            100.0"
      ]
     },
     "execution_count": 95,
     "metadata": {},
     "output_type": "execute_result"
    }
   ],
   "source": [
    "print('По CR')\n",
    "df_city_cr[['geo_city', 'geo_country', 't_percent', 'conversion_rate']][:10]"
   ]
  },
  {
   "cell_type": "markdown",
   "id": "738aa291",
   "metadata": {
    "heading_collapsed": true,
    "hidden": true,
    "jp-MarkdownHeadingCollapsed": true,
    "tags": []
   },
   "source": [
    "#### 2. Какие авто пользуются наибольшим спросом? У каких авто самый лучший показатель CR (Conversion Rate) в целевые события?"
   ]
  },
  {
   "cell_type": "code",
   "execution_count": 96,
   "id": "f9cf0735",
   "metadata": {
    "hidden": true
   },
   "outputs": [
    {
     "name": "stdout",
     "output_type": "stream",
     "text": [
      "Топ авто, которые пользуются наибольшим спросом (с наибольшим целевым трафиком)\n"
     ]
    },
    {
     "data": {
      "text/html": [
       "<div>\n",
       "<style scoped>\n",
       "    .dataframe tbody tr th:only-of-type {\n",
       "        vertical-align: middle;\n",
       "    }\n",
       "\n",
       "    .dataframe tbody tr th {\n",
       "        vertical-align: top;\n",
       "    }\n",
       "\n",
       "    .dataframe thead th {\n",
       "        text-align: right;\n",
       "    }\n",
       "</style>\n",
       "<table border=\"1\" class=\"dataframe\">\n",
       "  <thead>\n",
       "    <tr style=\"text-align: right;\">\n",
       "      <th></th>\n",
       "      <th>auto_name</th>\n",
       "      <th>auto_model</th>\n",
       "      <th>t_percent</th>\n",
       "      <th>conversion_rate</th>\n",
       "    </tr>\n",
       "  </thead>\n",
       "  <tbody>\n",
       "    <tr>\n",
       "      <th>0</th>\n",
       "      <td>other</td>\n",
       "      <td>other</td>\n",
       "      <td>69.5</td>\n",
       "      <td>0.6</td>\n",
       "    </tr>\n",
       "    <tr>\n",
       "      <th>1</th>\n",
       "      <td>skoda</td>\n",
       "      <td>rapid</td>\n",
       "      <td>5.7</td>\n",
       "      <td>1.4</td>\n",
       "    </tr>\n",
       "    <tr>\n",
       "      <th>2</th>\n",
       "      <td>lada-vaz</td>\n",
       "      <td>vesta</td>\n",
       "      <td>5.1</td>\n",
       "      <td>1.3</td>\n",
       "    </tr>\n",
       "    <tr>\n",
       "      <th>3</th>\n",
       "      <td>volkswagen</td>\n",
       "      <td>polo</td>\n",
       "      <td>4.4</td>\n",
       "      <td>1.5</td>\n",
       "    </tr>\n",
       "    <tr>\n",
       "      <th>4</th>\n",
       "      <td>kia</td>\n",
       "      <td>rio</td>\n",
       "      <td>1.4</td>\n",
       "      <td>1.6</td>\n",
       "    </tr>\n",
       "    <tr>\n",
       "      <th>5</th>\n",
       "      <td>skoda</td>\n",
       "      <td>karoq</td>\n",
       "      <td>1.2</td>\n",
       "      <td>0.7</td>\n",
       "    </tr>\n",
       "    <tr>\n",
       "      <th>6</th>\n",
       "      <td>mercedes-benz</td>\n",
       "      <td>e-klasse</td>\n",
       "      <td>1.2</td>\n",
       "      <td>0.7</td>\n",
       "    </tr>\n",
       "    <tr>\n",
       "      <th>7</th>\n",
       "      <td>toyota</td>\n",
       "      <td>camry</td>\n",
       "      <td>1.1</td>\n",
       "      <td>1.6</td>\n",
       "    </tr>\n",
       "    <tr>\n",
       "      <th>8</th>\n",
       "      <td>renault</td>\n",
       "      <td>logan</td>\n",
       "      <td>0.9</td>\n",
       "      <td>1.2</td>\n",
       "    </tr>\n",
       "    <tr>\n",
       "      <th>9</th>\n",
       "      <td>nissan</td>\n",
       "      <td>qashqai</td>\n",
       "      <td>0.8</td>\n",
       "      <td>0.6</td>\n",
       "    </tr>\n",
       "    <tr>\n",
       "      <th>10</th>\n",
       "      <td>skoda</td>\n",
       "      <td>octavia</td>\n",
       "      <td>0.8</td>\n",
       "      <td>1.1</td>\n",
       "    </tr>\n",
       "  </tbody>\n",
       "</table>\n",
       "</div>"
      ],
      "text/plain": [
       "        auto_name auto_model  t_percent  conversion_rate\n",
       "0           other      other       69.5              0.6\n",
       "1           skoda      rapid        5.7              1.4\n",
       "2        lada-vaz      vesta        5.1              1.3\n",
       "3      volkswagen       polo        4.4              1.5\n",
       "4             kia        rio        1.4              1.6\n",
       "5           skoda      karoq        1.2              0.7\n",
       "6   mercedes-benz   e-klasse        1.2              0.7\n",
       "7          toyota      camry        1.1              1.6\n",
       "8         renault      logan        0.9              1.2\n",
       "9          nissan    qashqai        0.8              0.6\n",
       "10          skoda    octavia        0.8              1.1"
      ]
     },
     "execution_count": 96,
     "metadata": {},
     "output_type": "execute_result"
    }
   ],
   "source": [
    "print('Топ авто, которые пользуются наибольшим спросом (с наибольшим целевым трафиком)')\n",
    "df_auto[['auto_name', 'auto_model', 't_percent', 'conversion_rate']][:11]"
   ]
  },
  {
   "cell_type": "code",
   "execution_count": 97,
   "id": "186b17c0",
   "metadata": {
    "hidden": true
   },
   "outputs": [
    {
     "name": "stdout",
     "output_type": "stream",
     "text": [
      "Топ авто по CR)\n"
     ]
    },
    {
     "data": {
      "text/html": [
       "<div>\n",
       "<style scoped>\n",
       "    .dataframe tbody tr th:only-of-type {\n",
       "        vertical-align: middle;\n",
       "    }\n",
       "\n",
       "    .dataframe tbody tr th {\n",
       "        vertical-align: top;\n",
       "    }\n",
       "\n",
       "    .dataframe thead th {\n",
       "        text-align: right;\n",
       "    }\n",
       "</style>\n",
       "<table border=\"1\" class=\"dataframe\">\n",
       "  <thead>\n",
       "    <tr style=\"text-align: right;\">\n",
       "      <th></th>\n",
       "      <th>auto_name</th>\n",
       "      <th>auto_model</th>\n",
       "      <th>t_percent</th>\n",
       "      <th>conversion_rate</th>\n",
       "    </tr>\n",
       "  </thead>\n",
       "  <tbody>\n",
       "    <tr>\n",
       "      <th>0</th>\n",
       "      <td>toyota</td>\n",
       "      <td>auris</td>\n",
       "      <td>0.0</td>\n",
       "      <td>100.0</td>\n",
       "    </tr>\n",
       "    <tr>\n",
       "      <th>2</th>\n",
       "      <td>macan</td>\n",
       "      <td>other</td>\n",
       "      <td>0.0</td>\n",
       "      <td>66.7</td>\n",
       "    </tr>\n",
       "    <tr>\n",
       "      <th>5</th>\n",
       "      <td>ceed</td>\n",
       "      <td>other</td>\n",
       "      <td>0.0</td>\n",
       "      <td>40.0</td>\n",
       "    </tr>\n",
       "    <tr>\n",
       "      <th>6</th>\n",
       "      <td>honda</td>\n",
       "      <td>cr-v</td>\n",
       "      <td>0.0</td>\n",
       "      <td>28.6</td>\n",
       "    </tr>\n",
       "    <tr>\n",
       "      <th>7</th>\n",
       "      <td>x1</td>\n",
       "      <td>other</td>\n",
       "      <td>0.0</td>\n",
       "      <td>28.6</td>\n",
       "    </tr>\n",
       "    <tr>\n",
       "      <th>9</th>\n",
       "      <td>alfa-romeo</td>\n",
       "      <td>other</td>\n",
       "      <td>0.0</td>\n",
       "      <td>25.0</td>\n",
       "    </tr>\n",
       "    <tr>\n",
       "      <th>10</th>\n",
       "      <td>audi</td>\n",
       "      <td>a6</td>\n",
       "      <td>0.0</td>\n",
       "      <td>22.2</td>\n",
       "    </tr>\n",
       "    <tr>\n",
       "      <th>12</th>\n",
       "      <td>nexia</td>\n",
       "      <td>other</td>\n",
       "      <td>0.0</td>\n",
       "      <td>20.0</td>\n",
       "    </tr>\n",
       "    <tr>\n",
       "      <th>13</th>\n",
       "      <td>g-klasse</td>\n",
       "      <td>sale</td>\n",
       "      <td>0.0</td>\n",
       "      <td>18.8</td>\n",
       "    </tr>\n",
       "    <tr>\n",
       "      <th>14</th>\n",
       "      <td>defender</td>\n",
       "      <td>other</td>\n",
       "      <td>0.0</td>\n",
       "      <td>15.4</td>\n",
       "    </tr>\n",
       "    <tr>\n",
       "      <th>15</th>\n",
       "      <td>uaz</td>\n",
       "      <td>other</td>\n",
       "      <td>0.0</td>\n",
       "      <td>13.3</td>\n",
       "    </tr>\n",
       "  </tbody>\n",
       "</table>\n",
       "</div>"
      ],
      "text/plain": [
       "     auto_name auto_model  t_percent  conversion_rate\n",
       "0       toyota      auris        0.0            100.0\n",
       "2        macan      other        0.0             66.7\n",
       "5         ceed      other        0.0             40.0\n",
       "6        honda       cr-v        0.0             28.6\n",
       "7           x1      other        0.0             28.6\n",
       "9   alfa-romeo      other        0.0             25.0\n",
       "10        audi         a6        0.0             22.2\n",
       "12       nexia      other        0.0             20.0\n",
       "13    g-klasse       sale        0.0             18.8\n",
       "14    defender      other        0.0             15.4\n",
       "15         uaz      other        0.0             13.3"
      ]
     },
     "execution_count": 97,
     "metadata": {},
     "output_type": "execute_result"
    }
   ],
   "source": [
    "print('Топ авто по CR)')\n",
    "df_auto_cr_clean[['auto_name', 'auto_model', 't_percent', 'conversion_rate']][:11]"
   ]
  },
  {
   "cell_type": "markdown",
   "id": "cb25b1a0",
   "metadata": {
    "heading_collapsed": true,
    "hidden": true,
    "jp-MarkdownHeadingCollapsed": true,
    "tags": []
   },
   "source": [
    "#### 3. Стоит ли нам увеличивать своё присутствие в соцсетях и давать там больше рекламы?"
   ]
  },
  {
   "cell_type": "code",
   "execution_count": 98,
   "id": "6e4648fc",
   "metadata": {
    "hidden": true
   },
   "outputs": [
    {
     "name": "stdout",
     "output_type": "stream",
     "text": [
      "Реклама в соцсетях привлекла 8.0% целевых событий.\n",
      "CR рекламы в соцсетях в целевые события - 1.5%\n"
     ]
    }
   ],
   "source": [
    "print(f'Реклама в соцсетях привлекла {ta_advert.percent[1]}% целевых событий.')\n",
    "print(f'CR рекламы в соцсетях в целевые события - {round(ta_advert.target[1] / vis_advert.quant[1] *100, 1)}%')"
   ]
  },
  {
   "cell_type": "markdown",
   "id": "bc85155c",
   "metadata": {
    "hidden": true
   },
   "source": [
    "Увеличивать присутствие в соцсетях и давать больше рекламы не стоит."
   ]
  }
 ],
 "metadata": {
  "kernelspec": {
   "display_name": "Python 3 (ipykernel)",
   "language": "python",
   "name": "python3"
  },
  "language_info": {
   "codemirror_mode": {
    "name": "ipython",
    "version": 3
   },
   "file_extension": ".py",
   "mimetype": "text/x-python",
   "name": "python",
   "nbconvert_exporter": "python",
   "pygments_lexer": "ipython3",
   "version": "3.9.13"
  },
  "toc": {
   "base_numbering": 1,
   "nav_menu": {},
   "number_sections": true,
   "sideBar": true,
   "skip_h1_title": false,
   "title_cell": "Table of Contents",
   "title_sidebar": "Contents",
   "toc_cell": false,
   "toc_position": {},
   "toc_section_display": true,
   "toc_window_display": false
  }
 },
 "nbformat": 4,
 "nbformat_minor": 5
}
