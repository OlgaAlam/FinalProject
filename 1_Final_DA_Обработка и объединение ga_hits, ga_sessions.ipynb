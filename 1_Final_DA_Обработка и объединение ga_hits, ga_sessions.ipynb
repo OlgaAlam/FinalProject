{
 "cells": [
  {
   "cell_type": "markdown",
   "id": "4770df7e",
   "metadata": {
    "heading_collapsed": true
   },
   "source": [
    "# Финальная работа, специализация: **Data Analyst**\n",
    "- Тема: Анализ сайта \"Сберавтоподписка\"\n",
    "- **Исходные данные: ga_hits.csv** (база событий в рамках сессии), **ga_sessions.csv** (база визитов)\n",
    "- **Выходные данные: ga_hits_clean.csv, ga_sessions_clean.csv, ga_joined.csv**"
   ]
  },
  {
   "cell_type": "markdown",
   "id": "29de2e39",
   "metadata": {
    "hidden": true
   },
   "source": [
    "**Задание**\n",
    "1. Проведите подготовительную работу:\n",
    "- Прочитайте предоставленный датасет.\n",
    "- Ознакомьтесь с описаниями представленных атрибутов.\n",
    "- Оцените полноту и чистоту данных. Попытайтесь понять, что стоит за этими данными в реальном мире. Приведите данные в удобный/нормальный вид для дальнейшей работы.\n",
    "2. Проведите разведочный анализ данных:\n",
    "- Проведите базовую чистку (дубликаты, пустые значения, типизация данных, ненужные атрибуты).\n",
    "- Посмотрите на распределение ключевых атрибутов, их отношения."
   ]
  },
  {
   "cell_type": "markdown",
   "id": "ab492db1",
   "metadata": {
    "heading_collapsed": true
   },
   "source": [
    "# 0. Импорт сторонних библиотек"
   ]
  },
  {
   "cell_type": "code",
   "execution_count": 1,
   "id": "61eba71a",
   "metadata": {
    "hidden": true
   },
   "outputs": [],
   "source": [
    "import pandas as pd\n",
    "import numpy as np\n",
    "\n",
    "import missingno as msno\n",
    "import matplotlib.pyplot as plt\n",
    "\n",
    "from datetime import datetime\n",
    "from matplotlib.ticker import FormatStrFormatter"
   ]
  },
  {
   "cell_type": "markdown",
   "id": "b234524f",
   "metadata": {},
   "source": [
    "# Часть 1: Обработка данных ga_hits.csv, ga_sessions.csv"
   ]
  },
  {
   "cell_type": "markdown",
   "id": "d3b14913",
   "metadata": {
    "heading_collapsed": true
   },
   "source": [
    "## 1. Загрузка данных"
   ]
  },
  {
   "cell_type": "markdown",
   "id": "43b6ac76",
   "metadata": {
    "heading_collapsed": true,
    "hidden": true
   },
   "source": [
    "### 1.1 ga_hits"
   ]
  },
  {
   "cell_type": "code",
   "execution_count": 2,
   "id": "2a7699b8",
   "metadata": {
    "hidden": true
   },
   "outputs": [],
   "source": [
    "# Чтение файла в датафрейм\n",
    "df_h = pd.read_csv('data/ga_hits.csv')"
   ]
  },
  {
   "cell_type": "code",
   "execution_count": 3,
   "id": "6643dffa",
   "metadata": {
    "hidden": true
   },
   "outputs": [
    {
     "data": {
      "text/html": [
       "<div>\n",
       "<style scoped>\n",
       "    .dataframe tbody tr th:only-of-type {\n",
       "        vertical-align: middle;\n",
       "    }\n",
       "\n",
       "    .dataframe tbody tr th {\n",
       "        vertical-align: top;\n",
       "    }\n",
       "\n",
       "    .dataframe thead th {\n",
       "        text-align: right;\n",
       "    }\n",
       "</style>\n",
       "<table border=\"1\" class=\"dataframe\">\n",
       "  <thead>\n",
       "    <tr style=\"text-align: right;\">\n",
       "      <th></th>\n",
       "      <th>session_id</th>\n",
       "      <th>hit_date</th>\n",
       "      <th>hit_time</th>\n",
       "      <th>hit_number</th>\n",
       "      <th>hit_type</th>\n",
       "      <th>hit_referer</th>\n",
       "      <th>hit_page_path</th>\n",
       "      <th>event_category</th>\n",
       "      <th>event_action</th>\n",
       "      <th>event_label</th>\n",
       "      <th>event_value</th>\n",
       "    </tr>\n",
       "  </thead>\n",
       "  <tbody>\n",
       "    <tr>\n",
       "      <th>0</th>\n",
       "      <td>5639623078712724064.1640254056.1640254056</td>\n",
       "      <td>2021-12-23</td>\n",
       "      <td>597864.0</td>\n",
       "      <td>30</td>\n",
       "      <td>event</td>\n",
       "      <td>NaN</td>\n",
       "      <td>sberauto.com/cars?utm_source_initial=google&amp;ut...</td>\n",
       "      <td>quiz</td>\n",
       "      <td>quiz_show</td>\n",
       "      <td>NaN</td>\n",
       "      <td>NaN</td>\n",
       "    </tr>\n",
       "    <tr>\n",
       "      <th>1</th>\n",
       "      <td>7750352294969115059.1640271109.1640271109</td>\n",
       "      <td>2021-12-23</td>\n",
       "      <td>597331.0</td>\n",
       "      <td>41</td>\n",
       "      <td>event</td>\n",
       "      <td>NaN</td>\n",
       "      <td>sberauto.com/cars/fiat?city=1&amp;city=18&amp;rental_c...</td>\n",
       "      <td>quiz</td>\n",
       "      <td>quiz_show</td>\n",
       "      <td>NaN</td>\n",
       "      <td>NaN</td>\n",
       "    </tr>\n",
       "    <tr>\n",
       "      <th>2</th>\n",
       "      <td>885342191847998240.1640235807.1640235807</td>\n",
       "      <td>2021-12-23</td>\n",
       "      <td>796252.0</td>\n",
       "      <td>49</td>\n",
       "      <td>event</td>\n",
       "      <td>NaN</td>\n",
       "      <td>sberauto.com/cars/all/volkswagen/polo/e994838f...</td>\n",
       "      <td>quiz</td>\n",
       "      <td>quiz_show</td>\n",
       "      <td>NaN</td>\n",
       "      <td>NaN</td>\n",
       "    </tr>\n",
       "    <tr>\n",
       "      <th>3</th>\n",
       "      <td>142526202120934167.1640211014.1640211014</td>\n",
       "      <td>2021-12-23</td>\n",
       "      <td>934292.0</td>\n",
       "      <td>46</td>\n",
       "      <td>event</td>\n",
       "      <td>NaN</td>\n",
       "      <td>sberauto.com/cars?utm_source_initial=yandex&amp;ut...</td>\n",
       "      <td>quiz</td>\n",
       "      <td>quiz_show</td>\n",
       "      <td>NaN</td>\n",
       "      <td>NaN</td>\n",
       "    </tr>\n",
       "    <tr>\n",
       "      <th>4</th>\n",
       "      <td>3450086108837475701.1640265078.1640265078</td>\n",
       "      <td>2021-12-23</td>\n",
       "      <td>768741.0</td>\n",
       "      <td>79</td>\n",
       "      <td>event</td>\n",
       "      <td>NaN</td>\n",
       "      <td>sberauto.com/cars/all/mercedes-benz/cla-klasse...</td>\n",
       "      <td>quiz</td>\n",
       "      <td>quiz_show</td>\n",
       "      <td>NaN</td>\n",
       "      <td>NaN</td>\n",
       "    </tr>\n",
       "  </tbody>\n",
       "</table>\n",
       "</div>"
      ],
      "text/plain": [
       "                                  session_id    hit_date  hit_time  \\\n",
       "0  5639623078712724064.1640254056.1640254056  2021-12-23  597864.0   \n",
       "1  7750352294969115059.1640271109.1640271109  2021-12-23  597331.0   \n",
       "2   885342191847998240.1640235807.1640235807  2021-12-23  796252.0   \n",
       "3   142526202120934167.1640211014.1640211014  2021-12-23  934292.0   \n",
       "4  3450086108837475701.1640265078.1640265078  2021-12-23  768741.0   \n",
       "\n",
       "   hit_number hit_type hit_referer  \\\n",
       "0          30    event         NaN   \n",
       "1          41    event         NaN   \n",
       "2          49    event         NaN   \n",
       "3          46    event         NaN   \n",
       "4          79    event         NaN   \n",
       "\n",
       "                                       hit_page_path event_category  \\\n",
       "0  sberauto.com/cars?utm_source_initial=google&ut...           quiz   \n",
       "1  sberauto.com/cars/fiat?city=1&city=18&rental_c...           quiz   \n",
       "2  sberauto.com/cars/all/volkswagen/polo/e994838f...           quiz   \n",
       "3  sberauto.com/cars?utm_source_initial=yandex&ut...           quiz   \n",
       "4  sberauto.com/cars/all/mercedes-benz/cla-klasse...           quiz   \n",
       "\n",
       "  event_action event_label  event_value  \n",
       "0    quiz_show         NaN          NaN  \n",
       "1    quiz_show         NaN          NaN  \n",
       "2    quiz_show         NaN          NaN  \n",
       "3    quiz_show         NaN          NaN  \n",
       "4    quiz_show         NaN          NaN  "
      ]
     },
     "execution_count": 3,
     "metadata": {},
     "output_type": "execute_result"
    }
   ],
   "source": [
    "df_h.head()"
   ]
  },
  {
   "cell_type": "code",
   "execution_count": 4,
   "id": "842b5b6a",
   "metadata": {
    "hidden": true
   },
   "outputs": [
    {
     "name": "stdout",
     "output_type": "stream",
     "text": [
      "Размерность исходного датафрейма\n"
     ]
    },
    {
     "data": {
      "text/plain": [
       "(15726470, 11)"
      ]
     },
     "execution_count": 4,
     "metadata": {},
     "output_type": "execute_result"
    }
   ],
   "source": [
    "print(\"Размерность исходного датафрейма\")\n",
    "df_h.shape"
   ]
  },
  {
   "cell_type": "markdown",
   "id": "36487254",
   "metadata": {
    "hidden": true
   },
   "source": [
    "**Описание атрибутов датафрейма событий из файла ga_hits.csv:**\n",
    "\n",
    "- session_id - ID визита;\n",
    "- hit_date - дата события;\n",
    "- hit_time - время события;\n",
    "- hit_number - порядковый номер события в рамках сессии;\n",
    "- hit_type - тип события;\n",
    "- hit_referer - источник события;\n",
    "- hit_page_path - страница события;\n",
    "- event_category - тип действия;\n",
    "- event_action - действие;\n",
    "- event_label - тег действия;\n",
    "- event_value - значение результата действия."
   ]
  },
  {
   "cell_type": "markdown",
   "id": "84939fbd",
   "metadata": {
    "heading_collapsed": true,
    "hidden": true
   },
   "source": [
    "### 1.2 ga_sessions"
   ]
  },
  {
   "cell_type": "code",
   "execution_count": 5,
   "id": "54a1cb8e",
   "metadata": {
    "hidden": true
   },
   "outputs": [],
   "source": [
    "# Чтение файла в датафрейм\n",
    "df_s = pd.read_csv('data/ga_sessions.csv', low_memory=False)"
   ]
  },
  {
   "cell_type": "code",
   "execution_count": 6,
   "id": "76cb3d88",
   "metadata": {
    "hidden": true
   },
   "outputs": [
    {
     "data": {
      "text/html": [
       "<div>\n",
       "<style scoped>\n",
       "    .dataframe tbody tr th:only-of-type {\n",
       "        vertical-align: middle;\n",
       "    }\n",
       "\n",
       "    .dataframe tbody tr th {\n",
       "        vertical-align: top;\n",
       "    }\n",
       "\n",
       "    .dataframe thead th {\n",
       "        text-align: right;\n",
       "    }\n",
       "</style>\n",
       "<table border=\"1\" class=\"dataframe\">\n",
       "  <thead>\n",
       "    <tr style=\"text-align: right;\">\n",
       "      <th></th>\n",
       "      <th>session_id</th>\n",
       "      <th>client_id</th>\n",
       "      <th>visit_date</th>\n",
       "      <th>visit_time</th>\n",
       "      <th>visit_number</th>\n",
       "      <th>utm_source</th>\n",
       "      <th>utm_medium</th>\n",
       "      <th>utm_campaign</th>\n",
       "      <th>utm_adcontent</th>\n",
       "      <th>utm_keyword</th>\n",
       "      <th>device_category</th>\n",
       "      <th>device_os</th>\n",
       "      <th>device_brand</th>\n",
       "      <th>device_model</th>\n",
       "      <th>device_screen_resolution</th>\n",
       "      <th>device_browser</th>\n",
       "      <th>geo_country</th>\n",
       "      <th>geo_city</th>\n",
       "    </tr>\n",
       "  </thead>\n",
       "  <tbody>\n",
       "    <tr>\n",
       "      <th>0</th>\n",
       "      <td>9055434745589932991.1637753792.1637753792</td>\n",
       "      <td>2108382700.1637753791</td>\n",
       "      <td>2021-11-24</td>\n",
       "      <td>14:36:32</td>\n",
       "      <td>1</td>\n",
       "      <td>ZpYIoDJMcFzVoPFsHGJL</td>\n",
       "      <td>banner</td>\n",
       "      <td>LEoPHuyFvzoNfnzGgfcd</td>\n",
       "      <td>vCIpmpaGBnIQhyYNkXqp</td>\n",
       "      <td>puhZPIYqKXeFPaUviSjo</td>\n",
       "      <td>mobile</td>\n",
       "      <td>Android</td>\n",
       "      <td>Huawei</td>\n",
       "      <td>NaN</td>\n",
       "      <td>360x720</td>\n",
       "      <td>Chrome</td>\n",
       "      <td>Russia</td>\n",
       "      <td>Zlatoust</td>\n",
       "    </tr>\n",
       "    <tr>\n",
       "      <th>1</th>\n",
       "      <td>905544597018549464.1636867290.1636867290</td>\n",
       "      <td>210838531.1636867288</td>\n",
       "      <td>2021-11-14</td>\n",
       "      <td>08:21:30</td>\n",
       "      <td>1</td>\n",
       "      <td>MvfHsxITijuriZxsqZqt</td>\n",
       "      <td>cpm</td>\n",
       "      <td>FTjNLDyTrXaWYgZymFkV</td>\n",
       "      <td>xhoenQgDQsgfEPYNPwKO</td>\n",
       "      <td>IGUCNvHlhfHpROGclCit</td>\n",
       "      <td>mobile</td>\n",
       "      <td>Android</td>\n",
       "      <td>Samsung</td>\n",
       "      <td>NaN</td>\n",
       "      <td>385x854</td>\n",
       "      <td>Samsung Internet</td>\n",
       "      <td>Russia</td>\n",
       "      <td>Moscow</td>\n",
       "    </tr>\n",
       "    <tr>\n",
       "      <th>2</th>\n",
       "      <td>9055446045651783499.1640648526.1640648526</td>\n",
       "      <td>2108385331.1640648523</td>\n",
       "      <td>2021-12-28</td>\n",
       "      <td>02:42:06</td>\n",
       "      <td>1</td>\n",
       "      <td>ZpYIoDJMcFzVoPFsHGJL</td>\n",
       "      <td>banner</td>\n",
       "      <td>LEoPHuyFvzoNfnzGgfcd</td>\n",
       "      <td>vCIpmpaGBnIQhyYNkXqp</td>\n",
       "      <td>puhZPIYqKXeFPaUviSjo</td>\n",
       "      <td>mobile</td>\n",
       "      <td>Android</td>\n",
       "      <td>Huawei</td>\n",
       "      <td>NaN</td>\n",
       "      <td>360x720</td>\n",
       "      <td>Chrome</td>\n",
       "      <td>Russia</td>\n",
       "      <td>Krasnoyarsk</td>\n",
       "    </tr>\n",
       "    <tr>\n",
       "      <th>3</th>\n",
       "      <td>9055447046360770272.1622255328.1622255328</td>\n",
       "      <td>2108385564.1622255328</td>\n",
       "      <td>2021-05-29</td>\n",
       "      <td>05:00:00</td>\n",
       "      <td>1</td>\n",
       "      <td>kjsLglQLzykiRbcDiGcD</td>\n",
       "      <td>cpc</td>\n",
       "      <td>NaN</td>\n",
       "      <td>NOBKLgtuvqYWkXQHeYWM</td>\n",
       "      <td>NaN</td>\n",
       "      <td>mobile</td>\n",
       "      <td>NaN</td>\n",
       "      <td>Xiaomi</td>\n",
       "      <td>NaN</td>\n",
       "      <td>393x786</td>\n",
       "      <td>Chrome</td>\n",
       "      <td>Russia</td>\n",
       "      <td>Moscow</td>\n",
       "    </tr>\n",
       "    <tr>\n",
       "      <th>4</th>\n",
       "      <td>9055447046360770272.1622255345.1622255345</td>\n",
       "      <td>2108385564.1622255328</td>\n",
       "      <td>2021-05-29</td>\n",
       "      <td>05:00:00</td>\n",
       "      <td>2</td>\n",
       "      <td>kjsLglQLzykiRbcDiGcD</td>\n",
       "      <td>cpc</td>\n",
       "      <td>NaN</td>\n",
       "      <td>NaN</td>\n",
       "      <td>NaN</td>\n",
       "      <td>mobile</td>\n",
       "      <td>NaN</td>\n",
       "      <td>Xiaomi</td>\n",
       "      <td>NaN</td>\n",
       "      <td>393x786</td>\n",
       "      <td>Chrome</td>\n",
       "      <td>Russia</td>\n",
       "      <td>Moscow</td>\n",
       "    </tr>\n",
       "  </tbody>\n",
       "</table>\n",
       "</div>"
      ],
      "text/plain": [
       "                                  session_id              client_id  \\\n",
       "0  9055434745589932991.1637753792.1637753792  2108382700.1637753791   \n",
       "1   905544597018549464.1636867290.1636867290   210838531.1636867288   \n",
       "2  9055446045651783499.1640648526.1640648526  2108385331.1640648523   \n",
       "3  9055447046360770272.1622255328.1622255328  2108385564.1622255328   \n",
       "4  9055447046360770272.1622255345.1622255345  2108385564.1622255328   \n",
       "\n",
       "   visit_date visit_time  visit_number            utm_source utm_medium  \\\n",
       "0  2021-11-24   14:36:32             1  ZpYIoDJMcFzVoPFsHGJL     banner   \n",
       "1  2021-11-14   08:21:30             1  MvfHsxITijuriZxsqZqt        cpm   \n",
       "2  2021-12-28   02:42:06             1  ZpYIoDJMcFzVoPFsHGJL     banner   \n",
       "3  2021-05-29   05:00:00             1  kjsLglQLzykiRbcDiGcD        cpc   \n",
       "4  2021-05-29   05:00:00             2  kjsLglQLzykiRbcDiGcD        cpc   \n",
       "\n",
       "           utm_campaign         utm_adcontent           utm_keyword  \\\n",
       "0  LEoPHuyFvzoNfnzGgfcd  vCIpmpaGBnIQhyYNkXqp  puhZPIYqKXeFPaUviSjo   \n",
       "1  FTjNLDyTrXaWYgZymFkV  xhoenQgDQsgfEPYNPwKO  IGUCNvHlhfHpROGclCit   \n",
       "2  LEoPHuyFvzoNfnzGgfcd  vCIpmpaGBnIQhyYNkXqp  puhZPIYqKXeFPaUviSjo   \n",
       "3                   NaN  NOBKLgtuvqYWkXQHeYWM                   NaN   \n",
       "4                   NaN                   NaN                   NaN   \n",
       "\n",
       "  device_category device_os device_brand device_model  \\\n",
       "0          mobile   Android       Huawei          NaN   \n",
       "1          mobile   Android      Samsung          NaN   \n",
       "2          mobile   Android       Huawei          NaN   \n",
       "3          mobile       NaN       Xiaomi          NaN   \n",
       "4          mobile       NaN       Xiaomi          NaN   \n",
       "\n",
       "  device_screen_resolution    device_browser geo_country     geo_city  \n",
       "0                  360x720            Chrome      Russia     Zlatoust  \n",
       "1                  385x854  Samsung Internet      Russia       Moscow  \n",
       "2                  360x720            Chrome      Russia  Krasnoyarsk  \n",
       "3                  393x786            Chrome      Russia       Moscow  \n",
       "4                  393x786            Chrome      Russia       Moscow  "
      ]
     },
     "execution_count": 6,
     "metadata": {},
     "output_type": "execute_result"
    }
   ],
   "source": [
    "df_s.head()"
   ]
  },
  {
   "cell_type": "code",
   "execution_count": 7,
   "id": "c39a3560",
   "metadata": {
    "hidden": true
   },
   "outputs": [
    {
     "name": "stdout",
     "output_type": "stream",
     "text": [
      "Размерность исходного датафрейма\n"
     ]
    },
    {
     "data": {
      "text/plain": [
       "(1860042, 18)"
      ]
     },
     "execution_count": 7,
     "metadata": {},
     "output_type": "execute_result"
    }
   ],
   "source": [
    "print(\"Размерность исходного датафрейма\")\n",
    "df_s.shape"
   ]
  },
  {
   "cell_type": "markdown",
   "id": "7028f33c",
   "metadata": {
    "hidden": true
   },
   "source": [
    "Описание атрибутов датафрейма визитов из файла ga_sessions.csv:\n",
    "\n",
    "- session_id - ID визита;\n",
    "- client_id - ID посетителя;\n",
    "- visit_date - дата визита;\n",
    "- visit_time - время визита;\n",
    "- visit_number - порядковый номер визита клиента;\n",
    "- utm_source - канал привлечения;\n",
    "- utm_medium - тип привлечения;\n",
    "- utm_campaign - рекламная кампания;\n",
    "- utm_keyword - ключевое слово;\n",
    "- device_category - тип устройства;\n",
    "- device_os - ОС устройства;\n",
    "- device_brand - марка устройства;\n",
    "- device_model - модель устройства;\n",
    "- device_screen_resolution - разрешение устройства;\n",
    "- evice_browser - браузер;\n",
    "- geo_country - страна;\n",
    "- geo_city - город."
   ]
  },
  {
   "cell_type": "markdown",
   "id": "01610d20",
   "metadata": {
    "heading_collapsed": true
   },
   "source": [
    "## 2. Data Preparation"
   ]
  },
  {
   "cell_type": "markdown",
   "id": "ad092ea0",
   "metadata": {
    "heading_collapsed": true,
    "hidden": true
   },
   "source": [
    "### 2.1 Изучение статистик признаков"
   ]
  },
  {
   "cell_type": "markdown",
   "id": "8de054cf",
   "metadata": {
    "heading_collapsed": true,
    "hidden": true
   },
   "source": [
    "#### 2.1.1 ga_hits"
   ]
  },
  {
   "cell_type": "code",
   "execution_count": 8,
   "id": "343d0454",
   "metadata": {
    "hidden": true
   },
   "outputs": [
    {
     "name": "stdout",
     "output_type": "stream",
     "text": [
      "<class 'pandas.core.frame.DataFrame'>\n",
      "RangeIndex: 15726470 entries, 0 to 15726469\n",
      "Data columns (total 11 columns):\n",
      " #   Column          Dtype  \n",
      "---  ------          -----  \n",
      " 0   session_id      object \n",
      " 1   hit_date        object \n",
      " 2   hit_time        float64\n",
      " 3   hit_number      int64  \n",
      " 4   hit_type        object \n",
      " 5   hit_referer     object \n",
      " 6   hit_page_path   object \n",
      " 7   event_category  object \n",
      " 8   event_action    object \n",
      " 9   event_label     object \n",
      " 10  event_value     float64\n",
      "dtypes: float64(2), int64(1), object(8)\n",
      "memory usage: 1.3+ GB\n"
     ]
    }
   ],
   "source": [
    "df_h.info()"
   ]
  },
  {
   "cell_type": "code",
   "execution_count": 9,
   "id": "4ee73b54",
   "metadata": {
    "hidden": true
   },
   "outputs": [
    {
     "data": {
      "text/html": [
       "<div>\n",
       "<style scoped>\n",
       "    .dataframe tbody tr th:only-of-type {\n",
       "        vertical-align: middle;\n",
       "    }\n",
       "\n",
       "    .dataframe tbody tr th {\n",
       "        vertical-align: top;\n",
       "    }\n",
       "\n",
       "    .dataframe thead th {\n",
       "        text-align: right;\n",
       "    }\n",
       "</style>\n",
       "<table border=\"1\" class=\"dataframe\">\n",
       "  <thead>\n",
       "    <tr style=\"text-align: right;\">\n",
       "      <th></th>\n",
       "      <th>hit_time</th>\n",
       "      <th>hit_number</th>\n",
       "      <th>event_value</th>\n",
       "    </tr>\n",
       "  </thead>\n",
       "  <tbody>\n",
       "    <tr>\n",
       "      <th>count</th>\n",
       "      <td>6.566148e+06</td>\n",
       "      <td>1.572647e+07</td>\n",
       "      <td>0.0</td>\n",
       "    </tr>\n",
       "    <tr>\n",
       "      <th>mean</th>\n",
       "      <td>2.091050e+05</td>\n",
       "      <td>2.356715e+01</td>\n",
       "      <td>NaN</td>\n",
       "    </tr>\n",
       "    <tr>\n",
       "      <th>std</th>\n",
       "      <td>4.032110e+05</td>\n",
       "      <td>2.887713e+01</td>\n",
       "      <td>NaN</td>\n",
       "    </tr>\n",
       "    <tr>\n",
       "      <th>min</th>\n",
       "      <td>0.000000e+00</td>\n",
       "      <td>1.000000e+00</td>\n",
       "      <td>NaN</td>\n",
       "    </tr>\n",
       "    <tr>\n",
       "      <th>25%</th>\n",
       "      <td>2.412000e+04</td>\n",
       "      <td>7.000000e+00</td>\n",
       "      <td>NaN</td>\n",
       "    </tr>\n",
       "    <tr>\n",
       "      <th>50%</th>\n",
       "      <td>8.994100e+04</td>\n",
       "      <td>1.500000e+01</td>\n",
       "      <td>NaN</td>\n",
       "    </tr>\n",
       "    <tr>\n",
       "      <th>75%</th>\n",
       "      <td>2.195352e+05</td>\n",
       "      <td>2.900000e+01</td>\n",
       "      <td>NaN</td>\n",
       "    </tr>\n",
       "    <tr>\n",
       "      <th>max</th>\n",
       "      <td>1.315688e+07</td>\n",
       "      <td>5.000000e+02</td>\n",
       "      <td>NaN</td>\n",
       "    </tr>\n",
       "  </tbody>\n",
       "</table>\n",
       "</div>"
      ],
      "text/plain": [
       "           hit_time    hit_number  event_value\n",
       "count  6.566148e+06  1.572647e+07          0.0\n",
       "mean   2.091050e+05  2.356715e+01          NaN\n",
       "std    4.032110e+05  2.887713e+01          NaN\n",
       "min    0.000000e+00  1.000000e+00          NaN\n",
       "25%    2.412000e+04  7.000000e+00          NaN\n",
       "50%    8.994100e+04  1.500000e+01          NaN\n",
       "75%    2.195352e+05  2.900000e+01          NaN\n",
       "max    1.315688e+07  5.000000e+02          NaN"
      ]
     },
     "execution_count": 9,
     "metadata": {},
     "output_type": "execute_result"
    }
   ],
   "source": [
    "# Статистики числовых признаков\n",
    "df_h.describe()"
   ]
  },
  {
   "cell_type": "code",
   "execution_count": 10,
   "id": "943d8022",
   "metadata": {
    "hidden": true
   },
   "outputs": [
    {
     "data": {
      "text/plain": [
       "count     15726470\n",
       "mean            24\n",
       "std             29\n",
       "min              1\n",
       "25%              7\n",
       "50%             15\n",
       "75%             29\n",
       "max            500\n",
       "Name: hit_number, dtype: object"
      ]
     },
     "execution_count": 10,
     "metadata": {},
     "output_type": "execute_result"
    }
   ],
   "source": [
    "df_h['hit_number'].describe().apply(lambda x: f'{x: 1.0f}')"
   ]
  },
  {
   "cell_type": "code",
   "execution_count": 11,
   "id": "af39e37c",
   "metadata": {
    "hidden": true
   },
   "outputs": [
    {
     "data": {
      "text/html": [
       "<div>\n",
       "<style scoped>\n",
       "    .dataframe tbody tr th:only-of-type {\n",
       "        vertical-align: middle;\n",
       "    }\n",
       "\n",
       "    .dataframe tbody tr th {\n",
       "        vertical-align: top;\n",
       "    }\n",
       "\n",
       "    .dataframe thead th {\n",
       "        text-align: right;\n",
       "    }\n",
       "</style>\n",
       "<table border=\"1\" class=\"dataframe\">\n",
       "  <thead>\n",
       "    <tr style=\"text-align: right;\">\n",
       "      <th></th>\n",
       "      <th>session_id</th>\n",
       "      <th>event_action</th>\n",
       "      <th>hit_referer</th>\n",
       "      <th>hit_type</th>\n",
       "      <th>event_label</th>\n",
       "      <th>event_category</th>\n",
       "    </tr>\n",
       "  </thead>\n",
       "  <tbody>\n",
       "    <tr>\n",
       "      <th>count</th>\n",
       "      <td>15726470</td>\n",
       "      <td>15726470</td>\n",
       "      <td>9451666</td>\n",
       "      <td>15726470</td>\n",
       "      <td>11966286</td>\n",
       "      <td>15726470</td>\n",
       "    </tr>\n",
       "    <tr>\n",
       "      <th>unique</th>\n",
       "      <td>1734610</td>\n",
       "      <td>230</td>\n",
       "      <td>37873</td>\n",
       "      <td>1</td>\n",
       "      <td>39825</td>\n",
       "      <td>52</td>\n",
       "    </tr>\n",
       "    <tr>\n",
       "      <th>top</th>\n",
       "      <td>5442565791571325612.1632449195.1632449195</td>\n",
       "      <td>view_card</td>\n",
       "      <td>HbolMJUevblAbkHClEQa</td>\n",
       "      <td>event</td>\n",
       "      <td>KclpemfoHstknWHFiLit</td>\n",
       "      <td>card_web</td>\n",
       "    </tr>\n",
       "    <tr>\n",
       "      <th>freq</th>\n",
       "      <td>768</td>\n",
       "      <td>3558985</td>\n",
       "      <td>8879187</td>\n",
       "      <td>15726470</td>\n",
       "      <td>6505447</td>\n",
       "      <td>7456998</td>\n",
       "    </tr>\n",
       "  </tbody>\n",
       "</table>\n",
       "</div>"
      ],
      "text/plain": [
       "                                       session_id event_action  \\\n",
       "count                                    15726470     15726470   \n",
       "unique                                    1734610          230   \n",
       "top     5442565791571325612.1632449195.1632449195    view_card   \n",
       "freq                                          768      3558985   \n",
       "\n",
       "                 hit_referer  hit_type           event_label event_category  \n",
       "count                9451666  15726470              11966286       15726470  \n",
       "unique                 37873         1                 39825             52  \n",
       "top     HbolMJUevblAbkHClEQa     event  KclpemfoHstknWHFiLit       card_web  \n",
       "freq                 8879187  15726470               6505447        7456998  "
      ]
     },
     "execution_count": 11,
     "metadata": {},
     "output_type": "execute_result"
    }
   ],
   "source": [
    "# Статистики категориальных признаков\n",
    "df_h[['session_id', 'event_action', 'hit_referer', 'hit_type', 'event_label', 'event_category']].describe()"
   ]
  },
  {
   "cell_type": "markdown",
   "id": "789d0365",
   "metadata": {
    "hidden": true
   },
   "source": [
    "**Вывод:** Весь столбец hit_type имеет одно значение event, поэтому признак неинформативен"
   ]
  },
  {
   "cell_type": "code",
   "execution_count": 12,
   "id": "61bc774b",
   "metadata": {
    "hidden": true
   },
   "outputs": [
    {
     "data": {
      "text/plain": [
       "card_web                         7456998\n",
       "search_form                      2423605\n",
       "sub_page_view                    1986074\n",
       "sub_button_click                 1073471\n",
       "listing_ads                      1040468\n",
       "cars                              358915\n",
       "sap_search_form                   356596\n",
       "quiz                              263134\n",
       "auth                              189373\n",
       "sap_search__form                  188129\n",
       "jivosite                           88443\n",
       "chat                               85007\n",
       "ad_banner                          40441\n",
       "offers                             31218\n",
       "navigation                         27075\n",
       "footer                             20297\n",
       "sub_submit                         18495\n",
       "greenday_sub_button_click          15425\n",
       "main_banners                       14142\n",
       "profile_menu                       13879\n",
       "scrolling_main_page                12160\n",
       "active_invitation                   8478\n",
       "header                              3531\n",
       "my_idea                             2319\n",
       "greenday_listing_ads                1792\n",
       "main_services                       1464\n",
       "phone                               1212\n",
       "category_tile                        924\n",
       "greenday_gtm.triggergroup            766\n",
       "add_ad                               749\n",
       "greenday_sub_submit                  732\n",
       "credit_landing_pos                   274\n",
       "add_ad_additional_information        122\n",
       "main_advantages                      100\n",
       "add_ad_vin                            88\n",
       "pos_landing                           67\n",
       "add_ad_publish_success                65\n",
       "add_ad_options                        62\n",
       "add_ad_city                           59\n",
       "add_ad_photo                          55\n",
       "add_ad_price                          53\n",
       "add_ad_preview                        49\n",
       "add_ad_description                    48\n",
       "add_ad_documents                      46\n",
       "credit_buttons                        27\n",
       "wallet                                15\n",
       "tesla                                 10\n",
       "greenday_sub_page_view                 7\n",
       "add_ad_form                            4\n",
       "greenday_card_web                      4\n",
       "app_banner                             2\n",
       "titul_form                             1\n",
       "Name: event_category, dtype: int64"
      ]
     },
     "execution_count": 12,
     "metadata": {},
     "output_type": "execute_result"
    }
   ],
   "source": [
    "# Уникальные значения столбца event_category - тип действия\n",
    "df_h['event_category'].value_counts()"
   ]
  },
  {
   "cell_type": "markdown",
   "id": "f1767ec4",
   "metadata": {
    "heading_collapsed": true,
    "hidden": true
   },
   "source": [
    "#### 2.1.2 ga_sessions"
   ]
  },
  {
   "cell_type": "code",
   "execution_count": 13,
   "id": "4f50088a",
   "metadata": {
    "hidden": true
   },
   "outputs": [
    {
     "name": "stdout",
     "output_type": "stream",
     "text": [
      "<class 'pandas.core.frame.DataFrame'>\n",
      "RangeIndex: 1860042 entries, 0 to 1860041\n",
      "Data columns (total 18 columns):\n",
      " #   Column                    Dtype \n",
      "---  ------                    ----- \n",
      " 0   session_id                object\n",
      " 1   client_id                 object\n",
      " 2   visit_date                object\n",
      " 3   visit_time                object\n",
      " 4   visit_number              int64 \n",
      " 5   utm_source                object\n",
      " 6   utm_medium                object\n",
      " 7   utm_campaign              object\n",
      " 8   utm_adcontent             object\n",
      " 9   utm_keyword               object\n",
      " 10  device_category           object\n",
      " 11  device_os                 object\n",
      " 12  device_brand              object\n",
      " 13  device_model              object\n",
      " 14  device_screen_resolution  object\n",
      " 15  device_browser            object\n",
      " 16  geo_country               object\n",
      " 17  geo_city                  object\n",
      "dtypes: int64(1), object(17)\n",
      "memory usage: 255.4+ MB\n"
     ]
    }
   ],
   "source": [
    "df_s.info()"
   ]
  },
  {
   "cell_type": "code",
   "execution_count": 14,
   "id": "be016647",
   "metadata": {
    "hidden": true
   },
   "outputs": [
    {
     "data": {
      "text/plain": [
       "count     1860042\n",
       "mean            3\n",
       "std            12\n",
       "min             1\n",
       "25%             1\n",
       "50%             1\n",
       "75%             2\n",
       "max           564\n",
       "Name: visit_number, dtype: object"
      ]
     },
     "execution_count": 14,
     "metadata": {},
     "output_type": "execute_result"
    }
   ],
   "source": [
    "# Статистики числовых признаков\n",
    "df_s['visit_number'].describe().apply(lambda x: f'{x: 1.0f}')"
   ]
  },
  {
   "cell_type": "code",
   "execution_count": 15,
   "id": "014ef862",
   "metadata": {
    "hidden": true
   },
   "outputs": [
    {
     "data": {
      "text/html": [
       "<div>\n",
       "<style scoped>\n",
       "    .dataframe tbody tr th:only-of-type {\n",
       "        vertical-align: middle;\n",
       "    }\n",
       "\n",
       "    .dataframe tbody tr th {\n",
       "        vertical-align: top;\n",
       "    }\n",
       "\n",
       "    .dataframe thead th {\n",
       "        text-align: right;\n",
       "    }\n",
       "</style>\n",
       "<table border=\"1\" class=\"dataframe\">\n",
       "  <thead>\n",
       "    <tr style=\"text-align: right;\">\n",
       "      <th></th>\n",
       "      <th>utm_source</th>\n",
       "      <th>utm_medium</th>\n",
       "      <th>utm_campaign</th>\n",
       "      <th>utm_adcontent</th>\n",
       "      <th>utm_keyword</th>\n",
       "    </tr>\n",
       "  </thead>\n",
       "  <tbody>\n",
       "    <tr>\n",
       "      <th>count</th>\n",
       "      <td>1859945</td>\n",
       "      <td>1860042</td>\n",
       "      <td>1640439</td>\n",
       "      <td>1524427</td>\n",
       "      <td>777981</td>\n",
       "    </tr>\n",
       "    <tr>\n",
       "      <th>unique</th>\n",
       "      <td>293</td>\n",
       "      <td>56</td>\n",
       "      <td>412</td>\n",
       "      <td>286</td>\n",
       "      <td>1219</td>\n",
       "    </tr>\n",
       "    <tr>\n",
       "      <th>top</th>\n",
       "      <td>ZpYIoDJMcFzVoPFsHGJL</td>\n",
       "      <td>banner</td>\n",
       "      <td>LTuZkdKfxRGVceoWkVyg</td>\n",
       "      <td>JNHcPlZPxEMWDnRiyoBf</td>\n",
       "      <td>puhZPIYqKXeFPaUviSjo</td>\n",
       "    </tr>\n",
       "    <tr>\n",
       "      <th>freq</th>\n",
       "      <td>578290</td>\n",
       "      <td>552272</td>\n",
       "      <td>463481</td>\n",
       "      <td>1006599</td>\n",
       "      <td>506819</td>\n",
       "    </tr>\n",
       "  </tbody>\n",
       "</table>\n",
       "</div>"
      ],
      "text/plain": [
       "                  utm_source utm_medium          utm_campaign  \\\n",
       "count                1859945    1860042               1640439   \n",
       "unique                   293         56                   412   \n",
       "top     ZpYIoDJMcFzVoPFsHGJL     banner  LTuZkdKfxRGVceoWkVyg   \n",
       "freq                  578290     552272                463481   \n",
       "\n",
       "               utm_adcontent           utm_keyword  \n",
       "count                1524427                777981  \n",
       "unique                   286                  1219  \n",
       "top     JNHcPlZPxEMWDnRiyoBf  puhZPIYqKXeFPaUviSjo  \n",
       "freq                 1006599                506819  "
      ]
     },
     "execution_count": 15,
     "metadata": {},
     "output_type": "execute_result"
    }
   ],
   "source": [
    "# Статистики категориальных признаков\n",
    "df_s[['utm_source', 'utm_medium', 'utm_campaign', 'utm_adcontent', 'utm_keyword']].describe()"
   ]
  },
  {
   "cell_type": "code",
   "execution_count": 16,
   "id": "093620c5",
   "metadata": {
    "hidden": true
   },
   "outputs": [
    {
     "data": {
      "text/html": [
       "<div>\n",
       "<style scoped>\n",
       "    .dataframe tbody tr th:only-of-type {\n",
       "        vertical-align: middle;\n",
       "    }\n",
       "\n",
       "    .dataframe tbody tr th {\n",
       "        vertical-align: top;\n",
       "    }\n",
       "\n",
       "    .dataframe thead th {\n",
       "        text-align: right;\n",
       "    }\n",
       "</style>\n",
       "<table border=\"1\" class=\"dataframe\">\n",
       "  <thead>\n",
       "    <tr style=\"text-align: right;\">\n",
       "      <th></th>\n",
       "      <th>device_category</th>\n",
       "      <th>device_os</th>\n",
       "      <th>device_brand</th>\n",
       "      <th>device_model</th>\n",
       "      <th>device_screen_resolution</th>\n",
       "      <th>device_browser</th>\n",
       "    </tr>\n",
       "  </thead>\n",
       "  <tbody>\n",
       "    <tr>\n",
       "      <th>count</th>\n",
       "      <td>1860042</td>\n",
       "      <td>789904</td>\n",
       "      <td>1492864</td>\n",
       "      <td>16338</td>\n",
       "      <td>1860042</td>\n",
       "      <td>1860042</td>\n",
       "    </tr>\n",
       "    <tr>\n",
       "      <th>unique</th>\n",
       "      <td>3</td>\n",
       "      <td>13</td>\n",
       "      <td>205</td>\n",
       "      <td>104</td>\n",
       "      <td>5039</td>\n",
       "      <td>57</td>\n",
       "    </tr>\n",
       "    <tr>\n",
       "      <th>top</th>\n",
       "      <td>mobile</td>\n",
       "      <td>Android</td>\n",
       "      <td>Apple</td>\n",
       "      <td>AuMdmADEIoPXiWpTsBEj</td>\n",
       "      <td>414x896</td>\n",
       "      <td>Chrome</td>\n",
       "    </tr>\n",
       "    <tr>\n",
       "      <th>freq</th>\n",
       "      <td>1474871</td>\n",
       "      <td>464054</td>\n",
       "      <td>551088</td>\n",
       "      <td>9778</td>\n",
       "      <td>169090</td>\n",
       "      <td>1013436</td>\n",
       "    </tr>\n",
       "  </tbody>\n",
       "</table>\n",
       "</div>"
      ],
      "text/plain": [
       "       device_category device_os device_brand          device_model  \\\n",
       "count          1860042    789904      1492864                 16338   \n",
       "unique               3        13          205                   104   \n",
       "top             mobile   Android        Apple  AuMdmADEIoPXiWpTsBEj   \n",
       "freq           1474871    464054       551088                  9778   \n",
       "\n",
       "       device_screen_resolution device_browser  \n",
       "count                   1860042        1860042  \n",
       "unique                     5039             57  \n",
       "top                     414x896         Chrome  \n",
       "freq                     169090        1013436  "
      ]
     },
     "execution_count": 16,
     "metadata": {},
     "output_type": "execute_result"
    }
   ],
   "source": [
    "# Статистики категориальных признаков\n",
    "df_s[['device_category', 'device_os', 'device_brand', 'device_model', 'device_screen_resolution', 'device_browser']].describe()"
   ]
  },
  {
   "cell_type": "code",
   "execution_count": 17,
   "id": "9a7a72aa",
   "metadata": {
    "hidden": true
   },
   "outputs": [
    {
     "data": {
      "text/html": [
       "<div>\n",
       "<style scoped>\n",
       "    .dataframe tbody tr th:only-of-type {\n",
       "        vertical-align: middle;\n",
       "    }\n",
       "\n",
       "    .dataframe tbody tr th {\n",
       "        vertical-align: top;\n",
       "    }\n",
       "\n",
       "    .dataframe thead th {\n",
       "        text-align: right;\n",
       "    }\n",
       "</style>\n",
       "<table border=\"1\" class=\"dataframe\">\n",
       "  <thead>\n",
       "    <tr style=\"text-align: right;\">\n",
       "      <th></th>\n",
       "      <th>session_id</th>\n",
       "      <th>client_id</th>\n",
       "      <th>geo_country</th>\n",
       "      <th>geo_city</th>\n",
       "    </tr>\n",
       "  </thead>\n",
       "  <tbody>\n",
       "    <tr>\n",
       "      <th>count</th>\n",
       "      <td>1860042</td>\n",
       "      <td>1860042</td>\n",
       "      <td>1860042</td>\n",
       "      <td>1860042</td>\n",
       "    </tr>\n",
       "    <tr>\n",
       "      <th>unique</th>\n",
       "      <td>1860042</td>\n",
       "      <td>1391719</td>\n",
       "      <td>166</td>\n",
       "      <td>2548</td>\n",
       "    </tr>\n",
       "    <tr>\n",
       "      <th>top</th>\n",
       "      <td>9055434745589932991.1637753792.1637753792</td>\n",
       "      <td>1750498477.1629450062</td>\n",
       "      <td>Russia</td>\n",
       "      <td>Moscow</td>\n",
       "    </tr>\n",
       "    <tr>\n",
       "      <th>freq</th>\n",
       "      <td>1</td>\n",
       "      <td>462</td>\n",
       "      <td>1800565</td>\n",
       "      <td>805329</td>\n",
       "    </tr>\n",
       "  </tbody>\n",
       "</table>\n",
       "</div>"
      ],
      "text/plain": [
       "                                       session_id              client_id  \\\n",
       "count                                     1860042                1860042   \n",
       "unique                                    1860042                1391719   \n",
       "top     9055434745589932991.1637753792.1637753792  1750498477.1629450062   \n",
       "freq                                            1                    462   \n",
       "\n",
       "       geo_country geo_city  \n",
       "count      1860042  1860042  \n",
       "unique         166     2548  \n",
       "top         Russia   Moscow  \n",
       "freq       1800565   805329  "
      ]
     },
     "execution_count": 17,
     "metadata": {},
     "output_type": "execute_result"
    }
   ],
   "source": [
    "# Статистики категориальных признаков\n",
    "df_s[['session_id', 'client_id', 'geo_country', 'geo_city']].describe()"
   ]
  },
  {
   "cell_type": "code",
   "execution_count": 18,
   "id": "b44d61bb",
   "metadata": {
    "hidden": true
   },
   "outputs": [
    {
     "data": {
      "text/plain": [
       "mobile     1474871\n",
       "desktop     366863\n",
       "tablet       18308\n",
       "Name: device_category, dtype: int64"
      ]
     },
     "execution_count": 18,
     "metadata": {},
     "output_type": "execute_result"
    }
   ],
   "source": [
    "# Уникальные значения device_category - тип устройства\n",
    "df_s['device_category'].value_counts()"
   ]
  },
  {
   "cell_type": "code",
   "execution_count": 19,
   "id": "acf0762b",
   "metadata": {
    "hidden": true
   },
   "outputs": [
    {
     "data": {
      "text/plain": [
       "Android          464054\n",
       "iOS              207104\n",
       "Windows           88307\n",
       "Macintosh         24824\n",
       "Linux              5120\n",
       "(not set)           364\n",
       "Chrome OS            83\n",
       "BlackBerry           27\n",
       "Tizen                 7\n",
       "Samsung               4\n",
       "Windows Phone         4\n",
       "Firefox OS            3\n",
       "Nokia                 3\n",
       "Name: device_os, dtype: int64"
      ]
     },
     "execution_count": 19,
     "metadata": {},
     "output_type": "execute_result"
    }
   ],
   "source": [
    "# Уникальные значения device_os - ОС устройства\n",
    "df_s['device_os'].value_counts()"
   ]
  },
  {
   "cell_type": "code",
   "execution_count": 20,
   "id": "dd61495d",
   "metadata": {
    "hidden": true
   },
   "outputs": [
    {
     "data": {
      "text/plain": [
       "geo_country  geo_city        \n",
       "Russia       Moscow              805329\n",
       "             Saint Petersburg    296788\n",
       "             (not set)            70021\n",
       "             Yekaterinburg        35788\n",
       "             Krasnodar            32243\n",
       "                                  ...  \n",
       "Denmark      Aalborg                  1\n",
       "Russia       Menzelinsk               1\n",
       "Denmark      Aarhus                   1\n",
       "             Bagsvaerd                1\n",
       "Canada       Redwood Meadows          1\n",
       "Length: 2704, dtype: int64"
      ]
     },
     "execution_count": 20,
     "metadata": {},
     "output_type": "execute_result"
    }
   ],
   "source": [
    "# Уникальные значения географии стран и городов\n",
    "df_s[['geo_country', 'geo_city']].value_counts()"
   ]
  },
  {
   "cell_type": "markdown",
   "id": "a8011571",
   "metadata": {
    "heading_collapsed": true,
    "hidden": true
   },
   "source": [
    "### 2.2 Проверка и удаление пустых и неинформативных признаков и строк-дубликатов"
   ]
  },
  {
   "cell_type": "markdown",
   "id": "7fef8678",
   "metadata": {
    "heading_collapsed": true,
    "hidden": true
   },
   "source": [
    "#### 2.2.1 ga_hits"
   ]
  },
  {
   "cell_type": "code",
   "execution_count": 21,
   "id": "f0ea9080",
   "metadata": {
    "hidden": true
   },
   "outputs": [
    {
     "data": {
      "text/plain": [
       "<AxesSubplot:>"
      ]
     },
     "execution_count": 21,
     "metadata": {},
     "output_type": "execute_result"
    },
    {
     "data": {
      "image/png": "[encoded data removed]",
      "text/plain": [
       "<Figure size 2500x1000 with 3 Axes>"
      ]
     },
     "metadata": {},
     "output_type": "display_data"
    }
   ],
   "source": [
    "# Оценка полноты данных: количество заполненных столбцов и строк\n",
    "msno.bar(df_h)"
   ]
  },
  {
   "cell_type": "code",
   "execution_count": 22,
   "id": "4c51d1c5",
   "metadata": {
    "hidden": true
   },
   "outputs": [
    {
     "data": {
      "text/plain": [
       "NaN    15726470\n",
       "Name: event_value, dtype: int64"
      ]
     },
     "execution_count": 22,
     "metadata": {},
     "output_type": "execute_result"
    }
   ],
   "source": [
    "# убедимся, что столбец event_value пуст \n",
    "df_h.event_value.value_counts(dropna=False)"
   ]
  },
  {
   "cell_type": "code",
   "execution_count": 23,
   "id": "05228a98",
   "metadata": {
    "hidden": true
   },
   "outputs": [
    {
     "data": {
      "text/plain": [
       "0"
      ]
     },
     "execution_count": 23,
     "metadata": {},
     "output_type": "execute_result"
    }
   ],
   "source": [
    "# проверка наличия строк-дубликатов\n",
    "len(df_h[df_h.duplicated()])"
   ]
  },
  {
   "cell_type": "code",
   "execution_count": 24,
   "id": "af785ed2",
   "metadata": {
    "hidden": true
   },
   "outputs": [],
   "source": [
    "# удаляем пустые и неинформативные признаки\n",
    "df_h_clean = df_h.drop(columns=['hit_time', 'hit_type', 'hit_referer', 'event_label', 'event_value'])"
   ]
  },
  {
   "cell_type": "code",
   "execution_count": 25,
   "id": "f27af774",
   "metadata": {
    "hidden": true
   },
   "outputs": [
    {
     "data": {
      "text/html": [
       "<div>\n",
       "<style scoped>\n",
       "    .dataframe tbody tr th:only-of-type {\n",
       "        vertical-align: middle;\n",
       "    }\n",
       "\n",
       "    .dataframe tbody tr th {\n",
       "        vertical-align: top;\n",
       "    }\n",
       "\n",
       "    .dataframe thead th {\n",
       "        text-align: right;\n",
       "    }\n",
       "</style>\n",
       "<table border=\"1\" class=\"dataframe\">\n",
       "  <thead>\n",
       "    <tr style=\"text-align: right;\">\n",
       "      <th></th>\n",
       "      <th>session_id</th>\n",
       "      <th>hit_date</th>\n",
       "      <th>hit_number</th>\n",
       "      <th>hit_page_path</th>\n",
       "      <th>event_category</th>\n",
       "      <th>event_action</th>\n",
       "    </tr>\n",
       "  </thead>\n",
       "  <tbody>\n",
       "    <tr>\n",
       "      <th>0</th>\n",
       "      <td>5639623078712724064.1640254056.1640254056</td>\n",
       "      <td>2021-12-23</td>\n",
       "      <td>30</td>\n",
       "      <td>sberauto.com/cars?utm_source_initial=google&amp;ut...</td>\n",
       "      <td>quiz</td>\n",
       "      <td>quiz_show</td>\n",
       "    </tr>\n",
       "    <tr>\n",
       "      <th>1</th>\n",
       "      <td>7750352294969115059.1640271109.1640271109</td>\n",
       "      <td>2021-12-23</td>\n",
       "      <td>41</td>\n",
       "      <td>sberauto.com/cars/fiat?city=1&amp;city=18&amp;rental_c...</td>\n",
       "      <td>quiz</td>\n",
       "      <td>quiz_show</td>\n",
       "    </tr>\n",
       "    <tr>\n",
       "      <th>2</th>\n",
       "      <td>885342191847998240.1640235807.1640235807</td>\n",
       "      <td>2021-12-23</td>\n",
       "      <td>49</td>\n",
       "      <td>sberauto.com/cars/all/volkswagen/polo/e994838f...</td>\n",
       "      <td>quiz</td>\n",
       "      <td>quiz_show</td>\n",
       "    </tr>\n",
       "    <tr>\n",
       "      <th>3</th>\n",
       "      <td>142526202120934167.1640211014.1640211014</td>\n",
       "      <td>2021-12-23</td>\n",
       "      <td>46</td>\n",
       "      <td>sberauto.com/cars?utm_source_initial=yandex&amp;ut...</td>\n",
       "      <td>quiz</td>\n",
       "      <td>quiz_show</td>\n",
       "    </tr>\n",
       "    <tr>\n",
       "      <th>4</th>\n",
       "      <td>3450086108837475701.1640265078.1640265078</td>\n",
       "      <td>2021-12-23</td>\n",
       "      <td>79</td>\n",
       "      <td>sberauto.com/cars/all/mercedes-benz/cla-klasse...</td>\n",
       "      <td>quiz</td>\n",
       "      <td>quiz_show</td>\n",
       "    </tr>\n",
       "    <tr>\n",
       "      <th>5</th>\n",
       "      <td>6466333295973247896.1640246168.1640246168</td>\n",
       "      <td>2021-12-23</td>\n",
       "      <td>41</td>\n",
       "      <td>sberauto.com/cars?utm_source_initial=youtube&amp;u...</td>\n",
       "      <td>quiz</td>\n",
       "      <td>quiz_show</td>\n",
       "    </tr>\n",
       "    <tr>\n",
       "      <th>6</th>\n",
       "      <td>281215510786615563.1640245516.1640245516</td>\n",
       "      <td>2021-12-23</td>\n",
       "      <td>102</td>\n",
       "      <td>sberauto.com/cars/toyota?isnew=false&amp;rental_ca...</td>\n",
       "      <td>quiz</td>\n",
       "      <td>quiz_show</td>\n",
       "    </tr>\n",
       "    <tr>\n",
       "      <th>7</th>\n",
       "      <td>4024492994895054107.1640269084.1640269084</td>\n",
       "      <td>2021-12-23</td>\n",
       "      <td>85</td>\n",
       "      <td>sberauto.com/cars/all/mercedes-benz/glc/f8f330...</td>\n",
       "      <td>quiz</td>\n",
       "      <td>quiz_show</td>\n",
       "    </tr>\n",
       "    <tr>\n",
       "      <th>8</th>\n",
       "      <td>555009234841130092.1640256620.1640256620</td>\n",
       "      <td>2021-12-23</td>\n",
       "      <td>101</td>\n",
       "      <td>sberauto.com/cars/all/kia/sorento/c38179cb?utm...</td>\n",
       "      <td>quiz</td>\n",
       "      <td>quiz_show</td>\n",
       "    </tr>\n",
       "    <tr>\n",
       "      <th>9</th>\n",
       "      <td>2692901778487480807.1640206845.1640206845</td>\n",
       "      <td>2021-12-23</td>\n",
       "      <td>1</td>\n",
       "      <td>sberauto.com/cars/all/nissan/x-trail/0744675f?...</td>\n",
       "      <td>card_web</td>\n",
       "      <td>view_card</td>\n",
       "    </tr>\n",
       "  </tbody>\n",
       "</table>\n",
       "</div>"
      ],
      "text/plain": [
       "                                  session_id    hit_date  hit_number  \\\n",
       "0  5639623078712724064.1640254056.1640254056  2021-12-23          30   \n",
       "1  7750352294969115059.1640271109.1640271109  2021-12-23          41   \n",
       "2   885342191847998240.1640235807.1640235807  2021-12-23          49   \n",
       "3   142526202120934167.1640211014.1640211014  2021-12-23          46   \n",
       "4  3450086108837475701.1640265078.1640265078  2021-12-23          79   \n",
       "5  6466333295973247896.1640246168.1640246168  2021-12-23          41   \n",
       "6   281215510786615563.1640245516.1640245516  2021-12-23         102   \n",
       "7  4024492994895054107.1640269084.1640269084  2021-12-23          85   \n",
       "8   555009234841130092.1640256620.1640256620  2021-12-23         101   \n",
       "9  2692901778487480807.1640206845.1640206845  2021-12-23           1   \n",
       "\n",
       "                                       hit_page_path event_category  \\\n",
       "0  sberauto.com/cars?utm_source_initial=google&ut...           quiz   \n",
       "1  sberauto.com/cars/fiat?city=1&city=18&rental_c...           quiz   \n",
       "2  sberauto.com/cars/all/volkswagen/polo/e994838f...           quiz   \n",
       "3  sberauto.com/cars?utm_source_initial=yandex&ut...           quiz   \n",
       "4  sberauto.com/cars/all/mercedes-benz/cla-klasse...           quiz   \n",
       "5  sberauto.com/cars?utm_source_initial=youtube&u...           quiz   \n",
       "6  sberauto.com/cars/toyota?isnew=false&rental_ca...           quiz   \n",
       "7  sberauto.com/cars/all/mercedes-benz/glc/f8f330...           quiz   \n",
       "8  sberauto.com/cars/all/kia/sorento/c38179cb?utm...           quiz   \n",
       "9  sberauto.com/cars/all/nissan/x-trail/0744675f?...       card_web   \n",
       "\n",
       "  event_action  \n",
       "0    quiz_show  \n",
       "1    quiz_show  \n",
       "2    quiz_show  \n",
       "3    quiz_show  \n",
       "4    quiz_show  \n",
       "5    quiz_show  \n",
       "6    quiz_show  \n",
       "7    quiz_show  \n",
       "8    quiz_show  \n",
       "9    view_card  "
      ]
     },
     "execution_count": 25,
     "metadata": {},
     "output_type": "execute_result"
    }
   ],
   "source": [
    "df_h_clean.head(10)"
   ]
  },
  {
   "cell_type": "markdown",
   "id": "51642601",
   "metadata": {
    "heading_collapsed": true,
    "hidden": true
   },
   "source": [
    "#### 2.2.2 ga_sessions"
   ]
  },
  {
   "cell_type": "code",
   "execution_count": 26,
   "id": "96201d8a",
   "metadata": {
    "hidden": true
   },
   "outputs": [
    {
     "data": {
      "text/plain": [
       "<AxesSubplot:>"
      ]
     },
     "execution_count": 26,
     "metadata": {},
     "output_type": "execute_result"
    },
    {
     "data": {
      "image/png": "[encoded data removed]",
      "text/plain": [
       "<Figure size 2500x1000 with 3 Axes>"
      ]
     },
     "metadata": {},
     "output_type": "display_data"
    }
   ],
   "source": [
    "# Проверка наличия пропусков\n",
    "msno.bar(df_s)"
   ]
  },
  {
   "cell_type": "code",
   "execution_count": 27,
   "id": "c2229b01",
   "metadata": {
    "hidden": true
   },
   "outputs": [
    {
     "data": {
      "text/plain": [
       "0"
      ]
     },
     "execution_count": 27,
     "metadata": {},
     "output_type": "execute_result"
    }
   ],
   "source": [
    "# Проверка наличия строк-дубликатов\n",
    "len(df_s[df_s.duplicated()])"
   ]
  },
  {
   "cell_type": "code",
   "execution_count": 28,
   "id": "bbd4f7a6",
   "metadata": {
    "hidden": true
   },
   "outputs": [],
   "source": [
    "# Удаляем пустые и неинформативные признаки\n",
    "df_s_clean = df_s.drop(columns=['visit_time', 'utm_adcontent', 'utm_keyword', 'device_os', 'device_brand', 'device_model', \n",
    "                                'device_screen_resolution', 'device_browser'])"
   ]
  },
  {
   "cell_type": "code",
   "execution_count": 29,
   "id": "ef821671",
   "metadata": {
    "hidden": true
   },
   "outputs": [
    {
     "data": {
      "text/html": [
       "<div>\n",
       "<style scoped>\n",
       "    .dataframe tbody tr th:only-of-type {\n",
       "        vertical-align: middle;\n",
       "    }\n",
       "\n",
       "    .dataframe tbody tr th {\n",
       "        vertical-align: top;\n",
       "    }\n",
       "\n",
       "    .dataframe thead th {\n",
       "        text-align: right;\n",
       "    }\n",
       "</style>\n",
       "<table border=\"1\" class=\"dataframe\">\n",
       "  <thead>\n",
       "    <tr style=\"text-align: right;\">\n",
       "      <th></th>\n",
       "      <th>session_id</th>\n",
       "      <th>client_id</th>\n",
       "      <th>visit_date</th>\n",
       "      <th>visit_number</th>\n",
       "      <th>utm_source</th>\n",
       "      <th>utm_medium</th>\n",
       "      <th>utm_campaign</th>\n",
       "      <th>device_category</th>\n",
       "      <th>geo_country</th>\n",
       "      <th>geo_city</th>\n",
       "    </tr>\n",
       "  </thead>\n",
       "  <tbody>\n",
       "    <tr>\n",
       "      <th>0</th>\n",
       "      <td>9055434745589932991.1637753792.1637753792</td>\n",
       "      <td>2108382700.1637753791</td>\n",
       "      <td>2021-11-24</td>\n",
       "      <td>1</td>\n",
       "      <td>ZpYIoDJMcFzVoPFsHGJL</td>\n",
       "      <td>banner</td>\n",
       "      <td>LEoPHuyFvzoNfnzGgfcd</td>\n",
       "      <td>mobile</td>\n",
       "      <td>Russia</td>\n",
       "      <td>Zlatoust</td>\n",
       "    </tr>\n",
       "    <tr>\n",
       "      <th>1</th>\n",
       "      <td>905544597018549464.1636867290.1636867290</td>\n",
       "      <td>210838531.1636867288</td>\n",
       "      <td>2021-11-14</td>\n",
       "      <td>1</td>\n",
       "      <td>MvfHsxITijuriZxsqZqt</td>\n",
       "      <td>cpm</td>\n",
       "      <td>FTjNLDyTrXaWYgZymFkV</td>\n",
       "      <td>mobile</td>\n",
       "      <td>Russia</td>\n",
       "      <td>Moscow</td>\n",
       "    </tr>\n",
       "    <tr>\n",
       "      <th>2</th>\n",
       "      <td>9055446045651783499.1640648526.1640648526</td>\n",
       "      <td>2108385331.1640648523</td>\n",
       "      <td>2021-12-28</td>\n",
       "      <td>1</td>\n",
       "      <td>ZpYIoDJMcFzVoPFsHGJL</td>\n",
       "      <td>banner</td>\n",
       "      <td>LEoPHuyFvzoNfnzGgfcd</td>\n",
       "      <td>mobile</td>\n",
       "      <td>Russia</td>\n",
       "      <td>Krasnoyarsk</td>\n",
       "    </tr>\n",
       "    <tr>\n",
       "      <th>3</th>\n",
       "      <td>9055447046360770272.1622255328.1622255328</td>\n",
       "      <td>2108385564.1622255328</td>\n",
       "      <td>2021-05-29</td>\n",
       "      <td>1</td>\n",
       "      <td>kjsLglQLzykiRbcDiGcD</td>\n",
       "      <td>cpc</td>\n",
       "      <td>NaN</td>\n",
       "      <td>mobile</td>\n",
       "      <td>Russia</td>\n",
       "      <td>Moscow</td>\n",
       "    </tr>\n",
       "    <tr>\n",
       "      <th>4</th>\n",
       "      <td>9055447046360770272.1622255345.1622255345</td>\n",
       "      <td>2108385564.1622255328</td>\n",
       "      <td>2021-05-29</td>\n",
       "      <td>2</td>\n",
       "      <td>kjsLglQLzykiRbcDiGcD</td>\n",
       "      <td>cpc</td>\n",
       "      <td>NaN</td>\n",
       "      <td>mobile</td>\n",
       "      <td>Russia</td>\n",
       "      <td>Moscow</td>\n",
       "    </tr>\n",
       "  </tbody>\n",
       "</table>\n",
       "</div>"
      ],
      "text/plain": [
       "                                  session_id              client_id  \\\n",
       "0  9055434745589932991.1637753792.1637753792  2108382700.1637753791   \n",
       "1   905544597018549464.1636867290.1636867290   210838531.1636867288   \n",
       "2  9055446045651783499.1640648526.1640648526  2108385331.1640648523   \n",
       "3  9055447046360770272.1622255328.1622255328  2108385564.1622255328   \n",
       "4  9055447046360770272.1622255345.1622255345  2108385564.1622255328   \n",
       "\n",
       "   visit_date  visit_number            utm_source utm_medium  \\\n",
       "0  2021-11-24             1  ZpYIoDJMcFzVoPFsHGJL     banner   \n",
       "1  2021-11-14             1  MvfHsxITijuriZxsqZqt        cpm   \n",
       "2  2021-12-28             1  ZpYIoDJMcFzVoPFsHGJL     banner   \n",
       "3  2021-05-29             1  kjsLglQLzykiRbcDiGcD        cpc   \n",
       "4  2021-05-29             2  kjsLglQLzykiRbcDiGcD        cpc   \n",
       "\n",
       "           utm_campaign device_category geo_country     geo_city  \n",
       "0  LEoPHuyFvzoNfnzGgfcd          mobile      Russia     Zlatoust  \n",
       "1  FTjNLDyTrXaWYgZymFkV          mobile      Russia       Moscow  \n",
       "2  LEoPHuyFvzoNfnzGgfcd          mobile      Russia  Krasnoyarsk  \n",
       "3                   NaN          mobile      Russia       Moscow  \n",
       "4                   NaN          mobile      Russia       Moscow  "
      ]
     },
     "execution_count": 29,
     "metadata": {},
     "output_type": "execute_result"
    }
   ],
   "source": [
    "df_s_clean.head()"
   ]
  },
  {
   "cell_type": "markdown",
   "id": "5148c901",
   "metadata": {
    "heading_collapsed": true,
    "hidden": true
   },
   "source": [
    "### 2.3 Проверка и изменение типов данных"
   ]
  },
  {
   "cell_type": "markdown",
   "id": "f37ad04b",
   "metadata": {
    "heading_collapsed": true,
    "hidden": true
   },
   "source": [
    "#### 2.3.1 ga_hits"
   ]
  },
  {
   "cell_type": "code",
   "execution_count": 30,
   "id": "ab55c5f9",
   "metadata": {
    "hidden": true
   },
   "outputs": [
    {
     "data": {
      "text/plain": [
       "session_id        object\n",
       "hit_date          object\n",
       "hit_number         int64\n",
       "hit_page_path     object\n",
       "event_category    object\n",
       "event_action      object\n",
       "dtype: object"
      ]
     },
     "execution_count": 30,
     "metadata": {},
     "output_type": "execute_result"
    }
   ],
   "source": [
    "# Информация о типе данных\n",
    "df_h_clean.dtypes"
   ]
  },
  {
   "cell_type": "code",
   "execution_count": 31,
   "id": "d2f87b3c",
   "metadata": {
    "hidden": true
   },
   "outputs": [],
   "source": [
    "# Преобразуем тип данных столбца hit_date в тип дата\n",
    "df_h_clean['hit_date'] = pd.to_datetime(df_h_clean.hit_date, utc=True)"
   ]
  },
  {
   "cell_type": "code",
   "execution_count": 32,
   "id": "e1310416",
   "metadata": {
    "hidden": true
   },
   "outputs": [
    {
     "data": {
      "text/plain": [
       "0   2021-12-23 00:00:00+00:00\n",
       "1   2021-12-23 00:00:00+00:00\n",
       "2   2021-12-23 00:00:00+00:00\n",
       "3   2021-12-23 00:00:00+00:00\n",
       "4   2021-12-23 00:00:00+00:00\n",
       "Name: hit_date, dtype: datetime64[ns, UTC]"
      ]
     },
     "execution_count": 32,
     "metadata": {},
     "output_type": "execute_result"
    }
   ],
   "source": [
    "# Проверяем, что данные преобразовались в тип дата\n",
    "df_h_clean.hit_date.head()"
   ]
  },
  {
   "cell_type": "markdown",
   "id": "e4442e6f",
   "metadata": {
    "heading_collapsed": true,
    "hidden": true
   },
   "source": [
    "#### 2.3.2 ga_sessions"
   ]
  },
  {
   "cell_type": "code",
   "execution_count": 33,
   "id": "f057b3d6",
   "metadata": {
    "hidden": true
   },
   "outputs": [
    {
     "data": {
      "text/plain": [
       "session_id         object\n",
       "client_id          object\n",
       "visit_date         object\n",
       "visit_number        int64\n",
       "utm_source         object\n",
       "utm_medium         object\n",
       "utm_campaign       object\n",
       "device_category    object\n",
       "geo_country        object\n",
       "geo_city           object\n",
       "dtype: object"
      ]
     },
     "execution_count": 33,
     "metadata": {},
     "output_type": "execute_result"
    }
   ],
   "source": [
    "# Типы данных\n",
    "df_s_clean.dtypes"
   ]
  },
  {
   "cell_type": "code",
   "execution_count": 34,
   "id": "a039cacf",
   "metadata": {
    "hidden": true
   },
   "outputs": [],
   "source": [
    "# Преобразуем тип данных столбца visit_date в тип дата\n",
    "df_s_clean['visit_date'] = pd.to_datetime(df_s_clean.visit_date, utc=True)"
   ]
  },
  {
   "cell_type": "code",
   "execution_count": 35,
   "id": "e89bb427",
   "metadata": {
    "hidden": true
   },
   "outputs": [
    {
     "data": {
      "text/plain": [
       "0   2021-11-24 00:00:00+00:00\n",
       "1   2021-11-14 00:00:00+00:00\n",
       "2   2021-12-28 00:00:00+00:00\n",
       "3   2021-05-29 00:00:00+00:00\n",
       "4   2021-05-29 00:00:00+00:00\n",
       "Name: visit_date, dtype: datetime64[ns, UTC]"
      ]
     },
     "execution_count": 35,
     "metadata": {},
     "output_type": "execute_result"
    }
   ],
   "source": [
    "# Проверяем, что данные преобразовались в тип дата\n",
    "df_s_clean.visit_date.head()"
   ]
  },
  {
   "cell_type": "markdown",
   "id": "9d47e4cd",
   "metadata": {
    "heading_collapsed": true,
    "hidden": true
   },
   "source": [
    "### 2.4 Заполнение пропусков"
   ]
  },
  {
   "cell_type": "markdown",
   "id": "328c02d5",
   "metadata": {
    "heading_collapsed": true,
    "hidden": true
   },
   "source": [
    "#### ga_sessions: utm_source, utm_campaign"
   ]
  },
  {
   "cell_type": "code",
   "execution_count": 36,
   "id": "946b94be",
   "metadata": {
    "hidden": true
   },
   "outputs": [],
   "source": [
    "# Заполнияем пропуски столбца utm_source самым частотным признаком\n",
    "df_s_clean['utm_source'] = df_s_clean.utm_source.fillna('ZpYIoDJMcFzVoPFsHGJL')"
   ]
  },
  {
   "cell_type": "code",
   "execution_count": 37,
   "id": "d2063b42",
   "metadata": {
    "hidden": true
   },
   "outputs": [],
   "source": [
    "# Заполняем пропуски в столбце utm_campaign словом 'no advertising'\n",
    "df_s_clean['utm_campaign'] = df_s_clean.utm_campaign.fillna('no advertising')"
   ]
  },
  {
   "cell_type": "code",
   "execution_count": 38,
   "id": "d75b48de",
   "metadata": {
    "hidden": true
   },
   "outputs": [
    {
     "data": {
      "text/html": [
       "<div>\n",
       "<style scoped>\n",
       "    .dataframe tbody tr th:only-of-type {\n",
       "        vertical-align: middle;\n",
       "    }\n",
       "\n",
       "    .dataframe tbody tr th {\n",
       "        vertical-align: top;\n",
       "    }\n",
       "\n",
       "    .dataframe thead th {\n",
       "        text-align: right;\n",
       "    }\n",
       "</style>\n",
       "<table border=\"1\" class=\"dataframe\">\n",
       "  <thead>\n",
       "    <tr style=\"text-align: right;\">\n",
       "      <th></th>\n",
       "      <th>utm_source</th>\n",
       "      <th>utm_campaign</th>\n",
       "    </tr>\n",
       "  </thead>\n",
       "  <tbody>\n",
       "    <tr>\n",
       "      <th>count</th>\n",
       "      <td>1860042</td>\n",
       "      <td>1860042</td>\n",
       "    </tr>\n",
       "    <tr>\n",
       "      <th>unique</th>\n",
       "      <td>293</td>\n",
       "      <td>413</td>\n",
       "    </tr>\n",
       "    <tr>\n",
       "      <th>top</th>\n",
       "      <td>ZpYIoDJMcFzVoPFsHGJL</td>\n",
       "      <td>LTuZkdKfxRGVceoWkVyg</td>\n",
       "    </tr>\n",
       "    <tr>\n",
       "      <th>freq</th>\n",
       "      <td>578387</td>\n",
       "      <td>463481</td>\n",
       "    </tr>\n",
       "  </tbody>\n",
       "</table>\n",
       "</div>"
      ],
      "text/plain": [
       "                  utm_source          utm_campaign\n",
       "count                1860042               1860042\n",
       "unique                   293                   413\n",
       "top     ZpYIoDJMcFzVoPFsHGJL  LTuZkdKfxRGVceoWkVyg\n",
       "freq                  578387                463481"
      ]
     },
     "execution_count": 38,
     "metadata": {},
     "output_type": "execute_result"
    }
   ],
   "source": [
    "# Статистики заполненных признаков\n",
    "df_s_clean[['utm_source', 'utm_campaign']].describe()"
   ]
  },
  {
   "cell_type": "markdown",
   "id": "f366941b",
   "metadata": {
    "heading_collapsed": true
   },
   "source": [
    "## 3. Feature Engineering"
   ]
  },
  {
   "cell_type": "markdown",
   "id": "dc58635d",
   "metadata": {
    "heading_collapsed": true,
    "hidden": true
   },
   "source": [
    "### 3.1 ga_hits"
   ]
  },
  {
   "cell_type": "markdown",
   "id": "39477b02",
   "metadata": {
    "heading_collapsed": true,
    "hidden": true
   },
   "source": [
    "#### 3.1.1 Стандартизация признака целевого события"
   ]
  },
  {
   "cell_type": "code",
   "execution_count": 39,
   "id": "f99d1401",
   "metadata": {
    "hidden": true
   },
   "outputs": [
    {
     "data": {
      "text/html": [
       "<div>\n",
       "<style scoped>\n",
       "    .dataframe tbody tr th:only-of-type {\n",
       "        vertical-align: middle;\n",
       "    }\n",
       "\n",
       "    .dataframe tbody tr th {\n",
       "        vertical-align: top;\n",
       "    }\n",
       "\n",
       "    .dataframe thead th {\n",
       "        text-align: right;\n",
       "    }\n",
       "</style>\n",
       "<table border=\"1\" class=\"dataframe\">\n",
       "  <thead>\n",
       "    <tr style=\"text-align: right;\">\n",
       "      <th></th>\n",
       "      <th>session_id</th>\n",
       "      <th>hit_date</th>\n",
       "      <th>hit_number</th>\n",
       "      <th>hit_page_path</th>\n",
       "      <th>event_category</th>\n",
       "      <th>event_action</th>\n",
       "      <th>target_action</th>\n",
       "    </tr>\n",
       "  </thead>\n",
       "  <tbody>\n",
       "    <tr>\n",
       "      <th>0</th>\n",
       "      <td>5639623078712724064.1640254056.1640254056</td>\n",
       "      <td>2021-12-23 00:00:00+00:00</td>\n",
       "      <td>30</td>\n",
       "      <td>sberauto.com/cars?utm_source_initial=google&amp;ut...</td>\n",
       "      <td>quiz</td>\n",
       "      <td>quiz_show</td>\n",
       "      <td>0</td>\n",
       "    </tr>\n",
       "    <tr>\n",
       "      <th>1</th>\n",
       "      <td>7750352294969115059.1640271109.1640271109</td>\n",
       "      <td>2021-12-23 00:00:00+00:00</td>\n",
       "      <td>41</td>\n",
       "      <td>sberauto.com/cars/fiat?city=1&amp;city=18&amp;rental_c...</td>\n",
       "      <td>quiz</td>\n",
       "      <td>quiz_show</td>\n",
       "      <td>0</td>\n",
       "    </tr>\n",
       "    <tr>\n",
       "      <th>2</th>\n",
       "      <td>885342191847998240.1640235807.1640235807</td>\n",
       "      <td>2021-12-23 00:00:00+00:00</td>\n",
       "      <td>49</td>\n",
       "      <td>sberauto.com/cars/all/volkswagen/polo/e994838f...</td>\n",
       "      <td>quiz</td>\n",
       "      <td>quiz_show</td>\n",
       "      <td>0</td>\n",
       "    </tr>\n",
       "    <tr>\n",
       "      <th>3</th>\n",
       "      <td>142526202120934167.1640211014.1640211014</td>\n",
       "      <td>2021-12-23 00:00:00+00:00</td>\n",
       "      <td>46</td>\n",
       "      <td>sberauto.com/cars?utm_source_initial=yandex&amp;ut...</td>\n",
       "      <td>quiz</td>\n",
       "      <td>quiz_show</td>\n",
       "      <td>0</td>\n",
       "    </tr>\n",
       "    <tr>\n",
       "      <th>4</th>\n",
       "      <td>3450086108837475701.1640265078.1640265078</td>\n",
       "      <td>2021-12-23 00:00:00+00:00</td>\n",
       "      <td>79</td>\n",
       "      <td>sberauto.com/cars/all/mercedes-benz/cla-klasse...</td>\n",
       "      <td>quiz</td>\n",
       "      <td>quiz_show</td>\n",
       "      <td>0</td>\n",
       "    </tr>\n",
       "  </tbody>\n",
       "</table>\n",
       "</div>"
      ],
      "text/plain": [
       "                                  session_id                  hit_date  \\\n",
       "0  5639623078712724064.1640254056.1640254056 2021-12-23 00:00:00+00:00   \n",
       "1  7750352294969115059.1640271109.1640271109 2021-12-23 00:00:00+00:00   \n",
       "2   885342191847998240.1640235807.1640235807 2021-12-23 00:00:00+00:00   \n",
       "3   142526202120934167.1640211014.1640211014 2021-12-23 00:00:00+00:00   \n",
       "4  3450086108837475701.1640265078.1640265078 2021-12-23 00:00:00+00:00   \n",
       "\n",
       "   hit_number                                      hit_page_path  \\\n",
       "0          30  sberauto.com/cars?utm_source_initial=google&ut...   \n",
       "1          41  sberauto.com/cars/fiat?city=1&city=18&rental_c...   \n",
       "2          49  sberauto.com/cars/all/volkswagen/polo/e994838f...   \n",
       "3          46  sberauto.com/cars?utm_source_initial=yandex&ut...   \n",
       "4          79  sberauto.com/cars/all/mercedes-benz/cla-klasse...   \n",
       "\n",
       "  event_category event_action  target_action  \n",
       "0           quiz    quiz_show              0  \n",
       "1           quiz    quiz_show              0  \n",
       "2           quiz    quiz_show              0  \n",
       "3           quiz    quiz_show              0  \n",
       "4           quiz    quiz_show              0  "
      ]
     },
     "execution_count": 39,
     "metadata": {},
     "output_type": "execute_result"
    }
   ],
   "source": [
    "# Формируем список из значений целевых действий\n",
    "target_values = ['sub_car_claim_click', 'sub_car_claim_submit_click', 'sub_open_dialog_click', 'sub_custom_question_submit_click',\n",
    "                'sub_call_number_click', 'sub_callback_submit_click', 'sub_submit_success', 'sub_car_request_submit_click']\n",
    "\n",
    "# Вставляем столбец с нормализованным целевым событием: 1 - есть целевое действие, 0 - нет целевого действия\n",
    "df_h_clean['target_action'] = np.where((df_h_clean.event_action.isin(target_values)), 1, 0)\n",
    "df_h_clean.head()"
   ]
  },
  {
   "cell_type": "code",
   "execution_count": 40,
   "id": "047f6ce6",
   "metadata": {
    "hidden": true
   },
   "outputs": [
    {
     "data": {
      "text/plain": [
       "0    15621562\n",
       "1      104908\n",
       "Name: target_action, dtype: int64"
      ]
     },
     "execution_count": 40,
     "metadata": {},
     "output_type": "execute_result"
    }
   ],
   "source": [
    "# Уникальные значения сформированного столбца с маркером целевых действий\n",
    "df_h_clean['target_action'].value_counts()"
   ]
  },
  {
   "cell_type": "code",
   "execution_count": 41,
   "id": "5254d9d9",
   "metadata": {
    "hidden": true
   },
   "outputs": [
    {
     "data": {
      "text/html": [
       "<div>\n",
       "<style scoped>\n",
       "    .dataframe tbody tr th:only-of-type {\n",
       "        vertical-align: middle;\n",
       "    }\n",
       "\n",
       "    .dataframe tbody tr th {\n",
       "        vertical-align: top;\n",
       "    }\n",
       "\n",
       "    .dataframe thead th {\n",
       "        text-align: right;\n",
       "    }\n",
       "</style>\n",
       "<table border=\"1\" class=\"dataframe\">\n",
       "  <thead>\n",
       "    <tr style=\"text-align: right;\">\n",
       "      <th></th>\n",
       "      <th>session_id</th>\n",
       "      <th>hit_date</th>\n",
       "      <th>hit_number</th>\n",
       "      <th>hit_page_path</th>\n",
       "      <th>event_category</th>\n",
       "      <th>target_action</th>\n",
       "    </tr>\n",
       "  </thead>\n",
       "  <tbody>\n",
       "    <tr>\n",
       "      <th>0</th>\n",
       "      <td>5639623078712724064.1640254056.1640254056</td>\n",
       "      <td>2021-12-23 00:00:00+00:00</td>\n",
       "      <td>30</td>\n",
       "      <td>sberauto.com/cars?utm_source_initial=google&amp;ut...</td>\n",
       "      <td>quiz</td>\n",
       "      <td>0</td>\n",
       "    </tr>\n",
       "    <tr>\n",
       "      <th>1</th>\n",
       "      <td>7750352294969115059.1640271109.1640271109</td>\n",
       "      <td>2021-12-23 00:00:00+00:00</td>\n",
       "      <td>41</td>\n",
       "      <td>sberauto.com/cars/fiat?city=1&amp;city=18&amp;rental_c...</td>\n",
       "      <td>quiz</td>\n",
       "      <td>0</td>\n",
       "    </tr>\n",
       "    <tr>\n",
       "      <th>2</th>\n",
       "      <td>885342191847998240.1640235807.1640235807</td>\n",
       "      <td>2021-12-23 00:00:00+00:00</td>\n",
       "      <td>49</td>\n",
       "      <td>sberauto.com/cars/all/volkswagen/polo/e994838f...</td>\n",
       "      <td>quiz</td>\n",
       "      <td>0</td>\n",
       "    </tr>\n",
       "    <tr>\n",
       "      <th>3</th>\n",
       "      <td>142526202120934167.1640211014.1640211014</td>\n",
       "      <td>2021-12-23 00:00:00+00:00</td>\n",
       "      <td>46</td>\n",
       "      <td>sberauto.com/cars?utm_source_initial=yandex&amp;ut...</td>\n",
       "      <td>quiz</td>\n",
       "      <td>0</td>\n",
       "    </tr>\n",
       "    <tr>\n",
       "      <th>4</th>\n",
       "      <td>3450086108837475701.1640265078.1640265078</td>\n",
       "      <td>2021-12-23 00:00:00+00:00</td>\n",
       "      <td>79</td>\n",
       "      <td>sberauto.com/cars/all/mercedes-benz/cla-klasse...</td>\n",
       "      <td>quiz</td>\n",
       "      <td>0</td>\n",
       "    </tr>\n",
       "  </tbody>\n",
       "</table>\n",
       "</div>"
      ],
      "text/plain": [
       "                                  session_id                  hit_date  \\\n",
       "0  5639623078712724064.1640254056.1640254056 2021-12-23 00:00:00+00:00   \n",
       "1  7750352294969115059.1640271109.1640271109 2021-12-23 00:00:00+00:00   \n",
       "2   885342191847998240.1640235807.1640235807 2021-12-23 00:00:00+00:00   \n",
       "3   142526202120934167.1640211014.1640211014 2021-12-23 00:00:00+00:00   \n",
       "4  3450086108837475701.1640265078.1640265078 2021-12-23 00:00:00+00:00   \n",
       "\n",
       "   hit_number                                      hit_page_path  \\\n",
       "0          30  sberauto.com/cars?utm_source_initial=google&ut...   \n",
       "1          41  sberauto.com/cars/fiat?city=1&city=18&rental_c...   \n",
       "2          49  sberauto.com/cars/all/volkswagen/polo/e994838f...   \n",
       "3          46  sberauto.com/cars?utm_source_initial=yandex&ut...   \n",
       "4          79  sberauto.com/cars/all/mercedes-benz/cla-klasse...   \n",
       "\n",
       "  event_category  target_action  \n",
       "0           quiz              0  \n",
       "1           quiz              0  \n",
       "2           quiz              0  \n",
       "3           quiz              0  \n",
       "4           quiz              0  "
      ]
     },
     "execution_count": 41,
     "metadata": {},
     "output_type": "execute_result"
    }
   ],
   "source": [
    "# удаляем ненормализованный признак целевого события\n",
    "df_h_clean = df_h_clean.drop(columns=['event_action'])\n",
    "df_h_clean.head()"
   ]
  },
  {
   "cell_type": "code",
   "execution_count": 42,
   "id": "b36cc3e0",
   "metadata": {
    "hidden": true
   },
   "outputs": [],
   "source": [
    "# Определяем, сколько целевых действий совершено за один визит: группировка целевых событий по id визита\n",
    "df_ta = df_h_clean.groupby(['session_id'], as_index=False)[['target_action']].sum()"
   ]
  },
  {
   "cell_type": "code",
   "execution_count": 43,
   "id": "81569f46",
   "metadata": {
    "hidden": true
   },
   "outputs": [
    {
     "data": {
      "text/html": [
       "<div>\n",
       "<style scoped>\n",
       "    .dataframe tbody tr th:only-of-type {\n",
       "        vertical-align: middle;\n",
       "    }\n",
       "\n",
       "    .dataframe tbody tr th {\n",
       "        vertical-align: top;\n",
       "    }\n",
       "\n",
       "    .dataframe thead th {\n",
       "        text-align: right;\n",
       "    }\n",
       "</style>\n",
       "<table border=\"1\" class=\"dataframe\">\n",
       "  <thead>\n",
       "    <tr style=\"text-align: right;\">\n",
       "      <th></th>\n",
       "      <th>session_id</th>\n",
       "      <th>target_action</th>\n",
       "    </tr>\n",
       "  </thead>\n",
       "  <tbody>\n",
       "    <tr>\n",
       "      <th>1281576</th>\n",
       "      <td>7140505447604038223.1630415440.1630415440</td>\n",
       "      <td>474</td>\n",
       "    </tr>\n",
       "    <tr>\n",
       "      <th>286145</th>\n",
       "      <td>2375944964542858067.1635025747.1635025747</td>\n",
       "      <td>83</td>\n",
       "    </tr>\n",
       "    <tr>\n",
       "      <th>676515</th>\n",
       "      <td>4245963133837464050.1640882501.1640882501</td>\n",
       "      <td>81</td>\n",
       "    </tr>\n",
       "    <tr>\n",
       "      <th>1697608</th>\n",
       "      <td>9126246154865944745.1636772009.1636772009</td>\n",
       "      <td>74</td>\n",
       "    </tr>\n",
       "    <tr>\n",
       "      <th>1485462</th>\n",
       "      <td>8112688049712084307.1621439828.1621439828</td>\n",
       "      <td>73</td>\n",
       "    </tr>\n",
       "    <tr>\n",
       "      <th>1361414</th>\n",
       "      <td>7518333712042258254.1636462243.1636462243</td>\n",
       "      <td>67</td>\n",
       "    </tr>\n",
       "    <tr>\n",
       "      <th>1361639</th>\n",
       "      <td>7518333712042258254.1639563879.1639563879</td>\n",
       "      <td>50</td>\n",
       "    </tr>\n",
       "    <tr>\n",
       "      <th>53876</th>\n",
       "      <td>1259773107082089014.1631048249.1631048249</td>\n",
       "      <td>49</td>\n",
       "    </tr>\n",
       "    <tr>\n",
       "      <th>1255848</th>\n",
       "      <td>701680538324125081.1622735271.1622735271</td>\n",
       "      <td>48</td>\n",
       "    </tr>\n",
       "    <tr>\n",
       "      <th>1710817</th>\n",
       "      <td>9188187984229163017.1635639790.1635639790</td>\n",
       "      <td>47</td>\n",
       "    </tr>\n",
       "  </tbody>\n",
       "</table>\n",
       "</div>"
      ],
      "text/plain": [
       "                                        session_id  target_action\n",
       "1281576  7140505447604038223.1630415440.1630415440            474\n",
       "286145   2375944964542858067.1635025747.1635025747             83\n",
       "676515   4245963133837464050.1640882501.1640882501             81\n",
       "1697608  9126246154865944745.1636772009.1636772009             74\n",
       "1485462  8112688049712084307.1621439828.1621439828             73\n",
       "1361414  7518333712042258254.1636462243.1636462243             67\n",
       "1361639  7518333712042258254.1639563879.1639563879             50\n",
       "53876    1259773107082089014.1631048249.1631048249             49\n",
       "1255848   701680538324125081.1622735271.1622735271             48\n",
       "1710817  9188187984229163017.1635639790.1635639790             47"
      ]
     },
     "execution_count": 43,
     "metadata": {},
     "output_type": "execute_result"
    }
   ],
   "source": [
    "df_ta.sort_values(by=['target_action'], ascending=False)[:10]"
   ]
  },
  {
   "cell_type": "code",
   "execution_count": 44,
   "id": "642591b0",
   "metadata": {
    "hidden": true
   },
   "outputs": [
    {
     "data": {
      "text/plain": [
       "(1734610, 2)"
      ]
     },
     "execution_count": 44,
     "metadata": {},
     "output_type": "execute_result"
    }
   ],
   "source": [
    "# Размерность сгруппированного датафрейма с целевыми событиями\n",
    "df_ta.shape"
   ]
  },
  {
   "cell_type": "code",
   "execution_count": 45,
   "id": "9c086add",
   "metadata": {
    "hidden": true
   },
   "outputs": [],
   "source": [
    "# Добавляем столбец target - целевое действие. \n",
    "# Условие: если целевых действий за один визит несколько, то считаем их как одно целевое действие \n",
    "df_ta['target'] = df_ta['target_action'].apply(lambda x: '1' if x >= 1 else '0')"
   ]
  },
  {
   "cell_type": "code",
   "execution_count": 46,
   "id": "2cc9ca3b",
   "metadata": {
    "hidden": true
   },
   "outputs": [
    {
     "data": {
      "text/html": [
       "<div>\n",
       "<style scoped>\n",
       "    .dataframe tbody tr th:only-of-type {\n",
       "        vertical-align: middle;\n",
       "    }\n",
       "\n",
       "    .dataframe tbody tr th {\n",
       "        vertical-align: top;\n",
       "    }\n",
       "\n",
       "    .dataframe thead th {\n",
       "        text-align: right;\n",
       "    }\n",
       "</style>\n",
       "<table border=\"1\" class=\"dataframe\">\n",
       "  <thead>\n",
       "    <tr style=\"text-align: right;\">\n",
       "      <th></th>\n",
       "      <th>session_id</th>\n",
       "      <th>target_action</th>\n",
       "      <th>target</th>\n",
       "    </tr>\n",
       "  </thead>\n",
       "  <tbody>\n",
       "    <tr>\n",
       "      <th>1281576</th>\n",
       "      <td>7140505447604038223.1630415440.1630415440</td>\n",
       "      <td>474</td>\n",
       "      <td>1</td>\n",
       "    </tr>\n",
       "    <tr>\n",
       "      <th>286145</th>\n",
       "      <td>2375944964542858067.1635025747.1635025747</td>\n",
       "      <td>83</td>\n",
       "      <td>1</td>\n",
       "    </tr>\n",
       "    <tr>\n",
       "      <th>676515</th>\n",
       "      <td>4245963133837464050.1640882501.1640882501</td>\n",
       "      <td>81</td>\n",
       "      <td>1</td>\n",
       "    </tr>\n",
       "    <tr>\n",
       "      <th>1697608</th>\n",
       "      <td>9126246154865944745.1636772009.1636772009</td>\n",
       "      <td>74</td>\n",
       "      <td>1</td>\n",
       "    </tr>\n",
       "    <tr>\n",
       "      <th>1485462</th>\n",
       "      <td>8112688049712084307.1621439828.1621439828</td>\n",
       "      <td>73</td>\n",
       "      <td>1</td>\n",
       "    </tr>\n",
       "    <tr>\n",
       "      <th>1361414</th>\n",
       "      <td>7518333712042258254.1636462243.1636462243</td>\n",
       "      <td>67</td>\n",
       "      <td>1</td>\n",
       "    </tr>\n",
       "    <tr>\n",
       "      <th>1361639</th>\n",
       "      <td>7518333712042258254.1639563879.1639563879</td>\n",
       "      <td>50</td>\n",
       "      <td>1</td>\n",
       "    </tr>\n",
       "    <tr>\n",
       "      <th>53876</th>\n",
       "      <td>1259773107082089014.1631048249.1631048249</td>\n",
       "      <td>49</td>\n",
       "      <td>1</td>\n",
       "    </tr>\n",
       "    <tr>\n",
       "      <th>1255848</th>\n",
       "      <td>701680538324125081.1622735271.1622735271</td>\n",
       "      <td>48</td>\n",
       "      <td>1</td>\n",
       "    </tr>\n",
       "    <tr>\n",
       "      <th>1710817</th>\n",
       "      <td>9188187984229163017.1635639790.1635639790</td>\n",
       "      <td>47</td>\n",
       "      <td>1</td>\n",
       "    </tr>\n",
       "  </tbody>\n",
       "</table>\n",
       "</div>"
      ],
      "text/plain": [
       "                                        session_id  target_action target\n",
       "1281576  7140505447604038223.1630415440.1630415440            474      1\n",
       "286145   2375944964542858067.1635025747.1635025747             83      1\n",
       "676515   4245963133837464050.1640882501.1640882501             81      1\n",
       "1697608  9126246154865944745.1636772009.1636772009             74      1\n",
       "1485462  8112688049712084307.1621439828.1621439828             73      1\n",
       "1361414  7518333712042258254.1636462243.1636462243             67      1\n",
       "1361639  7518333712042258254.1639563879.1639563879             50      1\n",
       "53876    1259773107082089014.1631048249.1631048249             49      1\n",
       "1255848   701680538324125081.1622735271.1622735271             48      1\n",
       "1710817  9188187984229163017.1635639790.1635639790             47      1"
      ]
     },
     "execution_count": 46,
     "metadata": {},
     "output_type": "execute_result"
    }
   ],
   "source": [
    "# Убедимся, что замена прошла верно\n",
    "df_ta.sort_values(by=['target_action'], ascending=False)[:10]"
   ]
  },
  {
   "cell_type": "code",
   "execution_count": 47,
   "id": "1513f4b9",
   "metadata": {
    "hidden": true
   },
   "outputs": [
    {
     "data": {
      "text/html": [
       "<div>\n",
       "<style scoped>\n",
       "    .dataframe tbody tr th:only-of-type {\n",
       "        vertical-align: middle;\n",
       "    }\n",
       "\n",
       "    .dataframe tbody tr th {\n",
       "        vertical-align: top;\n",
       "    }\n",
       "\n",
       "    .dataframe thead th {\n",
       "        text-align: right;\n",
       "    }\n",
       "</style>\n",
       "<table border=\"1\" class=\"dataframe\">\n",
       "  <thead>\n",
       "    <tr style=\"text-align: right;\">\n",
       "      <th></th>\n",
       "      <th>session_id</th>\n",
       "      <th>target</th>\n",
       "    </tr>\n",
       "  </thead>\n",
       "  <tbody>\n",
       "    <tr>\n",
       "      <th>867305</th>\n",
       "      <td>5154780137798010968.1622186277.1622186277</td>\n",
       "      <td>1</td>\n",
       "    </tr>\n",
       "    <tr>\n",
       "      <th>541775</th>\n",
       "      <td>3598973774983326.1634332830.1634332830</td>\n",
       "      <td>1</td>\n",
       "    </tr>\n",
       "    <tr>\n",
       "      <th>106359</th>\n",
       "      <td>151329253004165836.1634747084.1634747084</td>\n",
       "      <td>1</td>\n",
       "    </tr>\n",
       "    <tr>\n",
       "      <th>358916</th>\n",
       "      <td>2722364755904441966.1622814318.1622814318</td>\n",
       "      <td>1</td>\n",
       "    </tr>\n",
       "    <tr>\n",
       "      <th>358924</th>\n",
       "      <td>2722419426554938003.1634599569.1634599569</td>\n",
       "      <td>1</td>\n",
       "    </tr>\n",
       "    <tr>\n",
       "      <th>1386211</th>\n",
       "      <td>7636606365362129042.1625655443.1625655443</td>\n",
       "      <td>1</td>\n",
       "    </tr>\n",
       "    <tr>\n",
       "      <th>358937</th>\n",
       "      <td>2722519044013859832.1622057976.1622057976</td>\n",
       "      <td>1</td>\n",
       "    </tr>\n",
       "    <tr>\n",
       "      <th>106330</th>\n",
       "      <td>1513159964038757790.1625261422.1625261422</td>\n",
       "      <td>1</td>\n",
       "    </tr>\n",
       "    <tr>\n",
       "      <th>1631488</th>\n",
       "      <td>8808825072137873358.1632992033.1632992033</td>\n",
       "      <td>1</td>\n",
       "    </tr>\n",
       "    <tr>\n",
       "      <th>541838</th>\n",
       "      <td>3599386121285120460.1621864909.1621864909</td>\n",
       "      <td>1</td>\n",
       "    </tr>\n",
       "  </tbody>\n",
       "</table>\n",
       "</div>"
      ],
      "text/plain": [
       "                                        session_id target\n",
       "867305   5154780137798010968.1622186277.1622186277      1\n",
       "541775      3598973774983326.1634332830.1634332830      1\n",
       "106359    151329253004165836.1634747084.1634747084      1\n",
       "358916   2722364755904441966.1622814318.1622814318      1\n",
       "358924   2722419426554938003.1634599569.1634599569      1\n",
       "1386211  7636606365362129042.1625655443.1625655443      1\n",
       "358937   2722519044013859832.1622057976.1622057976      1\n",
       "106330   1513159964038757790.1625261422.1625261422      1\n",
       "1631488  8808825072137873358.1632992033.1632992033      1\n",
       "541838   3599386121285120460.1621864909.1621864909      1"
      ]
     },
     "execution_count": 47,
     "metadata": {},
     "output_type": "execute_result"
    }
   ],
   "source": [
    "# Удаляем столбец target_action с количеством целевых действий. Далее используем вместо него - target\n",
    "df_ta = df_ta.drop(columns=['target_action'])\n",
    "df_ta.sort_values(by=['target'], ascending=False)[:10]"
   ]
  },
  {
   "cell_type": "markdown",
   "id": "6f2f2d67",
   "metadata": {
    "heading_collapsed": true,
    "hidden": true
   },
   "source": [
    "#### 3.1.2 Извлечение марки и модели автомобиля"
   ]
  },
  {
   "cell_type": "code",
   "execution_count": 48,
   "id": "4f2fbea4",
   "metadata": {
    "hidden": true
   },
   "outputs": [
    {
     "data": {
      "text/plain": [
       "0     sberauto.com/cars?utm_source_initial=google&ut...\n",
       "1     sberauto.com/cars/fiat?city=1&city=18&rental_c...\n",
       "2     sberauto.com/cars/all/volkswagen/polo/e994838f...\n",
       "3     sberauto.com/cars?utm_source_initial=yandex&ut...\n",
       "4     sberauto.com/cars/all/mercedes-benz/cla-klasse...\n",
       "5     sberauto.com/cars?utm_source_initial=youtube&u...\n",
       "6     sberauto.com/cars/toyota?isnew=false&rental_ca...\n",
       "7     sberauto.com/cars/all/mercedes-benz/glc/f8f330...\n",
       "8     sberauto.com/cars/all/kia/sorento/c38179cb?utm...\n",
       "9     sberauto.com/cars/all/nissan/x-trail/0744675f?...\n",
       "10    sberauto.com/cars/all/porsche/911/f149c91b?ren...\n",
       "11    sberauto.com/cars/all/nissan/qashqai/bfc21661?...\n",
       "12    sberauto.com/cars/all/renault/duster/145d53f1?...\n",
       "13    sberauto.com/cars/all/porsche/911/f149c91b?ren...\n",
       "14    sberauto.com/cars/all/skoda/rapid/bf24b977?ren...\n",
       "15    sberauto.com/cars/all/skoda/rapid/bf24b977?ren...\n",
       "16    sberauto.com/cars/all/porsche/911/f149c91b?ren...\n",
       "17    sberauto.com/cars/all/renault/logan/8c3c73f2?r...\n",
       "18    sberauto.com/cars/all/porsche/911/f149c91b?ren...\n",
       "19    sberauto.com/cars/all/peugeot/traveller/4c1dd8...\n",
       "Name: hit_page_path, dtype: object"
      ]
     },
     "execution_count": 48,
     "metadata": {},
     "output_type": "execute_result"
    }
   ],
   "source": [
    "# Изучение признака hit_page_path\n",
    "df_h_clean.iloc[0:20, 3]"
   ]
  },
  {
   "cell_type": "code",
   "execution_count": 49,
   "id": "d2daa8aa",
   "metadata": {
    "hidden": true
   },
   "outputs": [],
   "source": [
    "# Извлекаем марку автомобиля в столбец auto_name\n",
    "df_h_clean['auto_name'] = df_h_clean.hit_page_path.str.split('/').str[3]"
   ]
  },
  {
   "cell_type": "code",
   "execution_count": 50,
   "id": "15519783",
   "metadata": {
    "hidden": true
   },
   "outputs": [
    {
     "data": {
      "text/plain": [
       "0              NaN\n",
       "1              NaN\n",
       "2       volkswagen\n",
       "3              NaN\n",
       "4    mercedes-benz\n",
       "5              NaN\n",
       "6              NaN\n",
       "7    mercedes-benz\n",
       "8              kia\n",
       "9           nissan\n",
       "Name: auto_name, dtype: object"
      ]
     },
     "execution_count": 50,
     "metadata": {},
     "output_type": "execute_result"
    }
   ],
   "source": [
    "df_h_clean.auto_name[:10]"
   ]
  },
  {
   "cell_type": "code",
   "execution_count": 51,
   "id": "d14ae207",
   "metadata": {
    "hidden": true
   },
   "outputs": [
    {
     "data": {
      "text/plain": [
       "NaN                                                                                                                                                                                                                                                                                                                                                                                                                                                                                                                                                                                                                12198829\n",
       "skoda                                                                                                                                                                                                                                                                                                                                                                                                                                                                                                                                                                                                                744834\n",
       "mercedes-benz                                                                                                                                                                                                                                                                                                                                                                                                                                                                                                                                                                                                        472559\n",
       "volkswagen                                                                                                                                                                                                                                                                                                                                                                                                                                                                                                                                                                                                           417360\n",
       "lada-vaz                                                                                                                                                                                                                                                                                                                                                                                                                                                                                                                                                                                                             404196\n",
       "                                                                                                                                                                                                                                                                                                                                                                                                                                                                                                                                                                                                                     ...   \n",
       "serena?rental_car=rental_only&rental_page=rental_only                                                                                                                                                                                                                                                                                                                                                                                                                                                                                                                                                                     1\n",
       "kia?datefrom=2020&transmissions=at&rental_car=rental_only&rent_price_from=25 000&rent_price_to=45 000&utm_source_initial=google&utm_medium_initial=cpc&utm_campaign_initial=LwJZxKuWmvOhPsaCeRjG|YclHumxPxSxgzHfvCaeF&utm_content_initial=yXzSAJWSuRbYeLFyMVFl|KclqMBFdJIQzGyXiovbR|xAEYTlJDbQNwQTLGxICQ|yOxUJlbcjMYXiSVtBdDm|lFpAoUqEvHoyZfCNRuCR|nldimGaqDFWYFrXtLuHF|dtYJKUplNmmKCOfiziff|zbxQngdhrwBOImGhcdoE|aHSPdWXGkJravzWuwcJA|HbolMJUevblAbkHClEQa|kqZPVvZmXADsCZxIQwbv|QaGunexmXrztCWbLcYxs|OfdDOXSwHYclonQJpPxh|sNYHczmzpFvqYikKYeVN|HbolMJUevblAbkHClEQa&utm_term_initial=услуги аренды автомобилей           1\n",
       "x5?city=1&city=18&rental_car=rental_only&utm_source_initial=google&utm_medium_initial=cpc&utm_campaign_initial=XHNUiSKKGTEpSAlaVMFQ|IogmZDrCkJeHXbgMnIIv&utm_content_initial=yXzSAJWSuRbYeLFyMVFl|YAMPmNsXaFeZWgexOKLv|xAEYTlJDbQNwQTLGxICQ|AkWQyPNqWZSACoyftGqo|lFpAoUqEvHoyZfCNRuCR|QTkdoNfmEYDQUpBDLlLV|dtYJKUplNmmKCOfiziff|SLANzgJjHUTqTMTpdlUY|aHSPdWXGkJravzWuwcJA|HbolMJUevblAbkHClEQa|kqZPVvZmXADsCZxIQwbv|QaGunexmXrztCWbLcYxs|OfdDOXSwHYclonQJpPxh|NPcEIgnbIECWdLNSGoam|HbolMJUevblAbkHClEQa&utm_term_initial=yfjcpPqMeNcSIiswGTeQ&rental_page=rental_only                                                     1\n",
       "zen.yandex.com?yzclid=7518600845666993635                                                                                                                                                                                                                                                                                                                                                                                                                                                                                                                                                                                 1\n",
       "santa-fe?city=1&city=18&isnew=true&rental_car=rental_only&utm_source_initial=google&utm_medium_initial=cpc&utm_campaign_initial=XHNUiSKKGTEpSAlaVMFQ|IogmZDrCkJeHXbgMnIIv&utm_content_initial=yXzSAJWSuRbYeLFyMVFl|YAMPmNsXaFeZWgexOKLv|xAEYTlJDbQNwQTLGxICQ|AkWQyPNqWZSACoyftGqo|lFpAoUqEvHoyZfCNRuCR|QTkdoNfmEYDQUpBDLlLV|dtYJKUplNmmKCOfiziff|wtdAydPFeYlxHioycsEq|aHSPdWXGkJravzWuwcJA|HbolMJUevblAbkHClEQa|kqZPVvZmXADsCZxIQwbv|QaGunexmXrztCWbLcYxs|OfdDOXSwHYclonQJpPxh|YCIBlfyuRZszWgnxnaXR|HbolMJUevblAbkHClEQa&utm_term_initial=hAmNSZmQkKQKAjZEGlgb&rental_page=rental_only&page=1                             1\n",
       "Name: auto_name, Length: 2021, dtype: int64"
      ]
     },
     "execution_count": 51,
     "metadata": {},
     "output_type": "execute_result"
    }
   ],
   "source": [
    "df_h_clean['auto_name'].value_counts(dropna=False)"
   ]
  },
  {
   "cell_type": "code",
   "execution_count": 52,
   "id": "56c23ab2",
   "metadata": {
    "hidden": true
   },
   "outputs": [],
   "source": [
    "# Дополнительная обработка для извлечения марки автомобиля\n",
    "df_h_clean['auto_name'] = df_h_clean['auto_name'].str.split('?').str[0]"
   ]
  },
  {
   "cell_type": "code",
   "execution_count": 54,
   "id": "a67010ba",
   "metadata": {
    "hidden": true
   },
   "outputs": [
    {
     "data": {
      "text/plain": [
       "NaN                                                                                                           12198829\n",
       "skoda                                                                                                           745006\n",
       "mercedes-benz                                                                                                   472944\n",
       "volkswagen                                                                                                      417627\n",
       "lada-vaz                                                                                                        404543\n",
       "                                                                                                                ...   \n",
       "hqd6otu4c5+f+plbiatvtake8vc+ydf                                                                                      1\n",
       "expert                                                                                                               1\n",
       "7ngw5yylihwyqdhfjsf3mkxyk36uguq2eyrzlbbvrlsgexzsouh6giwcptbytgt1vxcu0aggcb8hlyvhdgy2i2gdna4c5hrkl4jsm5ygut           1\n",
       "gv80                                                                                                                 1\n",
       "2divulxttkuxewgvlcjmvtmzkz7rsl8jrlkd9wuk8avvujo3vwsvzk0ipr                                                           1\n",
       "Name: auto_name, Length: 625, dtype: int64"
      ]
     },
     "execution_count": 54,
     "metadata": {},
     "output_type": "execute_result"
    }
   ],
   "source": [
    "df_h_clean['auto_name'].value_counts(dropna=False)"
   ]
  },
  {
   "cell_type": "code",
   "execution_count": 53,
   "id": "9b0f338d",
   "metadata": {
    "hidden": true
   },
   "outputs": [
    {
     "data": {
      "text/plain": [
       "other                                                                                                         12198829\n",
       "skoda                                                                                                           745006\n",
       "mercedes-benz                                                                                                   472944\n",
       "volkswagen                                                                                                      417627\n",
       "lada-vaz                                                                                                        404543\n",
       "                                                                                                                ...   \n",
       "hqd6otu4c5+f+plbiatvtake8vc+ydf                                                                                      1\n",
       "expert                                                                                                               1\n",
       "7ngw5yylihwyqdhfjsf3mkxyk36uguq2eyrzlbbvrlsgexzsouh6giwcptbytgt1vxcu0aggcb8hlyvhdgy2i2gdna4c5hrkl4jsm5ygut           1\n",
       "gv80                                                                                                                 1\n",
       "2divulxttkuxewgvlcjmvtmzkz7rsl8jrlkd9wuk8avvujo3vwsvzk0ipr                                                           1\n",
       "Name: auto_name, Length: 625, dtype: int64"
      ]
     },
     "execution_count": 53,
     "metadata": {},
     "output_type": "execute_result"
    }
   ],
   "source": [
    "# Заполняем пустые значения параметром 'other'\n",
    "df_h_clean.auto_name = df_h_clean.auto_name.fillna('other')\n",
    "df_h_clean['auto_name'].value_counts(dropna=False)"
   ]
  },
  {
   "cell_type": "code",
   "execution_count": 54,
   "id": "453be2c6",
   "metadata": {
    "hidden": true
   },
   "outputs": [],
   "source": [
    "# Извлекаем модель автомобиля в столбец auto_model\n",
    "df_h_clean['auto_model'] = df_h_clean.hit_page_path.str.split('/').str[4]"
   ]
  },
  {
   "cell_type": "code",
   "execution_count": 55,
   "id": "3d534ce6",
   "metadata": {
    "hidden": true
   },
   "outputs": [
    {
     "data": {
      "text/plain": [
       "NaN                                                                                                                                                               12212225\n",
       "rapid                                                                                                                                                               442513\n",
       "vesta                                                                                                                                                               403910\n",
       "polo                                                                                                                                                                318075\n",
       "karoq                                                                                                                                                               194273\n",
       "                                                                                                                                                                    ...   \n",
       "cars&city=1&shortlink=opensearchcars&c=sberauto&pid=sber&rental_page=rental_only&rental_car=rental_only&referrer=af_tranid=yxod6qkyh3ykrq76mw42pw&af_dp=https:           1\n",
       "cars&city=1&shortlink=opensearchcars&c=sberauto&pid=sber&rental_page=rental_only&rental_car=rental_only&referrer=af_tranid=vevzs82fagt5uabykthpga&af_dp=https:           1\n",
       "cars&city=1&shortlink=opensearchcars&c=sberauto&pid=sber&rental_page=rental_only&rental_car=rental_only&referrer=af_tranid=d5thpqzt9lwxadm-av0jtg&af_dp=https:           1\n",
       "cars&city=1&shortlink=opensearchcars&c=sberauto&pid=sber&rental_page=rental_only&rental_car=rental_only&referrer=af_tranid=r0wyi6s1z61c_3w6uyrnng&af_dp=https:           1\n",
       "x-trail?datefrom=2020&rental_car=rental_only&page=1                                                                                                                      1\n",
       "Name: auto_model, Length: 5584, dtype: int64"
      ]
     },
     "execution_count": 55,
     "metadata": {},
     "output_type": "execute_result"
    }
   ],
   "source": [
    "df_h_clean['auto_model'].value_counts(dropna=False)"
   ]
  },
  {
   "cell_type": "code",
   "execution_count": 56,
   "id": "e1ff1569",
   "metadata": {
    "hidden": true
   },
   "outputs": [],
   "source": [
    "# Дообработка столбца auto_model\n",
    "df_h_clean['auto_model'] = df_h_clean.auto_model.str.split('?').str[0]"
   ]
  },
  {
   "cell_type": "code",
   "execution_count": 57,
   "id": "2d4450e3",
   "metadata": {
    "hidden": true
   },
   "outputs": [],
   "source": [
    "# Заполняем пустые значения в столбце auto_model значением other\n",
    "df_h_clean.auto_model = df_h_clean.auto_model.fillna('other')"
   ]
  },
  {
   "cell_type": "code",
   "execution_count": 58,
   "id": "934761ef",
   "metadata": {
    "hidden": true
   },
   "outputs": [
    {
     "data": {
      "text/html": [
       "<div>\n",
       "<style scoped>\n",
       "    .dataframe tbody tr th:only-of-type {\n",
       "        vertical-align: middle;\n",
       "    }\n",
       "\n",
       "    .dataframe tbody tr th {\n",
       "        vertical-align: top;\n",
       "    }\n",
       "\n",
       "    .dataframe thead th {\n",
       "        text-align: right;\n",
       "    }\n",
       "</style>\n",
       "<table border=\"1\" class=\"dataframe\">\n",
       "  <thead>\n",
       "    <tr style=\"text-align: right;\">\n",
       "      <th></th>\n",
       "      <th>session_id</th>\n",
       "      <th>hit_date</th>\n",
       "      <th>hit_number</th>\n",
       "      <th>event_category</th>\n",
       "      <th>target_action</th>\n",
       "      <th>auto_name</th>\n",
       "      <th>auto_model</th>\n",
       "    </tr>\n",
       "  </thead>\n",
       "  <tbody>\n",
       "    <tr>\n",
       "      <th>0</th>\n",
       "      <td>5639623078712724064.1640254056.1640254056</td>\n",
       "      <td>2021-12-23 00:00:00+00:00</td>\n",
       "      <td>30</td>\n",
       "      <td>quiz</td>\n",
       "      <td>0</td>\n",
       "      <td>other</td>\n",
       "      <td>other</td>\n",
       "    </tr>\n",
       "    <tr>\n",
       "      <th>1</th>\n",
       "      <td>7750352294969115059.1640271109.1640271109</td>\n",
       "      <td>2021-12-23 00:00:00+00:00</td>\n",
       "      <td>41</td>\n",
       "      <td>quiz</td>\n",
       "      <td>0</td>\n",
       "      <td>other</td>\n",
       "      <td>other</td>\n",
       "    </tr>\n",
       "    <tr>\n",
       "      <th>2</th>\n",
       "      <td>885342191847998240.1640235807.1640235807</td>\n",
       "      <td>2021-12-23 00:00:00+00:00</td>\n",
       "      <td>49</td>\n",
       "      <td>quiz</td>\n",
       "      <td>0</td>\n",
       "      <td>volkswagen</td>\n",
       "      <td>polo</td>\n",
       "    </tr>\n",
       "    <tr>\n",
       "      <th>3</th>\n",
       "      <td>142526202120934167.1640211014.1640211014</td>\n",
       "      <td>2021-12-23 00:00:00+00:00</td>\n",
       "      <td>46</td>\n",
       "      <td>quiz</td>\n",
       "      <td>0</td>\n",
       "      <td>other</td>\n",
       "      <td>other</td>\n",
       "    </tr>\n",
       "    <tr>\n",
       "      <th>4</th>\n",
       "      <td>3450086108837475701.1640265078.1640265078</td>\n",
       "      <td>2021-12-23 00:00:00+00:00</td>\n",
       "      <td>79</td>\n",
       "      <td>quiz</td>\n",
       "      <td>0</td>\n",
       "      <td>mercedes-benz</td>\n",
       "      <td>cla-klasse</td>\n",
       "    </tr>\n",
       "  </tbody>\n",
       "</table>\n",
       "</div>"
      ],
      "text/plain": [
       "                                  session_id                  hit_date  \\\n",
       "0  5639623078712724064.1640254056.1640254056 2021-12-23 00:00:00+00:00   \n",
       "1  7750352294969115059.1640271109.1640271109 2021-12-23 00:00:00+00:00   \n",
       "2   885342191847998240.1640235807.1640235807 2021-12-23 00:00:00+00:00   \n",
       "3   142526202120934167.1640211014.1640211014 2021-12-23 00:00:00+00:00   \n",
       "4  3450086108837475701.1640265078.1640265078 2021-12-23 00:00:00+00:00   \n",
       "\n",
       "   hit_number event_category  target_action      auto_name  auto_model  \n",
       "0          30           quiz              0          other       other  \n",
       "1          41           quiz              0          other       other  \n",
       "2          49           quiz              0     volkswagen        polo  \n",
       "3          46           quiz              0          other       other  \n",
       "4          79           quiz              0  mercedes-benz  cla-klasse  "
      ]
     },
     "execution_count": 58,
     "metadata": {},
     "output_type": "execute_result"
    }
   ],
   "source": [
    "# удаляем столбец hit_page_path, из которого извлекли информацию о марке и модели автомобиля\n",
    "df_h_clean = df_h_clean.drop(columns=['hit_page_path'])\n",
    "df_h_clean.head()"
   ]
  },
  {
   "cell_type": "code",
   "execution_count": 59,
   "id": "2636120c",
   "metadata": {
    "hidden": true
   },
   "outputs": [
    {
     "name": "stdout",
     "output_type": "stream",
     "text": [
      "Размерность обработанного датафрейма\n"
     ]
    },
    {
     "data": {
      "text/plain": [
       "(15726470, 7)"
      ]
     },
     "execution_count": 59,
     "metadata": {},
     "output_type": "execute_result"
    }
   ],
   "source": [
    "print('Размерность обработанного датафрейма')\n",
    "df_h_clean.shape"
   ]
  },
  {
   "cell_type": "code",
   "execution_count": 60,
   "id": "9944035f",
   "metadata": {
    "hidden": true
   },
   "outputs": [
    {
     "data": {
      "text/plain": [
       "<AxesSubplot:>"
      ]
     },
     "execution_count": 60,
     "metadata": {},
     "output_type": "execute_result"
    },
    {
     "data": {
      "image/png": "[encoded data removed]",
      "text/plain": [
       "<Figure size 2500x1000 with 3 Axes>"
      ]
     },
     "metadata": {},
     "output_type": "display_data"
    }
   ],
   "source": [
    "# Проверяем полноту данных обработанного датафрейма\n",
    "msno.bar(df_h_clean)"
   ]
  },
  {
   "cell_type": "code",
   "execution_count": 62,
   "id": "2b8996c3",
   "metadata": {
    "hidden": true
   },
   "outputs": [
    {
     "data": {
      "text/html": [
       "<div>\n",
       "<style scoped>\n",
       "    .dataframe tbody tr th:only-of-type {\n",
       "        vertical-align: middle;\n",
       "    }\n",
       "\n",
       "    .dataframe tbody tr th {\n",
       "        vertical-align: top;\n",
       "    }\n",
       "\n",
       "    .dataframe thead th {\n",
       "        text-align: right;\n",
       "    }\n",
       "</style>\n",
       "<table border=\"1\" class=\"dataframe\">\n",
       "  <thead>\n",
       "    <tr style=\"text-align: right;\">\n",
       "      <th></th>\n",
       "      <th>session_id</th>\n",
       "      <th>hit_date</th>\n",
       "      <th>hit_number</th>\n",
       "      <th>event_category</th>\n",
       "      <th>target_action</th>\n",
       "      <th>auto_name</th>\n",
       "      <th>auto_model</th>\n",
       "    </tr>\n",
       "  </thead>\n",
       "  <tbody>\n",
       "    <tr>\n",
       "      <th>0</th>\n",
       "      <td>5639623078712724064.1640254056.1640254056</td>\n",
       "      <td>2021-12-23 00:00:00+00:00</td>\n",
       "      <td>30</td>\n",
       "      <td>quiz</td>\n",
       "      <td>0</td>\n",
       "      <td>other</td>\n",
       "      <td>other</td>\n",
       "    </tr>\n",
       "    <tr>\n",
       "      <th>1</th>\n",
       "      <td>7750352294969115059.1640271109.1640271109</td>\n",
       "      <td>2021-12-23 00:00:00+00:00</td>\n",
       "      <td>41</td>\n",
       "      <td>quiz</td>\n",
       "      <td>0</td>\n",
       "      <td>other</td>\n",
       "      <td>other</td>\n",
       "    </tr>\n",
       "    <tr>\n",
       "      <th>2</th>\n",
       "      <td>885342191847998240.1640235807.1640235807</td>\n",
       "      <td>2021-12-23 00:00:00+00:00</td>\n",
       "      <td>49</td>\n",
       "      <td>quiz</td>\n",
       "      <td>0</td>\n",
       "      <td>volkswagen</td>\n",
       "      <td>polo</td>\n",
       "    </tr>\n",
       "    <tr>\n",
       "      <th>3</th>\n",
       "      <td>142526202120934167.1640211014.1640211014</td>\n",
       "      <td>2021-12-23 00:00:00+00:00</td>\n",
       "      <td>46</td>\n",
       "      <td>quiz</td>\n",
       "      <td>0</td>\n",
       "      <td>other</td>\n",
       "      <td>other</td>\n",
       "    </tr>\n",
       "    <tr>\n",
       "      <th>4</th>\n",
       "      <td>3450086108837475701.1640265078.1640265078</td>\n",
       "      <td>2021-12-23 00:00:00+00:00</td>\n",
       "      <td>79</td>\n",
       "      <td>quiz</td>\n",
       "      <td>0</td>\n",
       "      <td>mercedes-benz</td>\n",
       "      <td>cla-klasse</td>\n",
       "    </tr>\n",
       "  </tbody>\n",
       "</table>\n",
       "</div>"
      ],
      "text/plain": [
       "                                  session_id                  hit_date  \\\n",
       "0  5639623078712724064.1640254056.1640254056 2021-12-23 00:00:00+00:00   \n",
       "1  7750352294969115059.1640271109.1640271109 2021-12-23 00:00:00+00:00   \n",
       "2   885342191847998240.1640235807.1640235807 2021-12-23 00:00:00+00:00   \n",
       "3   142526202120934167.1640211014.1640211014 2021-12-23 00:00:00+00:00   \n",
       "4  3450086108837475701.1640265078.1640265078 2021-12-23 00:00:00+00:00   \n",
       "\n",
       "   hit_number event_category  target_action      auto_name  auto_model  \n",
       "0          30           quiz              0          other       other  \n",
       "1          41           quiz              0          other       other  \n",
       "2          49           quiz              0     volkswagen        polo  \n",
       "3          46           quiz              0          other       other  \n",
       "4          79           quiz              0  mercedes-benz  cla-klasse  "
      ]
     },
     "execution_count": 62,
     "metadata": {},
     "output_type": "execute_result"
    }
   ],
   "source": [
    "df_h_clean.head()"
   ]
  },
  {
   "cell_type": "markdown",
   "id": "cc05bfcf",
   "metadata": {
    "heading_collapsed": true,
    "hidden": true
   },
   "source": [
    "###  3.2 ga_sessions"
   ]
  },
  {
   "cell_type": "markdown",
   "id": "9b8ca016",
   "metadata": {
    "heading_collapsed": true,
    "hidden": true
   },
   "source": [
    "#### 3.2.1 Формируем признак advert_sn - с маркером наличия рекламы в соцсетях"
   ]
  },
  {
   "cell_type": "code",
   "execution_count": 63,
   "id": "bdb63aa4",
   "metadata": {
    "hidden": true
   },
   "outputs": [
    {
     "data": {
      "text/html": [
       "<div>\n",
       "<style scoped>\n",
       "    .dataframe tbody tr th:only-of-type {\n",
       "        vertical-align: middle;\n",
       "    }\n",
       "\n",
       "    .dataframe tbody tr th {\n",
       "        vertical-align: top;\n",
       "    }\n",
       "\n",
       "    .dataframe thead th {\n",
       "        text-align: right;\n",
       "    }\n",
       "</style>\n",
       "<table border=\"1\" class=\"dataframe\">\n",
       "  <thead>\n",
       "    <tr style=\"text-align: right;\">\n",
       "      <th></th>\n",
       "      <th>session_id</th>\n",
       "      <th>client_id</th>\n",
       "      <th>visit_date</th>\n",
       "      <th>visit_number</th>\n",
       "      <th>utm_source</th>\n",
       "      <th>utm_medium</th>\n",
       "      <th>utm_campaign</th>\n",
       "      <th>device_category</th>\n",
       "      <th>geo_country</th>\n",
       "      <th>geo_city</th>\n",
       "      <th>advert_sn</th>\n",
       "    </tr>\n",
       "  </thead>\n",
       "  <tbody>\n",
       "    <tr>\n",
       "      <th>0</th>\n",
       "      <td>9055434745589932991.1637753792.1637753792</td>\n",
       "      <td>2108382700.1637753791</td>\n",
       "      <td>2021-11-24 00:00:00+00:00</td>\n",
       "      <td>1</td>\n",
       "      <td>ZpYIoDJMcFzVoPFsHGJL</td>\n",
       "      <td>banner</td>\n",
       "      <td>LEoPHuyFvzoNfnzGgfcd</td>\n",
       "      <td>mobile</td>\n",
       "      <td>Russia</td>\n",
       "      <td>Zlatoust</td>\n",
       "      <td>0</td>\n",
       "    </tr>\n",
       "    <tr>\n",
       "      <th>1</th>\n",
       "      <td>905544597018549464.1636867290.1636867290</td>\n",
       "      <td>210838531.1636867288</td>\n",
       "      <td>2021-11-14 00:00:00+00:00</td>\n",
       "      <td>1</td>\n",
       "      <td>MvfHsxITijuriZxsqZqt</td>\n",
       "      <td>cpm</td>\n",
       "      <td>FTjNLDyTrXaWYgZymFkV</td>\n",
       "      <td>mobile</td>\n",
       "      <td>Russia</td>\n",
       "      <td>Moscow</td>\n",
       "      <td>1</td>\n",
       "    </tr>\n",
       "    <tr>\n",
       "      <th>2</th>\n",
       "      <td>9055446045651783499.1640648526.1640648526</td>\n",
       "      <td>2108385331.1640648523</td>\n",
       "      <td>2021-12-28 00:00:00+00:00</td>\n",
       "      <td>1</td>\n",
       "      <td>ZpYIoDJMcFzVoPFsHGJL</td>\n",
       "      <td>banner</td>\n",
       "      <td>LEoPHuyFvzoNfnzGgfcd</td>\n",
       "      <td>mobile</td>\n",
       "      <td>Russia</td>\n",
       "      <td>Krasnoyarsk</td>\n",
       "      <td>0</td>\n",
       "    </tr>\n",
       "    <tr>\n",
       "      <th>3</th>\n",
       "      <td>9055447046360770272.1622255328.1622255328</td>\n",
       "      <td>2108385564.1622255328</td>\n",
       "      <td>2021-05-29 00:00:00+00:00</td>\n",
       "      <td>1</td>\n",
       "      <td>kjsLglQLzykiRbcDiGcD</td>\n",
       "      <td>cpc</td>\n",
       "      <td>no advertising</td>\n",
       "      <td>mobile</td>\n",
       "      <td>Russia</td>\n",
       "      <td>Moscow</td>\n",
       "      <td>0</td>\n",
       "    </tr>\n",
       "    <tr>\n",
       "      <th>4</th>\n",
       "      <td>9055447046360770272.1622255345.1622255345</td>\n",
       "      <td>2108385564.1622255328</td>\n",
       "      <td>2021-05-29 00:00:00+00:00</td>\n",
       "      <td>2</td>\n",
       "      <td>kjsLglQLzykiRbcDiGcD</td>\n",
       "      <td>cpc</td>\n",
       "      <td>no advertising</td>\n",
       "      <td>mobile</td>\n",
       "      <td>Russia</td>\n",
       "      <td>Moscow</td>\n",
       "      <td>0</td>\n",
       "    </tr>\n",
       "  </tbody>\n",
       "</table>\n",
       "</div>"
      ],
      "text/plain": [
       "                                  session_id              client_id  \\\n",
       "0  9055434745589932991.1637753792.1637753792  2108382700.1637753791   \n",
       "1   905544597018549464.1636867290.1636867290   210838531.1636867288   \n",
       "2  9055446045651783499.1640648526.1640648526  2108385331.1640648523   \n",
       "3  9055447046360770272.1622255328.1622255328  2108385564.1622255328   \n",
       "4  9055447046360770272.1622255345.1622255345  2108385564.1622255328   \n",
       "\n",
       "                 visit_date  visit_number            utm_source utm_medium  \\\n",
       "0 2021-11-24 00:00:00+00:00             1  ZpYIoDJMcFzVoPFsHGJL     banner   \n",
       "1 2021-11-14 00:00:00+00:00             1  MvfHsxITijuriZxsqZqt        cpm   \n",
       "2 2021-12-28 00:00:00+00:00             1  ZpYIoDJMcFzVoPFsHGJL     banner   \n",
       "3 2021-05-29 00:00:00+00:00             1  kjsLglQLzykiRbcDiGcD        cpc   \n",
       "4 2021-05-29 00:00:00+00:00             2  kjsLglQLzykiRbcDiGcD        cpc   \n",
       "\n",
       "           utm_campaign device_category geo_country     geo_city  advert_sn  \n",
       "0  LEoPHuyFvzoNfnzGgfcd          mobile      Russia     Zlatoust          0  \n",
       "1  FTjNLDyTrXaWYgZymFkV          mobile      Russia       Moscow          1  \n",
       "2  LEoPHuyFvzoNfnzGgfcd          mobile      Russia  Krasnoyarsk          0  \n",
       "3        no advertising          mobile      Russia       Moscow          0  \n",
       "4        no advertising          mobile      Russia       Moscow          0  "
      ]
     },
     "execution_count": 63,
     "metadata": {},
     "output_type": "execute_result"
    }
   ],
   "source": [
    "# Формируем список из значений столбца utm_source 'Реклама в социальных сетях' \n",
    "advertising_sn_values = ['QxAxdyPLuQMEcrdZWdWb', 'MvfHsxITijuriZxsqZqt', 'ISrKoXQCxqqYvAZICvjs', 'IZEXUFLARCUMynmHNBGo',\n",
    "                        'PlbkrSYoHuZBWfYjYnfw', 'gVRrcxiDQubJiljoTbGm']\n",
    "\n",
    "# Вставляем столбец advert_SM - канал привлечения - с маркером: 1 - реклама в социальных сетях, 0 - другие каналы.\n",
    "df_s_clean['advert_sn'] = np.where((df_s_clean.utm_source.isin(advertising_sn_values)), 1, 0)\n",
    "df_s_clean.head()"
   ]
  },
  {
   "cell_type": "code",
   "execution_count": 64,
   "id": "acf992c9",
   "metadata": {
    "hidden": true
   },
   "outputs": [
    {
     "data": {
      "text/plain": [
       "0    1585815\n",
       "1     274227\n",
       "Name: advert_sn, dtype: int64"
      ]
     },
     "execution_count": 64,
     "metadata": {},
     "output_type": "execute_result"
    }
   ],
   "source": [
    "# Уникальные значения столбца advert_sn\n",
    "df_s_clean['advert_sn'].value_counts()"
   ]
  },
  {
   "cell_type": "markdown",
   "id": "2bab3a81",
   "metadata": {
    "heading_collapsed": true,
    "hidden": true
   },
   "source": [
    "#### 3.2.2 Формируем признак traffic_way - с маркером органического и платного трафика"
   ]
  },
  {
   "cell_type": "code",
   "execution_count": 65,
   "id": "db561aa7",
   "metadata": {
    "hidden": true
   },
   "outputs": [
    {
     "data": {
      "text/html": [
       "<div>\n",
       "<style scoped>\n",
       "    .dataframe tbody tr th:only-of-type {\n",
       "        vertical-align: middle;\n",
       "    }\n",
       "\n",
       "    .dataframe tbody tr th {\n",
       "        vertical-align: top;\n",
       "    }\n",
       "\n",
       "    .dataframe thead th {\n",
       "        text-align: right;\n",
       "    }\n",
       "</style>\n",
       "<table border=\"1\" class=\"dataframe\">\n",
       "  <thead>\n",
       "    <tr style=\"text-align: right;\">\n",
       "      <th></th>\n",
       "      <th>session_id</th>\n",
       "      <th>client_id</th>\n",
       "      <th>visit_date</th>\n",
       "      <th>visit_number</th>\n",
       "      <th>utm_source</th>\n",
       "      <th>utm_medium</th>\n",
       "      <th>utm_campaign</th>\n",
       "      <th>device_category</th>\n",
       "      <th>geo_country</th>\n",
       "      <th>geo_city</th>\n",
       "      <th>advert_sn</th>\n",
       "      <th>traffic_way</th>\n",
       "    </tr>\n",
       "  </thead>\n",
       "  <tbody>\n",
       "    <tr>\n",
       "      <th>0</th>\n",
       "      <td>9055434745589932991.1637753792.1637753792</td>\n",
       "      <td>2108382700.1637753791</td>\n",
       "      <td>2021-11-24 00:00:00+00:00</td>\n",
       "      <td>1</td>\n",
       "      <td>ZpYIoDJMcFzVoPFsHGJL</td>\n",
       "      <td>banner</td>\n",
       "      <td>LEoPHuyFvzoNfnzGgfcd</td>\n",
       "      <td>mobile</td>\n",
       "      <td>Russia</td>\n",
       "      <td>Zlatoust</td>\n",
       "      <td>0</td>\n",
       "      <td>paid</td>\n",
       "    </tr>\n",
       "    <tr>\n",
       "      <th>1</th>\n",
       "      <td>905544597018549464.1636867290.1636867290</td>\n",
       "      <td>210838531.1636867288</td>\n",
       "      <td>2021-11-14 00:00:00+00:00</td>\n",
       "      <td>1</td>\n",
       "      <td>MvfHsxITijuriZxsqZqt</td>\n",
       "      <td>cpm</td>\n",
       "      <td>FTjNLDyTrXaWYgZymFkV</td>\n",
       "      <td>mobile</td>\n",
       "      <td>Russia</td>\n",
       "      <td>Moscow</td>\n",
       "      <td>1</td>\n",
       "      <td>paid</td>\n",
       "    </tr>\n",
       "    <tr>\n",
       "      <th>2</th>\n",
       "      <td>9055446045651783499.1640648526.1640648526</td>\n",
       "      <td>2108385331.1640648523</td>\n",
       "      <td>2021-12-28 00:00:00+00:00</td>\n",
       "      <td>1</td>\n",
       "      <td>ZpYIoDJMcFzVoPFsHGJL</td>\n",
       "      <td>banner</td>\n",
       "      <td>LEoPHuyFvzoNfnzGgfcd</td>\n",
       "      <td>mobile</td>\n",
       "      <td>Russia</td>\n",
       "      <td>Krasnoyarsk</td>\n",
       "      <td>0</td>\n",
       "      <td>paid</td>\n",
       "    </tr>\n",
       "    <tr>\n",
       "      <th>3</th>\n",
       "      <td>9055447046360770272.1622255328.1622255328</td>\n",
       "      <td>2108385564.1622255328</td>\n",
       "      <td>2021-05-29 00:00:00+00:00</td>\n",
       "      <td>1</td>\n",
       "      <td>kjsLglQLzykiRbcDiGcD</td>\n",
       "      <td>cpc</td>\n",
       "      <td>no advertising</td>\n",
       "      <td>mobile</td>\n",
       "      <td>Russia</td>\n",
       "      <td>Moscow</td>\n",
       "      <td>0</td>\n",
       "      <td>paid</td>\n",
       "    </tr>\n",
       "    <tr>\n",
       "      <th>4</th>\n",
       "      <td>9055447046360770272.1622255345.1622255345</td>\n",
       "      <td>2108385564.1622255328</td>\n",
       "      <td>2021-05-29 00:00:00+00:00</td>\n",
       "      <td>2</td>\n",
       "      <td>kjsLglQLzykiRbcDiGcD</td>\n",
       "      <td>cpc</td>\n",
       "      <td>no advertising</td>\n",
       "      <td>mobile</td>\n",
       "      <td>Russia</td>\n",
       "      <td>Moscow</td>\n",
       "      <td>0</td>\n",
       "      <td>paid</td>\n",
       "    </tr>\n",
       "  </tbody>\n",
       "</table>\n",
       "</div>"
      ],
      "text/plain": [
       "                                  session_id              client_id  \\\n",
       "0  9055434745589932991.1637753792.1637753792  2108382700.1637753791   \n",
       "1   905544597018549464.1636867290.1636867290   210838531.1636867288   \n",
       "2  9055446045651783499.1640648526.1640648526  2108385331.1640648523   \n",
       "3  9055447046360770272.1622255328.1622255328  2108385564.1622255328   \n",
       "4  9055447046360770272.1622255345.1622255345  2108385564.1622255328   \n",
       "\n",
       "                 visit_date  visit_number            utm_source utm_medium  \\\n",
       "0 2021-11-24 00:00:00+00:00             1  ZpYIoDJMcFzVoPFsHGJL     banner   \n",
       "1 2021-11-14 00:00:00+00:00             1  MvfHsxITijuriZxsqZqt        cpm   \n",
       "2 2021-12-28 00:00:00+00:00             1  ZpYIoDJMcFzVoPFsHGJL     banner   \n",
       "3 2021-05-29 00:00:00+00:00             1  kjsLglQLzykiRbcDiGcD        cpc   \n",
       "4 2021-05-29 00:00:00+00:00             2  kjsLglQLzykiRbcDiGcD        cpc   \n",
       "\n",
       "           utm_campaign device_category geo_country     geo_city  advert_sn  \\\n",
       "0  LEoPHuyFvzoNfnzGgfcd          mobile      Russia     Zlatoust          0   \n",
       "1  FTjNLDyTrXaWYgZymFkV          mobile      Russia       Moscow          1   \n",
       "2  LEoPHuyFvzoNfnzGgfcd          mobile      Russia  Krasnoyarsk          0   \n",
       "3        no advertising          mobile      Russia       Moscow          0   \n",
       "4        no advertising          mobile      Russia       Moscow          0   \n",
       "\n",
       "  traffic_way  \n",
       "0        paid  \n",
       "1        paid  \n",
       "2        paid  \n",
       "3        paid  \n",
       "4        paid  "
      ]
     },
     "execution_count": 65,
     "metadata": {},
     "output_type": "execute_result"
    }
   ],
   "source": [
    "# Формируем список из значений utm_medium для значения 'Органический трафик'\n",
    "natural_traffic = ['organic', 'referral', '(none)']\n",
    "\n",
    "# Вставляем столбец traffic_way с маркером: \"free\" - органический трафик, \"paid\" - платный (неорганический) трафик.\n",
    "df_s_clean['traffic_way'] = np.where((df_s_clean.utm_medium.isin(natural_traffic)), 'free', \"paid\")\n",
    "df_s_clean.head()"
   ]
  },
  {
   "cell_type": "code",
   "execution_count": 66,
   "id": "c0e42b14",
   "metadata": {
    "hidden": true
   },
   "outputs": [
    {
     "data": {
      "text/plain": [
       "paid    1344383\n",
       "free     515659\n",
       "Name: traffic_way, dtype: int64"
      ]
     },
     "execution_count": 66,
     "metadata": {},
     "output_type": "execute_result"
    }
   ],
   "source": [
    "# Уникальные значения столбца traffic_way\n",
    "df_s_clean['traffic_way'].value_counts()"
   ]
  },
  {
   "cell_type": "markdown",
   "id": "75e11459",
   "metadata": {
    "heading_collapsed": true,
    "hidden": true
   },
   "source": [
    "#### 3.2.3 Формируем признак city_of_present - с маркером города присутствия"
   ]
  },
  {
   "cell_type": "code",
   "execution_count": 67,
   "id": "d42aade2",
   "metadata": {
    "hidden": true
   },
   "outputs": [
    {
     "data": {
      "text/html": [
       "<div>\n",
       "<style scoped>\n",
       "    .dataframe tbody tr th:only-of-type {\n",
       "        vertical-align: middle;\n",
       "    }\n",
       "\n",
       "    .dataframe tbody tr th {\n",
       "        vertical-align: top;\n",
       "    }\n",
       "\n",
       "    .dataframe thead th {\n",
       "        text-align: right;\n",
       "    }\n",
       "</style>\n",
       "<table border=\"1\" class=\"dataframe\">\n",
       "  <thead>\n",
       "    <tr style=\"text-align: right;\">\n",
       "      <th></th>\n",
       "      <th>session_id</th>\n",
       "      <th>client_id</th>\n",
       "      <th>visit_date</th>\n",
       "      <th>visit_number</th>\n",
       "      <th>utm_source</th>\n",
       "      <th>utm_medium</th>\n",
       "      <th>utm_campaign</th>\n",
       "      <th>device_category</th>\n",
       "      <th>geo_country</th>\n",
       "      <th>geo_city</th>\n",
       "      <th>advert_sn</th>\n",
       "      <th>traffic_way</th>\n",
       "      <th>city_of_present</th>\n",
       "    </tr>\n",
       "  </thead>\n",
       "  <tbody>\n",
       "    <tr>\n",
       "      <th>0</th>\n",
       "      <td>9055434745589932991.1637753792.1637753792</td>\n",
       "      <td>2108382700.1637753791</td>\n",
       "      <td>2021-11-24 00:00:00+00:00</td>\n",
       "      <td>1</td>\n",
       "      <td>ZpYIoDJMcFzVoPFsHGJL</td>\n",
       "      <td>banner</td>\n",
       "      <td>LEoPHuyFvzoNfnzGgfcd</td>\n",
       "      <td>mobile</td>\n",
       "      <td>Russia</td>\n",
       "      <td>Zlatoust</td>\n",
       "      <td>0</td>\n",
       "      <td>paid</td>\n",
       "      <td>other</td>\n",
       "    </tr>\n",
       "    <tr>\n",
       "      <th>1</th>\n",
       "      <td>905544597018549464.1636867290.1636867290</td>\n",
       "      <td>210838531.1636867288</td>\n",
       "      <td>2021-11-14 00:00:00+00:00</td>\n",
       "      <td>1</td>\n",
       "      <td>MvfHsxITijuriZxsqZqt</td>\n",
       "      <td>cpm</td>\n",
       "      <td>FTjNLDyTrXaWYgZymFkV</td>\n",
       "      <td>mobile</td>\n",
       "      <td>Russia</td>\n",
       "      <td>Moscow</td>\n",
       "      <td>1</td>\n",
       "      <td>paid</td>\n",
       "      <td>present</td>\n",
       "    </tr>\n",
       "    <tr>\n",
       "      <th>2</th>\n",
       "      <td>9055446045651783499.1640648526.1640648526</td>\n",
       "      <td>2108385331.1640648523</td>\n",
       "      <td>2021-12-28 00:00:00+00:00</td>\n",
       "      <td>1</td>\n",
       "      <td>ZpYIoDJMcFzVoPFsHGJL</td>\n",
       "      <td>banner</td>\n",
       "      <td>LEoPHuyFvzoNfnzGgfcd</td>\n",
       "      <td>mobile</td>\n",
       "      <td>Russia</td>\n",
       "      <td>Krasnoyarsk</td>\n",
       "      <td>0</td>\n",
       "      <td>paid</td>\n",
       "      <td>other</td>\n",
       "    </tr>\n",
       "    <tr>\n",
       "      <th>3</th>\n",
       "      <td>9055447046360770272.1622255328.1622255328</td>\n",
       "      <td>2108385564.1622255328</td>\n",
       "      <td>2021-05-29 00:00:00+00:00</td>\n",
       "      <td>1</td>\n",
       "      <td>kjsLglQLzykiRbcDiGcD</td>\n",
       "      <td>cpc</td>\n",
       "      <td>no advertising</td>\n",
       "      <td>mobile</td>\n",
       "      <td>Russia</td>\n",
       "      <td>Moscow</td>\n",
       "      <td>0</td>\n",
       "      <td>paid</td>\n",
       "      <td>present</td>\n",
       "    </tr>\n",
       "    <tr>\n",
       "      <th>4</th>\n",
       "      <td>9055447046360770272.1622255345.1622255345</td>\n",
       "      <td>2108385564.1622255328</td>\n",
       "      <td>2021-05-29 00:00:00+00:00</td>\n",
       "      <td>2</td>\n",
       "      <td>kjsLglQLzykiRbcDiGcD</td>\n",
       "      <td>cpc</td>\n",
       "      <td>no advertising</td>\n",
       "      <td>mobile</td>\n",
       "      <td>Russia</td>\n",
       "      <td>Moscow</td>\n",
       "      <td>0</td>\n",
       "      <td>paid</td>\n",
       "      <td>present</td>\n",
       "    </tr>\n",
       "  </tbody>\n",
       "</table>\n",
       "</div>"
      ],
      "text/plain": [
       "                                  session_id              client_id  \\\n",
       "0  9055434745589932991.1637753792.1637753792  2108382700.1637753791   \n",
       "1   905544597018549464.1636867290.1636867290   210838531.1636867288   \n",
       "2  9055446045651783499.1640648526.1640648526  2108385331.1640648523   \n",
       "3  9055447046360770272.1622255328.1622255328  2108385564.1622255328   \n",
       "4  9055447046360770272.1622255345.1622255345  2108385564.1622255328   \n",
       "\n",
       "                 visit_date  visit_number            utm_source utm_medium  \\\n",
       "0 2021-11-24 00:00:00+00:00             1  ZpYIoDJMcFzVoPFsHGJL     banner   \n",
       "1 2021-11-14 00:00:00+00:00             1  MvfHsxITijuriZxsqZqt        cpm   \n",
       "2 2021-12-28 00:00:00+00:00             1  ZpYIoDJMcFzVoPFsHGJL     banner   \n",
       "3 2021-05-29 00:00:00+00:00             1  kjsLglQLzykiRbcDiGcD        cpc   \n",
       "4 2021-05-29 00:00:00+00:00             2  kjsLglQLzykiRbcDiGcD        cpc   \n",
       "\n",
       "           utm_campaign device_category geo_country     geo_city  advert_sn  \\\n",
       "0  LEoPHuyFvzoNfnzGgfcd          mobile      Russia     Zlatoust          0   \n",
       "1  FTjNLDyTrXaWYgZymFkV          mobile      Russia       Moscow          1   \n",
       "2  LEoPHuyFvzoNfnzGgfcd          mobile      Russia  Krasnoyarsk          0   \n",
       "3        no advertising          mobile      Russia       Moscow          0   \n",
       "4        no advertising          mobile      Russia       Moscow          0   \n",
       "\n",
       "  traffic_way city_of_present  \n",
       "0        paid           other  \n",
       "1        paid         present  \n",
       "2        paid           other  \n",
       "3        paid         present  \n",
       "4        paid         present  "
      ]
     },
     "execution_count": 67,
     "metadata": {},
     "output_type": "execute_result"
    }
   ],
   "source": [
    "# Список городов присутствия: Москвы и области, Санкт-Петербурга\n",
    "list_city_present = ['Moscow', 'Saint Petersburg', 'Balashikha', 'Bronnitsy', 'Chekhov', 'Chernogolovka', 'Dmitrov', \n",
    "                     'Dolgoprudny', 'Domodedovo', 'Dubna', 'Dzerzhinsky', 'Elektrogorsk', 'Elektrostal', 'Fryazino', 'Istra',\n",
    "                    'Ivanteyevka', 'Kashira', 'Khimki', 'Klin', 'Kolomna', 'Korolyov', 'Kotelniki', 'Krasnoarmeysk',\n",
    "                     'Krasnogorsk', 'Lobnya', 'Losino-Petrovsky', 'Lukhovitsy', 'Lytkarino', 'Lyubertsy', 'Mozhaysk', \n",
    "                    'Mytishchi', 'Naro-Fominsk', 'Noginsk', 'Odintsovo', 'Orekhovo-Zuyevo', 'Ozyory', 'Pavlovsky Posad',\n",
    "                    'Podolsk', 'Protvino', 'Pushchino', 'Pushkino', 'Ramenskoye', 'Reutov', 'Roshal', 'Ruza', 'Shatura',\n",
    "                    'Shchyolkovo', 'Sergiyev Posad', 'Serpukhov', 'Solnechnogorsk', 'Stupino', 'Taldom', 'Vidnoye',\n",
    "                     'Volokolamsk', 'Voskresensk', 'Yegoryevsk', 'Zaraysk', 'Zhukovsky']\n",
    "\n",
    "# Вставляем столбец city_of_present с маркером городов присутствия: \"present\" - город присутствия, \"other\" - остальные города.\n",
    "df_s_clean['city_of_present'] = np.where((df_s_clean.geo_city.isin(list_city_present)), 'present', 'other')\n",
    "df_s_clean.head()"
   ]
  },
  {
   "cell_type": "code",
   "execution_count": 68,
   "id": "965182d6",
   "metadata": {
    "hidden": true
   },
   "outputs": [
    {
     "name": "stdout",
     "output_type": "stream",
     "text": [
      "Размерность обработанного датафрейма\n"
     ]
    },
    {
     "data": {
      "text/plain": [
       "(1860042, 13)"
      ]
     },
     "execution_count": 68,
     "metadata": {},
     "output_type": "execute_result"
    }
   ],
   "source": [
    "print('Размерность обработанного датафрейма')\n",
    "df_s_clean.shape"
   ]
  },
  {
   "cell_type": "code",
   "execution_count": 69,
   "id": "33fca5f1",
   "metadata": {
    "hidden": true
   },
   "outputs": [
    {
     "data": {
      "text/plain": [
       "<AxesSubplot:>"
      ]
     },
     "execution_count": 69,
     "metadata": {},
     "output_type": "execute_result"
    },
    {
     "data": {
      "image/png": "[encoded data removed]",
      "text/plain": [
       "<Figure size 2500x1000 with 3 Axes>"
      ]
     },
     "metadata": {},
     "output_type": "display_data"
    }
   ],
   "source": [
    "# Проверяем пропуски обработанного датафрейма\n",
    "msno.bar(df_s_clean)"
   ]
  },
  {
   "cell_type": "markdown",
   "id": "a1d767cd",
   "metadata": {},
   "source": [
    "## 4. Data Visualization"
   ]
  },
  {
   "cell_type": "markdown",
   "id": "42c606c5",
   "metadata": {
    "heading_collapsed": true
   },
   "source": [
    "### 4.1 ga_hits: порядковый номер события"
   ]
  },
  {
   "cell_type": "code",
   "execution_count": 70,
   "id": "c8c987dc",
   "metadata": {
    "hidden": true
   },
   "outputs": [
    {
     "data": {
      "text/plain": [
       "count    15726470\n",
       "mean           24\n",
       "std            29\n",
       "min             1\n",
       "25%             7\n",
       "50%            15\n",
       "75%            29\n",
       "max           500\n",
       "Name: hit_number, dtype: object"
      ]
     },
     "execution_count": 70,
     "metadata": {},
     "output_type": "execute_result"
    }
   ],
   "source": [
    "# Статистики для столбца hit_number - порядковый номер события в рамках сессии\n",
    "df_h_clean.hit_number.describe().apply(lambda x: f'{x:1.0f}')"
   ]
  },
  {
   "cell_type": "code",
   "execution_count": 71,
   "id": "6df941e6",
   "metadata": {
    "hidden": true
   },
   "outputs": [
    {
     "data": {
      "image/png": "[encoded data removed]",
      "text/plain": [
       "<Figure size 2000x1000 with 2 Axes>"
      ]
     },
     "metadata": {},
     "output_type": "display_data"
    }
   ],
   "source": [
    "# Распределение порядковых номеров событий в рамках сессии\n",
    "fig, (ax1, ax2) = plt.subplots(nrows=2, ncols=1, figsize=(20, 10), sharex=True)\n",
    "\n",
    "ax1.hist(df_h_clean.hit_number, bins=100, color='orange')\n",
    "ax1.set_title('Гистограмма')\n",
    "ax1.axvline(df_h_clean.hit_number.median(), color='red', linestyle='dashed', linewidth=1)\n",
    "\n",
    "ax2.boxplot(df_h_clean.hit_number, vert=False)\n",
    "ax2.set_title('Ящик с усами')\n",
    "\n",
    "ax1.xaxis.set_major_formatter(FormatStrFormatter('%.0f'))\n",
    "\n",
    "fig.suptitle('Порядковый номер события');"
   ]
  },
  {
   "cell_type": "markdown",
   "id": "9df7fa05",
   "metadata": {
    "hidden": true
   },
   "source": [
    "Среднее количество событий, совершаемых одним пользователем в рамках сессии - 24."
   ]
  },
  {
   "cell_type": "code",
   "execution_count": 72,
   "id": "f9df4641",
   "metadata": {
    "hidden": true
   },
   "outputs": [
    {
     "data": {
      "text/html": [
       "<div>\n",
       "<style scoped>\n",
       "    .dataframe tbody tr th:only-of-type {\n",
       "        vertical-align: middle;\n",
       "    }\n",
       "\n",
       "    .dataframe tbody tr th {\n",
       "        vertical-align: top;\n",
       "    }\n",
       "\n",
       "    .dataframe thead th {\n",
       "        text-align: right;\n",
       "    }\n",
       "</style>\n",
       "<table border=\"1\" class=\"dataframe\">\n",
       "  <thead>\n",
       "    <tr style=\"text-align: right;\">\n",
       "      <th></th>\n",
       "      <th>hit_number</th>\n",
       "      <th>quantity_target_actions</th>\n",
       "    </tr>\n",
       "  </thead>\n",
       "  <tbody>\n",
       "    <tr>\n",
       "      <th>0</th>\n",
       "      <td>1</td>\n",
       "      <td>974</td>\n",
       "    </tr>\n",
       "    <tr>\n",
       "      <th>1</th>\n",
       "      <td>2</td>\n",
       "      <td>646</td>\n",
       "    </tr>\n",
       "    <tr>\n",
       "      <th>2</th>\n",
       "      <td>3</td>\n",
       "      <td>541</td>\n",
       "    </tr>\n",
       "    <tr>\n",
       "      <th>3</th>\n",
       "      <td>4</td>\n",
       "      <td>6663</td>\n",
       "    </tr>\n",
       "    <tr>\n",
       "      <th>4</th>\n",
       "      <td>5</td>\n",
       "      <td>2709</td>\n",
       "    </tr>\n",
       "    <tr>\n",
       "      <th>...</th>\n",
       "      <td>...</td>\n",
       "      <td>...</td>\n",
       "    </tr>\n",
       "    <tr>\n",
       "      <th>95</th>\n",
       "      <td>96</td>\n",
       "      <td>118</td>\n",
       "    </tr>\n",
       "    <tr>\n",
       "      <th>96</th>\n",
       "      <td>97</td>\n",
       "      <td>125</td>\n",
       "    </tr>\n",
       "    <tr>\n",
       "      <th>97</th>\n",
       "      <td>98</td>\n",
       "      <td>101</td>\n",
       "    </tr>\n",
       "    <tr>\n",
       "      <th>98</th>\n",
       "      <td>99</td>\n",
       "      <td>95</td>\n",
       "    </tr>\n",
       "    <tr>\n",
       "      <th>99</th>\n",
       "      <td>100</td>\n",
       "      <td>84</td>\n",
       "    </tr>\n",
       "  </tbody>\n",
       "</table>\n",
       "<p>100 rows × 2 columns</p>\n",
       "</div>"
      ],
      "text/plain": [
       "    hit_number  quantity_target_actions\n",
       "0            1                      974\n",
       "1            2                      646\n",
       "2            3                      541\n",
       "3            4                     6663\n",
       "4            5                     2709\n",
       "..         ...                      ...\n",
       "95          96                      118\n",
       "96          97                      125\n",
       "97          98                      101\n",
       "98          99                       95\n",
       "99         100                       84\n",
       "\n",
       "[100 rows x 2 columns]"
      ]
     },
     "execution_count": 72,
     "metadata": {},
     "output_type": "execute_result"
    }
   ],
   "source": [
    "# Группировка целевых действий по порядковому номеру события в сессии\n",
    "stats = df_h_clean.groupby(['hit_number'], as_index=False)[['target_action']].sum()\n",
    "stats = stats.rename(columns={'target_action': 'quantity_target_actions'})\n",
    "stats_ta = stats[stats['quantity_target_actions'] > 0]\n",
    "stats_ta = stats_ta[:100]\n",
    "stats_ta"
   ]
  },
  {
   "cell_type": "code",
   "execution_count": 73,
   "id": "71936407",
   "metadata": {
    "hidden": true
   },
   "outputs": [
    {
     "data": {
      "image/png": "[encoded data removed]",
      "text/plain": [
       "<Figure size 2000x800 with 1 Axes>"
      ]
     },
     "metadata": {},
     "output_type": "display_data"
    }
   ],
   "source": [
    "# График распределения количества целевых действий в зависимости от порядкового номера события в сессии\n",
    "plt.figure(figsize=(20, 8))\n",
    "plt.bar(stats_ta['hit_number'], stats_ta['quantity_target_actions'], color=['green'], width=0.7)\n",
    "plt.xlabel('Порядковый номер события')\n",
    "plt.xticks(rotation=45)\n",
    "plt.ylabel('Количество целевых событий')\n",
    "plt.title('Распределение целевых событий');"
   ]
  },
  {
   "cell_type": "markdown",
   "id": "c083d1d2",
   "metadata": {
    "hidden": true
   },
   "source": [
    "Наибольшее количество целевых событий происходит на четвертом событии, совершаемом пользователем."
   ]
  },
  {
   "cell_type": "markdown",
   "id": "56da9122",
   "metadata": {
    "heading_collapsed": true
   },
   "source": [
    "### 4.2 ga_sessions: порядковый номер визита"
   ]
  },
  {
   "cell_type": "code",
   "execution_count": 74,
   "id": "6ce402fd",
   "metadata": {
    "hidden": true
   },
   "outputs": [
    {
     "data": {
      "image/png": "[encoded data removed]",
      "text/plain": [
       "<Figure size 2000x1000 with 2 Axes>"
      ]
     },
     "metadata": {},
     "output_type": "display_data"
    }
   ],
   "source": [
    "# Распределение порядковых номеров визита клиента\n",
    "fig, (ax1, ax2) = plt.subplots(nrows=2, ncols=1, figsize=(20, 10), sharex=True)\n",
    "\n",
    "ax1.hist(df_s_clean.visit_number, bins=80, color='orange')\n",
    "ax1.set_title('Гистограмма')\n",
    "ax1.axvline(df_s_clean.visit_number.median(), color='red', linestyle='dashed', linewidth=1)\n",
    "\n",
    "ax2.boxplot(df_s_clean.visit_number, vert=False)\n",
    "ax2.set_title('Ящик с усами')\n",
    "\n",
    "ax1.xaxis.set_major_formatter(FormatStrFormatter('%.0f'))\n",
    "\n",
    "fig.suptitle('Порядковый номер визита клиента');"
   ]
  },
  {
   "cell_type": "markdown",
   "id": "6d91be80",
   "metadata": {
    "hidden": true
   },
   "source": [
    "Из-за большого разброса основная часть графика (\"ящик\") почти незаметна."
   ]
  },
  {
   "cell_type": "markdown",
   "id": "71c5a6a2",
   "metadata": {
    "heading_collapsed": true
   },
   "source": [
    "## 5. Сохранение обработанных датафреймов в csv файлы"
   ]
  },
  {
   "cell_type": "code",
   "execution_count": 75,
   "id": "6701f8c6",
   "metadata": {
    "hidden": true
   },
   "outputs": [],
   "source": [
    "# Сохраняем обработанного датафрейма ga_hits в файл\n",
    "df_h_clean.to_csv('data/ga_hits_clean.csv', index=False)"
   ]
  },
  {
   "cell_type": "markdown",
   "id": "4c9c335f",
   "metadata": {
    "hidden": true
   },
   "source": [
    "Описание атрибутов датафрейма событий из файла ga_hits_clean.csv:\n",
    "\n",
    "- session_id - ID визита;\n",
    "- hit_date - дата события;\n",
    "- hit_number - порядковый номер события в рамках сессии;\n",
    "- event_category - тип действия;\n",
    "- target_action - целевое действие;\n",
    "- auto_name - марка автомобиля;\n",
    "- auto_model - модель автомобиля."
   ]
  },
  {
   "cell_type": "code",
   "execution_count": 76,
   "id": "8de721eb",
   "metadata": {
    "hidden": true
   },
   "outputs": [],
   "source": [
    "# Сохранение обработанного датафрейма ga_sessions в файл csv\n",
    "df_s_clean.to_csv('data/ga_sessions_clean.csv', index=False)"
   ]
  },
  {
   "cell_type": "markdown",
   "id": "c8af9fbd",
   "metadata": {
    "hidden": true
   },
   "source": [
    "Описание атрибутов датафрейма визитов из файла ga_sessions_clean.csv:\n",
    "\n",
    "- session_id - ID визита;\n",
    "- client_id - ID посетителя;\n",
    "- visit_date - дата визита;\n",
    "- visit_number - порядковый номер визита клиента;\n",
    "- utm_source - канал привлечения;\n",
    "- utm_medium - тип привлечения;\n",
    "- utm_campaign - рекламная кампания;\n",
    "- device_category - тип устройства;\n",
    "- geo_country - страна;\n",
    "- geo_city - город;\n",
    "- advert_sn - нормализованный канал привлечения: 1 - реклама в социальных сетях, 0 - другие каналы;\n",
    "- traffic_way - нормализованный тип привлечения: \"free\" - органический трафик, \"paid\" - платный (неорганический) трафик;\n",
    "- city_of_present - город присутствия, где present - Москва и область, Санкт-Петербург, other - города, где нет присутствия."
   ]
  },
  {
   "cell_type": "markdown",
   "id": "2548a584",
   "metadata": {},
   "source": [
    "# Часть 2. Объединение и обработка данных визитов и целевого события"
   ]
  },
  {
   "cell_type": "markdown",
   "id": "5db1802d",
   "metadata": {
    "heading_collapsed": true
   },
   "source": [
    "## 1. Объединение датафреймов"
   ]
  },
  {
   "cell_type": "code",
   "execution_count": 77,
   "id": "78941161",
   "metadata": {
    "hidden": true
   },
   "outputs": [],
   "source": [
    "# Объединяем датафреймы визитов и целевого события\n",
    "df_join = pd.merge(left=df_s_clean, right=df_ta, on='session_id', how='left')"
   ]
  },
  {
   "cell_type": "code",
   "execution_count": 78,
   "id": "9cce13c8",
   "metadata": {
    "hidden": true
   },
   "outputs": [
    {
     "data": {
      "text/html": [
       "<div>\n",
       "<style scoped>\n",
       "    .dataframe tbody tr th:only-of-type {\n",
       "        vertical-align: middle;\n",
       "    }\n",
       "\n",
       "    .dataframe tbody tr th {\n",
       "        vertical-align: top;\n",
       "    }\n",
       "\n",
       "    .dataframe thead th {\n",
       "        text-align: right;\n",
       "    }\n",
       "</style>\n",
       "<table border=\"1\" class=\"dataframe\">\n",
       "  <thead>\n",
       "    <tr style=\"text-align: right;\">\n",
       "      <th></th>\n",
       "      <th>session_id</th>\n",
       "      <th>client_id</th>\n",
       "      <th>visit_date</th>\n",
       "      <th>visit_number</th>\n",
       "      <th>utm_source</th>\n",
       "      <th>utm_medium</th>\n",
       "      <th>utm_campaign</th>\n",
       "      <th>device_category</th>\n",
       "      <th>geo_country</th>\n",
       "      <th>geo_city</th>\n",
       "      <th>advert_sn</th>\n",
       "      <th>traffic_way</th>\n",
       "      <th>city_of_present</th>\n",
       "      <th>target</th>\n",
       "    </tr>\n",
       "  </thead>\n",
       "  <tbody>\n",
       "    <tr>\n",
       "      <th>0</th>\n",
       "      <td>9055434745589932991.1637753792.1637753792</td>\n",
       "      <td>2108382700.1637753791</td>\n",
       "      <td>2021-11-24 00:00:00+00:00</td>\n",
       "      <td>1</td>\n",
       "      <td>ZpYIoDJMcFzVoPFsHGJL</td>\n",
       "      <td>banner</td>\n",
       "      <td>LEoPHuyFvzoNfnzGgfcd</td>\n",
       "      <td>mobile</td>\n",
       "      <td>Russia</td>\n",
       "      <td>Zlatoust</td>\n",
       "      <td>0</td>\n",
       "      <td>paid</td>\n",
       "      <td>other</td>\n",
       "      <td>0</td>\n",
       "    </tr>\n",
       "    <tr>\n",
       "      <th>1</th>\n",
       "      <td>905544597018549464.1636867290.1636867290</td>\n",
       "      <td>210838531.1636867288</td>\n",
       "      <td>2021-11-14 00:00:00+00:00</td>\n",
       "      <td>1</td>\n",
       "      <td>MvfHsxITijuriZxsqZqt</td>\n",
       "      <td>cpm</td>\n",
       "      <td>FTjNLDyTrXaWYgZymFkV</td>\n",
       "      <td>mobile</td>\n",
       "      <td>Russia</td>\n",
       "      <td>Moscow</td>\n",
       "      <td>1</td>\n",
       "      <td>paid</td>\n",
       "      <td>present</td>\n",
       "      <td>0</td>\n",
       "    </tr>\n",
       "    <tr>\n",
       "      <th>2</th>\n",
       "      <td>9055446045651783499.1640648526.1640648526</td>\n",
       "      <td>2108385331.1640648523</td>\n",
       "      <td>2021-12-28 00:00:00+00:00</td>\n",
       "      <td>1</td>\n",
       "      <td>ZpYIoDJMcFzVoPFsHGJL</td>\n",
       "      <td>banner</td>\n",
       "      <td>LEoPHuyFvzoNfnzGgfcd</td>\n",
       "      <td>mobile</td>\n",
       "      <td>Russia</td>\n",
       "      <td>Krasnoyarsk</td>\n",
       "      <td>0</td>\n",
       "      <td>paid</td>\n",
       "      <td>other</td>\n",
       "      <td>0</td>\n",
       "    </tr>\n",
       "    <tr>\n",
       "      <th>3</th>\n",
       "      <td>9055447046360770272.1622255328.1622255328</td>\n",
       "      <td>2108385564.1622255328</td>\n",
       "      <td>2021-05-29 00:00:00+00:00</td>\n",
       "      <td>1</td>\n",
       "      <td>kjsLglQLzykiRbcDiGcD</td>\n",
       "      <td>cpc</td>\n",
       "      <td>no advertising</td>\n",
       "      <td>mobile</td>\n",
       "      <td>Russia</td>\n",
       "      <td>Moscow</td>\n",
       "      <td>0</td>\n",
       "      <td>paid</td>\n",
       "      <td>present</td>\n",
       "      <td>0</td>\n",
       "    </tr>\n",
       "    <tr>\n",
       "      <th>4</th>\n",
       "      <td>9055447046360770272.1622255345.1622255345</td>\n",
       "      <td>2108385564.1622255328</td>\n",
       "      <td>2021-05-29 00:00:00+00:00</td>\n",
       "      <td>2</td>\n",
       "      <td>kjsLglQLzykiRbcDiGcD</td>\n",
       "      <td>cpc</td>\n",
       "      <td>no advertising</td>\n",
       "      <td>mobile</td>\n",
       "      <td>Russia</td>\n",
       "      <td>Moscow</td>\n",
       "      <td>0</td>\n",
       "      <td>paid</td>\n",
       "      <td>present</td>\n",
       "      <td>0</td>\n",
       "    </tr>\n",
       "  </tbody>\n",
       "</table>\n",
       "</div>"
      ],
      "text/plain": [
       "                                  session_id              client_id  \\\n",
       "0  9055434745589932991.1637753792.1637753792  2108382700.1637753791   \n",
       "1   905544597018549464.1636867290.1636867290   210838531.1636867288   \n",
       "2  9055446045651783499.1640648526.1640648526  2108385331.1640648523   \n",
       "3  9055447046360770272.1622255328.1622255328  2108385564.1622255328   \n",
       "4  9055447046360770272.1622255345.1622255345  2108385564.1622255328   \n",
       "\n",
       "                 visit_date  visit_number            utm_source utm_medium  \\\n",
       "0 2021-11-24 00:00:00+00:00             1  ZpYIoDJMcFzVoPFsHGJL     banner   \n",
       "1 2021-11-14 00:00:00+00:00             1  MvfHsxITijuriZxsqZqt        cpm   \n",
       "2 2021-12-28 00:00:00+00:00             1  ZpYIoDJMcFzVoPFsHGJL     banner   \n",
       "3 2021-05-29 00:00:00+00:00             1  kjsLglQLzykiRbcDiGcD        cpc   \n",
       "4 2021-05-29 00:00:00+00:00             2  kjsLglQLzykiRbcDiGcD        cpc   \n",
       "\n",
       "           utm_campaign device_category geo_country     geo_city  advert_sn  \\\n",
       "0  LEoPHuyFvzoNfnzGgfcd          mobile      Russia     Zlatoust          0   \n",
       "1  FTjNLDyTrXaWYgZymFkV          mobile      Russia       Moscow          1   \n",
       "2  LEoPHuyFvzoNfnzGgfcd          mobile      Russia  Krasnoyarsk          0   \n",
       "3        no advertising          mobile      Russia       Moscow          0   \n",
       "4        no advertising          mobile      Russia       Moscow          0   \n",
       "\n",
       "  traffic_way city_of_present target  \n",
       "0        paid           other      0  \n",
       "1        paid         present      0  \n",
       "2        paid           other      0  \n",
       "3        paid         present      0  \n",
       "4        paid         present      0  "
      ]
     },
     "execution_count": 78,
     "metadata": {},
     "output_type": "execute_result"
    }
   ],
   "source": [
    "df_join.head()"
   ]
  },
  {
   "cell_type": "code",
   "execution_count": 79,
   "id": "d3efda89",
   "metadata": {
    "hidden": true
   },
   "outputs": [
    {
     "data": {
      "text/plain": [
       "(1860042, 14)"
      ]
     },
     "execution_count": 79,
     "metadata": {},
     "output_type": "execute_result"
    }
   ],
   "source": [
    "# Размерность объединенного датафрейма\n",
    "df_join.shape"
   ]
  },
  {
   "cell_type": "markdown",
   "id": "10a0ad34",
   "metadata": {
    "heading_collapsed": true
   },
   "source": [
    "## 2. Проверка и заполнение пропусков в target - целевое событие "
   ]
  },
  {
   "cell_type": "code",
   "execution_count": 80,
   "id": "2c4e1cab",
   "metadata": {
    "hidden": true
   },
   "outputs": [
    {
     "data": {
      "text/plain": [
       "0      1681952\n",
       "NaN     127776\n",
       "1        50314\n",
       "Name: target, dtype: int64"
      ]
     },
     "execution_count": 80,
     "metadata": {},
     "output_type": "execute_result"
    }
   ],
   "source": [
    "# Проверяем уникальные значения для целевого события\n",
    "df_join.target.value_counts(dropna=False)"
   ]
  },
  {
   "cell_type": "markdown",
   "id": "a4071b38",
   "metadata": {
    "hidden": true
   },
   "source": [
    "Есть пропуски в целевом событии, которые необходимо заполнить"
   ]
  },
  {
   "cell_type": "code",
   "execution_count": 81,
   "id": "16b9967e",
   "metadata": {
    "hidden": true
   },
   "outputs": [],
   "source": [
    "# Заполняем пропуски целевого события на 0 \n",
    "df_join.target = df_join.target.fillna(0)"
   ]
  },
  {
   "cell_type": "code",
   "execution_count": 82,
   "id": "4030e306",
   "metadata": {
    "hidden": true
   },
   "outputs": [
    {
     "data": {
      "text/plain": [
       "<AxesSubplot:>"
      ]
     },
     "execution_count": 82,
     "metadata": {},
     "output_type": "execute_result"
    },
    {
     "data": {
      "image/png": "[encoded data removed]",
      "text/plain": [
       "<Figure size 2500x1000 with 3 Axes>"
      ]
     },
     "metadata": {},
     "output_type": "display_data"
    }
   ],
   "source": [
    "# Проверка отстутствия пропусков\n",
    "msno.bar(df_join)"
   ]
  },
  {
   "cell_type": "markdown",
   "id": "33ad9014",
   "metadata": {
    "heading_collapsed": true
   },
   "source": [
    "## 3. Проверка и изменение типа данных объединенного датафрейма"
   ]
  },
  {
   "cell_type": "code",
   "execution_count": 83,
   "id": "38364d31",
   "metadata": {
    "hidden": true
   },
   "outputs": [
    {
     "data": {
      "text/plain": [
       "session_id                      object\n",
       "client_id                       object\n",
       "visit_date         datetime64[ns, UTC]\n",
       "visit_number                     int64\n",
       "utm_source                      object\n",
       "utm_medium                      object\n",
       "utm_campaign                    object\n",
       "device_category                 object\n",
       "geo_country                     object\n",
       "geo_city                        object\n",
       "advert_sn                        int32\n",
       "traffic_way                     object\n",
       "city_of_present                 object\n",
       "target                          object\n",
       "dtype: object"
      ]
     },
     "execution_count": 83,
     "metadata": {},
     "output_type": "execute_result"
    }
   ],
   "source": [
    "# Проверяем тип данных датафрейма\n",
    "df_join.dtypes"
   ]
  },
  {
   "cell_type": "code",
   "execution_count": 84,
   "id": "d4092393",
   "metadata": {
    "hidden": true
   },
   "outputs": [],
   "source": [
    "# Меняем тип данных столбца target на int\n",
    "df_join['target'] = pd.to_numeric(df_join['target'], downcast=\"signed\")\n",
    "df_join['target'] = df_join.target.astype('int')"
   ]
  },
  {
   "cell_type": "code",
   "execution_count": 85,
   "id": "9c7356c7",
   "metadata": {
    "hidden": true
   },
   "outputs": [
    {
     "data": {
      "text/plain": [
       "0    1809728\n",
       "1      50314\n",
       "Name: target, dtype: int64"
      ]
     },
     "execution_count": 85,
     "metadata": {},
     "output_type": "execute_result"
    }
   ],
   "source": [
    "df_join.target.value_counts(dropna=False)"
   ]
  },
  {
   "cell_type": "markdown",
   "id": "180daf80",
   "metadata": {
    "heading_collapsed": true
   },
   "source": [
    "## 4. Сохранение объединенного датафрейма"
   ]
  },
  {
   "cell_type": "code",
   "execution_count": 86,
   "id": "20cafc84",
   "metadata": {
    "hidden": true
   },
   "outputs": [],
   "source": [
    "# Сохранение объединенного датафрейма в файл csv\n",
    "df_join.to_csv('data/ga_joined.csv', index=False)"
   ]
  },
  {
   "cell_type": "markdown",
   "id": "f30043b2",
   "metadata": {
    "hidden": true
   },
   "source": [
    "Описание атрибутов датафрейма из файла **ga_joined.csv:**\n",
    "\n",
    "- session_id - ID визита;\n",
    "- client_id - ID посетителя;\n",
    "- visit_date - дата визита;\n",
    "- visit_number - порядковый номер визита клиента;\n",
    "- utm_source - канал привлечения;\n",
    "- utm_medium - тип привлечения;\n",
    "- utm_campaign - рекламная кампания;\n",
    "- device_category - тип устройства;\n",
    "- geo_country - страна;\n",
    "- geo_city - город;\n",
    "- advert_sn - нормализованный канал привлечения: 1 - реклама в социальных сетях, 0 - другие каналы;\n",
    "- traffic_way - нормализованный тип привлечения: \"free\" - органический трафик, \"paid\" - платный (неорганический) трафик;\n",
    "- city_of_present - город присутствия, где present - Москва и область, Санкт-Петербург, other - города, где нет присутствия;\n",
    "- target - целевое событие: 1 - имеется целевое событие, 0 - целевое событие отсутствует."
   ]
  }
 ],
 "metadata": {
  "kernelspec": {
   "display_name": "Python 3 (ipykernel)",
   "language": "python",
   "name": "python3"
  },
  "language_info": {
   "codemirror_mode": {
    "name": "ipython",
    "version": 3
   },
   "file_extension": ".py",
   "mimetype": "text/x-python",
   "name": "python",
   "nbconvert_exporter": "python",
   "pygments_lexer": "ipython3",
   "version": "3.9.13"
  },
  "toc": {
   "base_numbering": 1,
   "nav_menu": {},
   "number_sections": true,
   "sideBar": true,
   "skip_h1_title": false,
   "title_cell": "Table of Contents",
   "title_sidebar": "Contents",
   "toc_cell": false,
   "toc_position": {},
   "toc_section_display": true,
   "toc_window_display": false
  }
 },
 "nbformat": 4,
 "nbformat_minor": 5
}
